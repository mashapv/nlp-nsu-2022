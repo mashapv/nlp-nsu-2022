{
  "cells": [
    {
      "cell_type": "code",
      "execution_count": null,
      "metadata": {
        "id": "0OX3_uKINjq7"
      },
      "outputs": [],
      "source": [
        "from lxml import etree"
      ]
    },
    {
      "cell_type": "code",
      "execution_count": null,
      "metadata": {
        "id": "kFztWvFMOXVc"
      },
      "outputs": [],
      "source": [
        "from typing import List, Tuple"
      ]
    },
    {
      "cell_type": "code",
      "execution_count": null,
      "metadata": {
        "id": "jXVPEYy_OZRJ"
      },
      "outputs": [],
      "source": [
        "def load_sentirueval_2016(file_name: str) -> Tuple[List[str], List[str]]:\n",
        "    texts = []\n",
        "    labels = []\n",
        "    with open(file_name, mode='rb') as fp:\n",
        "        xml_data = fp.read()\n",
        "    root = etree.fromstring(xml_data)\n",
        "    for database in root.getchildren():\n",
        "        if database.tag == 'database':\n",
        "            for table in database.getchildren():\n",
        "                if table.tag != 'table':\n",
        "                    continue\n",
        "                new_text = None\n",
        "                new_label = None\n",
        "                for column in table.getchildren():\n",
        "                    if column.get('name') == 'text':\n",
        "                        new_text = str(column.text).strip()\n",
        "                        if new_label is not None:\n",
        "                            break\n",
        "                    elif column.get('name') not in {'id', 'twitid', 'date'}:\n",
        "                        if new_label is None:\n",
        "                            label_candidate = str(column.text).strip()\n",
        "                            if label_candidate in {'0', '1', '-1'}:\n",
        "                                new_label = 'negative' if label_candidate == '-1' else \\\n",
        "                                    ('positive' if label_candidate == '1' else 'neutral')\n",
        "                                if new_text is not None:\n",
        "                                    break\n",
        "                if (new_text is None) or (new_label is None):\n",
        "                    raise ValueError('File `{0}` contains some error!'.format(file_name))\n",
        "                texts.append(new_text)\n",
        "                labels.append(new_label)\n",
        "            break\n",
        "    return texts, labels"
      ]
    },
    {
      "cell_type": "code",
      "execution_count": null,
      "metadata": {
        "id": "JjSX8sw2OcIn"
      },
      "outputs": [],
      "source": [
        "texts, labels = load_sentirueval_2016('tkk_train_2016.xml')"
      ]
    },
    {
      "cell_type": "code",
      "execution_count": null,
      "metadata": {
        "colab": {
          "base_uri": "https://localhost:8080/"
        },
        "id": "3v_QjQNQOebJ",
        "outputId": "66d80652-3a94-436c-d09d-c0e474452f34"
      },
      "outputs": [
        {
          "output_type": "stream",
          "name": "stdout",
          "text": [
            "Number of texts is 8643, number of labels is 8643.\n"
          ]
        }
      ],
      "source": [
        "print('Number of texts is {0}, number of labels is {1}.'.format(len(texts), len(labels)))"
      ]
    },
    {
      "cell_type": "markdown",
      "metadata": {
        "id": "o3D5ae-U6Qoh"
      },
      "source": [
        "Не спешите закрывать, всё самое интересное в конце после вашго кода"
      ]
    },
    {
      "cell_type": "code",
      "execution_count": null,
      "metadata": {
        "id": "lKMCqNjyOj8_"
      },
      "outputs": [],
      "source": [
        "import random"
      ]
    },
    {
      "cell_type": "code",
      "execution_count": null,
      "metadata": {
        "colab": {
          "base_uri": "https://localhost:8080/"
        },
        "id": "jo3IoQ4COmCi",
        "outputId": "bd655e50-bf13-4192-cacf-cc562565217c"
      },
      "outputs": [
        {
          "output_type": "stream",
          "name": "stdout",
          "text": [
            "neutral => Программы для мегафона - http://t.co/3KijVo0oAM.\n",
            "positive => В Краснодарском крае Ростелеком модернизирует свое вещание.Сеть передачи данных на Кубани будет усовершенствоваться.\n",
            "neutral => И оба не в Билайне  RT @Beeline_RUS: Сравнивать 3G и 4G – это как (cont) http://t.co/J5sPn7hCfo\n",
            "neutral => RT @sysivofyfiny: RT @quvobejedyxu: RT @diatusop4: RT @alexzhdanov: Билайн Мегафон ТЕЛЕ 2  - а если у меня мтс  - я могу подключить твиттер…\n",
            "negative => Свалю-ка я с Билайна на Мегафон с сохранением номера.\n",
            "neutral => у кого как #билайн заработает отпишитесь в ленту плиз))\n",
            "positive => #МегаФон провели уроки мобильной грамотности для сотрудников отделов социальной защиты населения #Владивосток http://t.co/O1C4bhm527\n",
            "negative => Квартальная прибыль МТС снизилась на 17%\n",
            "neutral => RT @ankosalex: Коломойский хочет национализировать \"Киевстар\", МТС и \"Укртелеком\" , ПРИЧЕМ ПРЕДПРИЯТИЯ аХМЕТКИ В ПЕРВУЮ ОЧЕРЕДЬ...http://t.…\n",
            "positive => Tele2 признан самым выгодным оператором в России\n",
            "neutral => Мой результат на http://t.co/9Jm6NbizBf: #speedtest #мтс это как? http://t.co/N6mQJrvyOe\n",
            "neutral => @megafonru @verlonimusic уходил в билайн, предложили остаться, обещали скидку20%, остался, скидок нет,НАДУРИЛ МЕГАФОН?А ведь старый клиент!\n",
            "neutral => А ёлочка то от @_Beeline_kz снегом покрылась\n",
            "negative => 50МБит Ежемесячная плата с четвертого месяца 550.\n",
            "\n",
            "Охуели. Пора валить с мтс. Уже второе повышение цен.\n",
            "negative => @Beeline_RUS это же вообще не выгодно. Он платный\n",
            "positive => МТС пожелал хорошего дня,заботится, аха\n",
            "neutral => настройки ммс андроид билайн http://t.co/uU4q1vNszl\n",
            "neutral => Билайн написал! Наконец, так ждал пожелания ночи от моего малыша c:\n",
            "negative => «МТС-Украина» полностью уйдет из Крыма в течение двух суток\n",
            "neutral => @suhamera Здрав-те!Уточните,пож-та,какие сложности по работе связи в роуминге возникли?На данный момент ситуация продолжается? #билайн\n"
          ]
        }
      ],
      "source": [
        "for idx in random.choices(list(range(len(texts))), k=20):\n",
        "    print('{0} => {1}'.format(labels[idx], texts[idx]))"
      ]
    },
    {
      "cell_type": "code",
      "execution_count": null,
      "metadata": {
        "id": "WqlYb65GOn4a"
      },
      "outputs": [],
      "source": [
        "positive_tweets = [texts[idx] for idx in range(len(texts)) if labels[idx] == 'positive']\n",
        "negative_tweets = [texts[idx] for idx in range(len(texts)) if labels[idx] == 'negative']"
      ]
    },
    {
      "cell_type": "code",
      "execution_count": null,
      "metadata": {
        "colab": {
          "base_uri": "https://localhost:8080/"
        },
        "id": "ruW2P9VcOs0h",
        "outputId": "210499ad-890a-462f-c6b5-1be6ca2b303c"
      },
      "outputs": [
        {
          "output_type": "stream",
          "name": "stdout",
          "text": [
            "ВИДЕО: http://t.co/PSMLAhR4fI Реклама со смехом МТС - Супер 0\n",
            "«МегаФон» поможет контролировать расходы на Интернет за границей\n",
            "УрБК, Екатеринбург, 22.07.2014. ОАО «МегаФон» стало предоставлять услуги сверхскоростной мобильной связи 4G+ еще в 14 населенных пунктах Св\n",
            "«МегаФон» представил новую возможность сэкономить в роуминге\n",
            "Завтра может у меня будет и Домашнее Цифровое ТВ МТС #RT\n"
          ]
        }
      ],
      "source": [
        "for cur in positive_tweets[:5]: print(cur)"
      ]
    },
    {
      "cell_type": "code",
      "execution_count": null,
      "metadata": {
        "colab": {
          "base_uri": "https://localhost:8080/"
        },
        "id": "1yKKSUuNOvfB",
        "outputId": "a8f22478-5645-4e30-f400-1106ee9f9ea0"
      },
      "outputs": [
        {
          "output_type": "stream",
          "name": "stdout",
          "text": [
            "RT @fuckkiev: “@EvaKobb: МТС Россия прислала жителям Херсонщины сообщения, в которых обозвала украинцев фашистами? http://t.co/RbSesXlOUZ” …\n",
            "@parfenov1960 потому что МТС достало, а пчел ненавижу с детства, как и их мёд!\n",
            "RT @f_u_c_k_y_o_u_: Билайн интернет стал полным говном\n",
            "@parfenov1960 Фуфло эт ваш Мегафон.просит много,дает мало.\n",
            "Вот если и хаять сеть, то МТС! Просто адский оператор какой-то!\n"
          ]
        }
      ],
      "source": [
        "for cur in negative_tweets[:5]: print(cur)"
      ]
    },
    {
      "cell_type": "code",
      "execution_count": null,
      "metadata": {
        "id": "h9mit4KSOzGP"
      },
      "outputs": [],
      "source": [
        "from nltk import word_tokenize"
      ]
    },
    {
      "cell_type": "code",
      "execution_count": null,
      "metadata": {
        "id": "gm5VSCBmO1SA"
      },
      "outputs": [],
      "source": [
        "from sklearn.feature_extraction.text import CountVectorizer"
      ]
    },
    {
      "cell_type": "code",
      "execution_count": null,
      "metadata": {
        "id": "oTTNrjWgO3o7"
      },
      "outputs": [],
      "source": [
        "vectorizer = CountVectorizer(lowercase=True, tokenizer=word_tokenize)"
      ]
    },
    {
      "cell_type": "code",
      "execution_count": null,
      "metadata": {
        "colab": {
          "base_uri": "https://localhost:8080/"
        },
        "id": "U4241dGBO-kA",
        "outputId": "066711ac-b530-4447-82c7-9086214d59f2"
      },
      "outputs": [
        {
          "output_type": "stream",
          "name": "stderr",
          "text": [
            "[nltk_data] Downloading package punkt to /root/nltk_data...\n",
            "[nltk_data]   Package punkt is already up-to-date!\n"
          ]
        },
        {
          "output_type": "execute_result",
          "data": {
            "text/plain": [
              "True"
            ]
          },
          "metadata": {},
          "execution_count": 117
        }
      ],
      "source": [
        "import nltk\n",
        "nltk.download('punkt')"
      ]
    },
    {
      "cell_type": "code",
      "execution_count": null,
      "metadata": {
        "colab": {
          "base_uri": "https://localhost:8080/"
        },
        "id": "WtYFB79qO6cY",
        "outputId": "5ce57096-a56b-4a1b-a7f4-a2713eed4752"
      },
      "outputs": [
        {
          "output_type": "stream",
          "name": "stderr",
          "text": [
            "/usr/local/lib/python3.7/dist-packages/sklearn/feature_extraction/text.py:517: UserWarning: The parameter 'token_pattern' will not be used since 'tokenizer' is not None'\n",
            "  \"The parameter 'token_pattern' will not be used\"\n"
          ]
        },
        {
          "output_type": "execute_result",
          "data": {
            "text/plain": [
              "CountVectorizer(tokenizer=<function word_tokenize at 0x7f83427be440>)"
            ]
          },
          "metadata": {},
          "execution_count": 118
        }
      ],
      "source": [
        "vectorizer.fit(texts)"
      ]
    },
    {
      "cell_type": "code",
      "execution_count": null,
      "metadata": {
        "colab": {
          "base_uri": "https://localhost:8080/"
        },
        "id": "OgnUycI6PG5v",
        "outputId": "0e7a171e-4f60-438c-c48d-04ba18cd4d61"
      },
      "outputs": [
        {
          "output_type": "stream",
          "name": "stdout",
          "text": [
            "['!', '#', '$', '%', '&', \"''\", '(', ')', '*', '+', '+1000', '+100000', '+100500', '+29', '+3223', '+38', '+380682470710', '+380685302855', '+393496635324', '+41']\n"
          ]
        },
        {
          "output_type": "stream",
          "name": "stderr",
          "text": [
            "/usr/local/lib/python3.7/dist-packages/sklearn/utils/deprecation.py:87: FutureWarning: Function get_feature_names is deprecated; get_feature_names is deprecated in 1.0 and will be removed in 1.2. Please use get_feature_names_out instead.\n",
            "  warnings.warn(msg, category=FutureWarning)\n"
          ]
        }
      ],
      "source": [
        "print(vectorizer.get_feature_names()[0:20])"
      ]
    },
    {
      "cell_type": "code",
      "execution_count": null,
      "metadata": {
        "colab": {
          "base_uri": "https://localhost:8080/"
        },
        "id": "Kn9QNUFvPKxz",
        "outputId": "c51ae5e7-0474-4a5a-9c22-8db59decef45"
      },
      "outputs": [
        {
          "output_type": "stream",
          "name": "stdout",
          "text": [
            "22409\n"
          ]
        }
      ],
      "source": [
        "print(len(vectorizer.get_feature_names()))"
      ]
    },
    {
      "cell_type": "code",
      "execution_count": null,
      "metadata": {
        "id": "o6xb0wOtPN--"
      },
      "outputs": [],
      "source": [
        "X = vectorizer.transform(texts)"
      ]
    },
    {
      "cell_type": "code",
      "execution_count": null,
      "metadata": {
        "colab": {
          "base_uri": "https://localhost:8080/"
        },
        "id": "cb4UeYKoPTcH",
        "outputId": "5d3ddf08-3f74-4c1e-a240-cb7a05bdd44b"
      },
      "outputs": [
        {
          "output_type": "stream",
          "name": "stdout",
          "text": [
            "@mkomov Максим, Вашем письмо мы получили. Наши сотрудники свяжутся с Вами завтра и направят запрос инженерам для проверки. #билайн\n"
          ]
        }
      ],
      "source": [
        "print(texts[0])"
      ]
    },
    {
      "cell_type": "code",
      "execution_count": null,
      "metadata": {
        "colab": {
          "base_uri": "https://localhost:8080/"
        },
        "id": "0IPuSW8UPWVd",
        "outputId": "b783e1cc-7011-4548-9b1e-0e84a0fc0856"
      },
      "outputs": [
        {
          "output_type": "stream",
          "name": "stdout",
          "text": [
            "  (0, 1)\t1\n",
            "  (0, 34)\t1\n",
            "  (0, 85)\t2\n",
            "  (0, 3718)\t1\n",
            "  (0, 5548)\t1\n",
            "  (0, 7666)\t1\n",
            "  (0, 8031)\t1\n",
            "  (0, 8056)\t1\n",
            "  (0, 9699)\t1\n",
            "  (0, 10408)\t1\n",
            "  (0, 10644)\t1\n",
            "  (0, 10936)\t1\n",
            "  (0, 11115)\t1\n",
            "  (0, 12625)\t1\n",
            "  (0, 13317)\t1\n",
            "  (0, 13574)\t1\n",
            "  (0, 13739)\t1\n",
            "  (0, 15762)\t1\n",
            "  (0, 16482)\t1\n",
            "  (0, 17452)\t1\n",
            "  (0, 18610)\t1\n",
            "  (0, 18790)\t1\n",
            "  (0, 19650)\t1\n"
          ]
        }
      ],
      "source": [
        "print(X[0])"
      ]
    },
    {
      "cell_type": "code",
      "execution_count": null,
      "metadata": {
        "colab": {
          "base_uri": "https://localhost:8080/"
        },
        "id": "SeGcyi5BPZUz",
        "outputId": "7ef988bd-5347-4cc5-9db0-af650e681cf0"
      },
      "outputs": [
        {
          "output_type": "stream",
          "name": "stdout",
          "text": [
            "sloviansk\n"
          ]
        }
      ],
      "source": [
        "print(vectorizer.get_feature_names()[6321])"
      ]
    },
    {
      "cell_type": "code",
      "execution_count": null,
      "metadata": {
        "id": "1zstIRlQPcHX"
      },
      "outputs": [],
      "source": [
        "from sklearn.feature_extraction.text import TfidfTransformer"
      ]
    },
    {
      "cell_type": "code",
      "execution_count": null,
      "metadata": {
        "id": "bjaocrSOPemc"
      },
      "outputs": [],
      "source": [
        "transformer = TfidfTransformer().fit(X)"
      ]
    },
    {
      "cell_type": "code",
      "execution_count": null,
      "metadata": {
        "id": "UBEl0iNHPg3M"
      },
      "outputs": [],
      "source": [
        "X_transformed = transformer.transform(X)"
      ]
    },
    {
      "cell_type": "code",
      "execution_count": null,
      "metadata": {
        "colab": {
          "base_uri": "https://localhost:8080/"
        },
        "id": "585_-YNjPjHI",
        "outputId": "f7a3d5cf-7f7c-402c-a040-6d280a06d3df"
      },
      "outputs": [
        {
          "output_type": "stream",
          "name": "stdout",
          "text": [
            "  (0, 19650)\t0.26299875888986046\n",
            "  (0, 18790)\t0.26299875888986046\n",
            "  (0, 18610)\t0.10146408828388184\n",
            "  (0, 17452)\t0.21695417251972576\n",
            "  (0, 16482)\t0.2342553227156964\n",
            "  (0, 15762)\t0.21809092613105632\n",
            "  (0, 13739)\t0.24553842334255976\n",
            "  (0, 13574)\t0.3035809551776427\n",
            "  (0, 13317)\t0.1606320885346372\n",
            "  (0, 12625)\t0.28112703879824064\n",
            "  (0, 11115)\t0.3035809551776427\n",
            "  (0, 10936)\t0.08501761562140131\n",
            "  (0, 10644)\t0.23830987681977872\n",
            "  (0, 10408)\t0.19742062464241592\n",
            "  (0, 9699)\t0.11865018121314932\n",
            "  (0, 8056)\t0.2483570832719033\n",
            "  (0, 8031)\t0.19996264622267618\n",
            "  (0, 7666)\t0.08131858735184118\n",
            "  (0, 5548)\t0.3035809551776427\n",
            "  (0, 3718)\t0.06045579452539475\n",
            "  (0, 85)\t0.14400722524021756\n",
            "  (0, 34)\t0.06545680265405714\n",
            "  (0, 1)\t0.07888400172040888\n"
          ]
        }
      ],
      "source": [
        "print(X_transformed[0])"
      ]
    },
    {
      "cell_type": "code",
      "execution_count": null,
      "metadata": {
        "colab": {
          "base_uri": "https://localhost:8080/"
        },
        "id": "N4yPDfWsPkOJ",
        "outputId": "3e20ad7d-88c9-4803-d22f-3b6f67357e17"
      },
      "outputs": [
        {
          "output_type": "stream",
          "name": "stdout",
          "text": [
            "систематическому\n"
          ]
        }
      ],
      "source": [
        "print(vectorizer.get_feature_names()[19056])"
      ]
    },
    {
      "cell_type": "code",
      "execution_count": null,
      "metadata": {
        "id": "bXAcaTNtPnO7"
      },
      "outputs": [],
      "source": [
        "tokens_with_IDF = list(zip(vectorizer.get_feature_names(), transformer.idf_))"
      ]
    },
    {
      "cell_type": "code",
      "execution_count": null,
      "metadata": {
        "colab": {
          "base_uri": "https://localhost:8080/"
        },
        "id": "Mq6JsDApPsdZ",
        "outputId": "68cd04d9-c302-4bdc-8aec-9d08df8f5e6d"
      },
      "outputs": [
        {
          "output_type": "stream",
          "name": "stdout",
          "text": [
            "3.135104 => !\n",
            "2.435131 => #\n",
            "7.499671 => $\n",
            "4.958675 => %\n",
            "4.689342 => &\n",
            "3.341991 => ''\n",
            "4.111377 => (\n",
            "3.533743 => )\n",
            "6.509273 => *\n",
            "6.509273 => +\n",
            "9.371474 => +1000\n",
            "9.371474 => +100000\n",
            "9.371474 => +100500\n",
            "9.371474 => +29\n",
            "9.371474 => +3223\n",
            "9.371474 => +38\n",
            "9.371474 => +380682470710\n",
            "8.966008 => +380685302855\n",
            "9.371474 => +393496635324\n",
            "9.371474 => +41\n"
          ]
        }
      ],
      "source": [
        "for feature, idf in tokens_with_IDF[0:20]: print('{0:.6f} => {1}'.format(idf, feature))"
      ]
    },
    {
      "cell_type": "code",
      "execution_count": null,
      "metadata": {
        "id": "KXzcj1BoPxf-"
      },
      "outputs": [],
      "source": [
        "sorted_tokens_with_IDF = sorted(tokens_with_IDF, key=lambda it: (-it[1], it[0]))"
      ]
    },
    {
      "cell_type": "code",
      "execution_count": null,
      "metadata": {
        "colab": {
          "base_uri": "https://localhost:8080/"
        },
        "id": "2BwTVCHKP0Le",
        "outputId": "2b6443aa-0359-44b1-f8c4-5f257d7bd0f5"
      },
      "outputs": [
        {
          "output_type": "stream",
          "name": "stdout",
          "text": [
            "9.371474 => +1000\n",
            "9.371474 => +100000\n",
            "9.371474 => +100500\n",
            "9.371474 => +29\n",
            "9.371474 => +3223\n",
            "9.371474 => +38\n",
            "9.371474 => +380682470710\n",
            "9.371474 => +393496635324\n",
            "9.371474 => +41\n",
            "9.371474 => +575385427871\n",
            "9.371474 => +7-965-77-00-123\n",
            "9.371474 => +77711190926\n",
            "9.371474 => +77777777\n",
            "9.371474 => +79111812983\n",
            "9.371474 => +79176389635\n",
            "9.371474 => +79261221746\n",
            "9.371474 => +7961\n",
            "9.371474 => +79633071770\n",
            "9.371474 => +79787246609\n",
            "9.371474 => +79871547330\n"
          ]
        }
      ],
      "source": [
        "for feature, idf in sorted_tokens_with_IDF[0:20]: print('{0:.6f} => {1}'.format(idf, feature))"
      ]
    },
    {
      "cell_type": "code",
      "execution_count": null,
      "metadata": {
        "id": "C1nsO_bEP3jE"
      },
      "outputs": [],
      "source": [
        "from sklearn.feature_selection import SelectPercentile, chi2"
      ]
    },
    {
      "cell_type": "code",
      "execution_count": null,
      "metadata": {
        "id": "qgpXeOWtP5sL"
      },
      "outputs": [],
      "source": [
        "selector = SelectPercentile(chi2, percentile=20)"
      ]
    },
    {
      "cell_type": "code",
      "execution_count": null,
      "metadata": {
        "colab": {
          "base_uri": "https://localhost:8080/"
        },
        "id": "z-Wz1beCP74U",
        "outputId": "663de30b-b289-4fa4-a961-2dfe04db96ef"
      },
      "outputs": [
        {
          "output_type": "execute_result",
          "data": {
            "text/plain": [
              "SelectPercentile(percentile=20, score_func=<function chi2 at 0x7f833fd14f80>)"
            ]
          },
          "metadata": {},
          "execution_count": 136
        }
      ],
      "source": [
        "selector.fit(X_transformed, labels)"
      ]
    },
    {
      "cell_type": "code",
      "execution_count": null,
      "metadata": {
        "id": "dam7mKitP_tx"
      },
      "outputs": [],
      "source": [
        "selected_tokens_with_IDF = [tokens_with_IDF[idx] for idx in selector.get_support(indices=True)]"
      ]
    },
    {
      "cell_type": "code",
      "execution_count": null,
      "metadata": {
        "colab": {
          "base_uri": "https://localhost:8080/"
        },
        "id": "aHtEgspTQB_8",
        "outputId": "802a8272-0466-4d6a-96e1-5c7e1e9f0f30"
      },
      "outputs": [
        {
          "output_type": "stream",
          "name": "stdout",
          "text": [
            "4482\n"
          ]
        }
      ],
      "source": [
        "print(len(selected_tokens_with_IDF))"
      ]
    },
    {
      "cell_type": "code",
      "execution_count": null,
      "metadata": {
        "colab": {
          "base_uri": "https://localhost:8080/"
        },
        "id": "PyMmRGxFQE-1",
        "outputId": "d556835e-c03a-47e0-8eff-e8a18428ee1c"
      },
      "outputs": [
        {
          "output_type": "stream",
          "name": "stdout",
          "text": [
            "3.135104 => !\n",
            "2.435131 => #\n",
            "4.111377 => (\n",
            "3.533743 => )\n",
            "6.509273 => *\n",
            "2.020636 => ,\n",
            "3.924736 => -\n",
            "9.371474 => -.-\n",
            "9.371474 => -400\n",
            "8.966008 => -60\n",
            "8.966008 => -а\n",
            "9.371474 => -больше\n",
            "9.371474 => -всем\n",
            "9.371474 => -днище\n",
            "8.966008 => -нет\n",
            "8.966008 => -р\n",
            "2.222735 => .\n",
            "5.293936 => ..\n",
            "3.890835 => ...\n",
            "9.371474 => .обращался\n"
          ]
        }
      ],
      "source": [
        "for feature, idf in selected_tokens_with_IDF[0:20]: print('{0:.6f} => {1}'.format(idf, feature))"
      ]
    },
    {
      "cell_type": "code",
      "execution_count": null,
      "metadata": {
        "id": "Kkm1eWWmQIfs"
      },
      "outputs": [],
      "source": [
        "selected_and_sorted_tokens_with_IDF = sorted(selected_tokens_with_IDF, key=lambda it: (-it[1], it[0]))"
      ]
    },
    {
      "cell_type": "code",
      "execution_count": null,
      "metadata": {
        "colab": {
          "base_uri": "https://localhost:8080/"
        },
        "id": "M8CoVVfOQLcD",
        "outputId": "8040cf10-f940-4fb0-c352-aeb230dc461f"
      },
      "outputs": [
        {
          "output_type": "stream",
          "name": "stdout",
          "text": [
            "9.371474 => -.-\n",
            "9.371474 => -400\n",
            "9.371474 => -больше\n",
            "9.371474 => -всем\n",
            "9.371474 => -днище\n",
            "9.371474 => .обращался\n",
            "9.371474 => .по\n",
            "9.371474 => //t.co/00bl3i5jcr\n",
            "9.371474 => //t.co/05glrrkgts\n",
            "9.371474 => //t.co/0goumiymfp\n",
            "9.371474 => //t.co/0gu4icqawy\n",
            "9.371474 => //t.co/0hvcqrzoff\n",
            "9.371474 => //t.co/0lhfaaxm0s\n",
            "9.371474 => //t.co/0nsdxtnisn\n",
            "9.371474 => //t.co/0wqsc7cdsb\n",
            "9.371474 => //t.co/1acc8yqo3f\n",
            "9.371474 => //t.co/1jkxvwpeno\n",
            "9.371474 => //t.co/1t59pncgpg\n",
            "9.371474 => //t.co/26v61xerrs\n",
            "9.371474 => //t.co/2esb44hmbf\n"
          ]
        }
      ],
      "source": [
        "for feature, idf in selected_and_sorted_tokens_with_IDF[0:20]: print('{0:.6f} => {1}'.format(idf, feature))"
      ]
    },
    {
      "cell_type": "code",
      "execution_count": null,
      "metadata": {
        "id": "SK0pATF0QNU6"
      },
      "outputs": [],
      "source": [
        "from sklearn.linear_model import LogisticRegression"
      ]
    },
    {
      "cell_type": "code",
      "execution_count": null,
      "metadata": {
        "id": "pLKmN2oOQSCz"
      },
      "outputs": [],
      "source": [
        "cls = LogisticRegression(solver='liblinear', verbose=True)"
      ]
    },
    {
      "cell_type": "code",
      "execution_count": null,
      "metadata": {
        "id": "ZyXwKo0YQUa2"
      },
      "outputs": [],
      "source": [
        "X_transformed_and_selected = selector.transform(X_transformed)"
      ]
    },
    {
      "cell_type": "code",
      "execution_count": null,
      "metadata": {
        "colab": {
          "base_uri": "https://localhost:8080/"
        },
        "id": "z8glnMNRQX2c",
        "outputId": "5c57e3a9-4344-4de2-fb36-3f2bb10cc591"
      },
      "outputs": [
        {
          "output_type": "stream",
          "name": "stdout",
          "text": [
            "[LibLinear]"
          ]
        },
        {
          "output_type": "execute_result",
          "data": {
            "text/plain": [
              "LogisticRegression(solver='liblinear', verbose=True)"
            ]
          },
          "metadata": {},
          "execution_count": 145
        }
      ],
      "source": [
        "cls.fit(X_transformed_and_selected, labels)"
      ]
    },
    {
      "cell_type": "code",
      "execution_count": null,
      "metadata": {
        "id": "lCbFVjp6QZUT"
      },
      "outputs": [],
      "source": [
        "classes_list = list(cls.classes_)"
      ]
    },
    {
      "cell_type": "code",
      "execution_count": null,
      "metadata": {
        "colab": {
          "base_uri": "https://localhost:8080/"
        },
        "id": "vIAu6xR6QeWW",
        "outputId": "256fec64-94a0-42f4-d1de-f80d4728c242"
      },
      "outputs": [
        {
          "output_type": "stream",
          "name": "stdout",
          "text": [
            "['negative', 'neutral', 'positive']\n"
          ]
        }
      ],
      "source": [
        "print(classes_list)"
      ]
    },
    {
      "cell_type": "code",
      "execution_count": null,
      "metadata": {
        "id": "nDhIgZzIQhEP"
      },
      "outputs": [],
      "source": [
        "texts_for_testing, labels_for_testing = load_sentirueval_2016('tkk_test_etalon.xml')"
      ]
    },
    {
      "cell_type": "code",
      "execution_count": null,
      "metadata": {
        "id": "bVhJ61q-Qjc9"
      },
      "outputs": [],
      "source": [
        "from sklearn.pipeline import Pipeline"
      ]
    },
    {
      "cell_type": "code",
      "execution_count": null,
      "metadata": {
        "id": "9pAzjVd2QmPo"
      },
      "outputs": [],
      "source": [
        "pipeline_for_se = Pipeline(\n",
        "    [\n",
        "        ('vectorizer', vectorizer),\n",
        "        ('tfidf', transformer),\n",
        "        ('selector', selector),\n",
        "        ('final_classifier', cls)\n",
        "    ]\n",
        ")"
      ]
    },
    {
      "cell_type": "code",
      "execution_count": null,
      "metadata": {
        "id": "t5c0qZd5QnZX"
      },
      "outputs": [],
      "source": [
        "from sklearn.metrics import roc_curve\n",
        "import numpy as np"
      ]
    },
    {
      "cell_type": "code",
      "execution_count": null,
      "metadata": {
        "id": "z5gHfW4yQrno"
      },
      "outputs": [],
      "source": [
        "probabilities = pipeline_for_se.predict_proba(texts_for_testing)"
      ]
    },
    {
      "cell_type": "code",
      "execution_count": null,
      "metadata": {
        "id": "LVylv_T7QuEM"
      },
      "outputs": [],
      "source": [
        "y_true_positives = list(map(lambda it: 1 if it == 'positive' else 0, labels_for_testing))\n",
        "y_score_positives = probabilities[:, classes_list.index('positive')]"
      ]
    },
    {
      "cell_type": "code",
      "execution_count": null,
      "metadata": {
        "id": "aWwNxpXkQvN4"
      },
      "outputs": [],
      "source": [
        "fpr_positives, tpr_positives, _, = roc_curve(y_true_positives, y_score_positives)"
      ]
    },
    {
      "cell_type": "code",
      "execution_count": null,
      "metadata": {
        "id": "fQnjctWTQyU5"
      },
      "outputs": [],
      "source": [
        "y_true_negatives = list(map(lambda it: 1 if it == 'negative' else 0, labels_for_testing))\n",
        "y_score_negatives = probabilities[:, classes_list.index('negative')]\n",
        "fpr_negatives, tpr_negatives, _, = roc_curve(y_true_negatives, y_score_negatives)"
      ]
    },
    {
      "cell_type": "code",
      "execution_count": null,
      "metadata": {
        "id": "JcCnsn2ZQ2TB"
      },
      "outputs": [],
      "source": [
        "y_true_neutrals = list(map(lambda it: 1 if it == 'neutral' else 0, labels_for_testing))\n",
        "y_score_neutrals = probabilities[:, classes_list.index('neutral')]\n",
        "fpr_neutrals, tpr_neutrals, _, = roc_curve(y_true_neutrals, y_score_neutrals)"
      ]
    },
    {
      "cell_type": "code",
      "execution_count": null,
      "metadata": {
        "colab": {
          "base_uri": "https://localhost:8080/",
          "height": 295
        },
        "id": "MrGF702OQ6vA",
        "outputId": "efe2a313-fac7-447f-a19d-8ad6e2485c0d"
      },
      "outputs": [
        {
          "output_type": "display_data",
          "data": {
            "text/plain": [
              "<Figure size 432x288 with 1 Axes>"
            ],
            "image/png": "[encoded data removed]"
          },
          "metadata": {
            "needs_background": "light"
          }
        }
      ],
      "source": [
        "import matplotlib.pyplot as plt\n",
        "plt.figure(1)\n",
        "plt.plot([0, 1], [0, 1], 'k--')\n",
        "plt.plot(fpr_positives, tpr_positives, label='Positive Sentiment')\n",
        "plt.plot(fpr_negatives, tpr_negatives, label='Negative Sentiment')\n",
        "plt.plot(fpr_neutrals, tpr_neutrals, label='Neutral Sentiment')\n",
        "plt.xlabel('False positive rate')\n",
        "plt.ylabel('True positive rate')\n",
        "plt.title('ROC curve')\n",
        "plt.legend(loc='best')\n",
        "plt.show()"
      ]
    },
    {
      "cell_type": "code",
      "execution_count": null,
      "metadata": {
        "colab": {
          "base_uri": "https://localhost:8080/"
        },
        "id": "hcTM1pPQQ8p3",
        "outputId": "bbef2d79-05d8-44e7-af07-c0e69d8abc28"
      },
      "outputs": [
        {
          "output_type": "stream",
          "name": "stdout",
          "text": [
            "F1-micro = 0.656431\n",
            "F1-macro = 0.494411\n"
          ]
        }
      ],
      "source": [
        "from sklearn.metrics import f1_score\n",
        "predicted_labels = pipeline_for_se.predict(texts_for_testing)\n",
        "print('F1-micro = {0:.6f}'.format(f1_score(labels_for_testing, predicted_labels, average='micro')))\n",
        "print('F1-macro = {0:.6f}'.format(f1_score(labels_for_testing, predicted_labels, average='macro')))"
      ]
    },
    {
      "cell_type": "code",
      "execution_count": null,
      "metadata": {
        "colab": {
          "base_uri": "https://localhost:8080/"
        },
        "id": "xOBaWE8gRDvh",
        "outputId": "ed7e75ce-cd16-4cbb-9abf-dc299ce5f677"
      },
      "outputs": [
        {
          "output_type": "stream",
          "name": "stdout",
          "text": [
            "              precision    recall  f1-score   support\n",
            "\n",
            "    negative   0.713355  0.635397  0.672123      1034\n",
            "     neutral   0.618755  0.795455  0.696066      1012\n",
            "    positive   0.520000  0.064677  0.115044       201\n",
            "\n",
            "    accuracy                       0.656431      2247\n",
            "   macro avg   0.617370  0.498509  0.494411      2247\n",
            "weighted avg   0.653453  0.656431  0.633074      2247\n",
            "\n"
          ]
        }
      ],
      "source": [
        "from sklearn.metrics import classification_report\n",
        "print(classification_report(labels_for_testing, predicted_labels, digits=6))"
      ]
    },
    {
      "cell_type": "code",
      "execution_count": null,
      "metadata": {
        "id": "n2k0_YbMRHUr"
      },
      "outputs": [],
      "source": [
        "from sklearn.model_selection import GridSearchCV\n",
        "from sklearn.metrics import make_scorer\n",
        "f1_macro_scorer = make_scorer(f1_score, average='macro')\n",
        "cv = GridSearchCV(\n",
        "    estimator=LogisticRegression(solver='liblinear'),\n",
        "    param_grid={'C': [1e-2, 1e-1, 1, 1e+1, 1e+2, 1e+3], 'penalty': ['l1', 'l2']},\n",
        "    scoring=f1_macro_scorer,\n",
        "    n_jobs=-1\n",
        ")"
      ]
    },
    {
      "cell_type": "code",
      "execution_count": null,
      "metadata": {
        "colab": {
          "base_uri": "https://localhost:8080/"
        },
        "id": "ThSmDJeTRIqV",
        "outputId": "680b684e-6448-449e-fe3c-ff16ae5af123"
      },
      "outputs": [
        {
          "output_type": "execute_result",
          "data": {
            "text/plain": [
              "GridSearchCV(estimator=LogisticRegression(solver='liblinear'), n_jobs=-1,\n",
              "             param_grid={'C': [0.01, 0.1, 1, 10.0, 100.0, 1000.0],\n",
              "                         'penalty': ['l1', 'l2']},\n",
              "             scoring=make_scorer(f1_score, average=macro))"
            ]
          },
          "metadata": {},
          "execution_count": 161
        }
      ],
      "source": [
        "cv.fit(X_transformed_and_selected, labels)"
      ]
    },
    {
      "cell_type": "code",
      "execution_count": null,
      "metadata": {
        "colab": {
          "base_uri": "https://localhost:8080/"
        },
        "id": "uAGPLOV-RQx2",
        "outputId": "c3049393-d287-493c-e4f5-2b6afe3fa6ff"
      },
      "outputs": [
        {
          "output_type": "stream",
          "name": "stdout",
          "text": [
            "{'C': 100.0, 'penalty': 'l2'}\n"
          ]
        }
      ],
      "source": [
        "print(cv.best_params_)"
      ]
    },
    {
      "cell_type": "code",
      "execution_count": null,
      "metadata": {
        "colab": {
          "base_uri": "https://localhost:8080/"
        },
        "id": "nCw82-1MRSAr",
        "outputId": "0abe5912-c1ee-4256-d7c1-1a222339996b"
      },
      "outputs": [
        {
          "output_type": "stream",
          "name": "stdout",
          "text": [
            "[LibLinear]"
          ]
        },
        {
          "output_type": "execute_result",
          "data": {
            "text/plain": [
              "LogisticRegression(C=10.0, penalty='l1', solver='liblinear', verbose=True)"
            ]
          },
          "metadata": {},
          "execution_count": 163
        }
      ],
      "source": [
        "best_cls = LogisticRegression(solver='liblinear', verbose=True, C=10.0, penalty='l1')\n",
        "best_cls.fit(X_transformed_and_selected, labels)"
      ]
    },
    {
      "cell_type": "code",
      "execution_count": null,
      "metadata": {
        "id": "rNljdNeCRXEH"
      },
      "outputs": [],
      "source": [
        "best_pipeline_for_se = Pipeline(\n",
        "    [\n",
        "        ('vectorizer', vectorizer),\n",
        "        ('tfidf', transformer),\n",
        "        ('selector', selector),\n",
        "        ('final_classifier', best_cls)\n",
        "    ]\n",
        ")"
      ]
    },
    {
      "cell_type": "code",
      "execution_count": null,
      "metadata": {
        "id": "fwo9rGq7RZ9r"
      },
      "outputs": [],
      "source": [
        "probabilities = best_pipeline_for_se.predict_proba(texts_for_testing)\n",
        "\n",
        "y_true_positives = list(map(lambda it: 1 if it == 'positive' else 0, labels_for_testing))\n",
        "y_score_positives = probabilities[:, classes_list.index('positive')]\n",
        "fpr_positives, tpr_positives, _, = roc_curve(y_true_positives, y_score_positives)\n",
        "\n",
        "y_true_negatives = list(map(lambda it: 1 if it == 'negative' else 0, labels_for_testing))\n",
        "y_score_negatives = probabilities[:, classes_list.index('negative')]\n",
        "fpr_negatives, tpr_negatives, _, = roc_curve(y_true_negatives, y_score_negatives)\n",
        "\n",
        "y_true_neutrals = list(map(lambda it: 1 if it == 'neutral' else 0, labels_for_testing))\n",
        "y_score_neutrals = probabilities[:, classes_list.index('neutral')]\n",
        "fpr_neutrals, tpr_neutrals, _, = roc_curve(y_true_neutrals, y_score_neutrals)"
      ]
    },
    {
      "cell_type": "code",
      "execution_count": null,
      "metadata": {
        "colab": {
          "base_uri": "https://localhost:8080/",
          "height": 295
        },
        "id": "6pr5mi5JRctJ",
        "outputId": "a0699598-b5a9-4e6a-9b8b-1a8e30fef3f8"
      },
      "outputs": [
        {
          "output_type": "display_data",
          "data": {
            "text/plain": [
              "<Figure size 432x288 with 1 Axes>"
            ],
            "image/png": "[encoded data removed]"
          },
          "metadata": {
            "needs_background": "light"
          }
        }
      ],
      "source": [
        "plt.figure(2)\n",
        "plt.plot([0, 1], [0, 1], 'k--')\n",
        "plt.plot(fpr_positives, tpr_positives, label='Positive Sentiment')\n",
        "plt.plot(fpr_negatives, tpr_negatives, label='Negative Sentiment')\n",
        "plt.plot(fpr_neutrals, tpr_neutrals, label='Neutral Sentiment')\n",
        "plt.xlabel('False positive rate')\n",
        "plt.ylabel('True positive rate')\n",
        "plt.title('ROC curve')\n",
        "plt.legend(loc='best')\n",
        "plt.show()"
      ]
    },
    {
      "cell_type": "code",
      "execution_count": null,
      "metadata": {
        "colab": {
          "base_uri": "https://localhost:8080/"
        },
        "id": "Mg9GKQlqRgCk",
        "outputId": "9ca912c8-5d42-4075-a368-c23c44da4872"
      },
      "outputs": [
        {
          "output_type": "stream",
          "name": "stdout",
          "text": [
            "F1-micro = 0.648865\n",
            "F1-macro = 0.548723\n"
          ]
        }
      ],
      "source": [
        "predicted_labels = best_pipeline_for_se.predict(texts_for_testing)\n",
        "print('F1-micro = {0:.6f}'.format(f1_score(labels_for_testing, predicted_labels, average='micro')))\n",
        "print('F1-macro = {0:.6f}'.format(f1_score(labels_for_testing, predicted_labels, average='macro')))"
      ]
    },
    {
      "cell_type": "code",
      "execution_count": null,
      "metadata": {
        "colab": {
          "base_uri": "https://localhost:8080/"
        },
        "id": "LFp6Nt9tRi-L",
        "outputId": "a7767499-2941-401d-a0e7-d52ebd4d7a73"
      },
      "outputs": [
        {
          "output_type": "stream",
          "name": "stdout",
          "text": [
            "              precision    recall  f1-score   support\n",
            "\n",
            "    negative   0.715247  0.617021  0.662513      1034\n",
            "     neutral   0.620192  0.764822  0.684956      1012\n",
            "    positive   0.429907  0.228856  0.298701       201\n",
            "\n",
            "    accuracy                       0.648865      2247\n",
            "   macro avg   0.588448  0.536900  0.548723      2247\n",
            "weighted avg   0.646912  0.648865  0.640077      2247\n",
            "\n"
          ]
        }
      ],
      "source": [
        "print(classification_report(labels_for_testing, predicted_labels, digits=6))"
      ]
    },
    {
      "cell_type": "markdown",
      "metadata": {
        "id": "Xnnym4OKvTRk"
      },
      "source": [
        "Итак, попробуем сделать алгортим лучше и посмотрим, что получится. Начнём с лемматизации и токенезации"
      ]
    },
    {
      "cell_type": "code",
      "execution_count": null,
      "metadata": {
        "colab": {
          "base_uri": "https://localhost:8080/"
        },
        "id": "4Eq2elkEOiNl",
        "outputId": "8eeb0f75-4fa7-458f-91f9-ddf4cbcf8ec9"
      },
      "outputs": [
        {
          "output_type": "stream",
          "name": "stdout",
          "text": [
            "Looking in indexes: https://pypi.org/simple, https://us-python.pkg.dev/colab-wheels/public/simple/\n",
            "Requirement already satisfied: spacy-udpipe in /usr/local/lib/python3.7/dist-packages (1.0.0)\n",
            "Requirement already satisfied: ufal.udpipe>=1.2.0 in /usr/local/lib/python3.7/dist-packages (from spacy-udpipe) (1.2.0.3)\n",
            "Requirement already satisfied: spacy<4.0.0,>=3.0.0 in /usr/local/lib/python3.7/dist-packages (from spacy-udpipe) (3.4.2)\n",
            "Requirement already satisfied: thinc<8.2.0,>=8.1.0 in /usr/local/lib/python3.7/dist-packages (from spacy<4.0.0,>=3.0.0->spacy-udpipe) (8.1.5)\n",
            "Requirement already satisfied: packaging>=20.0 in /usr/local/lib/python3.7/dist-packages (from spacy<4.0.0,>=3.0.0->spacy-udpipe) (21.3)\n",
            "Requirement already satisfied: murmurhash<1.1.0,>=0.28.0 in /usr/local/lib/python3.7/dist-packages (from spacy<4.0.0,>=3.0.0->spacy-udpipe) (1.0.9)\n",
            "Requirement already satisfied: typer<0.5.0,>=0.3.0 in /usr/local/lib/python3.7/dist-packages (from spacy<4.0.0,>=3.0.0->spacy-udpipe) (0.4.2)\n",
            "Requirement already satisfied: spacy-loggers<2.0.0,>=1.0.0 in /usr/local/lib/python3.7/dist-packages (from spacy<4.0.0,>=3.0.0->spacy-udpipe) (1.0.3)\n",
            "Requirement already satisfied: cymem<2.1.0,>=2.0.2 in /usr/local/lib/python3.7/dist-packages (from spacy<4.0.0,>=3.0.0->spacy-udpipe) (2.0.7)\n",
            "Requirement already satisfied: jinja2 in /usr/local/lib/python3.7/dist-packages (from spacy<4.0.0,>=3.0.0->spacy-udpipe) (2.11.3)\n",
            "Requirement already satisfied: wasabi<1.1.0,>=0.9.1 in /usr/local/lib/python3.7/dist-packages (from spacy<4.0.0,>=3.0.0->spacy-udpipe) (0.10.1)\n",
            "Requirement already satisfied: langcodes<4.0.0,>=3.2.0 in /usr/local/lib/python3.7/dist-packages (from spacy<4.0.0,>=3.0.0->spacy-udpipe) (3.3.0)\n",
            "Requirement already satisfied: pathy>=0.3.5 in /usr/local/lib/python3.7/dist-packages (from spacy<4.0.0,>=3.0.0->spacy-udpipe) (0.6.2)\n",
            "Requirement already satisfied: preshed<3.1.0,>=3.0.2 in /usr/local/lib/python3.7/dist-packages (from spacy<4.0.0,>=3.0.0->spacy-udpipe) (3.0.8)\n",
            "Requirement already satisfied: numpy>=1.15.0 in /usr/local/lib/python3.7/dist-packages (from spacy<4.0.0,>=3.0.0->spacy-udpipe) (1.21.6)\n",
            "Requirement already satisfied: typing-extensions<4.2.0,>=3.7.4 in /usr/local/lib/python3.7/dist-packages (from spacy<4.0.0,>=3.0.0->spacy-udpipe) (4.1.1)\n",
            "Requirement already satisfied: tqdm<5.0.0,>=4.38.0 in /usr/local/lib/python3.7/dist-packages (from spacy<4.0.0,>=3.0.0->spacy-udpipe) (4.64.1)\n",
            "Requirement already satisfied: requests<3.0.0,>=2.13.0 in /usr/local/lib/python3.7/dist-packages (from spacy<4.0.0,>=3.0.0->spacy-udpipe) (2.23.0)\n",
            "Requirement already satisfied: pydantic!=1.8,!=1.8.1,<1.11.0,>=1.7.4 in /usr/local/lib/python3.7/dist-packages (from spacy<4.0.0,>=3.0.0->spacy-udpipe) (1.10.2)\n",
            "Requirement already satisfied: srsly<3.0.0,>=2.4.3 in /usr/local/lib/python3.7/dist-packages (from spacy<4.0.0,>=3.0.0->spacy-udpipe) (2.4.5)\n",
            "Requirement already satisfied: setuptools in /usr/local/lib/python3.7/dist-packages (from spacy<4.0.0,>=3.0.0->spacy-udpipe) (57.4.0)\n",
            "Requirement already satisfied: catalogue<2.1.0,>=2.0.6 in /usr/local/lib/python3.7/dist-packages (from spacy<4.0.0,>=3.0.0->spacy-udpipe) (2.0.8)\n",
            "Requirement already satisfied: spacy-legacy<3.1.0,>=3.0.10 in /usr/local/lib/python3.7/dist-packages (from spacy<4.0.0,>=3.0.0->spacy-udpipe) (3.0.10)\n",
            "Requirement already satisfied: zipp>=0.5 in /usr/local/lib/python3.7/dist-packages (from catalogue<2.1.0,>=2.0.6->spacy<4.0.0,>=3.0.0->spacy-udpipe) (3.10.0)\n",
            "Requirement already satisfied: pyparsing!=3.0.5,>=2.0.2 in /usr/local/lib/python3.7/dist-packages (from packaging>=20.0->spacy<4.0.0,>=3.0.0->spacy-udpipe) (3.0.9)\n",
            "Requirement already satisfied: smart-open<6.0.0,>=5.2.1 in /usr/local/lib/python3.7/dist-packages (from pathy>=0.3.5->spacy<4.0.0,>=3.0.0->spacy-udpipe) (5.2.1)\n",
            "Requirement already satisfied: urllib3!=1.25.0,!=1.25.1,<1.26,>=1.21.1 in /usr/local/lib/python3.7/dist-packages (from requests<3.0.0,>=2.13.0->spacy<4.0.0,>=3.0.0->spacy-udpipe) (1.24.3)\n",
            "Requirement already satisfied: idna<3,>=2.5 in /usr/local/lib/python3.7/dist-packages (from requests<3.0.0,>=2.13.0->spacy<4.0.0,>=3.0.0->spacy-udpipe) (2.10)\n",
            "Requirement already satisfied: chardet<4,>=3.0.2 in /usr/local/lib/python3.7/dist-packages (from requests<3.0.0,>=2.13.0->spacy<4.0.0,>=3.0.0->spacy-udpipe) (3.0.4)\n",
            "Requirement already satisfied: certifi>=2017.4.17 in /usr/local/lib/python3.7/dist-packages (from requests<3.0.0,>=2.13.0->spacy<4.0.0,>=3.0.0->spacy-udpipe) (2022.9.24)\n",
            "Requirement already satisfied: confection<1.0.0,>=0.0.1 in /usr/local/lib/python3.7/dist-packages (from thinc<8.2.0,>=8.1.0->spacy<4.0.0,>=3.0.0->spacy-udpipe) (0.0.3)\n",
            "Requirement already satisfied: blis<0.8.0,>=0.7.8 in /usr/local/lib/python3.7/dist-packages (from thinc<8.2.0,>=8.1.0->spacy<4.0.0,>=3.0.0->spacy-udpipe) (0.7.9)\n",
            "Requirement already satisfied: click<9.0.0,>=7.1.1 in /usr/local/lib/python3.7/dist-packages (from typer<0.5.0,>=0.3.0->spacy<4.0.0,>=3.0.0->spacy-udpipe) (7.1.2)\n",
            "Requirement already satisfied: MarkupSafe>=0.23 in /usr/local/lib/python3.7/dist-packages (from jinja2->spacy<4.0.0,>=3.0.0->spacy-udpipe) (2.0.1)\n"
          ]
        }
      ],
      "source": [
        "! pip install spacy-udpipe"
      ]
    },
    {
      "cell_type": "code",
      "execution_count": null,
      "metadata": {
        "colab": {
          "base_uri": "https://localhost:8080/"
        },
        "id": "84x41x68Olj3",
        "outputId": "e0f1da2e-39e8-496e-ceb1-42ad9df3d085"
      },
      "outputs": [
        {
          "output_type": "stream",
          "name": "stdout",
          "text": [
            "Already downloaded a model for the 'ru' language\n",
            "Мама мама\n",
            "мыла мыть\n",
            "раму рама\n"
          ]
        }
      ],
      "source": [
        "import spacy_udpipe\n",
        "\n",
        "spacy_udpipe.download(\"ru\")\n",
        "nlp = spacy_udpipe.load(\"ru\")\n",
        "doc = nlp(\"Мама мыла раму\")\n",
        "for token in doc:\n",
        "  print(token.text, token.lemma_)"
      ]
    },
    {
      "cell_type": "code",
      "execution_count": null,
      "metadata": {
        "id": "WtfI2DSEQOsV"
      },
      "outputs": [],
      "source": [
        "def my_lemma_tokenize(text:str) -> List[str]:\n",
        "  list_of_words = []\n",
        "  doc = nlp(text)\n",
        "  for token in doc:\n",
        "    list_of_words.append(token.lemma_)\n",
        "  return list_of_words"
      ]
    },
    {
      "cell_type": "code",
      "execution_count": null,
      "metadata": {
        "colab": {
          "base_uri": "https://localhost:8080/"
        },
        "id": "znX88sLWQUTz",
        "outputId": "dfb5ca06-ebb8-410a-f715-1e54d353b13f"
      },
      "outputs": [
        {
          "output_type": "execute_result",
          "data": {
            "text/plain": [
              "['я', 'писать', 'программа']"
            ]
          },
          "metadata": {},
          "execution_count": 172
        }
      ],
      "source": [
        "my_lemma_tokenize('Я пишу программу')"
      ]
    },
    {
      "cell_type": "code",
      "execution_count": null,
      "metadata": {
        "id": "QDfO0uLBQazQ"
      },
      "outputs": [],
      "source": [
        "vectorizer = CountVectorizer(lowercase=True, tokenizer=my_lemma_tokenize) "
      ]
    },
    {
      "cell_type": "code",
      "execution_count": null,
      "metadata": {
        "colab": {
          "base_uri": "https://localhost:8080/"
        },
        "id": "_WjlxG6HQeHO",
        "outputId": "53fdaec7-aaf4-4664-b9f0-f07f2b7ae842"
      },
      "outputs": [
        {
          "output_type": "stream",
          "name": "stderr",
          "text": [
            "/usr/local/lib/python3.7/dist-packages/sklearn/feature_extraction/text.py:517: UserWarning: The parameter 'token_pattern' will not be used since 'tokenizer' is not None'\n",
            "  \"The parameter 'token_pattern' will not be used\"\n"
          ]
        },
        {
          "output_type": "execute_result",
          "data": {
            "text/plain": [
              "CountVectorizer(tokenizer=<function my_lemma_tokenize at 0x7f833faa6830>)"
            ]
          },
          "metadata": {},
          "execution_count": 174
        }
      ],
      "source": [
        "vectorizer.fit(texts)"
      ]
    },
    {
      "cell_type": "code",
      "execution_count": null,
      "metadata": {
        "colab": {
          "base_uri": "https://localhost:8080/"
        },
        "id": "w0y5zBmxQg-M",
        "outputId": "66776a0f-8288-4ec4-82ef-acabc386de7e"
      },
      "outputs": [
        {
          "output_type": "stream",
          "name": "stdout",
          "text": [
            "['!', '!&gt', '!»', '!е', '\"', '#', '#+41', '#100skfo', '#1042', '#1055;', '#1074;', '#1076', '#1077', '#1086', '#160', '#171', '#187', '#2013од', '#2014', '#3g', '#40', '#41', '#4g', '#4g+', '#752', '#8211', '#8220', '#8221', '#8230', '#97фз', '#apple', '#e586', '#edge', '#exprussia', '#f', '#gprs', '#gsm', '#gtav', '#hope', '#htc', '#ipad', '#iphone', '#iphone5', '#job', '#k', '#kazan', '#krsk', '#me', '#megafon', '#megafoн-лат']\n"
          ]
        },
        {
          "output_type": "stream",
          "name": "stderr",
          "text": [
            "/usr/local/lib/python3.7/dist-packages/sklearn/utils/deprecation.py:87: FutureWarning: Function get_feature_names is deprecated; get_feature_names is deprecated in 1.0 and will be removed in 1.2. Please use get_feature_names_out instead.\n",
            "  warnings.warn(msg, category=FutureWarning)\n"
          ]
        }
      ],
      "source": [
        "print(vectorizer.get_feature_names()[0:50])"
      ]
    },
    {
      "cell_type": "code",
      "execution_count": null,
      "metadata": {
        "colab": {
          "base_uri": "https://localhost:8080/"
        },
        "id": "aMtLZ1ulRE-q",
        "outputId": "50dc1a60-b223-476d-f172-51757dd01b83"
      },
      "outputs": [
        {
          "output_type": "stream",
          "name": "stdout",
          "text": [
            "16749\n"
          ]
        }
      ],
      "source": [
        "print(len(vectorizer.get_feature_names()))"
      ]
    },
    {
      "cell_type": "code",
      "execution_count": null,
      "metadata": {
        "id": "5JIxMUSDRGTf"
      },
      "outputs": [],
      "source": [
        "X = vectorizer.transform(texts)"
      ]
    },
    {
      "cell_type": "markdown",
      "metadata": {
        "id": "t2jSk3kqxdD6"
      },
      "source": [
        "Добавим в матрицу показатели наличия ссылки на канал и тональность (0-отрицательная, 0,5-нейтральная, 1-положительная)\n"
      ]
    },
    {
      "cell_type": "code",
      "execution_count": null,
      "metadata": {
        "id": "KsrZridtxnZI"
      },
      "outputs": [],
      "source": [
        "import re\n",
        "\n",
        "tg_channel = re.compile('(http[s]?:)?\\/\\/t\\.co')\n",
        "tg_tweets = []\n",
        "tg_labels = []\n",
        "for idx in range(len(texts)):\n",
        "  if tg_channel.search(texts[idx]) is not None:\n",
        "    tg_tweets.append(texts[idx])\n",
        "    tg_labels.append(labels[idx])"
      ]
    },
    {
      "cell_type": "code",
      "execution_count": null,
      "metadata": {
        "id": "aIzYVmGixsKD"
      },
      "outputs": [],
      "source": [
        "with open(\"RuSentiLex.txt\", \"r\", encoding=\"utf-8\") as file:\n",
        "  positive_list=[]\n",
        "  negative_list=[]\n",
        "  neutral_list=[]\n",
        "  for row in file.readlines():\n",
        "    if row[0] == '!':\n",
        "      pass\n",
        "    else:\n",
        "      row = row.split(', ')\n",
        "      if 'positive' in row:\n",
        "        positive_list.append(row[0])\n",
        "      elif 'negative' in row:\n",
        "        negative_list.append(row[0])\n",
        "      elif 'neutral' in row:\n",
        "        neutral_list.append(row[0])\n"
      ]
    },
    {
      "cell_type": "markdown",
      "metadata": {
        "id": "V0U7O81czSy0"
      },
      "source": [
        "Теперь нужно проверить, как посчитанная тональность соотносится с уже готовым списком окрашенной лексики"
      ]
    },
    {
      "cell_type": "code",
      "execution_count": null,
      "metadata": {
        "colab": {
          "base_uri": "https://localhost:8080/"
        },
        "id": "bPJawzwyzUiv",
        "outputId": "793d97b9-9d94-40a6-b326-575a44809887"
      },
      "outputs": [
        {
          "output_type": "stream",
          "name": "stdout",
          "text": [
            "1.0\n"
          ]
        }
      ],
      "source": [
        "c=0\n",
        "for idx in range(len(texts)):\n",
        "  doc = nlp(texts[idx].lower())\n",
        "  positive=0\n",
        "  negative=0\n",
        "  neutral=0\n",
        "  for token in doc:\n",
        "    lemma=token.lemma_\n",
        "    if lemma in positive_list:\n",
        "      positive+=1\n",
        "    if lemma in negative_list:\n",
        "      negative+=1\n",
        "    if lemma in neutral_list:\n",
        "      neutral+=1\n",
        "  emo_score = list(zip([k/len(doc) for k in [positive, negative, neutral]], [\"positive\", \"negative\", \"neutral\"]))\n",
        "  for duo in emo_score:\n",
        "    if duo[0] == max([i[0] for i in emo_score]):\n",
        "      if duo[1] == labels[idx]:\n",
        "        c+=1\n",
        "print(c/len(texts))"
      ]
    },
    {
      "cell_type": "markdown",
      "metadata": {
        "id": "N5Tj2CUL0Hib"
      },
      "source": [
        "Впечатляет"
      ]
    },
    {
      "cell_type": "code",
      "execution_count": null,
      "metadata": {
        "id": "IAvvyhpw0I6f"
      },
      "outputs": [],
      "source": [
        "import numpy as np"
      ]
    },
    {
      "cell_type": "code",
      "execution_count": null,
      "metadata": {
        "colab": {
          "base_uri": "https://localhost:8080/"
        },
        "id": "CMLn3cWE0PMv",
        "outputId": "1ea0a518-a55f-4a52-f1a4-ac5e9c9df219"
      },
      "outputs": [
        {
          "output_type": "stream",
          "name": "stdout",
          "text": [
            "Матрица:\n",
            "номер токена в словаре - tf слова\n",
            "  (0, 14928)\t0.23808175540682783\n",
            "  (0, 14452)\t0.27012454380074863\n",
            "  (0, 14328)\t0.10924358322455263\n",
            "  (0, 13643)\t0.20532754166257977\n",
            "  (0, 13160)\t0.21339284592694815\n",
            "  (0, 12792)\t0.23711952479413687\n",
            "  (0, 11591)\t0.20298715533553888\n",
            "  (0, 11502)\t0.2480943351734739\n",
            "  (0, 11342)\t0.1560439607941433\n",
            "  (0, 10899)\t0.33213498488737664\n",
            "  (0, 9938)\t0.33213498488737664\n",
            "  (0, 9818)\t0.09713357385696253\n",
            "  (0, 9646)\t0.27012454380074863\n",
            "  (0, 9506)\t0.22575707141902923\n",
            "  (0, 9085)\t0.13555777941411548\n",
            "  (0, 8510)\t0.14444127443866836\n",
            "  (0, 8072)\t0.16423029507059134\n",
            "  (0, 7803)\t0.09220334363258813\n",
            "  (0, 2409)\t0.347154951533728\n",
            "  (0, 250)\t0.15495162558867978\n",
            "  (0, 165)\t0.07533080118136379\n",
            "  (0, 5)\t0.09208953771897561\n"
          ]
        }
      ],
      "source": [
        "from sklearn.feature_extraction.text import TfidfTransformer\n",
        "transformer = TfidfTransformer().fit(X)\n",
        "X_transformed = transformer.transform(X) \n",
        "print(f'Матрица:\\nномер токена в словаре - tf слова\\n{X_transformed[0]}')"
      ]
    },
    {
      "cell_type": "code",
      "execution_count": null,
      "metadata": {
        "colab": {
          "base_uri": "https://localhost:8080/"
        },
        "id": "Bj2N_Pcn0qYz",
        "outputId": "95ea46ca-a3f8-47d5-b604-7df222015c96"
      },
      "outputs": [
        {
          "output_type": "stream",
          "name": "stdout",
          "text": [
            "8643 16749\n"
          ]
        }
      ],
      "source": [
        "X_arr = X_transformed.toarray()\n",
        "n,m = X_arr.shape\n",
        "print(n,m)"
      ]
    },
    {
      "cell_type": "code",
      "execution_count": null,
      "metadata": {
        "colab": {
          "base_uri": "https://localhost:8080/"
        },
        "id": "plKhRps_0mLz",
        "outputId": "72696194-6ab8-40fa-e009-2162be6e3a7e"
      },
      "outputs": [
        {
          "output_type": "stream",
          "name": "stdout",
          "text": [
            "[[0. 0. 0. ... 0. 0. 0.]\n",
            " [0. 0. 0. ... 0. 0. 0.]\n",
            " [0. 0. 0. ... 0. 0. 1.]\n",
            " ...\n",
            " [0. 0. 0. ... 0. 0. 0.]\n",
            " [0. 0. 0. ... 0. 0. 0.]\n",
            " [0. 0. 0. ... 0. 0. 0.]]\n"
          ]
        }
      ],
      "source": [
        "tg_channel = re.compile('(http[s]?:)?\\/\\/t\\.co')\n",
        "X0 = np.zeros((n, 1))\n",
        "for idx in range(len(texts)):\n",
        "  if tg_channel.search(texts[idx]) is not None:\n",
        "    X0[idx] = 1\n",
        "\n",
        "Xnew = np.hstack((X_arr,X0))\n",
        "print(Xnew)"
      ]
    },
    {
      "cell_type": "code",
      "execution_count": null,
      "metadata": {
        "colab": {
          "base_uri": "https://localhost:8080/"
        },
        "id": "wxMc9mpC00cu",
        "outputId": "fd41fd77-6de8-4ac2-85e1-092701c5382d"
      },
      "outputs": [
        {
          "output_type": "stream",
          "name": "stdout",
          "text": [
            "[[0. 0. 0. ... 0. 0. 0.]\n",
            " [0. 0. 0. ... 0. 0. 0.]\n",
            " [0. 0. 0. ... 0. 1. 0.]\n",
            " ...\n",
            " [0. 0. 0. ... 0. 0. 0.]\n",
            " [0. 0. 0. ... 0. 0. 0.]\n",
            " [0. 0. 0. ... 0. 0. 0.]]\n"
          ]
        }
      ],
      "source": [
        "X1 = np.zeros((n, 1))\n",
        "for idx in range(len(texts)):\n",
        "  doc = nlp(texts[idx].lower())\n",
        "  positive=0\n",
        "  negative=0\n",
        "  neutral=0\n",
        "  for token in doc:\n",
        "    lemma=token.lemma_\n",
        "    if lemma in positive_list:\n",
        "      positive+=1\n",
        "    if lemma in negative_list:\n",
        "      negative+=1\n",
        "    if lemma in neutral_list:\n",
        "      neutral+=1\n",
        "  emo_score = list(zip([k/len(doc) for k in [positive, negative, neutral]], [\"positive\", \"negative\", \"neutral\"]))\n",
        "  for duo in emo_score:\n",
        "    if max([i for i in emo_score]) != 0:\n",
        "      if duo[0] == max([i[0] for i in emo_score]) and duo[0] != 0:\n",
        "        if duo[1] == \"positive\":\n",
        "          X1[idx] = 1\n",
        "        elif duo[1] == \"negative\":\n",
        "          X1[idx] = 0\n",
        "        elif duo[1] == \"neutral\":\n",
        "          X1[idx] = 0.5\n",
        "    else:\n",
        "      X1[idx] = 0.5\n",
        "\n",
        "Xnew = np.hstack((Xnew,X1))\n",
        "print(Xnew)"
      ]
    },
    {
      "cell_type": "markdown",
      "metadata": {
        "id": "5NQgiJY81J6x"
      },
      "source": [
        "Пора учиться"
      ]
    },
    {
      "cell_type": "markdown",
      "metadata": {
        "id": "gxUvRxix3ypW"
      },
      "source": [
        "Логистическая регрессия с “пакетной” градиентной оптимизацей при обучении с подбором гиперпараметров с помощью перебора"
      ]
    },
    {
      "cell_type": "code",
      "execution_count": null,
      "metadata": {
        "id": "osRnPBjG1UAt"
      },
      "outputs": [],
      "source": [
        "cls = LogisticRegression(solver='liblinear', verbose=True)"
      ]
    },
    {
      "cell_type": "code",
      "execution_count": null,
      "metadata": {
        "id": "M1_Ea0hi1Wdo"
      },
      "outputs": [],
      "source": [
        "from sklearn.feature_selection import SelectPercentile, chi2\n",
        "selector = SelectPercentile(chi2, percentile=20)"
      ]
    },
    {
      "cell_type": "code",
      "execution_count": null,
      "metadata": {
        "colab": {
          "base_uri": "https://localhost:8080/"
        },
        "id": "OZfhDTkB1Z26",
        "outputId": "4df0e3be-8e03-4bd8-89a1-d1126139a8ac"
      },
      "outputs": [
        {
          "output_type": "execute_result",
          "data": {
            "text/plain": [
              "SelectPercentile(percentile=20, score_func=<function chi2 at 0x7f833fd14f80>)"
            ]
          },
          "metadata": {},
          "execution_count": 188
        }
      ],
      "source": [
        "selector.fit(Xnew, labels)"
      ]
    },
    {
      "cell_type": "code",
      "execution_count": null,
      "metadata": {
        "colab": {
          "base_uri": "https://localhost:8080/"
        },
        "id": "DV-lmhoe1gBh",
        "outputId": "f9e08a8f-c120-4192-bfac-48538af8504a"
      },
      "outputs": [
        {
          "output_type": "stream",
          "name": "stderr",
          "text": [
            "/usr/local/lib/python3.7/dist-packages/sklearn/utils/deprecation.py:87: FutureWarning: Function get_feature_names is deprecated; get_feature_names is deprecated in 1.0 and will be removed in 1.2. Please use get_feature_names_out instead.\n",
            "  warnings.warn(msg, category=FutureWarning)\n"
          ]
        }
      ],
      "source": [
        "tokens_with_IDF = list(zip(vectorizer.get_feature_names(), transformer.idf_))"
      ]
    },
    {
      "cell_type": "code",
      "execution_count": null,
      "metadata": {
        "colab": {
          "base_uri": "https://localhost:8080/"
        },
        "id": "lzVeMCi71iwm",
        "outputId": "01a51f57-2fa2-4203-a58a-49f0699674a6"
      },
      "outputs": [
        {
          "output_type": "stream",
          "name": "stdout",
          "text": [
            "3.141977 => !\n",
            "9.371474 => !&gt\n",
            "8.966008 => !»\n",
            "9.371474 => !е\n",
            "3.312350 => \"\n",
            "2.485964 => #\n",
            "9.371474 => #+41\n",
            "9.371474 => #100skfo\n",
            "9.371474 => #1042\n",
            "9.371474 => #1055;\n",
            "9.371474 => #1074;\n",
            "9.371474 => #1076\n",
            "9.371474 => #1077\n",
            "8.966008 => #1086\n",
            "9.371474 => #160\n",
            "8.678326 => #171\n",
            "8.678326 => #187\n",
            "9.371474 => #2013од\n",
            "8.966008 => #2014\n",
            "8.455183 => #3g\n",
            "8.455183 => #40\n",
            "9.371474 => #41\n",
            "7.425563 => #4g\n",
            "8.455183 => #4g+\n",
            "9.371474 => #752\n",
            "9.371474 => #8211\n",
            "9.371474 => #8220\n",
            "9.371474 => #8221\n",
            "6.886567 => #8230\n",
            "9.371474 => #97фз\n",
            "9.371474 => #apple\n",
            "9.371474 => #e586\n",
            "8.966008 => #edge\n",
            "9.371474 => #exprussia\n",
            "9.371474 => #f\n",
            "9.371474 => #gprs\n",
            "9.371474 => #gsm\n",
            "9.371474 => #gtav\n",
            "9.371474 => #hope\n",
            "8.966008 => #htc\n",
            "8.678326 => #ipad\n",
            "8.272861 => #iphone\n",
            "9.371474 => #iphone5\n",
            "9.371474 => #job\n",
            "8.966008 => #k\n",
            "9.371474 => #kazan\n",
            "8.966008 => #krsk\n",
            "8.966008 => #me\n",
            "9.371474 => #megafon\n",
            "8.966008 => #megafoн-лат\n"
          ]
        }
      ],
      "source": [
        "for feature, idf in tokens_with_IDF[0:50]: print('{0:.6f} => {1}'.format(idf, feature))"
      ]
    },
    {
      "cell_type": "code",
      "execution_count": null,
      "metadata": {
        "id": "N69o7cjX1m_p"
      },
      "outputs": [],
      "source": [
        "sorted_tokens_with_IDF = sorted(tokens_with_IDF, key=lambda it: (-it[1], it[0]))"
      ]
    },
    {
      "cell_type": "code",
      "execution_count": null,
      "metadata": {
        "colab": {
          "base_uri": "https://localhost:8080/"
        },
        "id": "L3R5kqpA1pGh",
        "outputId": "4356bd14-d655-433f-caed-755ec71741ba"
      },
      "outputs": [
        {
          "output_type": "stream",
          "name": "stdout",
          "text": [
            "9.371474 => !&gt\n",
            "9.371474 => !е\n",
            "9.371474 => #+41\n",
            "9.371474 => #100skfo\n",
            "9.371474 => #1042\n",
            "9.371474 => #1055;\n",
            "9.371474 => #1074;\n",
            "9.371474 => #1076\n",
            "9.371474 => #1077\n",
            "9.371474 => #160\n",
            "9.371474 => #2013од\n",
            "9.371474 => #41\n",
            "9.371474 => #752\n",
            "9.371474 => #8211\n",
            "9.371474 => #8220\n",
            "9.371474 => #8221\n",
            "9.371474 => #97фз\n",
            "9.371474 => #apple\n",
            "9.371474 => #e586\n",
            "9.371474 => #exprussia\n"
          ]
        }
      ],
      "source": [
        "for feature, idf in sorted_tokens_with_IDF[0:20]: print('{0:.6f} => {1}'.format(idf, feature))"
      ]
    },
    {
      "cell_type": "code",
      "execution_count": null,
      "metadata": {
        "colab": {
          "base_uri": "https://localhost:8080/"
        },
        "id": "hY1tEFoA1snK",
        "outputId": "8bb8f7e3-6c88-4abd-842b-47faa902a873"
      },
      "outputs": [
        {
          "output_type": "stream",
          "name": "stdout",
          "text": [
            "16749\n"
          ]
        }
      ],
      "source": [
        "print(len(sorted_tokens_with_IDF))"
      ]
    },
    {
      "cell_type": "code",
      "execution_count": null,
      "metadata": {
        "colab": {
          "base_uri": "https://localhost:8080/"
        },
        "id": "9X3MmXAY1-L4",
        "outputId": "b392d676-34a6-4e07-b0fc-9fb89fef4fb0"
      },
      "outputs": [
        {
          "output_type": "execute_result",
          "data": {
            "text/plain": [
              "SelectPercentile(percentile=20, score_func=<function chi2 at 0x7f833fd14f80>)"
            ]
          },
          "metadata": {},
          "execution_count": 194
        }
      ],
      "source": [
        "selector.fit(X_transformed, labels)"
      ]
    },
    {
      "cell_type": "code",
      "execution_count": null,
      "metadata": {
        "id": "ksjhGQaZ2BOf"
      },
      "outputs": [],
      "source": [
        "selected_tokens_with_IDF = [tokens_with_IDF[idx] for idx in selector.get_support(indices=True)]"
      ]
    },
    {
      "cell_type": "code",
      "execution_count": null,
      "metadata": {
        "colab": {
          "base_uri": "https://localhost:8080/"
        },
        "id": "NlzOZIMF2EqA",
        "outputId": "e31a3a3e-dd5e-494c-e82e-646f9bf89c74"
      },
      "outputs": [
        {
          "output_type": "stream",
          "name": "stdout",
          "text": [
            "3350\n"
          ]
        }
      ],
      "source": [
        "print(len(selected_tokens_with_IDF))"
      ]
    },
    {
      "cell_type": "code",
      "execution_count": null,
      "metadata": {
        "colab": {
          "base_uri": "https://localhost:8080/"
        },
        "id": "wqmTsU4r2JLt",
        "outputId": "59152b65-5a87-4972-9b07-0ac7b3d3bf1a"
      },
      "outputs": [
        {
          "output_type": "stream",
          "name": "stdout",
          "text": [
            "3.141977 => !\n",
            "2.485964 => #\n",
            "8.455183 => #4g+\n",
            "9.371474 => #8211\n",
            "8.966008 => #edge\n",
            "9.371474 => #gsm\n",
            "9.371474 => #kazan\n",
            "9.371474 => #nsk\n",
            "9.371474 => #rzn\n",
            "8.966008 => #ua\n",
            "9.371474 => #uln\n",
            "8.966008 => #ulsk\n",
            "7.985179 => #uzb\n",
            "9.371474 => #смс\n",
            "9.371474 => #ура\n",
            "8.966008 => #уф\n",
            "8.678326 => &lt;3\n",
            "4.153824 => (\n",
            "3.539591 => )\n",
            "8.966008 => *\n"
          ]
        }
      ],
      "source": [
        "for feature, idf in selected_tokens_with_IDF[0:20]: print('{0:.6f} => {1}'.format(idf, feature))"
      ]
    },
    {
      "cell_type": "code",
      "execution_count": null,
      "metadata": {
        "id": "V8RCYUmL2Kpt"
      },
      "outputs": [],
      "source": [
        "selected_and_sorted_tokens_with_IDF = sorted(selected_tokens_with_IDF, key=lambda it: (-it[1], it[0]))"
      ]
    },
    {
      "cell_type": "code",
      "execution_count": null,
      "metadata": {
        "colab": {
          "base_uri": "https://localhost:8080/"
        },
        "id": "nMdIkpzB2OVY",
        "outputId": "6448b1db-a6c4-4393-e96a-50ef5064d970"
      },
      "outputs": [
        {
          "output_type": "stream",
          "name": "stdout",
          "text": [
            "9.371474 => #8211\n",
            "9.371474 => #gsm\n",
            "9.371474 => #kazan\n",
            "9.371474 => #nsk\n",
            "9.371474 => #rzn\n",
            "9.371474 => #uln\n",
            "9.371474 => #смс\n",
            "9.371474 => #ура\n",
            "9.371474 => *_*\n",
            "9.371474 => ,вс\n",
            "9.371474 => ,есть\n",
            "9.371474 => -vip\n",
            "9.371474 => -ик\n",
            "9.371474 => -лицный\n",
            "9.371474 => -обратно\n",
            "9.371474 => -олдскулы\n",
            "9.371474 => -парка\n",
            "9.371474 => -портать\n",
            "9.371474 => -провайдер\n",
            "9.371474 => -таки\n"
          ]
        }
      ],
      "source": [
        "for feature, idf in selected_and_sorted_tokens_with_IDF[0:20]: print('{0:.6f} => {1}'.format(idf, feature))"
      ]
    },
    {
      "cell_type": "code",
      "execution_count": null,
      "metadata": {
        "id": "GJuprQPZ2Q11"
      },
      "outputs": [],
      "source": [
        "from sklearn.linear_model import LogisticRegression"
      ]
    },
    {
      "cell_type": "code",
      "execution_count": null,
      "metadata": {
        "id": "xkMQSi-e2Vtc"
      },
      "outputs": [],
      "source": [
        "cls = LogisticRegression(solver='liblinear', verbose=True)"
      ]
    },
    {
      "cell_type": "code",
      "execution_count": null,
      "metadata": {
        "id": "iDEawpJv2YpP"
      },
      "outputs": [],
      "source": [
        "X_transformed_and_selected = selector.transform(X_transformed)"
      ]
    },
    {
      "cell_type": "code",
      "execution_count": null,
      "metadata": {
        "colab": {
          "base_uri": "https://localhost:8080/"
        },
        "id": "opAFoiZ42czR",
        "outputId": "bbac538b-317a-4603-9abe-cd83a0d53556"
      },
      "outputs": [
        {
          "output_type": "stream",
          "name": "stdout",
          "text": [
            "[LibLinear]"
          ]
        },
        {
          "output_type": "execute_result",
          "data": {
            "text/plain": [
              "LogisticRegression(solver='liblinear', verbose=True)"
            ]
          },
          "metadata": {},
          "execution_count": 203
        }
      ],
      "source": [
        "cls.fit(X_transformed_and_selected, labels)"
      ]
    },
    {
      "cell_type": "code",
      "execution_count": null,
      "metadata": {
        "id": "eBSzYn6n2f75"
      },
      "outputs": [],
      "source": [
        "classes_list = list(cls.classes_)"
      ]
    },
    {
      "cell_type": "code",
      "execution_count": null,
      "metadata": {
        "colab": {
          "base_uri": "https://localhost:8080/"
        },
        "id": "Xf2EkpSt2jJh",
        "outputId": "6af05a69-b7e3-42ed-b274-ad0c5af7d306"
      },
      "outputs": [
        {
          "output_type": "stream",
          "name": "stdout",
          "text": [
            "['negative', 'neutral', 'positive']\n"
          ]
        }
      ],
      "source": [
        "print(classes_list)"
      ]
    },
    {
      "cell_type": "code",
      "execution_count": null,
      "metadata": {
        "id": "Q8L1q4vj2lfR"
      },
      "outputs": [],
      "source": [
        "texts_for_testing, labels_for_testing = load_sentirueval_2016('tkk_test_etalon.xml')"
      ]
    },
    {
      "cell_type": "code",
      "execution_count": null,
      "metadata": {
        "id": "0oWeRKKo2quw"
      },
      "outputs": [],
      "source": [
        "from sklearn.pipeline import Pipeline"
      ]
    },
    {
      "cell_type": "code",
      "execution_count": null,
      "metadata": {
        "id": "5SyLjq5L3B_Y"
      },
      "outputs": [],
      "source": [
        "pipeline_logreg_grid = Pipeline(\n",
        "    [\n",
        "        ('vectorizer', vectorizer),\n",
        "        ('tfidf', transformer),\n",
        "        ('selector', selector),\n",
        "        ('final_classifier', cls)\n",
        "    ]\n",
        ")"
      ]
    },
    {
      "cell_type": "code",
      "execution_count": null,
      "metadata": {
        "id": "BlMA05oS3C8n"
      },
      "outputs": [],
      "source": [
        "from sklearn.metrics import roc_curve\n",
        "import numpy as np"
      ]
    },
    {
      "cell_type": "code",
      "execution_count": null,
      "metadata": {
        "id": "h88JLHuJ3GXv"
      },
      "outputs": [],
      "source": [
        "probabilities_logreg_grid = pipeline_logreg_grid.predict_proba(texts_for_testing)"
      ]
    },
    {
      "cell_type": "code",
      "execution_count": null,
      "metadata": {
        "id": "r-jjJCuM3dTs"
      },
      "outputs": [],
      "source": [
        "predicted_labels_logreg_grid = pipeline_logreg_grid.predict(texts_for_testing)"
      ]
    },
    {
      "cell_type": "markdown",
      "metadata": {
        "id": "gdsKOHTZ3tFB"
      },
      "source": [
        "Логистическая регрессия со стохастической градиентной оптимизацей при обучении с подбором гиперпараметров с помощью перебора"
      ]
    },
    {
      "cell_type": "code",
      "execution_count": null,
      "metadata": {
        "id": "sB0PFHab4E6u"
      },
      "outputs": [],
      "source": [
        "from sklearn.linear_model import SGDClassifier"
      ]
    },
    {
      "cell_type": "code",
      "execution_count": null,
      "metadata": {
        "id": "ZQoW4mUE4K1T"
      },
      "outputs": [],
      "source": [
        "grid_sgd = GridSearchCV(\n",
        "    estimator=SGDClassifier(loss='log'),\n",
        "    param_grid={'alpha': [1e-4,1e-3,1e-2, 1e-1], 'penalty': ['l1', 'l2']},\n",
        "    scoring=f1_macro_scorer,\n",
        "    n_jobs=-1\n",
        ")"
      ]
    },
    {
      "cell_type": "code",
      "execution_count": null,
      "metadata": {
        "id": "bxrkkEvZ4Nm1"
      },
      "outputs": [],
      "source": [
        "from time import time"
      ]
    },
    {
      "cell_type": "code",
      "execution_count": null,
      "metadata": {
        "id": "CcmgXZTK4RLL"
      },
      "outputs": [],
      "source": [
        "before=time()\n",
        "grid_sgd.fit(X_transformed_and_selected, labels)\n",
        "time_passed_grid_2=time()-before"
      ]
    },
    {
      "cell_type": "code",
      "execution_count": null,
      "metadata": {
        "colab": {
          "base_uri": "https://localhost:8080/"
        },
        "id": "XerqGOz24TC6",
        "outputId": "97cd62fd-9951-4136-83ad-71e0a7e2408d"
      },
      "outputs": [
        {
          "output_type": "execute_result",
          "data": {
            "text/plain": [
              "{'alpha': 0.0001, 'penalty': 'l2'}"
            ]
          },
          "metadata": {},
          "execution_count": 217
        }
      ],
      "source": [
        "grid_sgd.best_params_"
      ]
    },
    {
      "cell_type": "code",
      "execution_count": null,
      "metadata": {
        "id": "HfmXaGar4Xee"
      },
      "outputs": [],
      "source": [
        "cls_sgd_grid = SGDClassifier(loss='log', alpha= 0.0001, penalty= 'l1')\n",
        "before=time()\n",
        "cls_sgd_grid.fit(X_transformed_and_selected, labels)\n",
        "time_passed_sgd_1=time()-before"
      ]
    },
    {
      "cell_type": "code",
      "execution_count": null,
      "metadata": {
        "id": "CGP7zJpB4eKV"
      },
      "outputs": [],
      "source": [
        "pipeline_sgd_grid = Pipeline(\n",
        "    [\n",
        "        ('vectorizer', vectorizer),\n",
        "        ('tfidf', transformer),\n",
        "        ('selector', selector),\n",
        "        ('final_classifier', cls_sgd_grid)\n",
        "    ]\n",
        ")"
      ]
    },
    {
      "cell_type": "code",
      "execution_count": null,
      "metadata": {
        "id": "wEvTcj374hPz"
      },
      "outputs": [],
      "source": [
        "probabilities_sgd_grid = pipeline_sgd_grid.predict_proba(texts_for_testing)"
      ]
    },
    {
      "cell_type": "code",
      "execution_count": null,
      "metadata": {
        "id": "87dm0gvo5Ney"
      },
      "outputs": [],
      "source": [
        "predicted_labels_sgd_grid = pipeline_sgd_grid.predict(texts_for_testing)"
      ]
    },
    {
      "cell_type": "markdown",
      "metadata": {
        "id": "qDyW2xYR5P4p"
      },
      "source": [
        "Логистическая регрессия с “пакетной” градиентной оптимизацей при обучении с подбором гиперпараметров с помощью Байесовской оптимизации\n"
      ]
    },
    {
      "cell_type": "code",
      "execution_count": null,
      "metadata": {
        "colab": {
          "base_uri": "https://localhost:8080/"
        },
        "id": "BVJMxcic5S5p",
        "outputId": "12544dfc-8132-4b2f-cc4d-bf1a4f5c501a"
      },
      "outputs": [
        {
          "output_type": "stream",
          "name": "stdout",
          "text": [
            "Looking in indexes: https://pypi.org/simple, https://us-python.pkg.dev/colab-wheels/public/simple/\n",
            "Collecting scikit-optimize\n",
            "  Downloading scikit_optimize-0.9.0-py2.py3-none-any.whl (100 kB)\n",
            "\u001b[K     |████████████████████████████████| 100 kB 3.5 MB/s \n",
            "\u001b[?25hRequirement already satisfied: scikit-learn>=0.20.0 in /usr/local/lib/python3.7/dist-packages (from scikit-optimize) (1.0.2)\n",
            "Collecting pyaml>=16.9\n",
            "  Downloading pyaml-21.10.1-py2.py3-none-any.whl (24 kB)\n",
            "Requirement already satisfied: joblib>=0.11 in /usr/local/lib/python3.7/dist-packages (from scikit-optimize) (1.2.0)\n",
            "Requirement already satisfied: scipy>=0.19.1 in /usr/local/lib/python3.7/dist-packages (from scikit-optimize) (1.7.3)\n",
            "Requirement already satisfied: numpy>=1.13.3 in /usr/local/lib/python3.7/dist-packages (from scikit-optimize) (1.21.6)\n",
            "Requirement already satisfied: PyYAML in /usr/local/lib/python3.7/dist-packages (from pyaml>=16.9->scikit-optimize) (6.0)\n",
            "Requirement already satisfied: threadpoolctl>=2.0.0 in /usr/local/lib/python3.7/dist-packages (from scikit-learn>=0.20.0->scikit-optimize) (3.1.0)\n",
            "Installing collected packages: pyaml, scikit-optimize\n",
            "Successfully installed pyaml-21.10.1 scikit-optimize-0.9.0\n"
          ]
        }
      ],
      "source": [
        "pip install scikit-optimize"
      ]
    },
    {
      "cell_type": "code",
      "execution_count": null,
      "metadata": {
        "id": "RZ1bVKyR5i68"
      },
      "outputs": [],
      "source": [
        "from skopt import BayesSearchCV"
      ]
    },
    {
      "cell_type": "code",
      "execution_count": null,
      "metadata": {
        "id": "OMJZSeGv5mKD"
      },
      "outputs": [],
      "source": [
        "bayes_logreg = BayesSearchCV(LogisticRegression(solver='liblinear'),\n",
        "{\n",
        "'C': [1e-2, 1e-1, 1, 1e+1, 1e+2, 1e+3],'penalty': ['l1', 'l2']},\n",
        "n_iter=32,\n",
        "random_state=0,\n",
        "n_jobs=-1)"
      ]
    },
    {
      "cell_type": "code",
      "execution_count": null,
      "metadata": {
        "colab": {
          "base_uri": "https://localhost:8080/"
        },
        "id": "9Qhq1D995o8w",
        "outputId": "51718fcd-3339-46eb-9520-93ee3b626767"
      },
      "outputs": [
        {
          "output_type": "stream",
          "name": "stderr",
          "text": [
            "/usr/local/lib/python3.7/dist-packages/skopt/optimizer/optimizer.py:449: UserWarning: The objective has been evaluated at this point before.\n",
            "  warnings.warn(\"The objective has been evaluated \"\n",
            "/usr/local/lib/python3.7/dist-packages/skopt/optimizer/optimizer.py:449: UserWarning: The objective has been evaluated at this point before.\n",
            "  warnings.warn(\"The objective has been evaluated \"\n",
            "/usr/local/lib/python3.7/dist-packages/skopt/optimizer/optimizer.py:449: UserWarning: The objective has been evaluated at this point before.\n",
            "  warnings.warn(\"The objective has been evaluated \"\n",
            "/usr/local/lib/python3.7/dist-packages/skopt/optimizer/optimizer.py:449: UserWarning: The objective has been evaluated at this point before.\n",
            "  warnings.warn(\"The objective has been evaluated \"\n",
            "/usr/local/lib/python3.7/dist-packages/skopt/optimizer/optimizer.py:449: UserWarning: The objective has been evaluated at this point before.\n",
            "  warnings.warn(\"The objective has been evaluated \"\n",
            "/usr/local/lib/python3.7/dist-packages/skopt/optimizer/optimizer.py:449: UserWarning: The objective has been evaluated at this point before.\n",
            "  warnings.warn(\"The objective has been evaluated \"\n",
            "/usr/local/lib/python3.7/dist-packages/skopt/optimizer/optimizer.py:449: UserWarning: The objective has been evaluated at this point before.\n",
            "  warnings.warn(\"The objective has been evaluated \"\n",
            "/usr/local/lib/python3.7/dist-packages/skopt/optimizer/optimizer.py:449: UserWarning: The objective has been evaluated at this point before.\n",
            "  warnings.warn(\"The objective has been evaluated \"\n",
            "/usr/local/lib/python3.7/dist-packages/skopt/optimizer/optimizer.py:449: UserWarning: The objective has been evaluated at this point before.\n",
            "  warnings.warn(\"The objective has been evaluated \"\n",
            "/usr/local/lib/python3.7/dist-packages/skopt/optimizer/optimizer.py:449: UserWarning: The objective has been evaluated at this point before.\n",
            "  warnings.warn(\"The objective has been evaluated \"\n",
            "/usr/local/lib/python3.7/dist-packages/skopt/optimizer/optimizer.py:449: UserWarning: The objective has been evaluated at this point before.\n",
            "  warnings.warn(\"The objective has been evaluated \"\n",
            "/usr/local/lib/python3.7/dist-packages/skopt/optimizer/optimizer.py:449: UserWarning: The objective has been evaluated at this point before.\n",
            "  warnings.warn(\"The objective has been evaluated \"\n",
            "/usr/local/lib/python3.7/dist-packages/skopt/optimizer/optimizer.py:449: UserWarning: The objective has been evaluated at this point before.\n",
            "  warnings.warn(\"The objective has been evaluated \"\n",
            "/usr/local/lib/python3.7/dist-packages/skopt/optimizer/optimizer.py:449: UserWarning: The objective has been evaluated at this point before.\n",
            "  warnings.warn(\"The objective has been evaluated \"\n",
            "/usr/local/lib/python3.7/dist-packages/skopt/optimizer/optimizer.py:449: UserWarning: The objective has been evaluated at this point before.\n",
            "  warnings.warn(\"The objective has been evaluated \"\n",
            "/usr/local/lib/python3.7/dist-packages/skopt/optimizer/optimizer.py:449: UserWarning: The objective has been evaluated at this point before.\n",
            "  warnings.warn(\"The objective has been evaluated \"\n",
            "/usr/local/lib/python3.7/dist-packages/skopt/optimizer/optimizer.py:449: UserWarning: The objective has been evaluated at this point before.\n",
            "  warnings.warn(\"The objective has been evaluated \"\n",
            "/usr/local/lib/python3.7/dist-packages/skopt/optimizer/optimizer.py:449: UserWarning: The objective has been evaluated at this point before.\n",
            "  warnings.warn(\"The objective has been evaluated \"\n"
          ]
        }
      ],
      "source": [
        "before=time()\n",
        "bayes_logreg.fit(X_transformed_and_selected, labels)\n",
        "time_passed_bayes_1=time()-before"
      ]
    },
    {
      "cell_type": "code",
      "execution_count": null,
      "metadata": {
        "colab": {
          "base_uri": "https://localhost:8080/"
        },
        "id": "6hVvrTUw5r0S",
        "outputId": "b7c49538-1caa-47c3-c176-2046ce406ecc"
      },
      "outputs": [
        {
          "output_type": "execute_result",
          "data": {
            "text/plain": [
              "OrderedDict([('C', 100.0), ('penalty', 'l2')])"
            ]
          },
          "metadata": {},
          "execution_count": 226
        }
      ],
      "source": [
        "bayes_logreg.best_params_"
      ]
    },
    {
      "cell_type": "code",
      "execution_count": null,
      "metadata": {
        "colab": {
          "base_uri": "https://localhost:8080/"
        },
        "id": "erdEdElu5uNR",
        "outputId": "de8d2719-2984-4862-9e2a-5420aa837185"
      },
      "outputs": [
        {
          "output_type": "stream",
          "name": "stdout",
          "text": [
            "[LibLinear]"
          ]
        }
      ],
      "source": [
        "cls_logreg_bayes = LogisticRegression(solver='liblinear', verbose=True, C= 100, penalty= 'l2')\n",
        "before=time()\n",
        "cls_logreg_bayes.fit(X_transformed_and_selected, labels)\n",
        "time_passed_logreg_2=time()-before"
      ]
    },
    {
      "cell_type": "code",
      "execution_count": null,
      "metadata": {
        "id": "8evKi6Oo5vCb"
      },
      "outputs": [],
      "source": [
        "pipeline_logreg_bayes = Pipeline(\n",
        "    [\n",
        "        ('vectorizer', vectorizer),\n",
        "        ('tfidf', transformer),\n",
        "        ('selector', selector),\n",
        "        ('final_classifier', cls_logreg_bayes)\n",
        "    ]\n",
        ")"
      ]
    },
    {
      "cell_type": "code",
      "execution_count": null,
      "metadata": {
        "id": "f-orG78x56pb"
      },
      "outputs": [],
      "source": [
        "probabilities_logreg_bayes = pipeline_logreg_bayes.predict_proba(texts_for_testing)"
      ]
    },
    {
      "cell_type": "code",
      "execution_count": null,
      "metadata": {
        "id": "2Q_6lDL659W1"
      },
      "outputs": [],
      "source": [
        "predicted_labels_logreg_bayes=pipeline_logreg_bayes.predict(texts_for_testing)"
      ]
    },
    {
      "cell_type": "markdown",
      "metadata": {
        "id": "q0FYLZvc6taZ"
      },
      "source": [
        "Логистическая регрессия со стохастической градиентной оптимизацей при обучении с подбором гиперпараметров с помощью Байесовской оптимизации\n"
      ]
    },
    {
      "cell_type": "code",
      "execution_count": null,
      "metadata": {
        "id": "INk5C0z96wee"
      },
      "outputs": [],
      "source": [
        "bayes_sgd = BayesSearchCV(SGDClassifier(loss='log'),\n",
        "{\n",
        "'alpha': [1e-4,1e-3,1e-2, 1e-1],'penalty': ['l1', 'l2']},\n",
        "n_iter=32,\n",
        "random_state=0,\n",
        "n_jobs=-1)"
      ]
    },
    {
      "cell_type": "code",
      "execution_count": null,
      "metadata": {
        "colab": {
          "base_uri": "https://localhost:8080/"
        },
        "id": "wXMrv-b161lY",
        "outputId": "c3f82a37-f259-4c42-8c0a-a057f58aa621"
      },
      "outputs": [
        {
          "output_type": "stream",
          "name": "stderr",
          "text": [
            "/usr/local/lib/python3.7/dist-packages/skopt/optimizer/optimizer.py:449: UserWarning: The objective has been evaluated at this point before.\n",
            "  warnings.warn(\"The objective has been evaluated \"\n",
            "/usr/local/lib/python3.7/dist-packages/skopt/optimizer/optimizer.py:449: UserWarning: The objective has been evaluated at this point before.\n",
            "  warnings.warn(\"The objective has been evaluated \"\n",
            "/usr/local/lib/python3.7/dist-packages/skopt/optimizer/optimizer.py:449: UserWarning: The objective has been evaluated at this point before.\n",
            "  warnings.warn(\"The objective has been evaluated \"\n",
            "/usr/local/lib/python3.7/dist-packages/skopt/optimizer/optimizer.py:449: UserWarning: The objective has been evaluated at this point before.\n",
            "  warnings.warn(\"The objective has been evaluated \"\n",
            "/usr/local/lib/python3.7/dist-packages/skopt/optimizer/optimizer.py:449: UserWarning: The objective has been evaluated at this point before.\n",
            "  warnings.warn(\"The objective has been evaluated \"\n",
            "/usr/local/lib/python3.7/dist-packages/skopt/optimizer/optimizer.py:449: UserWarning: The objective has been evaluated at this point before.\n",
            "  warnings.warn(\"The objective has been evaluated \"\n",
            "/usr/local/lib/python3.7/dist-packages/skopt/optimizer/optimizer.py:449: UserWarning: The objective has been evaluated at this point before.\n",
            "  warnings.warn(\"The objective has been evaluated \"\n",
            "/usr/local/lib/python3.7/dist-packages/skopt/optimizer/optimizer.py:449: UserWarning: The objective has been evaluated at this point before.\n",
            "  warnings.warn(\"The objective has been evaluated \"\n",
            "/usr/local/lib/python3.7/dist-packages/skopt/optimizer/optimizer.py:449: UserWarning: The objective has been evaluated at this point before.\n",
            "  warnings.warn(\"The objective has been evaluated \"\n",
            "/usr/local/lib/python3.7/dist-packages/skopt/optimizer/optimizer.py:449: UserWarning: The objective has been evaluated at this point before.\n",
            "  warnings.warn(\"The objective has been evaluated \"\n",
            "/usr/local/lib/python3.7/dist-packages/skopt/optimizer/optimizer.py:449: UserWarning: The objective has been evaluated at this point before.\n",
            "  warnings.warn(\"The objective has been evaluated \"\n",
            "/usr/local/lib/python3.7/dist-packages/skopt/optimizer/optimizer.py:449: UserWarning: The objective has been evaluated at this point before.\n",
            "  warnings.warn(\"The objective has been evaluated \"\n",
            "/usr/local/lib/python3.7/dist-packages/skopt/optimizer/optimizer.py:449: UserWarning: The objective has been evaluated at this point before.\n",
            "  warnings.warn(\"The objective has been evaluated \"\n",
            "/usr/local/lib/python3.7/dist-packages/skopt/optimizer/optimizer.py:449: UserWarning: The objective has been evaluated at this point before.\n",
            "  warnings.warn(\"The objective has been evaluated \"\n",
            "/usr/local/lib/python3.7/dist-packages/skopt/optimizer/optimizer.py:449: UserWarning: The objective has been evaluated at this point before.\n",
            "  warnings.warn(\"The objective has been evaluated \"\n",
            "/usr/local/lib/python3.7/dist-packages/skopt/optimizer/optimizer.py:449: UserWarning: The objective has been evaluated at this point before.\n",
            "  warnings.warn(\"The objective has been evaluated \"\n",
            "/usr/local/lib/python3.7/dist-packages/skopt/optimizer/optimizer.py:449: UserWarning: The objective has been evaluated at this point before.\n",
            "  warnings.warn(\"The objective has been evaluated \"\n",
            "/usr/local/lib/python3.7/dist-packages/skopt/optimizer/optimizer.py:449: UserWarning: The objective has been evaluated at this point before.\n",
            "  warnings.warn(\"The objective has been evaluated \"\n",
            "/usr/local/lib/python3.7/dist-packages/skopt/optimizer/optimizer.py:449: UserWarning: The objective has been evaluated at this point before.\n",
            "  warnings.warn(\"The objective has been evaluated \"\n",
            "/usr/local/lib/python3.7/dist-packages/skopt/optimizer/optimizer.py:449: UserWarning: The objective has been evaluated at this point before.\n",
            "  warnings.warn(\"The objective has been evaluated \"\n"
          ]
        }
      ],
      "source": [
        "before=time()\n",
        "bayes_sgd.fit(X_transformed_and_selected,labels)\n",
        "time_passed_bayes_2=time()-before"
      ]
    },
    {
      "cell_type": "code",
      "execution_count": null,
      "metadata": {
        "colab": {
          "base_uri": "https://localhost:8080/"
        },
        "id": "HIycl5O464JH",
        "outputId": "dd0a51e6-9a61-4a30-9839-80808ce7a9db"
      },
      "outputs": [
        {
          "output_type": "execute_result",
          "data": {
            "text/plain": [
              "OrderedDict([('alpha', 0.0001), ('penalty', 'l2')])"
            ]
          },
          "metadata": {},
          "execution_count": 233
        }
      ],
      "source": [
        "bayes_sgd.best_params_"
      ]
    },
    {
      "cell_type": "code",
      "execution_count": null,
      "metadata": {
        "id": "1OVCHeOx66f2"
      },
      "outputs": [],
      "source": [
        "cls_sgd_bayes = SGDClassifier(loss='log', alpha=0.0001, penalty= 'l1')\n",
        "before=time()\n",
        "cls_sgd_bayes.fit(X_transformed_and_selected, labels)\n",
        "time_passed_sgd_2=time()-before"
      ]
    },
    {
      "cell_type": "code",
      "execution_count": null,
      "metadata": {
        "id": "qJNFHD9g684T"
      },
      "outputs": [],
      "source": [
        "pipeline_sgd_bayes = Pipeline(\n",
        "    [\n",
        "        ('vectorizer', vectorizer),\n",
        "        ('tfidf', transformer),\n",
        "        ('selector', selector),\n",
        "        ('final_classifier', cls_sgd_bayes)\n",
        "    ]\n",
        ")"
      ]
    },
    {
      "cell_type": "code",
      "execution_count": null,
      "metadata": {
        "id": "2pIej6sp7Fvx"
      },
      "outputs": [],
      "source": [
        "probabilities_sgd_bayes = pipeline_sgd_bayes.predict_proba(texts_for_testing)"
      ]
    },
    {
      "cell_type": "code",
      "execution_count": null,
      "metadata": {
        "id": "xVgsCGXz7H2b"
      },
      "outputs": [],
      "source": [
        "predicted_labels_sgd_bayes=pipeline_sgd_bayes.predict(texts_for_testing)"
      ]
    },
    {
      "cell_type": "markdown",
      "metadata": {
        "id": "ScxFtoIs7VUe"
      },
      "source": [
        "Сравним все 4 кривые"
      ]
    },
    {
      "cell_type": "code",
      "execution_count": null,
      "metadata": {
        "id": "EpjSvc4q72g8"
      },
      "outputs": [],
      "source": [
        "from sklearn.metrics import roc_curve"
      ]
    },
    {
      "cell_type": "code",
      "execution_count": null,
      "metadata": {
        "id": "XQUiI-H68DGN"
      },
      "outputs": [],
      "source": [
        "def build_roc_curve(probabilities,classifier:str,parameter_search:str):\n",
        "  y_true_positives = list(map(lambda it: 1 if it == 'positive' else 0, labels_for_testing))\n",
        "  y_score_positives = probabilities[:, classes_list.index('positive')]\n",
        "  fpr_positives, tpr_positives, _, = roc_curve(y_true_positives, y_score_positives)\n",
        "  y_true_negatives = list(map(lambda it: 1 if it == 'negative' else 0, labels_for_testing))\n",
        "  y_score_negatives = probabilities[:, classes_list.index('negative')]\n",
        "  fpr_negatives, tpr_negatives, _, = roc_curve(y_true_negatives, y_score_negatives)\n",
        "  y_true_neutrals = list(map(lambda it: 1 if it == 'neutral' else 0, labels_for_testing))\n",
        "  y_score_neutrals = probabilities[:, classes_list.index('neutral')]\n",
        "  fpr_neutrals, tpr_neutrals, _, = roc_curve(y_true_neutrals, y_score_neutrals)\n",
        "  plt.plot([0, 1], [0, 1], 'k--')\n",
        "  plt.plot(fpr_positives, tpr_positives, label='Positive Sentiment')\n",
        "  plt.plot(fpr_negatives, tpr_negatives, label='Negative Sentiment')\n",
        "  plt.plot(fpr_neutrals, tpr_neutrals, label='Neutral Sentiment')\n",
        "  plt.xlabel('False positive rate')\n",
        "  plt.ylabel('True positive rate')\n",
        "  plt.title(f'ROC curve for {classifier}, parameter search with {parameter_search} ')\n",
        "  plt.legend(loc='best')"
      ]
    },
    {
      "cell_type": "code",
      "execution_count": null,
      "metadata": {
        "colab": {
          "base_uri": "https://localhost:8080/",
          "height": 1000
        },
        "id": "K3yRZxWb7Y5m",
        "outputId": "09321907-408b-4645-9ca2-49c4798fcf3a"
      },
      "outputs": [
        {
          "output_type": "display_data",
          "data": {
            "text/plain": [
              "<Figure size 432x288 with 1 Axes>"
            ],
            "image/png": "[encoded data removed]"
          },
          "metadata": {
            "needs_background": "light"
          }
        },
        {
          "output_type": "display_data",
          "data": {
            "text/plain": [
              "<Figure size 432x288 with 1 Axes>"
            ],
            "image/png": "[encoded data removed]"
          },
          "metadata": {
            "needs_background": "light"
          }
        },
        {
          "output_type": "display_data",
          "data": {
            "text/plain": [
              "<Figure size 432x288 with 1 Axes>"
            ],
            "image/png": "[encoded data removed]"
          },
          "metadata": {
            "needs_background": "light"
          }
        },
        {
          "output_type": "display_data",
          "data": {
            "text/plain": [
              "<Figure size 432x288 with 1 Axes>"
            ],
            "image/png": "[encoded data removed]"
          },
          "metadata": {
            "needs_background": "light"
          }
        }
      ],
      "source": [
        "plt.figure(1)\n",
        "build_roc_curve(probabilities_logreg_grid,'Logistic regression','Grid search')\n",
        "plt.figure(2)\n",
        "plt.subplot=build_roc_curve(probabilities_sgd_grid,'SGDC','Grid search')\n",
        "plt.figure(3)\n",
        "plt.subplot=build_roc_curve(probabilities_logreg_bayes,'Logistic regression','Bayes')\n",
        "plt.figure(4)\n",
        "plt.subplot=build_roc_curve(probabilities_sgd_bayes,'SGDC','Bayes')\n",
        "plt.show()"
      ]
    },
    {
      "cell_type": "code",
      "execution_count": null,
      "metadata": {
        "colab": {
          "base_uri": "https://localhost:8080/",
          "height": 295
        },
        "id": "CJ6HwBuo9nuI",
        "outputId": "cac00a84-9bb1-40de-d0bf-d3d1d1b73238"
      },
      "outputs": [
        {
          "output_type": "display_data",
          "data": {
            "text/plain": [
              "<Figure size 432x288 with 1 Axes>"
            ],
            "image/png": "[encoded data removed]"
          },
          "metadata": {
            "needs_background": "light"
          }
        }
      ],
      "source": [
        "build_roc_curve(probabilities_logreg_grid,'Logistic regression','Grid search')\n",
        "plt.subplot=build_roc_curve(probabilities_sgd_grid,'SGDC','Grid search')\n",
        "plt.subplot=build_roc_curve(probabilities_logreg_bayes,'Logistic regression','Bayes')\n",
        "plt.subplot=build_roc_curve(probabilities_sgd_bayes,'SGDC','Bayes')\n",
        "plt.show()"
      ]
    },
    {
      "cell_type": "markdown",
      "metadata": {
        "id": "wjksf1XZ9vW1"
      },
      "source": [
        "Как видим, ROC-кривые почти полностью накладываются друг на друга, то есть результаты работы разных алгоритмов довольно близки."
      ]
    },
    {
      "cell_type": "markdown",
      "metadata": {
        "id": "GINqhrMv-uZi"
      },
      "source": [
        "Сравним метрики (F1-micro и F1-macro) для всех четырёх случаев"
      ]
    },
    {
      "cell_type": "code",
      "execution_count": null,
      "metadata": {
        "id": "wd3iFBQ--v3C"
      },
      "outputs": [],
      "source": [
        "from tabulate import tabulate"
      ]
    },
    {
      "cell_type": "code",
      "execution_count": null,
      "metadata": {
        "id": "cMy3r7AI_Kuf"
      },
      "outputs": [],
      "source": [
        "from sklearn.metrics import precision_score, recall_score\n",
        "from sklearn.metrics import confusion_matrix"
      ]
    },
    {
      "cell_type": "code",
      "execution_count": null,
      "metadata": {
        "id": "U-LyIwgy_ij0"
      },
      "outputs": [],
      "source": [
        "def recall(tp:int,fn:int) ->int:\n",
        "  return tp/(tp+fn)\n",
        "def precision(tp:int,fp:int) ->int:\n",
        "  return tp/(tp+fp)\n",
        "def f1(precision:int,recall:int) ->int:\n",
        "  return 2*precision*recall/(precision+recall)"
      ]
    },
    {
      "cell_type": "code",
      "execution_count": null,
      "metadata": {
        "id": "Sv1PVqFD_CPV"
      },
      "outputs": [],
      "source": [
        "def count_metrics(labels_for_testing, predicted_labels:List[str]) -> Tuple[int,int]:\n",
        "  cm=confusion_matrix(labels_for_testing, predicted_labels)\n",
        "  negative_tp=cm[0][0]\n",
        "  negative_fn=cm[0][1]+cm[0][2]\n",
        "  negative_fp=cm[1][0]+cm[2][0]\n",
        "  negative_recall=recall(negative_tp,negative_fn)\n",
        "  negative_precision=precision(negative_tp,negative_fp)\n",
        "  negative_f1=f1(negative_precision,negative_recall)\n",
        "  negative_recall,negative_precision,negative_f1\n",
        "  positive_tp=cm[2][2]\n",
        "  positive_fn=cm[2][0]+cm[2][1]\n",
        "  positive_fp=cm[0][2]+cm[1][2]\n",
        "  positive_recall=recall(positive_tp,positive_fn)\n",
        "  positive_precision=precision(positive_tp,positive_fp)\n",
        "  positive_f1=f1(positive_precision,positive_recall)\n",
        "  positive_recall,positive_precision,positive_f1\n",
        "  f1_macro=(positive_f1+negative_f1)/2\n",
        "  precision_micro=precision(negative_tp+positive_tp,negative_fp+positive_fp)\n",
        "  recall_micro=recall(negative_tp+positive_tp,negative_fn+positive_fn)\n",
        "  f1_micro=f1(precision_micro,recall_micro)\n",
        "  return round(f1_macro,3), round(f1_micro,3)"
      ]
    },
    {
      "cell_type": "code",
      "execution_count": null,
      "metadata": {
        "colab": {
          "base_uri": "https://localhost:8080/"
        },
        "id": "N5sb0R9d-ylA",
        "outputId": "5eb107c1-6759-4ef7-a422-b9fbe5104302"
      },
      "outputs": [
        {
          "output_type": "stream",
          "name": "stdout",
          "text": [
            "Classifier           Parameter Search    ('F1-macro', 'F1-micro')\n",
            "-------------------  ------------------  --------------------------\n",
            "logistic regression  grid_search         (0.461, 0.636)\n",
            "SGDC                 grid_search         (0.484, 0.631)\n",
            "logistic regression  Bayes               (0.499, 0.638)\n",
            "SGDC                 Bayes               (0.494, 0.638)\n"
          ]
        }
      ],
      "source": [
        "print(tabulate([\n",
        "    ['logistic regression','grid_search',count_metrics(labels_for_testing,predicted_labels_logreg_grid)],\n",
        "    ['SGDC','grid_search',count_metrics(labels_for_testing,predicted_labels_sgd_grid)],\n",
        "    ['logistic regression','Bayes',count_metrics(labels_for_testing,predicted_labels_logreg_bayes)],\n",
        "    ['SGDC','Bayes',count_metrics(labels_for_testing,predicted_labels_sgd_bayes)]],\n",
        "    headers= ['Classifier','Parameter Search',('F1-macro','F1-micro')]))"
      ]
    },
    {
      "cell_type": "markdown",
      "metadata": {
        "id": "1cw7aDbT_2yW"
      },
      "source": [
        "Метрики говорят, что эффективнее всего работает пакетная реализация оптимизации при обучении в сочетании с подбором параметров с помощью Байесовской оптимизации. F1-micro во всех случаях оказалась выше, чем F1-macro. Для того, чтобы понять почему, сформируем classification report для результатов одного из алгоритмов, например, того,для которого эта разница наиболее заметна (SGDClassifier + BayesSearchSV)."
      ]
    },
    {
      "cell_type": "code",
      "execution_count": null,
      "metadata": {
        "id": "TZb6JTW9Apzz"
      },
      "outputs": [],
      "source": [
        "from sklearn.metrics import classification_report"
      ]
    },
    {
      "cell_type": "code",
      "execution_count": null,
      "metadata": {
        "colab": {
          "base_uri": "https://localhost:8080/"
        },
        "id": "N9YPCr6gAsqk",
        "outputId": "55d2a854-88c8-4f84-8767-191e0b0788b6"
      },
      "outputs": [
        {
          "output_type": "stream",
          "name": "stdout",
          "text": [
            "              precision    recall  f1-score   support\n",
            "\n",
            "    negative       0.69      0.68      0.69      1034\n",
            "     neutral       0.65      0.73      0.69      1012\n",
            "    positive       0.49      0.22      0.30       201\n",
            "\n",
            "    accuracy                           0.66      2247\n",
            "   macro avg       0.61      0.54      0.56      2247\n",
            "weighted avg       0.65      0.66      0.65      2247\n",
            "\n"
          ]
        }
      ],
      "source": [
        "print(classification_report (labels_for_testing, predicted_labels_sgd_bayes))"
      ]
    },
    {
      "cell_type": "markdown",
      "metadata": {
        "id": "z-t3fXdGA-Mz"
      },
      "source": [
        "Итак, выводы:\n",
        "1. Для определения тональности можно и нужно использовать готовые словари оценочной лексики\n",
        "2. Пакетная реализация оптимизации при обучении в сочетании с подюором параметров с помощью Байесовской оптимизации дает лучший результат. \n",
        "3. Положительных твитов в 2,5 раза меньше, чем отрицательных. Положительные твиты классифицируются хуже (возможно,опять же, из-за ассиметрии классов, на что указывает низкая полнота), поэтому F1 для них ниже."
      ]
    }
  ],
  "metadata": {
    "colab": {
      "provenance": []
    },
    "kernelspec": {
      "display_name": "Python 3",
      "name": "python3"
    },
    "language_info": {
      "name": "python"
    }
  },
  "nbformat": 4,
  "nbformat_minor": 0
}