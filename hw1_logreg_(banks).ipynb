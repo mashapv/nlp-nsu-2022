{
  "nbformat": 4,
  "nbformat_minor": 0,
  "metadata": {
    "colab": {
      "provenance": []
    },
    "kernelspec": {
      "name": "python3",
      "display_name": "Python 3"
    },
    "language_info": {
      "name": "python"
    }
  },
  "cells": [
    {
      "cell_type": "code",
      "execution_count": null,
      "metadata": {
        "id": "0OX3_uKINjq7"
      },
      "outputs": [],
      "source": [
        "from lxml import etree"
      ]
    },
    {
      "cell_type": "code",
      "source": [
        "from typing import List, Tuple"
      ],
      "metadata": {
        "id": "kFztWvFMOXVc"
      },
      "execution_count": null,
      "outputs": []
    },
    {
      "cell_type": "code",
      "source": [
        "def load_sentirueval_2016(file_name: str) -> Tuple[List[str], List[str]]:\n",
        "    texts = []\n",
        "    labels = []\n",
        "    with open(file_name, mode='rb') as fp:\n",
        "        xml_data = fp.read()\n",
        "    root = etree.fromstring(xml_data)\n",
        "    for database in root.getchildren():\n",
        "        if database.tag == 'database':\n",
        "            for table in database.getchildren():\n",
        "                if table.tag != 'table':\n",
        "                    continue\n",
        "                new_text = None\n",
        "                new_label = None\n",
        "                for column in table.getchildren():\n",
        "                    if column.get('name') == 'text':\n",
        "                        new_text = str(column.text).strip()\n",
        "                        if new_label is not None:\n",
        "                            break\n",
        "                    elif column.get('name') not in {'id', 'twitid', 'date'}:\n",
        "                        if new_label is None:\n",
        "                            label_candidate = str(column.text).strip()\n",
        "                            if label_candidate in {'0', '1', '-1'}:\n",
        "                                new_label = 'negative' if label_candidate == '-1' else \\\n",
        "                                    ('positive' if label_candidate == '1' else 'neutral')\n",
        "                                if new_text is not None:\n",
        "                                    break\n",
        "                if (new_text is None) or (new_label is None):\n",
        "                    raise ValueError('File `{0}` contains some error!'.format(file_name))\n",
        "                texts.append(new_text)\n",
        "                labels.append(new_label)\n",
        "            break\n",
        "    return texts, labels"
      ],
      "metadata": {
        "id": "jXVPEYy_OZRJ"
      },
      "execution_count": null,
      "outputs": []
    },
    {
      "cell_type": "code",
      "source": [
        "texts, labels = load_sentirueval_2016('bank_train_2016.xml')"
      ],
      "metadata": {
        "id": "JjSX8sw2OcIn"
      },
      "execution_count": null,
      "outputs": []
    },
    {
      "cell_type": "code",
      "source": [
        "print('Number of texts is {0}, number of labels is {1}.'.format(len(texts), len(labels)))"
      ],
      "metadata": {
        "colab": {
          "base_uri": "https://localhost:8080/"
        },
        "id": "3v_QjQNQOebJ",
        "outputId": "838821ff-b5dc-4f45-9339-5902e68759b4"
      },
      "execution_count": null,
      "outputs": [
        {
          "output_type": "stream",
          "name": "stdout",
          "text": [
            "Number of texts is 9392, number of labels is 9392.\n"
          ]
        }
      ]
    },
    {
      "cell_type": "markdown",
      "source": [
        "Не спешите закрывать, всё самое интересное в конце после вашго кода"
      ],
      "metadata": {
        "id": "o3D5ae-U6Qoh"
      }
    },
    {
      "cell_type": "code",
      "source": [
        "import random"
      ],
      "metadata": {
        "id": "lKMCqNjyOj8_"
      },
      "execution_count": null,
      "outputs": []
    },
    {
      "cell_type": "code",
      "source": [
        "for idx in random.choices(list(range(len(texts))), k=20):\n",
        "    print('{0} => {1}'.format(labels[idx], texts[idx]))"
      ],
      "metadata": {
        "colab": {
          "base_uri": "https://localhost:8080/"
        },
        "id": "jo3IoQ4COmCi",
        "outputId": "3b109f05-7ebe-496b-f2b6-766f16d7bae5"
      },
      "execution_count": null,
      "outputs": [
        {
          "output_type": "stream",
          "name": "stdout",
          "text": [
            "neutral => Получить кредитную карту втб 24 http://t.co/8uFbvSzyrp\n",
            "negative => Вот вам и безопасность карт с чипом... Да, @alfa_bank ? http://t.co/xvglKJh2S3\n",
            "neutral => RT @marina_saniram: В связи с внесением Сбербанка в список ЕС, Сбербанк заявляет http://t.co/6l0YvPW0nk http://t.co/eYPiVvYeZa\n",
            "neutral => Я.Новости | Финансы: Банк Москвы продает белорусскую «дочку» http://t.co/KqeXWbr0pi\n",
            "neutral => банковская кредитная карта сбербанк http://t.co/ZhgczwmVxz\n",
            "neutral => http://t.co/XM9W09GNcI Взять потребительский кредит в альфа банке\n",
            "neutral => http://t.co/WsaDfDH1Ms втб 24 ростов на дону кредитная карта http://t.co/faF1PnZoYn\n",
            "neutral => кредит на покупку автомобиля рубли сбербанк http://t.co/hrJpxYpSJu\n",
            "neutral => RT @maglov: Александр Дюков: Политическое решение уже принято — Крым в составе РФ. Но тем не менее «Газпром», «Роснефть», РЖД, Сбербанк в К…\n",
            "positive => С 1 августа Сбербанк начнет выдавать кредиты на покупку недвижимости в Хорватии\n",
            "neutral => RT @TravaxIke: Сбербанк и Российская Гильдия Риэлторов упростят проведение ипотечных сделок\n",
            "neutral => автокредит на бу авто сбербанк http://t.co/N0nT6f7osv\n",
            "neutral => http://t.co/uv3xJOStoS Банк втб 24 кредит оформить\n",
            "neutral => http://t.co/5AREsHN0E2 Оформить заявку на кредитную карту сбербанка онлайн\n",
            "neutral => кредит на землю в сбербанке http://t.co/8DaEyWeWBI\n",
            "neutral => сбербанк золотая карта\n",
            "neutral => http://t.co/5CMFDgA3ms Можно ли взять 2 кредит в сбербанке\n",
            "neutral => http://t.co/CHXadDDfpG Райффайзенбанк запорожье можно взять кредит на ремонт\n",
            "neutral => Россельхозбанк получение кредита физическим лицом http://t.co/2E6eI9cRU0\n",
            "neutral => уралсиб банк официальный сайт автокредит http://t.co/ckARCO4Vdv\n"
          ]
        }
      ]
    },
    {
      "cell_type": "code",
      "source": [
        "positive_tweets = [texts[idx] for idx in range(len(texts)) if labels[idx] == 'positive']\n",
        "negative_tweets = [texts[idx] for idx in range(len(texts)) if labels[idx] == 'negative']"
      ],
      "metadata": {
        "id": "WqlYb65GOn4a"
      },
      "execution_count": null,
      "outputs": []
    },
    {
      "cell_type": "code",
      "source": [
        "for cur in positive_tweets[:5]: print(cur)"
      ],
      "metadata": {
        "colab": {
          "base_uri": "https://localhost:8080/"
        },
        "id": "ruW2P9VcOs0h",
        "outputId": "23a936f8-78d3-4eb1-f938-19682bafdcc1"
      },
      "execution_count": null,
      "outputs": [
        {
          "output_type": "stream",
          "name": "stdout",
          "text": [
            "@sawik_shuster @YevhenS Главное чтоб банки СБЕР и ВТБ!!!\n",
            "Самый выгодный автокредит в втб 24 http://t.co/CDJ5P40x7g\n",
            "http://t.co/h6r6GdBe4H Легко можно получить денежный кредит ы втб 24 банке\n",
            "Снижение процентной ставки по кредиту на недвижимость сбербанк http://t.co/MredO898wK\n",
            "В наш сбербанк пришел американец и попросил сфоткаться с ним у банкомата ;D \n",
            "я ваще была в шоке и на фотке полюбому получилась смешная xD\n"
          ]
        }
      ]
    },
    {
      "cell_type": "code",
      "source": [
        "for cur in negative_tweets[:5]: print(cur)"
      ],
      "metadata": {
        "colab": {
          "base_uri": "https://localhost:8080/"
        },
        "id": "1yKKSUuNOvfB",
        "outputId": "714e7b00-26d8-44ba-f89f-1008588ea921"
      },
      "execution_count": null,
      "outputs": [
        {
          "output_type": "stream",
          "name": "stdout",
          "text": [
            "@ShtirliZ_ @Zhukova_olga @winzard @tereshenkov обязательно про сбербанк напишите! Временами похлеще интернет магазинов финты выкручивает)\n",
            "@Umka_75 @Alfarius2012 @igor_sechin втб и сбер точно. вопрос-блокировка операций или запрет на кредиты?\n",
            "Канада ввела санкции против Газпромбанка, ВЭБа, Новатэка и российских оборонных компаний\n",
            "RT @letokot: Если Сбер и ВТБ попали под санкции, будет жопа\n",
            "RT @360_tv_ru: #Канада ввела санкции против 10 оборонных и сырьевых компаний и банков #РФ. Среди них, в частности, \"#Газпромбанк\", \"#Внешэк…\n"
          ]
        }
      ]
    },
    {
      "cell_type": "code",
      "source": [
        "from nltk import word_tokenize"
      ],
      "metadata": {
        "id": "h9mit4KSOzGP"
      },
      "execution_count": null,
      "outputs": []
    },
    {
      "cell_type": "code",
      "source": [
        "from sklearn.feature_extraction.text import CountVectorizer"
      ],
      "metadata": {
        "id": "gm5VSCBmO1SA"
      },
      "execution_count": null,
      "outputs": []
    },
    {
      "cell_type": "code",
      "source": [
        "vectorizer = CountVectorizer(lowercase=True, tokenizer=word_tokenize)"
      ],
      "metadata": {
        "id": "oTTNrjWgO3o7"
      },
      "execution_count": null,
      "outputs": []
    },
    {
      "cell_type": "code",
      "source": [
        "import nltk\n",
        "nltk.download('punkt')"
      ],
      "metadata": {
        "colab": {
          "base_uri": "https://localhost:8080/"
        },
        "id": "U4241dGBO-kA",
        "outputId": "d10aabb2-1b15-41f6-c9c7-0f1f5124c1ea"
      },
      "execution_count": null,
      "outputs": [
        {
          "output_type": "stream",
          "name": "stderr",
          "text": [
            "[nltk_data] Downloading package punkt to /root/nltk_data...\n",
            "[nltk_data]   Unzipping tokenizers/punkt.zip.\n"
          ]
        },
        {
          "output_type": "execute_result",
          "data": {
            "text/plain": [
              "True"
            ]
          },
          "metadata": {},
          "execution_count": 18
        }
      ]
    },
    {
      "cell_type": "code",
      "source": [
        "vectorizer.fit(texts)"
      ],
      "metadata": {
        "colab": {
          "base_uri": "https://localhost:8080/"
        },
        "id": "WtYFB79qO6cY",
        "outputId": "06ef5068-a3f5-4111-8c9e-deb394951247"
      },
      "execution_count": null,
      "outputs": [
        {
          "output_type": "stream",
          "name": "stderr",
          "text": [
            "/usr/local/lib/python3.7/dist-packages/sklearn/feature_extraction/text.py:517: UserWarning: The parameter 'token_pattern' will not be used since 'tokenizer' is not None'\n",
            "  \"The parameter 'token_pattern' will not be used\"\n"
          ]
        },
        {
          "output_type": "execute_result",
          "data": {
            "text/plain": [
              "CountVectorizer(tokenizer=<function word_tokenize at 0x7f883eac0200>)"
            ]
          },
          "metadata": {},
          "execution_count": 19
        }
      ]
    },
    {
      "cell_type": "code",
      "source": [
        "print(vectorizer.get_feature_names()[0:20])"
      ],
      "metadata": {
        "colab": {
          "base_uri": "https://localhost:8080/"
        },
        "id": "OgnUycI6PG5v",
        "outputId": "ff6d2d26-b071-41bb-f4b4-db29906e0c50"
      },
      "execution_count": null,
      "outputs": [
        {
          "output_type": "stream",
          "name": "stdout",
          "text": [
            "['!', '#', '$', '%', '&', \"''\", '(', ')', '*', '+', '+3,49', '+300', '+5тыс', '+74955102933', '+в', ',', '-', '--', '-4.8', '-5']\n"
          ]
        },
        {
          "output_type": "stream",
          "name": "stderr",
          "text": [
            "/usr/local/lib/python3.7/dist-packages/sklearn/utils/deprecation.py:87: FutureWarning: Function get_feature_names is deprecated; get_feature_names is deprecated in 1.0 and will be removed in 1.2. Please use get_feature_names_out instead.\n",
            "  warnings.warn(msg, category=FutureWarning)\n"
          ]
        }
      ]
    },
    {
      "cell_type": "code",
      "source": [
        "print(len(vectorizer.get_feature_names()))"
      ],
      "metadata": {
        "colab": {
          "base_uri": "https://localhost:8080/"
        },
        "id": "Kn9QNUFvPKxz",
        "outputId": "cd18cef9-4aa0-4704-de2e-25ce32a01e3a"
      },
      "execution_count": null,
      "outputs": [
        {
          "output_type": "stream",
          "name": "stdout",
          "text": [
            "20192\n"
          ]
        }
      ]
    },
    {
      "cell_type": "code",
      "source": [
        "X = vectorizer.transform(texts)"
      ],
      "metadata": {
        "id": "o6xb0wOtPN--"
      },
      "execution_count": null,
      "outputs": []
    },
    {
      "cell_type": "code",
      "source": [
        "print(texts[0])"
      ],
      "metadata": {
        "colab": {
          "base_uri": "https://localhost:8080/"
        },
        "id": "cb4UeYKoPTcH",
        "outputId": "66b18f79-b390-4194-c99f-6b4037cd26b2"
      },
      "execution_count": null,
      "outputs": [
        {
          "output_type": "stream",
          "name": "stdout",
          "text": [
            "http://t.co/YEVHuvVGA1 Взять кредит тюмень альфа банк\n"
          ]
        }
      ]
    },
    {
      "cell_type": "code",
      "source": [
        "print(X[0])"
      ],
      "metadata": {
        "colab": {
          "base_uri": "https://localhost:8080/"
        },
        "id": "0IPuSW8UPWVd",
        "outputId": "c2848f05-7587-4897-d410-353e0101f3a4"
      },
      "execution_count": null,
      "outputs": [
        {
          "output_type": "stream",
          "name": "stdout",
          "text": [
            "  (0, 6318)\t1\n",
            "  (0, 7196)\t1\n",
            "  (0, 7773)\t1\n",
            "  (0, 9092)\t1\n",
            "  (0, 9293)\t1\n",
            "  (0, 9861)\t1\n",
            "  (0, 12787)\t1\n",
            "  (0, 19011)\t1\n"
          ]
        }
      ]
    },
    {
      "cell_type": "code",
      "source": [
        "print(vectorizer.get_feature_names()[6321])"
      ],
      "metadata": {
        "colab": {
          "base_uri": "https://localhost:8080/"
        },
        "id": "SeGcyi5BPZUz",
        "outputId": "04ec674f-c1ca-4236-8e20-a2aeb33a332b"
      },
      "execution_count": null,
      "outputs": [
        {
          "output_type": "stream",
          "name": "stdout",
          "text": [
            "//t.co/yfqcav48qj\n"
          ]
        }
      ]
    },
    {
      "cell_type": "code",
      "source": [
        "from sklearn.feature_extraction.text import TfidfTransformer"
      ],
      "metadata": {
        "id": "1zstIRlQPcHX"
      },
      "execution_count": null,
      "outputs": []
    },
    {
      "cell_type": "code",
      "source": [
        "transformer = TfidfTransformer().fit(X)"
      ],
      "metadata": {
        "id": "bjaocrSOPemc"
      },
      "execution_count": null,
      "outputs": []
    },
    {
      "cell_type": "code",
      "source": [
        "X_transformed = transformer.transform(X)"
      ],
      "metadata": {
        "id": "UBEl0iNHPg3M"
      },
      "execution_count": null,
      "outputs": []
    },
    {
      "cell_type": "code",
      "source": [
        "print(X_transformed[0])"
      ],
      "metadata": {
        "colab": {
          "base_uri": "https://localhost:8080/"
        },
        "id": "585_-YNjPjHI",
        "outputId": "e18bfb97-eadb-4ef1-d9d3-dc3b0a1037d9"
      },
      "execution_count": null,
      "outputs": [
        {
          "output_type": "stream",
          "name": "stdout",
          "text": [
            "  (0, 19011)\t0.5196767551267244\n",
            "  (0, 12787)\t0.17477128797745156\n",
            "  (0, 9861)\t0.2815132193133801\n",
            "  (0, 9293)\t0.20528209436889633\n",
            "  (0, 9092)\t0.26133550987375115\n",
            "  (0, 7773)\t0.10105340406350267\n",
            "  (0, 7196)\t0.09241786572867976\n",
            "  (0, 6318)\t0.7006793382592054\n"
          ]
        }
      ]
    },
    {
      "cell_type": "code",
      "source": [
        "print(vectorizer.get_feature_names()[19056])"
      ],
      "metadata": {
        "colab": {
          "base_uri": "https://localhost:8080/"
        },
        "id": "N4yPDfWsPkOJ",
        "outputId": "920fecdd-346b-413a-a6c7-10ad853c5ff1"
      },
      "execution_count": null,
      "outputs": [
        {
          "output_type": "stream",
          "name": "stdout",
          "text": [
            "уверил\n"
          ]
        }
      ]
    },
    {
      "cell_type": "code",
      "source": [
        "tokens_with_IDF = list(zip(vectorizer.get_feature_names(), transformer.idf_))"
      ],
      "metadata": {
        "id": "bXAcaTNtPnO7"
      },
      "execution_count": null,
      "outputs": []
    },
    {
      "cell_type": "code",
      "source": [
        "for feature, idf in tokens_with_IDF[0:20]: print('{0:.6f} => {1}'.format(idf, feature))"
      ],
      "metadata": {
        "colab": {
          "base_uri": "https://localhost:8080/"
        },
        "id": "Mq6JsDApPsdZ",
        "outputId": "7fbfe011-4e96-4ee5-e0e6-e52f5222c180"
      },
      "execution_count": null,
      "outputs": [
        {
          "output_type": "stream",
          "name": "stdout",
          "text": [
            "4.417620 => !\n",
            "3.144655 => #\n",
            "6.276519 => $\n",
            "5.636861 => %\n",
            "5.647910 => &\n",
            "4.134005 => ''\n",
            "4.805386 => (\n",
            "4.443938 => )\n",
            "8.201810 => *\n",
            "9.049108 => +\n",
            "9.454573 => +3,49\n",
            "9.454573 => +300\n",
            "9.454573 => +5тыс\n",
            "9.454573 => +74955102933\n",
            "9.454573 => +в\n",
            "2.753227 => ,\n",
            "4.420872 => -\n",
            "8.761426 => --\n",
            "9.454573 => -4.8\n",
            "9.454573 => -5\n"
          ]
        }
      ]
    },
    {
      "cell_type": "code",
      "source": [
        "sorted_tokens_with_IDF = sorted(tokens_with_IDF, key=lambda it: (-it[1], it[0]))"
      ],
      "metadata": {
        "id": "KXzcj1BoPxf-"
      },
      "execution_count": null,
      "outputs": []
    },
    {
      "cell_type": "code",
      "source": [
        "for feature, idf in sorted_tokens_with_IDF[0:20]: print('{0:.6f} => {1}'.format(idf, feature))"
      ],
      "metadata": {
        "colab": {
          "base_uri": "https://localhost:8080/"
        },
        "id": "2BwTVCHKP0Le",
        "outputId": "25ac0363-e2bd-4da5-d78f-9ecf2ff465c8"
      },
      "execution_count": null,
      "outputs": [
        {
          "output_type": "stream",
          "name": "stdout",
          "text": [
            "9.454573 => +3,49\n",
            "9.454573 => +300\n",
            "9.454573 => +5тыс\n",
            "9.454573 => +74955102933\n",
            "9.454573 => +в\n",
            "9.454573 => -4.8\n",
            "9.454573 => -5\n",
            "9.454573 => -6.4\n",
            "9.454573 => -а\n",
            "9.454573 => -круто\n",
            "9.454573 => -осуществление\n",
            "9.454573 => -подключение\n",
            "9.454573 => -привлечение\n",
            "9.454573 => -разменяйте\n",
            "9.454573 => -россельхозбанка\n",
            "9.454573 => -сами\n",
            "9.454573 => -сервис\n",
            "9.454573 => -сын\n",
            "9.454573 => -то\n",
            "9.454573 => -филиал\n"
          ]
        }
      ]
    },
    {
      "cell_type": "code",
      "source": [
        "from sklearn.feature_selection import SelectPercentile, chi2"
      ],
      "metadata": {
        "id": "C1nsO_bEP3jE"
      },
      "execution_count": null,
      "outputs": []
    },
    {
      "cell_type": "code",
      "source": [
        "selector = SelectPercentile(chi2, percentile=20)"
      ],
      "metadata": {
        "id": "qgpXeOWtP5sL"
      },
      "execution_count": null,
      "outputs": []
    },
    {
      "cell_type": "code",
      "source": [
        "selector.fit(X_transformed, labels)"
      ],
      "metadata": {
        "colab": {
          "base_uri": "https://localhost:8080/"
        },
        "id": "z-Wz1beCP74U",
        "outputId": "cc0f3446-a808-41cb-de43-ad80cfbf56dd"
      },
      "execution_count": null,
      "outputs": [
        {
          "output_type": "execute_result",
          "data": {
            "text/plain": [
              "SelectPercentile(percentile=20, score_func=<function chi2 at 0x7f883c18e9e0>)"
            ]
          },
          "metadata": {},
          "execution_count": 37
        }
      ]
    },
    {
      "cell_type": "code",
      "source": [
        "selected_tokens_with_IDF = [tokens_with_IDF[idx] for idx in selector.get_support(indices=True)]"
      ],
      "metadata": {
        "id": "dam7mKitP_tx"
      },
      "execution_count": null,
      "outputs": []
    },
    {
      "cell_type": "code",
      "source": [
        "print(len(selected_tokens_with_IDF))"
      ],
      "metadata": {
        "colab": {
          "base_uri": "https://localhost:8080/"
        },
        "id": "aHtEgspTQB_8",
        "outputId": "c8806ab8-d4a9-4dfe-838f-2e906c316e74"
      },
      "execution_count": null,
      "outputs": [
        {
          "output_type": "stream",
          "name": "stdout",
          "text": [
            "4039\n"
          ]
        }
      ]
    },
    {
      "cell_type": "code",
      "source": [
        "for feature, idf in selected_tokens_with_IDF[0:20]: print('{0:.6f} => {1}'.format(idf, feature))"
      ],
      "metadata": {
        "colab": {
          "base_uri": "https://localhost:8080/"
        },
        "id": "PyMmRGxFQE-1",
        "outputId": "8a6d02bf-86ae-4731-924d-95178735e47a"
      },
      "execution_count": null,
      "outputs": [
        {
          "output_type": "stream",
          "name": "stdout",
          "text": [
            "4.417620 => !\n",
            "3.144655 => #\n",
            "5.636861 => %\n",
            "4.134005 => ''\n",
            "4.805386 => (\n",
            "4.443938 => )\n",
            "8.201810 => *\n",
            "9.049108 => +\n",
            "9.454573 => +5тыс\n",
            "2.753227 => ,\n",
            "4.420872 => -\n",
            "9.454573 => -россельхозбанка\n",
            "3.189272 => .\n",
            "5.465589 => ..\n",
            "3.819783 => ...\n",
            "7.103198 => ....\n",
            "9.454573 => ._\n",
            "6.070183 => /\n",
            "9.454573 => //t.co/01ftjc0bur\n",
            "9.454573 => //t.co/0gfmj3s0gi\n"
          ]
        }
      ]
    },
    {
      "cell_type": "code",
      "source": [
        "selected_and_sorted_tokens_with_IDF = sorted(selected_tokens_with_IDF, key=lambda it: (-it[1], it[0]))"
      ],
      "metadata": {
        "id": "Kkm1eWWmQIfs"
      },
      "execution_count": null,
      "outputs": []
    },
    {
      "cell_type": "code",
      "source": [
        "for feature, idf in selected_and_sorted_tokens_with_IDF[0:20]: print('{0:.6f} => {1}'.format(idf, feature))"
      ],
      "metadata": {
        "colab": {
          "base_uri": "https://localhost:8080/"
        },
        "id": "M8CoVVfOQLcD",
        "outputId": "275b9fe0-2324-485b-90e8-619e63e90919"
      },
      "execution_count": null,
      "outputs": [
        {
          "output_type": "stream",
          "name": "stdout",
          "text": [
            "9.454573 => +5тыс\n",
            "9.454573 => -россельхозбанка\n",
            "9.454573 => ._\n",
            "9.454573 => //t.co/01ftjc0bur\n",
            "9.454573 => //t.co/0gfmj3s0gi\n",
            "9.454573 => //t.co/0i4pf81ksd\n",
            "9.454573 => //t.co/0jzv0jq959\n",
            "9.454573 => //t.co/0lt5jdmk9l\n",
            "9.454573 => //t.co/0s03a0v7po\n",
            "9.454573 => //t.co/0ttwpnjnef\n",
            "9.454573 => //t.co/0vpcvumoe8\n",
            "9.454573 => //t.co/0wziwezr91\n",
            "9.454573 => //t.co/0y05qjok2q\n",
            "9.454573 => //t.co/1aa3jpbxqh\n",
            "9.454573 => //t.co/1cjshtzrda\n",
            "9.454573 => //t.co/1d3bb71qbt\n",
            "9.454573 => //t.co/1eodyxqq0a\n",
            "9.454573 => //t.co/1fxzerzsps\n",
            "9.454573 => //t.co/1kiwdyic6t\n",
            "9.454573 => //t.co/1mymy2lxfu\n"
          ]
        }
      ]
    },
    {
      "cell_type": "code",
      "source": [
        "from sklearn.linear_model import LogisticRegression"
      ],
      "metadata": {
        "id": "SK0pATF0QNU6"
      },
      "execution_count": null,
      "outputs": []
    },
    {
      "cell_type": "code",
      "source": [
        "cls = LogisticRegression(solver='liblinear', verbose=True)"
      ],
      "metadata": {
        "id": "pLKmN2oOQSCz"
      },
      "execution_count": null,
      "outputs": []
    },
    {
      "cell_type": "code",
      "source": [
        "X_transformed_and_selected = selector.transform(X_transformed)"
      ],
      "metadata": {
        "id": "ZyXwKo0YQUa2"
      },
      "execution_count": null,
      "outputs": []
    },
    {
      "cell_type": "code",
      "source": [
        "cls.fit(X_transformed_and_selected, labels)"
      ],
      "metadata": {
        "colab": {
          "base_uri": "https://localhost:8080/"
        },
        "id": "z8glnMNRQX2c",
        "outputId": "d817a591-6db1-4b8b-ab18-a44f9d5d95d6"
      },
      "execution_count": null,
      "outputs": [
        {
          "output_type": "stream",
          "name": "stdout",
          "text": [
            "[LibLinear]"
          ]
        },
        {
          "output_type": "execute_result",
          "data": {
            "text/plain": [
              "LogisticRegression(solver='liblinear', verbose=True)"
            ]
          },
          "metadata": {},
          "execution_count": 46
        }
      ]
    },
    {
      "cell_type": "code",
      "source": [
        "classes_list = list(cls.classes_)"
      ],
      "metadata": {
        "id": "lCbFVjp6QZUT"
      },
      "execution_count": null,
      "outputs": []
    },
    {
      "cell_type": "code",
      "source": [
        "print(classes_list)"
      ],
      "metadata": {
        "colab": {
          "base_uri": "https://localhost:8080/"
        },
        "id": "vIAu6xR6QeWW",
        "outputId": "b9bfd310-a3bb-4f8f-e2fb-b993cad67204"
      },
      "execution_count": null,
      "outputs": [
        {
          "output_type": "stream",
          "name": "stdout",
          "text": [
            "['negative', 'neutral', 'positive']\n"
          ]
        }
      ]
    },
    {
      "cell_type": "code",
      "source": [
        "texts_for_testing, labels_for_testing = load_sentirueval_2016('banks_test_etalon.xml')"
      ],
      "metadata": {
        "id": "nDhIgZzIQhEP"
      },
      "execution_count": null,
      "outputs": []
    },
    {
      "cell_type": "code",
      "source": [
        "from sklearn.pipeline import Pipeline"
      ],
      "metadata": {
        "id": "bVhJ61q-Qjc9"
      },
      "execution_count": null,
      "outputs": []
    },
    {
      "cell_type": "code",
      "source": [
        "pipeline_for_se = Pipeline(\n",
        "    [\n",
        "        ('vectorizer', vectorizer),\n",
        "        ('tfidf', transformer),\n",
        "        ('selector', selector),\n",
        "        ('final_classifier', cls)\n",
        "    ]\n",
        ")"
      ],
      "metadata": {
        "id": "9pAzjVd2QmPo"
      },
      "execution_count": null,
      "outputs": []
    },
    {
      "cell_type": "code",
      "source": [
        "from sklearn.metrics import roc_curve\n",
        "import numpy as np"
      ],
      "metadata": {
        "id": "t5c0qZd5QnZX"
      },
      "execution_count": null,
      "outputs": []
    },
    {
      "cell_type": "code",
      "source": [
        "probabilities = pipeline_for_se.predict_proba(texts_for_testing)"
      ],
      "metadata": {
        "id": "z5gHfW4yQrno"
      },
      "execution_count": null,
      "outputs": []
    },
    {
      "cell_type": "code",
      "source": [
        "y_true_positives = list(map(lambda it: 1 if it == 'positive' else 0, labels_for_testing))\n",
        "y_score_positives = probabilities[:, classes_list.index('positive')]"
      ],
      "metadata": {
        "id": "LVylv_T7QuEM"
      },
      "execution_count": null,
      "outputs": []
    },
    {
      "cell_type": "code",
      "source": [
        "fpr_positives, tpr_positives, _, = roc_curve(y_true_positives, y_score_positives)"
      ],
      "metadata": {
        "id": "aWwNxpXkQvN4"
      },
      "execution_count": null,
      "outputs": []
    },
    {
      "cell_type": "code",
      "source": [
        "y_true_negatives = list(map(lambda it: 1 if it == 'negative' else 0, labels_for_testing))\n",
        "y_score_negatives = probabilities[:, classes_list.index('negative')]\n",
        "fpr_negatives, tpr_negatives, _, = roc_curve(y_true_negatives, y_score_negatives)"
      ],
      "metadata": {
        "id": "fQnjctWTQyU5"
      },
      "execution_count": null,
      "outputs": []
    },
    {
      "cell_type": "code",
      "source": [
        "y_true_neutrals = list(map(lambda it: 1 if it == 'neutral' else 0, labels_for_testing))\n",
        "y_score_neutrals = probabilities[:, classes_list.index('neutral')]\n",
        "fpr_neutrals, tpr_neutrals, _, = roc_curve(y_true_neutrals, y_score_neutrals)"
      ],
      "metadata": {
        "id": "JcCnsn2ZQ2TB"
      },
      "execution_count": null,
      "outputs": []
    },
    {
      "cell_type": "code",
      "source": [
        "import matplotlib.pyplot as plt\n",
        "plt.figure(1)\n",
        "plt.plot([0, 1], [0, 1], 'k--')\n",
        "plt.plot(fpr_positives, tpr_positives, label='Positive Sentiment')\n",
        "plt.plot(fpr_negatives, tpr_negatives, label='Negative Sentiment')\n",
        "plt.plot(fpr_neutrals, tpr_neutrals, label='Neutral Sentiment')\n",
        "plt.xlabel('False positive rate')\n",
        "plt.ylabel('True positive rate')\n",
        "plt.title('ROC curve')\n",
        "plt.legend(loc='best')\n",
        "plt.show()"
      ],
      "metadata": {
        "colab": {
          "base_uri": "https://localhost:8080/",
          "height": 295
        },
        "id": "MrGF702OQ6vA",
        "outputId": "29bb8499-e2b1-4893-d814-59d93e2900f7"
      },
      "execution_count": null,
      "outputs": [
        {
          "output_type": "display_data",
          "data": {
            "text/plain": [
              "<Figure size 432x288 with 1 Axes>"
            ],
            "image/png": "[encoded data removed]"
          },
          "metadata": {
            "needs_background": "light"
          }
        }
      ]
    },
    {
      "cell_type": "code",
      "source": [
        "from sklearn.metrics import f1_score\n",
        "predicted_labels = pipeline_for_se.predict(texts_for_testing)\n",
        "print('F1-micro = {0:.6f}'.format(f1_score(labels_for_testing, predicted_labels, average='micro')))\n",
        "print('F1-macro = {0:.6f}'.format(f1_score(labels_for_testing, predicted_labels, average='macro')))"
      ],
      "metadata": {
        "colab": {
          "base_uri": "https://localhost:8080/"
        },
        "id": "hcTM1pPQQ8p3",
        "outputId": "d924cbeb-91e7-45b3-a603-81c991fd03c6"
      },
      "execution_count": null,
      "outputs": [
        {
          "output_type": "stream",
          "name": "stdout",
          "text": [
            "F1-micro = 0.731059\n",
            "F1-macro = 0.499757\n"
          ]
        }
      ]
    },
    {
      "cell_type": "code",
      "source": [
        "from sklearn.metrics import classification_report\n",
        "print(classification_report(labels_for_testing, predicted_labels, digits=6))"
      ],
      "metadata": {
        "colab": {
          "base_uri": "https://localhost:8080/"
        },
        "id": "xOBaWE8gRDvh",
        "outputId": "a0300022-a8ab-4136-d192-6867cd60a941"
      },
      "execution_count": null,
      "outputs": [
        {
          "output_type": "stream",
          "name": "stdout",
          "text": [
            "              precision    recall  f1-score   support\n",
            "\n",
            "    negative   0.593323  0.509778  0.548387       767\n",
            "     neutral   0.766298  0.898123  0.826990      2238\n",
            "    positive   0.677419  0.068182  0.123894       308\n",
            "\n",
            "    accuracy                       0.731059      3313\n",
            "   macro avg   0.679014  0.492028  0.499757      3313\n",
            "weighted avg   0.717990  0.731059  0.697125      3313\n",
            "\n"
          ]
        }
      ]
    },
    {
      "cell_type": "code",
      "source": [
        "from sklearn.model_selection import GridSearchCV\n",
        "from sklearn.metrics import make_scorer\n",
        "f1_macro_scorer = make_scorer(f1_score, average='macro')\n",
        "cv = GridSearchCV(\n",
        "    estimator=LogisticRegression(solver='liblinear'),\n",
        "    param_grid={'C': [1e-2, 1e-1, 1, 1e+1, 1e+2, 1e+3], 'penalty': ['l1', 'l2']},\n",
        "    scoring=f1_macro_scorer,\n",
        "    n_jobs=-1\n",
        ")"
      ],
      "metadata": {
        "id": "n2k0_YbMRHUr"
      },
      "execution_count": null,
      "outputs": []
    },
    {
      "cell_type": "code",
      "source": [
        "cv.fit(X_transformed_and_selected, labels)"
      ],
      "metadata": {
        "colab": {
          "base_uri": "https://localhost:8080/"
        },
        "id": "ThSmDJeTRIqV",
        "outputId": "8348ce2e-7e3f-4e55-cfa7-eff4e608f0bc"
      },
      "execution_count": null,
      "outputs": [
        {
          "output_type": "execute_result",
          "data": {
            "text/plain": [
              "GridSearchCV(estimator=LogisticRegression(solver='liblinear'), n_jobs=-1,\n",
              "             param_grid={'C': [0.01, 0.1, 1, 10.0, 100.0, 1000.0],\n",
              "                         'penalty': ['l1', 'l2']},\n",
              "             scoring=make_scorer(f1_score, average=macro))"
            ]
          },
          "metadata": {},
          "execution_count": 62
        }
      ]
    },
    {
      "cell_type": "code",
      "source": [
        "print(cv.best_params_)"
      ],
      "metadata": {
        "colab": {
          "base_uri": "https://localhost:8080/"
        },
        "id": "uAGPLOV-RQx2",
        "outputId": "4ae510c3-96e9-43cc-934d-db25bad70127"
      },
      "execution_count": null,
      "outputs": [
        {
          "output_type": "stream",
          "name": "stdout",
          "text": [
            "{'C': 100.0, 'penalty': 'l2'}\n"
          ]
        }
      ]
    },
    {
      "cell_type": "code",
      "source": [
        "best_cls = LogisticRegression(solver='liblinear', verbose=True, C=10.0, penalty='l1')\n",
        "best_cls.fit(X_transformed_and_selected, labels)"
      ],
      "metadata": {
        "colab": {
          "base_uri": "https://localhost:8080/"
        },
        "id": "nCw82-1MRSAr",
        "outputId": "17a369c1-c404-476e-d3d4-2237362b07f4"
      },
      "execution_count": null,
      "outputs": [
        {
          "output_type": "stream",
          "name": "stdout",
          "text": [
            "[LibLinear]"
          ]
        },
        {
          "output_type": "execute_result",
          "data": {
            "text/plain": [
              "LogisticRegression(C=10.0, penalty='l1', solver='liblinear', verbose=True)"
            ]
          },
          "metadata": {},
          "execution_count": 64
        }
      ]
    },
    {
      "cell_type": "code",
      "source": [
        "best_pipeline_for_se = Pipeline(\n",
        "    [\n",
        "        ('vectorizer', vectorizer),\n",
        "        ('tfidf', transformer),\n",
        "        ('selector', selector),\n",
        "        ('final_classifier', best_cls)\n",
        "    ]\n",
        ")"
      ],
      "metadata": {
        "id": "rNljdNeCRXEH"
      },
      "execution_count": null,
      "outputs": []
    },
    {
      "cell_type": "code",
      "source": [
        "probabilities = best_pipeline_for_se.predict_proba(texts_for_testing)\n",
        "\n",
        "y_true_positives = list(map(lambda it: 1 if it == 'positive' else 0, labels_for_testing))\n",
        "y_score_positives = probabilities[:, classes_list.index('positive')]\n",
        "fpr_positives, tpr_positives, _, = roc_curve(y_true_positives, y_score_positives)\n",
        "\n",
        "y_true_negatives = list(map(lambda it: 1 if it == 'negative' else 0, labels_for_testing))\n",
        "y_score_negatives = probabilities[:, classes_list.index('negative')]\n",
        "fpr_negatives, tpr_negatives, _, = roc_curve(y_true_negatives, y_score_negatives)\n",
        "\n",
        "y_true_neutrals = list(map(lambda it: 1 if it == 'neutral' else 0, labels_for_testing))\n",
        "y_score_neutrals = probabilities[:, classes_list.index('neutral')]\n",
        "fpr_neutrals, tpr_neutrals, _, = roc_curve(y_true_neutrals, y_score_neutrals)"
      ],
      "metadata": {
        "id": "fwo9rGq7RZ9r"
      },
      "execution_count": null,
      "outputs": []
    },
    {
      "cell_type": "code",
      "source": [
        "plt.figure(2)\n",
        "plt.plot([0, 1], [0, 1], 'k--')\n",
        "plt.plot(fpr_positives, tpr_positives, label='Positive Sentiment')\n",
        "plt.plot(fpr_negatives, tpr_negatives, label='Negative Sentiment')\n",
        "plt.plot(fpr_neutrals, tpr_neutrals, label='Neutral Sentiment')\n",
        "plt.xlabel('False positive rate')\n",
        "plt.ylabel('True positive rate')\n",
        "plt.title('ROC curve')\n",
        "plt.legend(loc='best')\n",
        "plt.show()"
      ],
      "metadata": {
        "colab": {
          "base_uri": "https://localhost:8080/",
          "height": 295
        },
        "id": "6pr5mi5JRctJ",
        "outputId": "a8d2b79d-221c-41bc-dca3-55e467dd3976"
      },
      "execution_count": null,
      "outputs": [
        {
          "output_type": "display_data",
          "data": {
            "text/plain": [
              "<Figure size 432x288 with 1 Axes>"
            ],
            "image/png": "[encoded data removed]"
          },
          "metadata": {
            "needs_background": "light"
          }
        }
      ]
    },
    {
      "cell_type": "code",
      "source": [
        "predicted_labels = best_pipeline_for_se.predict(texts_for_testing)\n",
        "print('F1-micro = {0:.6f}'.format(f1_score(labels_for_testing, predicted_labels, average='micro')))\n",
        "print('F1-macro = {0:.6f}'.format(f1_score(labels_for_testing, predicted_labels, average='macro')))"
      ],
      "metadata": {
        "colab": {
          "base_uri": "https://localhost:8080/"
        },
        "id": "Mg9GKQlqRgCk",
        "outputId": "5b221b17-73a3-41a1-ce33-479b567cb8b9"
      },
      "execution_count": null,
      "outputs": [
        {
          "output_type": "stream",
          "name": "stdout",
          "text": [
            "F1-micro = 0.724721\n",
            "F1-macro = 0.587182\n"
          ]
        }
      ]
    },
    {
      "cell_type": "code",
      "source": [
        "print(classification_report(labels_for_testing, predicted_labels, digits=6))"
      ],
      "metadata": {
        "colab": {
          "base_uri": "https://localhost:8080/"
        },
        "id": "LFp6Nt9tRi-L",
        "outputId": "f38e37bd-0045-4b5b-8cb2-cf6b29a088e9"
      },
      "execution_count": null,
      "outputs": [
        {
          "output_type": "stream",
          "name": "stdout",
          "text": [
            "              precision    recall  f1-score   support\n",
            "\n",
            "    negative   0.584828  0.552803  0.568365       767\n",
            "     neutral   0.798126  0.837355  0.817270      2238\n",
            "    positive   0.429167  0.334416  0.375912       308\n",
            "\n",
            "    accuracy                       0.724721      3313\n",
            "   macro avg   0.604040  0.574858  0.587182      3313\n",
            "weighted avg   0.714444  0.724721  0.718614      3313\n",
            "\n"
          ]
        }
      ]
    },
    {
      "cell_type": "markdown",
      "source": [
        "Итак, попробуем сделать алгортим лучше и посмотрим, что получится. Начнём с лемматизации и токенезации"
      ],
      "metadata": {
        "id": "Xnnym4OKvTRk"
      }
    },
    {
      "cell_type": "code",
      "source": [
        "! pip install spacy-udpipe"
      ],
      "metadata": {
        "colab": {
          "base_uri": "https://localhost:8080/"
        },
        "id": "4Eq2elkEOiNl",
        "outputId": "47096eaf-1a8d-4e5e-dbf6-bf176e2cfb64"
      },
      "execution_count": null,
      "outputs": [
        {
          "output_type": "stream",
          "name": "stdout",
          "text": [
            "Looking in indexes: https://pypi.org/simple, https://us-python.pkg.dev/colab-wheels/public/simple/\n",
            "Collecting spacy-udpipe\n",
            "  Downloading spacy_udpipe-1.0.0-py3-none-any.whl (11 kB)\n",
            "Collecting ufal.udpipe>=1.2.0\n",
            "  Downloading ufal.udpipe-1.2.0.3.tar.gz (304 kB)\n",
            "\u001b[K     |████████████████████████████████| 304 kB 3.9 MB/s \n",
            "\u001b[?25hRequirement already satisfied: spacy<4.0.0,>=3.0.0 in /usr/local/lib/python3.7/dist-packages (from spacy-udpipe) (3.4.2)\n",
            "Requirement already satisfied: wasabi<1.1.0,>=0.9.1 in /usr/local/lib/python3.7/dist-packages (from spacy<4.0.0,>=3.0.0->spacy-udpipe) (0.10.1)\n",
            "Requirement already satisfied: spacy-loggers<2.0.0,>=1.0.0 in /usr/local/lib/python3.7/dist-packages (from spacy<4.0.0,>=3.0.0->spacy-udpipe) (1.0.3)\n",
            "Requirement already satisfied: cymem<2.1.0,>=2.0.2 in /usr/local/lib/python3.7/dist-packages (from spacy<4.0.0,>=3.0.0->spacy-udpipe) (2.0.7)\n",
            "Requirement already satisfied: pathy>=0.3.5 in /usr/local/lib/python3.7/dist-packages (from spacy<4.0.0,>=3.0.0->spacy-udpipe) (0.6.2)\n",
            "Requirement already satisfied: thinc<8.2.0,>=8.1.0 in /usr/local/lib/python3.7/dist-packages (from spacy<4.0.0,>=3.0.0->spacy-udpipe) (8.1.5)\n",
            "Requirement already satisfied: murmurhash<1.1.0,>=0.28.0 in /usr/local/lib/python3.7/dist-packages (from spacy<4.0.0,>=3.0.0->spacy-udpipe) (1.0.9)\n",
            "Requirement already satisfied: tqdm<5.0.0,>=4.38.0 in /usr/local/lib/python3.7/dist-packages (from spacy<4.0.0,>=3.0.0->spacy-udpipe) (4.64.1)\n",
            "Requirement already satisfied: pydantic!=1.8,!=1.8.1,<1.11.0,>=1.7.4 in /usr/local/lib/python3.7/dist-packages (from spacy<4.0.0,>=3.0.0->spacy-udpipe) (1.10.2)\n",
            "Requirement already satisfied: numpy>=1.15.0 in /usr/local/lib/python3.7/dist-packages (from spacy<4.0.0,>=3.0.0->spacy-udpipe) (1.21.6)\n",
            "Requirement already satisfied: typing-extensions<4.2.0,>=3.7.4 in /usr/local/lib/python3.7/dist-packages (from spacy<4.0.0,>=3.0.0->spacy-udpipe) (4.1.1)\n",
            "Requirement already satisfied: packaging>=20.0 in /usr/local/lib/python3.7/dist-packages (from spacy<4.0.0,>=3.0.0->spacy-udpipe) (21.3)\n",
            "Requirement already satisfied: catalogue<2.1.0,>=2.0.6 in /usr/local/lib/python3.7/dist-packages (from spacy<4.0.0,>=3.0.0->spacy-udpipe) (2.0.8)\n",
            "Requirement already satisfied: setuptools in /usr/local/lib/python3.7/dist-packages (from spacy<4.0.0,>=3.0.0->spacy-udpipe) (57.4.0)\n",
            "Requirement already satisfied: spacy-legacy<3.1.0,>=3.0.10 in /usr/local/lib/python3.7/dist-packages (from spacy<4.0.0,>=3.0.0->spacy-udpipe) (3.0.10)\n",
            "Requirement already satisfied: srsly<3.0.0,>=2.4.3 in /usr/local/lib/python3.7/dist-packages (from spacy<4.0.0,>=3.0.0->spacy-udpipe) (2.4.5)\n",
            "Requirement already satisfied: preshed<3.1.0,>=3.0.2 in /usr/local/lib/python3.7/dist-packages (from spacy<4.0.0,>=3.0.0->spacy-udpipe) (3.0.8)\n",
            "Requirement already satisfied: requests<3.0.0,>=2.13.0 in /usr/local/lib/python3.7/dist-packages (from spacy<4.0.0,>=3.0.0->spacy-udpipe) (2.23.0)\n",
            "Requirement already satisfied: typer<0.5.0,>=0.3.0 in /usr/local/lib/python3.7/dist-packages (from spacy<4.0.0,>=3.0.0->spacy-udpipe) (0.4.2)\n",
            "Requirement already satisfied: jinja2 in /usr/local/lib/python3.7/dist-packages (from spacy<4.0.0,>=3.0.0->spacy-udpipe) (2.11.3)\n",
            "Requirement already satisfied: langcodes<4.0.0,>=3.2.0 in /usr/local/lib/python3.7/dist-packages (from spacy<4.0.0,>=3.0.0->spacy-udpipe) (3.3.0)\n",
            "Requirement already satisfied: zipp>=0.5 in /usr/local/lib/python3.7/dist-packages (from catalogue<2.1.0,>=2.0.6->spacy<4.0.0,>=3.0.0->spacy-udpipe) (3.10.0)\n",
            "Requirement already satisfied: pyparsing!=3.0.5,>=2.0.2 in /usr/local/lib/python3.7/dist-packages (from packaging>=20.0->spacy<4.0.0,>=3.0.0->spacy-udpipe) (3.0.9)\n",
            "Requirement already satisfied: smart-open<6.0.0,>=5.2.1 in /usr/local/lib/python3.7/dist-packages (from pathy>=0.3.5->spacy<4.0.0,>=3.0.0->spacy-udpipe) (5.2.1)\n",
            "Requirement already satisfied: chardet<4,>=3.0.2 in /usr/local/lib/python3.7/dist-packages (from requests<3.0.0,>=2.13.0->spacy<4.0.0,>=3.0.0->spacy-udpipe) (3.0.4)\n",
            "Requirement already satisfied: certifi>=2017.4.17 in /usr/local/lib/python3.7/dist-packages (from requests<3.0.0,>=2.13.0->spacy<4.0.0,>=3.0.0->spacy-udpipe) (2022.9.24)\n",
            "Requirement already satisfied: idna<3,>=2.5 in /usr/local/lib/python3.7/dist-packages (from requests<3.0.0,>=2.13.0->spacy<4.0.0,>=3.0.0->spacy-udpipe) (2.10)\n",
            "Requirement already satisfied: urllib3!=1.25.0,!=1.25.1,<1.26,>=1.21.1 in /usr/local/lib/python3.7/dist-packages (from requests<3.0.0,>=2.13.0->spacy<4.0.0,>=3.0.0->spacy-udpipe) (1.24.3)\n",
            "Requirement already satisfied: blis<0.8.0,>=0.7.8 in /usr/local/lib/python3.7/dist-packages (from thinc<8.2.0,>=8.1.0->spacy<4.0.0,>=3.0.0->spacy-udpipe) (0.7.9)\n",
            "Requirement already satisfied: confection<1.0.0,>=0.0.1 in /usr/local/lib/python3.7/dist-packages (from thinc<8.2.0,>=8.1.0->spacy<4.0.0,>=3.0.0->spacy-udpipe) (0.0.3)\n",
            "Requirement already satisfied: click<9.0.0,>=7.1.1 in /usr/local/lib/python3.7/dist-packages (from typer<0.5.0,>=0.3.0->spacy<4.0.0,>=3.0.0->spacy-udpipe) (7.1.2)\n",
            "Requirement already satisfied: MarkupSafe>=0.23 in /usr/local/lib/python3.7/dist-packages (from jinja2->spacy<4.0.0,>=3.0.0->spacy-udpipe) (2.0.1)\n",
            "Building wheels for collected packages: ufal.udpipe\n",
            "  Building wheel for ufal.udpipe (setup.py) ... \u001b[?25l\u001b[?25hdone\n",
            "  Created wheel for ufal.udpipe: filename=ufal.udpipe-1.2.0.3-cp37-cp37m-linux_x86_64.whl size=5626650 sha256=9f8ba6bb18e1214f2c541c2f1d4773502b89101aeeacb2fb3b076e8178332dee\n",
            "  Stored in directory: /root/.cache/pip/wheels/b8/b5/8e/3da091629a21ce2d10bf90759d0cb034ba10a5cf7a01e83d64\n",
            "Successfully built ufal.udpipe\n",
            "Installing collected packages: ufal.udpipe, spacy-udpipe\n",
            "Successfully installed spacy-udpipe-1.0.0 ufal.udpipe-1.2.0.3\n"
          ]
        }
      ]
    },
    {
      "cell_type": "code",
      "source": [
        "import spacy_udpipe\n",
        "\n",
        "spacy_udpipe.download(\"ru\")\n",
        "nlp = spacy_udpipe.load(\"ru\")\n",
        "doc = nlp(\"Мама мыла раму\")\n",
        "for token in doc:\n",
        "  print(token.text, token.lemma_)"
      ],
      "metadata": {
        "colab": {
          "base_uri": "https://localhost:8080/"
        },
        "id": "84x41x68Olj3",
        "outputId": "bca949ee-1131-4ba3-ecd6-7c8f3f90689d"
      },
      "execution_count": null,
      "outputs": [
        {
          "output_type": "stream",
          "name": "stdout",
          "text": [
            "Downloaded pre-trained UDPipe model for 'ru' language\n",
            "Мама мама\n",
            "мыла мыть\n",
            "раму рама\n"
          ]
        }
      ]
    },
    {
      "cell_type": "code",
      "source": [
        "def my_lemma_tokenize(text:str) -> List[str]:\n",
        "  list_of_words = []\n",
        "  doc = nlp(text)\n",
        "  for token in doc:\n",
        "    list_of_words.append(token.lemma_)\n",
        "  return list_of_words"
      ],
      "metadata": {
        "id": "WtfI2DSEQOsV"
      },
      "execution_count": null,
      "outputs": []
    },
    {
      "cell_type": "code",
      "source": [
        "my_lemma_tokenize('Я пишу программу')"
      ],
      "metadata": {
        "colab": {
          "base_uri": "https://localhost:8080/"
        },
        "id": "znX88sLWQUTz",
        "outputId": "1df31f53-e1e6-4f62-dd5f-4d7138722e81"
      },
      "execution_count": null,
      "outputs": [
        {
          "output_type": "execute_result",
          "data": {
            "text/plain": [
              "['я', 'писать', 'программа']"
            ]
          },
          "metadata": {},
          "execution_count": 73
        }
      ]
    },
    {
      "cell_type": "code",
      "source": [
        "vectorizer = CountVectorizer(lowercase=True, tokenizer=my_lemma_tokenize) "
      ],
      "metadata": {
        "id": "QDfO0uLBQazQ"
      },
      "execution_count": null,
      "outputs": []
    },
    {
      "cell_type": "code",
      "source": [
        "vectorizer.fit(texts)"
      ],
      "metadata": {
        "colab": {
          "base_uri": "https://localhost:8080/"
        },
        "id": "_WjlxG6HQeHO",
        "outputId": "8c5455c1-cb28-409a-ef59-ce640a73b326"
      },
      "execution_count": null,
      "outputs": [
        {
          "output_type": "stream",
          "name": "stderr",
          "text": [
            "/usr/local/lib/python3.7/dist-packages/sklearn/feature_extraction/text.py:517: UserWarning: The parameter 'token_pattern' will not be used since 'tokenizer' is not None'\n",
            "  \"The parameter 'token_pattern' will not be used\"\n"
          ]
        },
        {
          "output_type": "execute_result",
          "data": {
            "text/plain": [
              "CountVectorizer(tokenizer=<function my_lemma_tokenize at 0x7f8768db6950>)"
            ]
          },
          "metadata": {},
          "execution_count": 75
        }
      ]
    },
    {
      "cell_type": "code",
      "source": [
        "print(vectorizer.get_feature_names()[0:50])"
      ],
      "metadata": {
        "colab": {
          "base_uri": "https://localhost:8080/"
        },
        "id": "w0y5zBmxQg-M",
        "outputId": "3eeffa84-cf2f-4e1e-d298-92b6a13c9e97"
      },
      "execution_count": null,
      "outputs": [
        {
          "output_type": "stream",
          "name": "stdout",
          "text": [
            "['!', '\"', '#', '#1000aday', '#1042', '#13268', '#171', '#187', '#24', '#40', '#41', '#8220', '#8221', '#8230', '#card', '#ekb', '#ff', '#g', '#hny', '#in', '#ipad', '#iphone', '#k', '#klerk', '#mol', '#moneyzzz', '#motox', '#msci', '#nsk', '#pyd', '#r', '#rt', '#ru', '#ru_ff', '#the', '#ua', '#vk', '#wall', '#ykt', '#аст', '#бут', '#в', '#ввп', '#вс', '#все', '#втб', '#втб24', '#втбый', '#вэб', '#гд']\n"
          ]
        },
        {
          "output_type": "stream",
          "name": "stderr",
          "text": [
            "/usr/local/lib/python3.7/dist-packages/sklearn/utils/deprecation.py:87: FutureWarning: Function get_feature_names is deprecated; get_feature_names is deprecated in 1.0 and will be removed in 1.2. Please use get_feature_names_out instead.\n",
            "  warnings.warn(msg, category=FutureWarning)\n"
          ]
        }
      ]
    },
    {
      "cell_type": "code",
      "source": [
        "print(len(vectorizer.get_feature_names()))"
      ],
      "metadata": {
        "colab": {
          "base_uri": "https://localhost:8080/"
        },
        "id": "aMtLZ1ulRE-q",
        "outputId": "b5dbd662-dbcb-4f21-eb83-c470e4ddd662"
      },
      "execution_count": null,
      "outputs": [
        {
          "output_type": "stream",
          "name": "stdout",
          "text": [
            "16157\n"
          ]
        }
      ]
    },
    {
      "cell_type": "code",
      "source": [
        "X = vectorizer.transform(texts)"
      ],
      "metadata": {
        "id": "5JIxMUSDRGTf"
      },
      "execution_count": null,
      "outputs": []
    },
    {
      "cell_type": "markdown",
      "source": [
        "Добавим в матрицу показатели наличия ссылки на канал и тональность (0-отрицательная, 0,5-нейтральная, 1-положительная)\n"
      ],
      "metadata": {
        "id": "t2jSk3kqxdD6"
      }
    },
    {
      "cell_type": "code",
      "source": [
        "import re\n",
        "\n",
        "tg_channel = re.compile('(http[s]?:)?\\/\\/t\\.co')\n",
        "tg_tweets = []\n",
        "tg_labels = []\n",
        "for idx in range(len(texts)):\n",
        "  if tg_channel.search(texts[idx]) is not None:\n",
        "    tg_tweets.append(texts[idx])\n",
        "    tg_labels.append(labels[idx])"
      ],
      "metadata": {
        "id": "KsrZridtxnZI"
      },
      "execution_count": null,
      "outputs": []
    },
    {
      "cell_type": "code",
      "source": [
        "with open(\"RuSentiLex.txt\", \"r\", encoding=\"utf-8\") as file:\n",
        "  positive_list=[]\n",
        "  negative_list=[]\n",
        "  neutral_list=[]\n",
        "  for row in file.readlines():\n",
        "    if row[0] == '!':\n",
        "      pass\n",
        "    else:\n",
        "      row = row.split(', ')\n",
        "      if 'positive' in row:\n",
        "        positive_list.append(row[0])\n",
        "      elif 'negative' in row:\n",
        "        negative_list.append(row[0])\n",
        "      elif 'neutral' in row:\n",
        "        neutral_list.append(row[0])\n"
      ],
      "metadata": {
        "id": "aIzYVmGixsKD"
      },
      "execution_count": null,
      "outputs": []
    },
    {
      "cell_type": "markdown",
      "source": [
        "Теперь нужно проверить, как посчитанная тональность соотносится с уже готовым списком окрашенной лексики"
      ],
      "metadata": {
        "id": "V0U7O81czSy0"
      }
    },
    {
      "cell_type": "code",
      "source": [
        "c=0\n",
        "for idx in range(len(texts)):\n",
        "  doc = nlp(texts[idx].lower())\n",
        "  positive=0\n",
        "  negative=0\n",
        "  neutral=0\n",
        "  for token in doc:\n",
        "    lemma=token.lemma_\n",
        "    if lemma in positive_list:\n",
        "      positive+=1\n",
        "    if lemma in negative_list:\n",
        "      negative+=1\n",
        "    if lemma in neutral_list:\n",
        "      neutral+=1\n",
        "  emo_score = list(zip([k/len(doc) for k in [positive, negative, neutral]], [\"positive\", \"negative\", \"neutral\"]))\n",
        "  for duo in emo_score:\n",
        "    if duo[0] == max([i[0] for i in emo_score]):\n",
        "      if duo[1] == labels[idx]:\n",
        "        c+=1\n",
        "print(c/len(texts))"
      ],
      "metadata": {
        "colab": {
          "base_uri": "https://localhost:8080/"
        },
        "id": "bPJawzwyzUiv",
        "outputId": "e5147ef4-85ab-4169-cf80-906b1cc3f352"
      },
      "execution_count": null,
      "outputs": [
        {
          "output_type": "stream",
          "name": "stdout",
          "text": [
            "1.0\n"
          ]
        }
      ]
    },
    {
      "cell_type": "markdown",
      "source": [
        "Впечатляет"
      ],
      "metadata": {
        "id": "N5Tj2CUL0Hib"
      }
    },
    {
      "cell_type": "code",
      "source": [
        "import numpy as np"
      ],
      "metadata": {
        "id": "IAvvyhpw0I6f"
      },
      "execution_count": null,
      "outputs": []
    },
    {
      "cell_type": "code",
      "source": [
        "from sklearn.feature_extraction.text import TfidfTransformer\n",
        "transformer = TfidfTransformer().fit(X)\n",
        "X_transformed = transformer.transform(X) \n",
        "print(f'Матрица:\\nномер токена в словаре - tf слова\\n{X_transformed[0]}')"
      ],
      "metadata": {
        "colab": {
          "base_uri": "https://localhost:8080/"
        },
        "id": "CMLn3cWE0PMv",
        "outputId": "0ea06e23-4bbf-403b-8093-feacbb8aac0d"
      },
      "execution_count": null,
      "outputs": [
        {
          "output_type": "stream",
          "name": "stdout",
          "text": [
            "Матрица:\n",
            "номер токена в словаре - tf слова\n",
            "  (0, 15341)\t0.5324263568629732\n",
            "  (0, 11584)\t0.15073313902476837\n",
            "  (0, 9627)\t0.28144899379578087\n",
            "  (0, 9449)\t0.17206567469236075\n",
            "  (0, 9299)\t0.26390299681043833\n",
            "  (0, 8257)\t0.7178696059005679\n"
          ]
        }
      ]
    },
    {
      "cell_type": "code",
      "source": [
        "X_arr = X_transformed.toarray()\n",
        "n,m = X_arr.shape\n",
        "print(n,m)"
      ],
      "metadata": {
        "colab": {
          "base_uri": "https://localhost:8080/"
        },
        "id": "Bj2N_Pcn0qYz",
        "outputId": "bdcc112c-d454-4c1e-c57e-cbb94a879630"
      },
      "execution_count": null,
      "outputs": [
        {
          "output_type": "stream",
          "name": "stdout",
          "text": [
            "9392 16157\n"
          ]
        }
      ]
    },
    {
      "cell_type": "code",
      "source": [
        "tg_channel = re.compile('(http[s]?:)?\\/\\/t\\.co')\n",
        "X0 = np.zeros((n, 1))\n",
        "for idx in range(len(texts)):\n",
        "  if tg_channel.search(texts[idx]) is not None:\n",
        "    X0[idx] = 1\n",
        "\n",
        "Xnew = np.hstack((X_arr,X0))\n",
        "print(Xnew)"
      ],
      "metadata": {
        "colab": {
          "base_uri": "https://localhost:8080/"
        },
        "id": "plKhRps_0mLz",
        "outputId": "605e2f5f-b33d-4690-a9f7-1d23514d6aa4"
      },
      "execution_count": null,
      "outputs": [
        {
          "output_type": "stream",
          "name": "stdout",
          "text": [
            "[[0.         0.         0.         ... 0.         0.         1.        ]\n",
            " [0.         0.         0.         ... 0.         0.         1.        ]\n",
            " [0.         0.         0.         ... 0.         0.         0.        ]\n",
            " ...\n",
            " [0.         0.         0.22729295 ... 0.         0.         1.        ]\n",
            " [0.         0.         0.         ... 0.         0.         1.        ]\n",
            " [0.         0.         0.         ... 0.         0.         0.        ]]\n"
          ]
        }
      ]
    },
    {
      "cell_type": "code",
      "source": [
        "X1 = np.zeros((n, 1))\n",
        "for idx in range(len(texts)):\n",
        "  doc = nlp(texts[idx].lower())\n",
        "  positive=0\n",
        "  negative=0\n",
        "  neutral=0\n",
        "  for token in doc:\n",
        "    lemma=token.lemma_\n",
        "    if lemma in positive_list:\n",
        "      positive+=1\n",
        "    if lemma in negative_list:\n",
        "      negative+=1\n",
        "    if lemma in neutral_list:\n",
        "      neutral+=1\n",
        "  emo_score = list(zip([k/len(doc) for k in [positive, negative, neutral]], [\"positive\", \"negative\", \"neutral\"]))\n",
        "  for duo in emo_score:\n",
        "    if max([i for i in emo_score]) != 0:\n",
        "      if duo[0] == max([i[0] for i in emo_score]) and duo[0] != 0:\n",
        "        if duo[1] == \"positive\":\n",
        "          X1[idx] = 1\n",
        "        elif duo[1] == \"negative\":\n",
        "          X1[idx] = 0\n",
        "        elif duo[1] == \"neutral\":\n",
        "          X1[idx] = 0.5\n",
        "    else:\n",
        "      X1[idx] = 0.5\n",
        "\n",
        "Xnew = np.hstack((Xnew,X1))\n",
        "print(Xnew)"
      ],
      "metadata": {
        "colab": {
          "base_uri": "https://localhost:8080/"
        },
        "id": "wxMc9mpC00cu",
        "outputId": "1a357c59-3884-4b2b-c3a6-ba8051707d65"
      },
      "execution_count": null,
      "outputs": [
        {
          "output_type": "stream",
          "name": "stdout",
          "text": [
            "[[0.         0.         0.         ... 0.         1.         0.        ]\n",
            " [0.         0.         0.         ... 0.         1.         0.        ]\n",
            " [0.         0.         0.         ... 0.         0.         0.        ]\n",
            " ...\n",
            " [0.         0.         0.22729295 ... 0.         1.         0.        ]\n",
            " [0.         0.         0.         ... 0.         1.         0.        ]\n",
            " [0.         0.         0.         ... 0.         0.         0.        ]]\n"
          ]
        }
      ]
    },
    {
      "cell_type": "markdown",
      "source": [
        "Пора учиться"
      ],
      "metadata": {
        "id": "5NQgiJY81J6x"
      }
    },
    {
      "cell_type": "markdown",
      "source": [
        "Логистическая регрессия с “пакетной” градиентной оптимизацей при обучении с подбором гиперпараметров с помощью перебора"
      ],
      "metadata": {
        "id": "gxUvRxix3ypW"
      }
    },
    {
      "cell_type": "code",
      "source": [
        "cls = LogisticRegression(solver='liblinear', verbose=True)"
      ],
      "metadata": {
        "id": "osRnPBjG1UAt"
      },
      "execution_count": null,
      "outputs": []
    },
    {
      "cell_type": "code",
      "source": [
        "from sklearn.feature_selection import SelectPercentile, chi2\n",
        "selector = SelectPercentile(chi2, percentile=20)"
      ],
      "metadata": {
        "id": "M1_Ea0hi1Wdo"
      },
      "execution_count": null,
      "outputs": []
    },
    {
      "cell_type": "code",
      "source": [
        "selector.fit(Xnew, labels)"
      ],
      "metadata": {
        "colab": {
          "base_uri": "https://localhost:8080/"
        },
        "id": "OZfhDTkB1Z26",
        "outputId": "8293c7b2-0874-418e-d962-575e4c70340b"
      },
      "execution_count": null,
      "outputs": [
        {
          "output_type": "execute_result",
          "data": {
            "text/plain": [
              "SelectPercentile(percentile=20, score_func=<function chi2 at 0x7f883c18e9e0>)"
            ]
          },
          "metadata": {},
          "execution_count": 90
        }
      ]
    },
    {
      "cell_type": "code",
      "source": [
        "tokens_with_IDF = list(zip(vectorizer.get_feature_names(), transformer.idf_))"
      ],
      "metadata": {
        "colab": {
          "base_uri": "https://localhost:8080/"
        },
        "id": "DV-lmhoe1gBh",
        "outputId": "35b95a85-4f97-42db-f249-cde8d80a0a09"
      },
      "execution_count": null,
      "outputs": [
        {
          "output_type": "stream",
          "name": "stderr",
          "text": [
            "/usr/local/lib/python3.7/dist-packages/sklearn/utils/deprecation.py:87: FutureWarning: Function get_feature_names is deprecated; get_feature_names is deprecated in 1.0 and will be removed in 1.2. Please use get_feature_names_out instead.\n",
            "  warnings.warn(msg, category=FutureWarning)\n"
          ]
        }
      ]
    },
    {
      "cell_type": "code",
      "source": [
        "for feature, idf in tokens_with_IDF[0:50]: print('{0:.6f} => {1}'.format(idf, feature))"
      ],
      "metadata": {
        "colab": {
          "base_uri": "https://localhost:8080/"
        },
        "id": "lzVeMCi71iwm",
        "outputId": "364ddab1-b6b6-4b05-b3c2-5da5bc9e859b"
      },
      "execution_count": null,
      "outputs": [
        {
          "output_type": "stream",
          "name": "stdout",
          "text": [
            "4.424135 => !\n",
            "4.088597 => \"\n",
            "3.229025 => #\n",
            "9.454573 => #1000aday\n",
            "9.454573 => #1042\n",
            "9.454573 => #13268\n",
            "9.454573 => #171\n",
            "9.454573 => #187\n",
            "9.454573 => #24\n",
            "9.454573 => #40\n",
            "9.454573 => #41\n",
            "9.049108 => #8220\n",
            "9.049108 => #8221\n",
            "6.536802 => #8230\n",
            "9.454573 => #card\n",
            "9.454573 => #ekb\n",
            "9.049108 => #ff\n",
            "9.454573 => #g\n",
            "9.454573 => #hny\n",
            "9.049108 => #in\n",
            "9.049108 => #ipad\n",
            "8.538282 => #iphone\n",
            "9.454573 => #k\n",
            "9.454573 => #klerk\n",
            "9.049108 => #mol\n",
            "9.454573 => #moneyzzz\n",
            "9.454573 => #motox\n",
            "9.049108 => #msci\n",
            "9.454573 => #nsk\n",
            "9.454573 => #pyd\n",
            "8.201810 => #r\n",
            "8.201810 => #rt\n",
            "9.049108 => #ru\n",
            "8.761426 => #ru_ff\n",
            "8.355961 => #the\n",
            "9.454573 => #ua\n",
            "8.355961 => #vk\n",
            "8.355961 => #wall\n",
            "9.454573 => #ykt\n",
            "9.454573 => #аст\n",
            "9.454573 => #бут\n",
            "8.538282 => #в\n",
            "9.454573 => #ввп\n",
            "9.454573 => #вс\n",
            "9.454573 => #все\n",
            "6.592372 => #втб\n",
            "9.454573 => #втб24\n",
            "9.454573 => #втбый\n",
            "9.454573 => #вэб\n",
            "9.454573 => #гд\n"
          ]
        }
      ]
    },
    {
      "cell_type": "code",
      "source": [
        "sorted_tokens_with_IDF = sorted(tokens_with_IDF, key=lambda it: (-it[1], it[0]))"
      ],
      "metadata": {
        "id": "N69o7cjX1m_p"
      },
      "execution_count": null,
      "outputs": []
    },
    {
      "cell_type": "code",
      "source": [
        "for feature, idf in sorted_tokens_with_IDF[0:20]: print('{0:.6f} => {1}'.format(idf, feature))"
      ],
      "metadata": {
        "colab": {
          "base_uri": "https://localhost:8080/"
        },
        "id": "L3R5kqpA1pGh",
        "outputId": "dcd314c0-7ee9-47a1-f5e8-aba5f5193419"
      },
      "execution_count": null,
      "outputs": [
        {
          "output_type": "stream",
          "name": "stdout",
          "text": [
            "9.454573 => #1000aday\n",
            "9.454573 => #1042\n",
            "9.454573 => #13268\n",
            "9.454573 => #171\n",
            "9.454573 => #187\n",
            "9.454573 => #24\n",
            "9.454573 => #40\n",
            "9.454573 => #41\n",
            "9.454573 => #card\n",
            "9.454573 => #ekb\n",
            "9.454573 => #g\n",
            "9.454573 => #hny\n",
            "9.454573 => #k\n",
            "9.454573 => #klerk\n",
            "9.454573 => #moneyzzz\n",
            "9.454573 => #motox\n",
            "9.454573 => #nsk\n",
            "9.454573 => #pyd\n",
            "9.454573 => #ua\n",
            "9.454573 => #ykt\n"
          ]
        }
      ]
    },
    {
      "cell_type": "code",
      "source": [
        "print(len(sorted_tokens_with_IDF))"
      ],
      "metadata": {
        "colab": {
          "base_uri": "https://localhost:8080/"
        },
        "id": "hY1tEFoA1snK",
        "outputId": "806a9f99-c374-4a0b-dba7-6b28849e5e4a"
      },
      "execution_count": null,
      "outputs": [
        {
          "output_type": "stream",
          "name": "stdout",
          "text": [
            "16157\n"
          ]
        }
      ]
    },
    {
      "cell_type": "code",
      "source": [
        "selector.fit(X_transformed, labels)"
      ],
      "metadata": {
        "colab": {
          "base_uri": "https://localhost:8080/"
        },
        "id": "9X3MmXAY1-L4",
        "outputId": "04b3cb41-dda1-436d-ca10-48184df48243"
      },
      "execution_count": null,
      "outputs": [
        {
          "output_type": "execute_result",
          "data": {
            "text/plain": [
              "SelectPercentile(percentile=20, score_func=<function chi2 at 0x7f883c18e9e0>)"
            ]
          },
          "metadata": {},
          "execution_count": 97
        }
      ]
    },
    {
      "cell_type": "code",
      "source": [
        "selected_tokens_with_IDF = [tokens_with_IDF[idx] for idx in selector.get_support(indices=True)]"
      ],
      "metadata": {
        "id": "ksjhGQaZ2BOf"
      },
      "execution_count": null,
      "outputs": []
    },
    {
      "cell_type": "code",
      "source": [
        "print(len(selected_tokens_with_IDF))"
      ],
      "metadata": {
        "colab": {
          "base_uri": "https://localhost:8080/"
        },
        "id": "NlzOZIMF2EqA",
        "outputId": "58a662db-d038-4773-a1d1-381ff5a316c4"
      },
      "execution_count": null,
      "outputs": [
        {
          "output_type": "stream",
          "name": "stdout",
          "text": [
            "3232\n"
          ]
        }
      ]
    },
    {
      "cell_type": "code",
      "source": [
        "for feature, idf in selected_tokens_with_IDF[0:20]: print('{0:.6f} => {1}'.format(idf, feature))"
      ],
      "metadata": {
        "colab": {
          "base_uri": "https://localhost:8080/"
        },
        "id": "wqmTsU4r2JLt",
        "outputId": "8a4946c7-02ec-48d8-8763-9cfe2a3b94a5"
      },
      "execution_count": null,
      "outputs": [
        {
          "output_type": "stream",
          "name": "stdout",
          "text": [
            "4.424135 => !\n",
            "4.088597 => \"\n",
            "3.229025 => #\n",
            "9.454573 => #1042\n",
            "9.454573 => #171\n",
            "6.536802 => #8230\n",
            "9.454573 => #ekb\n",
            "9.049108 => #ff\n",
            "9.049108 => #in\n",
            "9.454573 => #klerk\n",
            "9.049108 => #msci\n",
            "8.201810 => #r\n",
            "8.201810 => #rt\n",
            "9.454573 => #ua\n",
            "8.538282 => #в\n",
            "6.592372 => #втб\n",
            "9.454573 => #ед\n",
            "9.454573 => #екб\n",
            "8.761426 => #ес\n",
            "9.454573 => #мск\n"
          ]
        }
      ]
    },
    {
      "cell_type": "code",
      "source": [
        "selected_and_sorted_tokens_with_IDF = sorted(selected_tokens_with_IDF, key=lambda it: (-it[1], it[0]))"
      ],
      "metadata": {
        "id": "V8RCYUmL2Kpt"
      },
      "execution_count": null,
      "outputs": []
    },
    {
      "cell_type": "code",
      "source": [
        "for feature, idf in selected_and_sorted_tokens_with_IDF[0:20]: print('{0:.6f} => {1}'.format(idf, feature))"
      ],
      "metadata": {
        "colab": {
          "base_uri": "https://localhost:8080/"
        },
        "id": "nMdIkpzB2OVY",
        "outputId": "2448ba28-7ceb-4c48-887b-eec74094f035"
      },
      "execution_count": null,
      "outputs": [
        {
          "output_type": "stream",
          "name": "stdout",
          "text": [
            "9.454573 => #1042\n",
            "9.454573 => #171\n",
            "9.454573 => #ekb\n",
            "9.454573 => #klerk\n",
            "9.454573 => #ua\n",
            "9.454573 => #ед\n",
            "9.454573 => #екб\n",
            "9.454573 => #мск\n",
            "9.454573 => #н-лат\n",
            "9.454573 => #ь\n",
            "9.454573 => &lt;3\n",
            "9.454573 => *^____^*\n",
            "9.454573 => +5тысяча\n",
            "9.454573 => ,#\n",
            "9.454573 => ,что2\n",
            "9.454573 => -депозит\n",
            "9.454573 => -лидер\n",
            "9.454573 => -офиса\n",
            "9.454573 => ._\n",
            "9.454573 => .ь\n"
          ]
        }
      ]
    },
    {
      "cell_type": "code",
      "source": [
        "from sklearn.linear_model import LogisticRegression"
      ],
      "metadata": {
        "id": "GJuprQPZ2Q11"
      },
      "execution_count": null,
      "outputs": []
    },
    {
      "cell_type": "code",
      "source": [
        "cls = LogisticRegression(solver='liblinear', verbose=True)"
      ],
      "metadata": {
        "id": "xkMQSi-e2Vtc"
      },
      "execution_count": null,
      "outputs": []
    },
    {
      "cell_type": "code",
      "source": [
        "X_transformed_and_selected = selector.transform(X_transformed)"
      ],
      "metadata": {
        "id": "iDEawpJv2YpP"
      },
      "execution_count": null,
      "outputs": []
    },
    {
      "cell_type": "code",
      "source": [
        "cls.fit(X_transformed_and_selected, labels)"
      ],
      "metadata": {
        "colab": {
          "base_uri": "https://localhost:8080/"
        },
        "id": "opAFoiZ42czR",
        "outputId": "9d84553b-13ff-4e72-eca2-4ac0c1ce9b66"
      },
      "execution_count": null,
      "outputs": [
        {
          "output_type": "stream",
          "name": "stdout",
          "text": [
            "[LibLinear]"
          ]
        },
        {
          "output_type": "execute_result",
          "data": {
            "text/plain": [
              "LogisticRegression(solver='liblinear', verbose=True)"
            ]
          },
          "metadata": {},
          "execution_count": 106
        }
      ]
    },
    {
      "cell_type": "code",
      "source": [
        "classes_list = list(cls.classes_)"
      ],
      "metadata": {
        "id": "eBSzYn6n2f75"
      },
      "execution_count": null,
      "outputs": []
    },
    {
      "cell_type": "code",
      "source": [
        "print(classes_list)"
      ],
      "metadata": {
        "colab": {
          "base_uri": "https://localhost:8080/"
        },
        "id": "Xf2EkpSt2jJh",
        "outputId": "8197a381-a6bf-4ca2-842d-e11406763dae"
      },
      "execution_count": null,
      "outputs": [
        {
          "output_type": "stream",
          "name": "stdout",
          "text": [
            "['negative', 'neutral', 'positive']\n"
          ]
        }
      ]
    },
    {
      "cell_type": "code",
      "source": [
        "texts_for_testing, labels_for_testing = load_sentirueval_2016('banks_test_etalon.xml')"
      ],
      "metadata": {
        "id": "Q8L1q4vj2lfR"
      },
      "execution_count": null,
      "outputs": []
    },
    {
      "cell_type": "code",
      "source": [
        "from sklearn.pipeline import Pipeline"
      ],
      "metadata": {
        "id": "0oWeRKKo2quw"
      },
      "execution_count": null,
      "outputs": []
    },
    {
      "cell_type": "code",
      "source": [
        "pipeline_logreg_grid = Pipeline(\n",
        "    [\n",
        "        ('vectorizer', vectorizer),\n",
        "        ('tfidf', transformer),\n",
        "        ('selector', selector),\n",
        "        ('final_classifier', cls)\n",
        "    ]\n",
        ")"
      ],
      "metadata": {
        "id": "5SyLjq5L3B_Y"
      },
      "execution_count": null,
      "outputs": []
    },
    {
      "cell_type": "code",
      "source": [
        "from sklearn.metrics import roc_curve\n",
        "import numpy as np"
      ],
      "metadata": {
        "id": "BlMA05oS3C8n"
      },
      "execution_count": null,
      "outputs": []
    },
    {
      "cell_type": "code",
      "source": [
        "probabilities_logreg_grid = pipeline_logreg_grid.predict_proba(texts_for_testing)"
      ],
      "metadata": {
        "id": "h88JLHuJ3GXv"
      },
      "execution_count": null,
      "outputs": []
    },
    {
      "cell_type": "code",
      "source": [
        "predicted_labels_logreg_grid = pipeline_logreg_grid.predict(texts_for_testing)"
      ],
      "metadata": {
        "id": "r-jjJCuM3dTs"
      },
      "execution_count": null,
      "outputs": []
    },
    {
      "cell_type": "markdown",
      "source": [
        "Логистическая регрессия со стохастической градиентной оптимизацей при обучении с подбором гиперпараметров с помощью перебора"
      ],
      "metadata": {
        "id": "gdsKOHTZ3tFB"
      }
    },
    {
      "cell_type": "code",
      "source": [
        "from sklearn.linear_model import SGDClassifier"
      ],
      "metadata": {
        "id": "sB0PFHab4E6u"
      },
      "execution_count": null,
      "outputs": []
    },
    {
      "cell_type": "code",
      "source": [
        "grid_sgd = GridSearchCV(\n",
        "    estimator=SGDClassifier(loss='log'),\n",
        "    param_grid={'alpha': [1e-4,1e-3,1e-2, 1e-1], 'penalty': ['l1', 'l2']},\n",
        "    scoring=f1_macro_scorer,\n",
        "    n_jobs=-1\n",
        ")"
      ],
      "metadata": {
        "id": "ZQoW4mUE4K1T"
      },
      "execution_count": null,
      "outputs": []
    },
    {
      "cell_type": "code",
      "source": [
        "from time import time"
      ],
      "metadata": {
        "id": "bxrkkEvZ4Nm1"
      },
      "execution_count": null,
      "outputs": []
    },
    {
      "cell_type": "code",
      "source": [
        "before=time()\n",
        "grid_sgd.fit(X_transformed_and_selected, labels)\n",
        "time_passed_grid_2=time()-before"
      ],
      "metadata": {
        "id": "CcmgXZTK4RLL"
      },
      "execution_count": null,
      "outputs": []
    },
    {
      "cell_type": "code",
      "source": [
        "grid_sgd.best_params_"
      ],
      "metadata": {
        "colab": {
          "base_uri": "https://localhost:8080/"
        },
        "id": "XerqGOz24TC6",
        "outputId": "406bc5eb-93ba-4b96-daea-241e8109e1d3"
      },
      "execution_count": null,
      "outputs": [
        {
          "output_type": "execute_result",
          "data": {
            "text/plain": [
              "{'alpha': 0.0001, 'penalty': 'l1'}"
            ]
          },
          "metadata": {},
          "execution_count": 120
        }
      ]
    },
    {
      "cell_type": "code",
      "source": [
        "cls_sgd_grid = SGDClassifier(loss='log', alpha= 0.0001, penalty= 'l1')\n",
        "before=time()\n",
        "cls_sgd_grid.fit(X_transformed_and_selected, labels)\n",
        "time_passed_sgd_1=time()-before"
      ],
      "metadata": {
        "id": "HfmXaGar4Xee"
      },
      "execution_count": null,
      "outputs": []
    },
    {
      "cell_type": "code",
      "source": [
        "pipeline_sgd_grid = Pipeline(\n",
        "    [\n",
        "        ('vectorizer', vectorizer),\n",
        "        ('tfidf', transformer),\n",
        "        ('selector', selector),\n",
        "        ('final_classifier', cls_sgd_grid)\n",
        "    ]\n",
        ")"
      ],
      "metadata": {
        "id": "CGP7zJpB4eKV"
      },
      "execution_count": null,
      "outputs": []
    },
    {
      "cell_type": "code",
      "source": [
        "probabilities_sgd_grid = pipeline_sgd_grid.predict_proba(texts_for_testing)"
      ],
      "metadata": {
        "id": "wEvTcj374hPz"
      },
      "execution_count": null,
      "outputs": []
    },
    {
      "cell_type": "code",
      "source": [
        "predicted_labels_sgd_grid = pipeline_sgd_grid.predict(texts_for_testing)"
      ],
      "metadata": {
        "id": "87dm0gvo5Ney"
      },
      "execution_count": null,
      "outputs": []
    },
    {
      "cell_type": "markdown",
      "source": [
        "Логистическая регрессия с “пакетной” градиентной оптимизацей при обучении с подбором гиперпараметров с помощью Байесовской оптимизации\n"
      ],
      "metadata": {
        "id": "qDyW2xYR5P4p"
      }
    },
    {
      "cell_type": "code",
      "source": [
        "pip install scikit-optimize"
      ],
      "metadata": {
        "colab": {
          "base_uri": "https://localhost:8080/"
        },
        "id": "BVJMxcic5S5p",
        "outputId": "989ada82-89b6-43d5-818f-3663a2880d35"
      },
      "execution_count": null,
      "outputs": [
        {
          "output_type": "stream",
          "name": "stdout",
          "text": [
            "Looking in indexes: https://pypi.org/simple, https://us-python.pkg.dev/colab-wheels/public/simple/\n",
            "Collecting scikit-optimize\n",
            "  Downloading scikit_optimize-0.9.0-py2.py3-none-any.whl (100 kB)\n",
            "\u001b[K     |████████████████████████████████| 100 kB 3.4 MB/s \n",
            "\u001b[?25hCollecting pyaml>=16.9\n",
            "  Downloading pyaml-21.10.1-py2.py3-none-any.whl (24 kB)\n",
            "Requirement already satisfied: numpy>=1.13.3 in /usr/local/lib/python3.7/dist-packages (from scikit-optimize) (1.21.6)\n",
            "Requirement already satisfied: scipy>=0.19.1 in /usr/local/lib/python3.7/dist-packages (from scikit-optimize) (1.7.3)\n",
            "Requirement already satisfied: joblib>=0.11 in /usr/local/lib/python3.7/dist-packages (from scikit-optimize) (1.2.0)\n",
            "Requirement already satisfied: scikit-learn>=0.20.0 in /usr/local/lib/python3.7/dist-packages (from scikit-optimize) (1.0.2)\n",
            "Requirement already satisfied: PyYAML in /usr/local/lib/python3.7/dist-packages (from pyaml>=16.9->scikit-optimize) (6.0)\n",
            "Requirement already satisfied: threadpoolctl>=2.0.0 in /usr/local/lib/python3.7/dist-packages (from scikit-learn>=0.20.0->scikit-optimize) (3.1.0)\n",
            "Installing collected packages: pyaml, scikit-optimize\n",
            "Successfully installed pyaml-21.10.1 scikit-optimize-0.9.0\n"
          ]
        }
      ]
    },
    {
      "cell_type": "code",
      "source": [
        "from skopt import BayesSearchCV"
      ],
      "metadata": {
        "id": "RZ1bVKyR5i68"
      },
      "execution_count": null,
      "outputs": []
    },
    {
      "cell_type": "code",
      "source": [
        "bayes_logreg = BayesSearchCV(LogisticRegression(solver='liblinear'),\n",
        "{\n",
        "'C': [1e-2, 1e-1, 1, 1e+1, 1e+2, 1e+3],'penalty': ['l1', 'l2']},\n",
        "n_iter=32,\n",
        "random_state=0,\n",
        "n_jobs=-1)"
      ],
      "metadata": {
        "id": "OMJZSeGv5mKD"
      },
      "execution_count": null,
      "outputs": []
    },
    {
      "cell_type": "code",
      "source": [
        "before=time()\n",
        "bayes_logreg.fit(X_transformed_and_selected, labels)\n",
        "time_passed_bayes_1=time()-before"
      ],
      "metadata": {
        "colab": {
          "base_uri": "https://localhost:8080/"
        },
        "id": "9Qhq1D995o8w",
        "outputId": "64d4582f-ab1c-4a8a-d71a-94b3dcf03bae"
      },
      "execution_count": null,
      "outputs": [
        {
          "output_type": "stream",
          "name": "stderr",
          "text": [
            "/usr/local/lib/python3.7/dist-packages/skopt/optimizer/optimizer.py:449: UserWarning: The objective has been evaluated at this point before.\n",
            "  warnings.warn(\"The objective has been evaluated \"\n",
            "/usr/local/lib/python3.7/dist-packages/skopt/optimizer/optimizer.py:449: UserWarning: The objective has been evaluated at this point before.\n",
            "  warnings.warn(\"The objective has been evaluated \"\n",
            "/usr/local/lib/python3.7/dist-packages/skopt/optimizer/optimizer.py:449: UserWarning: The objective has been evaluated at this point before.\n",
            "  warnings.warn(\"The objective has been evaluated \"\n",
            "/usr/local/lib/python3.7/dist-packages/skopt/optimizer/optimizer.py:449: UserWarning: The objective has been evaluated at this point before.\n",
            "  warnings.warn(\"The objective has been evaluated \"\n",
            "/usr/local/lib/python3.7/dist-packages/skopt/optimizer/optimizer.py:449: UserWarning: The objective has been evaluated at this point before.\n",
            "  warnings.warn(\"The objective has been evaluated \"\n",
            "/usr/local/lib/python3.7/dist-packages/skopt/optimizer/optimizer.py:449: UserWarning: The objective has been evaluated at this point before.\n",
            "  warnings.warn(\"The objective has been evaluated \"\n",
            "/usr/local/lib/python3.7/dist-packages/skopt/optimizer/optimizer.py:449: UserWarning: The objective has been evaluated at this point before.\n",
            "  warnings.warn(\"The objective has been evaluated \"\n",
            "/usr/local/lib/python3.7/dist-packages/skopt/optimizer/optimizer.py:449: UserWarning: The objective has been evaluated at this point before.\n",
            "  warnings.warn(\"The objective has been evaluated \"\n",
            "/usr/local/lib/python3.7/dist-packages/skopt/optimizer/optimizer.py:449: UserWarning: The objective has been evaluated at this point before.\n",
            "  warnings.warn(\"The objective has been evaluated \"\n",
            "/usr/local/lib/python3.7/dist-packages/skopt/optimizer/optimizer.py:449: UserWarning: The objective has been evaluated at this point before.\n",
            "  warnings.warn(\"The objective has been evaluated \"\n",
            "/usr/local/lib/python3.7/dist-packages/skopt/optimizer/optimizer.py:449: UserWarning: The objective has been evaluated at this point before.\n",
            "  warnings.warn(\"The objective has been evaluated \"\n",
            "/usr/local/lib/python3.7/dist-packages/skopt/optimizer/optimizer.py:449: UserWarning: The objective has been evaluated at this point before.\n",
            "  warnings.warn(\"The objective has been evaluated \"\n",
            "/usr/local/lib/python3.7/dist-packages/skopt/optimizer/optimizer.py:449: UserWarning: The objective has been evaluated at this point before.\n",
            "  warnings.warn(\"The objective has been evaluated \"\n",
            "/usr/local/lib/python3.7/dist-packages/skopt/optimizer/optimizer.py:449: UserWarning: The objective has been evaluated at this point before.\n",
            "  warnings.warn(\"The objective has been evaluated \"\n",
            "/usr/local/lib/python3.7/dist-packages/skopt/optimizer/optimizer.py:449: UserWarning: The objective has been evaluated at this point before.\n",
            "  warnings.warn(\"The objective has been evaluated \"\n",
            "/usr/local/lib/python3.7/dist-packages/skopt/optimizer/optimizer.py:449: UserWarning: The objective has been evaluated at this point before.\n",
            "  warnings.warn(\"The objective has been evaluated \"\n",
            "/usr/local/lib/python3.7/dist-packages/skopt/optimizer/optimizer.py:449: UserWarning: The objective has been evaluated at this point before.\n",
            "  warnings.warn(\"The objective has been evaluated \"\n",
            "/usr/local/lib/python3.7/dist-packages/skopt/optimizer/optimizer.py:449: UserWarning: The objective has been evaluated at this point before.\n",
            "  warnings.warn(\"The objective has been evaluated \"\n"
          ]
        }
      ]
    },
    {
      "cell_type": "code",
      "source": [
        "bayes_logreg.best_params_"
      ],
      "metadata": {
        "colab": {
          "base_uri": "https://localhost:8080/"
        },
        "id": "6hVvrTUw5r0S",
        "outputId": "9ff4a61a-8e7b-4431-c01c-7379cbaf7bd8"
      },
      "execution_count": null,
      "outputs": [
        {
          "output_type": "execute_result",
          "data": {
            "text/plain": [
              "OrderedDict([('C', 100.0), ('penalty', 'l2')])"
            ]
          },
          "metadata": {},
          "execution_count": 132
        }
      ]
    },
    {
      "cell_type": "code",
      "source": [
        "cls_logreg_bayes = LogisticRegression(solver='liblinear', verbose=True, C= 100, penalty= 'l2')\n",
        "before=time()\n",
        "cls_logreg_bayes.fit(X_transformed_and_selected, labels)\n",
        "time_passed_logreg_2=time()-before"
      ],
      "metadata": {
        "colab": {
          "base_uri": "https://localhost:8080/"
        },
        "id": "erdEdElu5uNR",
        "outputId": "b2e3656d-abcd-4ffb-a0df-841062d4ab4c"
      },
      "execution_count": null,
      "outputs": [
        {
          "output_type": "stream",
          "name": "stdout",
          "text": [
            "[LibLinear]"
          ]
        }
      ]
    },
    {
      "cell_type": "code",
      "source": [
        "pipeline_logreg_bayes = Pipeline(\n",
        "    [\n",
        "        ('vectorizer', vectorizer),\n",
        "        ('tfidf', transformer),\n",
        "        ('selector', selector),\n",
        "        ('final_classifier', cls_logreg_bayes)\n",
        "    ]\n",
        ")"
      ],
      "metadata": {
        "id": "8evKi6Oo5vCb"
      },
      "execution_count": null,
      "outputs": []
    },
    {
      "cell_type": "code",
      "source": [
        "probabilities_logreg_bayes = pipeline_logreg_bayes.predict_proba(texts_for_testing)"
      ],
      "metadata": {
        "id": "f-orG78x56pb"
      },
      "execution_count": null,
      "outputs": []
    },
    {
      "cell_type": "code",
      "source": [
        "predicted_labels_logreg_bayes=pipeline_logreg_bayes.predict(texts_for_testing)"
      ],
      "metadata": {
        "id": "2Q_6lDL659W1"
      },
      "execution_count": null,
      "outputs": []
    },
    {
      "cell_type": "markdown",
      "source": [
        "Логистическая регрессия со стохастической градиентной оптимизацей при обучении с подбором гиперпараметров с помощью Байесовской оптимизации\n"
      ],
      "metadata": {
        "id": "q0FYLZvc6taZ"
      }
    },
    {
      "cell_type": "code",
      "source": [
        "bayes_sgd = BayesSearchCV(SGDClassifier(loss='log'),\n",
        "{\n",
        "'alpha': [1e-4,1e-3,1e-2, 1e-1],'penalty': ['l1', 'l2']},\n",
        "n_iter=32,\n",
        "random_state=0,\n",
        "n_jobs=-1)"
      ],
      "metadata": {
        "id": "INk5C0z96wee"
      },
      "execution_count": null,
      "outputs": []
    },
    {
      "cell_type": "code",
      "source": [
        "before=time()\n",
        "bayes_sgd.fit(X_transformed_and_selected,labels)\n",
        "time_passed_bayes_2=time()-before"
      ],
      "metadata": {
        "colab": {
          "base_uri": "https://localhost:8080/"
        },
        "id": "wXMrv-b161lY",
        "outputId": "b5846183-b35d-4dcb-f74b-6b6b1ecea828"
      },
      "execution_count": null,
      "outputs": [
        {
          "output_type": "stream",
          "name": "stderr",
          "text": [
            "/usr/local/lib/python3.7/dist-packages/skopt/optimizer/optimizer.py:449: UserWarning: The objective has been evaluated at this point before.\n",
            "  warnings.warn(\"The objective has been evaluated \"\n",
            "/usr/local/lib/python3.7/dist-packages/skopt/optimizer/optimizer.py:449: UserWarning: The objective has been evaluated at this point before.\n",
            "  warnings.warn(\"The objective has been evaluated \"\n",
            "/usr/local/lib/python3.7/dist-packages/skopt/optimizer/optimizer.py:449: UserWarning: The objective has been evaluated at this point before.\n",
            "  warnings.warn(\"The objective has been evaluated \"\n",
            "/usr/local/lib/python3.7/dist-packages/skopt/optimizer/optimizer.py:449: UserWarning: The objective has been evaluated at this point before.\n",
            "  warnings.warn(\"The objective has been evaluated \"\n",
            "/usr/local/lib/python3.7/dist-packages/skopt/optimizer/optimizer.py:449: UserWarning: The objective has been evaluated at this point before.\n",
            "  warnings.warn(\"The objective has been evaluated \"\n",
            "/usr/local/lib/python3.7/dist-packages/skopt/optimizer/optimizer.py:449: UserWarning: The objective has been evaluated at this point before.\n",
            "  warnings.warn(\"The objective has been evaluated \"\n",
            "/usr/local/lib/python3.7/dist-packages/skopt/optimizer/optimizer.py:449: UserWarning: The objective has been evaluated at this point before.\n",
            "  warnings.warn(\"The objective has been evaluated \"\n",
            "/usr/local/lib/python3.7/dist-packages/skopt/optimizer/optimizer.py:449: UserWarning: The objective has been evaluated at this point before.\n",
            "  warnings.warn(\"The objective has been evaluated \"\n",
            "/usr/local/lib/python3.7/dist-packages/skopt/optimizer/optimizer.py:449: UserWarning: The objective has been evaluated at this point before.\n",
            "  warnings.warn(\"The objective has been evaluated \"\n",
            "/usr/local/lib/python3.7/dist-packages/skopt/optimizer/optimizer.py:449: UserWarning: The objective has been evaluated at this point before.\n",
            "  warnings.warn(\"The objective has been evaluated \"\n",
            "/usr/local/lib/python3.7/dist-packages/skopt/optimizer/optimizer.py:449: UserWarning: The objective has been evaluated at this point before.\n",
            "  warnings.warn(\"The objective has been evaluated \"\n",
            "/usr/local/lib/python3.7/dist-packages/skopt/optimizer/optimizer.py:449: UserWarning: The objective has been evaluated at this point before.\n",
            "  warnings.warn(\"The objective has been evaluated \"\n",
            "/usr/local/lib/python3.7/dist-packages/skopt/optimizer/optimizer.py:449: UserWarning: The objective has been evaluated at this point before.\n",
            "  warnings.warn(\"The objective has been evaluated \"\n",
            "/usr/local/lib/python3.7/dist-packages/skopt/optimizer/optimizer.py:449: UserWarning: The objective has been evaluated at this point before.\n",
            "  warnings.warn(\"The objective has been evaluated \"\n",
            "/usr/local/lib/python3.7/dist-packages/skopt/optimizer/optimizer.py:449: UserWarning: The objective has been evaluated at this point before.\n",
            "  warnings.warn(\"The objective has been evaluated \"\n",
            "/usr/local/lib/python3.7/dist-packages/skopt/optimizer/optimizer.py:449: UserWarning: The objective has been evaluated at this point before.\n",
            "  warnings.warn(\"The objective has been evaluated \"\n",
            "/usr/local/lib/python3.7/dist-packages/skopt/optimizer/optimizer.py:449: UserWarning: The objective has been evaluated at this point before.\n",
            "  warnings.warn(\"The objective has been evaluated \"\n",
            "/usr/local/lib/python3.7/dist-packages/skopt/optimizer/optimizer.py:449: UserWarning: The objective has been evaluated at this point before.\n",
            "  warnings.warn(\"The objective has been evaluated \"\n",
            "/usr/local/lib/python3.7/dist-packages/skopt/optimizer/optimizer.py:449: UserWarning: The objective has been evaluated at this point before.\n",
            "  warnings.warn(\"The objective has been evaluated \"\n",
            "/usr/local/lib/python3.7/dist-packages/skopt/optimizer/optimizer.py:449: UserWarning: The objective has been evaluated at this point before.\n",
            "  warnings.warn(\"The objective has been evaluated \"\n"
          ]
        }
      ]
    },
    {
      "cell_type": "code",
      "source": [
        "bayes_sgd.best_params_"
      ],
      "metadata": {
        "colab": {
          "base_uri": "https://localhost:8080/"
        },
        "id": "HIycl5O464JH",
        "outputId": "b59ebfef-7043-4276-8e35-aa8a1618b85e"
      },
      "execution_count": null,
      "outputs": [
        {
          "output_type": "execute_result",
          "data": {
            "text/plain": [
              "OrderedDict([('alpha', 0.0001), ('penalty', 'l1')])"
            ]
          },
          "metadata": {},
          "execution_count": 139
        }
      ]
    },
    {
      "cell_type": "code",
      "source": [
        "cls_sgd_bayes = SGDClassifier(loss='log', alpha=0.0001, penalty= 'l1')\n",
        "before=time()\n",
        "cls_sgd_bayes.fit(X_transformed_and_selected, labels)\n",
        "time_passed_sgd_2=time()-before"
      ],
      "metadata": {
        "id": "1OVCHeOx66f2"
      },
      "execution_count": null,
      "outputs": []
    },
    {
      "cell_type": "code",
      "source": [
        "pipeline_sgd_bayes = Pipeline(\n",
        "    [\n",
        "        ('vectorizer', vectorizer),\n",
        "        ('tfidf', transformer),\n",
        "        ('selector', selector),\n",
        "        ('final_classifier', cls_sgd_bayes)\n",
        "    ]\n",
        ")"
      ],
      "metadata": {
        "id": "qJNFHD9g684T"
      },
      "execution_count": null,
      "outputs": []
    },
    {
      "cell_type": "code",
      "source": [
        "probabilities_sgd_bayes = pipeline_sgd_bayes.predict_proba(texts_for_testing)"
      ],
      "metadata": {
        "id": "2pIej6sp7Fvx"
      },
      "execution_count": null,
      "outputs": []
    },
    {
      "cell_type": "code",
      "source": [
        "predicted_labels_sgd_bayes=pipeline_sgd_bayes.predict(texts_for_testing)"
      ],
      "metadata": {
        "id": "xVgsCGXz7H2b"
      },
      "execution_count": null,
      "outputs": []
    },
    {
      "cell_type": "markdown",
      "source": [
        "Сравним все 4 кривые"
      ],
      "metadata": {
        "id": "ScxFtoIs7VUe"
      }
    },
    {
      "cell_type": "code",
      "source": [
        "from sklearn.metrics import roc_curve"
      ],
      "metadata": {
        "id": "EpjSvc4q72g8"
      },
      "execution_count": null,
      "outputs": []
    },
    {
      "cell_type": "code",
      "source": [
        "def build_roc_curve(probabilities,classifier:str,parameter_search:str):\n",
        "  y_true_positives = list(map(lambda it: 1 if it == 'positive' else 0, labels_for_testing))\n",
        "  y_score_positives = probabilities[:, classes_list.index('positive')]\n",
        "  fpr_positives, tpr_positives, _, = roc_curve(y_true_positives, y_score_positives)\n",
        "  y_true_negatives = list(map(lambda it: 1 if it == 'negative' else 0, labels_for_testing))\n",
        "  y_score_negatives = probabilities[:, classes_list.index('negative')]\n",
        "  fpr_negatives, tpr_negatives, _, = roc_curve(y_true_negatives, y_score_negatives)\n",
        "  y_true_neutrals = list(map(lambda it: 1 if it == 'neutral' else 0, labels_for_testing))\n",
        "  y_score_neutrals = probabilities[:, classes_list.index('neutral')]\n",
        "  fpr_neutrals, tpr_neutrals, _, = roc_curve(y_true_neutrals, y_score_neutrals)\n",
        "  plt.plot([0, 1], [0, 1], 'k--')\n",
        "  plt.plot(fpr_positives, tpr_positives, label='Positive Sentiment')\n",
        "  plt.plot(fpr_negatives, tpr_negatives, label='Negative Sentiment')\n",
        "  plt.plot(fpr_neutrals, tpr_neutrals, label='Neutral Sentiment')\n",
        "  plt.xlabel('False positive rate')\n",
        "  plt.ylabel('True positive rate')\n",
        "  plt.title(f'ROC curve for {classifier}, parameter search with {parameter_search} ')\n",
        "  plt.legend(loc='best')"
      ],
      "metadata": {
        "id": "XQUiI-H68DGN"
      },
      "execution_count": null,
      "outputs": []
    },
    {
      "cell_type": "code",
      "source": [
        "plt.figure(1)\n",
        "build_roc_curve(probabilities_logreg_grid,'Logistic regression','Grid search')\n",
        "plt.figure(2)\n",
        "plt.subplot=build_roc_curve(probabilities_sgd_grid,'SGDC','Grid search')\n",
        "plt.figure(3)\n",
        "plt.subplot=build_roc_curve(probabilities_logreg_bayes,'Logistic regression','Bayes')\n",
        "plt.figure(4)\n",
        "plt.subplot=build_roc_curve(probabilities_sgd_bayes,'SGDC','Bayes')\n",
        "plt.show()"
      ],
      "metadata": {
        "colab": {
          "base_uri": "https://localhost:8080/",
          "height": 1000
        },
        "id": "K3yRZxWb7Y5m",
        "outputId": "84187b05-e2e5-44d5-d159-e8b3bdf635de"
      },
      "execution_count": null,
      "outputs": [
        {
          "output_type": "display_data",
          "data": {
            "text/plain": [
              "<Figure size 432x288 with 1 Axes>"
            ],
            "image/png": "[encoded data removed]"
          },
          "metadata": {
            "needs_background": "light"
          }
        },
        {
          "output_type": "display_data",
          "data": {
            "text/plain": [
              "<Figure size 432x288 with 1 Axes>"
            ],
            "image/png": "[encoded data removed]"
          },
          "metadata": {
            "needs_background": "light"
          }
        },
        {
          "output_type": "display_data",
          "data": {
            "text/plain": [
              "<Figure size 432x288 with 1 Axes>"
            ],
            "image/png": "[encoded data removed]"
          },
          "metadata": {
            "needs_background": "light"
          }
        },
        {
          "output_type": "display_data",
          "data": {
            "text/plain": [
              "<Figure size 432x288 with 1 Axes>"
            ],
            "image/png": "[encoded data removed]"
          },
          "metadata": {
            "needs_background": "light"
          }
        }
      ]
    },
    {
      "cell_type": "code",
      "source": [
        "build_roc_curve(probabilities_logreg_grid,'Logistic regression','Grid search')\n",
        "plt.subplot=build_roc_curve(probabilities_sgd_grid,'SGDC','Grid search')\n",
        "plt.subplot=build_roc_curve(probabilities_logreg_bayes,'Logistic regression','Bayes')\n",
        "plt.subplot=build_roc_curve(probabilities_sgd_bayes,'SGDC','Bayes')\n",
        "plt.show()"
      ],
      "metadata": {
        "colab": {
          "base_uri": "https://localhost:8080/",
          "height": 295
        },
        "id": "CJ6HwBuo9nuI",
        "outputId": "a021bb7a-7e5f-42f9-80b5-f5e9ec778b76"
      },
      "execution_count": null,
      "outputs": [
        {
          "output_type": "display_data",
          "data": {
            "text/plain": [
              "<Figure size 432x288 with 1 Axes>"
            ],
            "image/png": "[encoded data removed]"
          },
          "metadata": {
            "needs_background": "light"
          }
        }
      ]
    },
    {
      "cell_type": "markdown",
      "source": [
        "Как видим, ROC-кривые почти полностью накладываются друг на друга, то есть результаты работы разных алгоритмов довольно близки."
      ],
      "metadata": {
        "id": "wjksf1XZ9vW1"
      }
    },
    {
      "cell_type": "markdown",
      "source": [
        "Сравним метрики (F1-micro и F1-macro) для всех четырёх случаев"
      ],
      "metadata": {
        "id": "GINqhrMv-uZi"
      }
    },
    {
      "cell_type": "code",
      "source": [
        "from tabulate import tabulate"
      ],
      "metadata": {
        "id": "wd3iFBQ--v3C"
      },
      "execution_count": null,
      "outputs": []
    },
    {
      "cell_type": "code",
      "source": [
        "from sklearn.metrics import precision_score, recall_score\n",
        "from sklearn.metrics import confusion_matrix"
      ],
      "metadata": {
        "id": "cMy3r7AI_Kuf"
      },
      "execution_count": null,
      "outputs": []
    },
    {
      "cell_type": "code",
      "source": [
        "def recall(tp:int,fn:int) ->int:\n",
        "  return tp/(tp+fn)\n",
        "def precision(tp:int,fp:int) ->int:\n",
        "  return tp/(tp+fp)\n",
        "def f1(precision:int,recall:int) ->int:\n",
        "  return 2*precision*recall/(precision+recall)"
      ],
      "metadata": {
        "id": "U-LyIwgy_ij0"
      },
      "execution_count": null,
      "outputs": []
    },
    {
      "cell_type": "code",
      "source": [
        "def count_metrics(labels_for_testing, predicted_labels:List[str]) -> Tuple[int,int]:\n",
        "  cm=confusion_matrix(labels_for_testing, predicted_labels)\n",
        "  negative_tp=cm[0][0]\n",
        "  negative_fn=cm[0][1]+cm[0][2]\n",
        "  negative_fp=cm[1][0]+cm[2][0]\n",
        "  negative_recall=recall(negative_tp,negative_fn)\n",
        "  negative_precision=precision(negative_tp,negative_fp)\n",
        "  negative_f1=f1(negative_precision,negative_recall)\n",
        "  negative_recall,negative_precision,negative_f1\n",
        "  positive_tp=cm[2][2]\n",
        "  positive_fn=cm[2][0]+cm[2][1]\n",
        "  positive_fp=cm[0][2]+cm[1][2]\n",
        "  positive_recall=recall(positive_tp,positive_fn)\n",
        "  positive_precision=precision(positive_tp,positive_fp)\n",
        "  positive_f1=f1(positive_precision,positive_recall)\n",
        "  positive_recall,positive_precision,positive_f1\n",
        "  f1_macro=(positive_f1+negative_f1)/2\n",
        "  precision_micro=precision(negative_tp+positive_tp,negative_fp+positive_fp)\n",
        "  recall_micro=recall(negative_tp+positive_tp,negative_fn+positive_fn)\n",
        "  f1_micro=f1(precision_micro,recall_micro)\n",
        "  return round(f1_macro,3), round(f1_micro,3)"
      ],
      "metadata": {
        "id": "Sv1PVqFD_CPV"
      },
      "execution_count": null,
      "outputs": []
    },
    {
      "cell_type": "code",
      "source": [
        "print(tabulate([\n",
        "    ['logistic regression','grid_search',count_metrics(labels_for_testing,predicted_labels_logreg_grid)],\n",
        "    ['SGDC','grid_search',count_metrics(labels_for_testing,predicted_labels_sgd_grid)],\n",
        "    ['logistic regression','Bayes',count_metrics(labels_for_testing,predicted_labels_logreg_bayes)],\n",
        "    ['SGDC','Bayes',count_metrics(labels_for_testing,predicted_labels_sgd_bayes)]],\n",
        "    headers= ['Classifier','Parameter Search',('F1-macro','F1-micro')]))"
      ],
      "metadata": {
        "colab": {
          "base_uri": "https://localhost:8080/"
        },
        "id": "N5sb0R9d-ylA",
        "outputId": "d3c17aae-71ae-43e3-b3b3-6eabb7463b30"
      },
      "execution_count": null,
      "outputs": [
        {
          "output_type": "stream",
          "name": "stdout",
          "text": [
            "Classifier           Parameter Search    ('F1-macro', 'F1-micro')\n",
            "-------------------  ------------------  --------------------------\n",
            "logistic regression  grid_search         (0.347, 0.454)\n",
            "SGDC                 grid_search         (0.422, 0.479)\n",
            "logistic regression  Bayes               (0.456, 0.499)\n",
            "SGDC                 Bayes               (0.428, 0.481)\n"
          ]
        }
      ]
    },
    {
      "cell_type": "markdown",
      "source": [
        "Метрики говорят, что эффективнее всего работает пакетная реализация оптимизации при обучении в сочетании с подбором параметров с помощью Байесовской оптимизации. F1-micro во всех случаях оказалась выше, чем F1-macro. Для того, чтобы понять почему, сформируем classification report для результатов одного из алгоритмов, например, того,для которого эта разница наиболее заметна (SGDClassifier + BayesSearchSV)."
      ],
      "metadata": {
        "id": "1cw7aDbT_2yW"
      }
    },
    {
      "cell_type": "code",
      "source": [
        "from sklearn.metrics import classification_report"
      ],
      "metadata": {
        "id": "TZb6JTW9Apzz"
      },
      "execution_count": null,
      "outputs": []
    },
    {
      "cell_type": "code",
      "source": [
        "print(classification_report (labels_for_testing, predicted_labels_sgd_bayes))"
      ],
      "metadata": {
        "colab": {
          "base_uri": "https://localhost:8080/"
        },
        "id": "N9YPCr6gAsqk",
        "outputId": "27d557a4-d1cf-407a-b666-658dd6980f9a"
      },
      "execution_count": null,
      "outputs": [
        {
          "output_type": "stream",
          "name": "stdout",
          "text": [
            "              precision    recall  f1-score   support\n",
            "\n",
            "    negative       0.54      0.51      0.52       767\n",
            "     neutral       0.78      0.85      0.81      2238\n",
            "    positive       0.57      0.23      0.33       308\n",
            "\n",
            "    accuracy                           0.72      3313\n",
            "   macro avg       0.63      0.53      0.56      3313\n",
            "weighted avg       0.70      0.72      0.70      3313\n",
            "\n"
          ]
        }
      ]
    },
    {
      "cell_type": "markdown",
      "source": [
        "Итак, выводы:\n",
        "1. Для определения тональности можно и нужно использовать готовые словари оценочной лексики\n",
        "2. Пакетная реализация оптимизации при обучении в сочетании с подюором параметров с помощью Байесовской оптимизации дает лучший результат. \n",
        "3. Положительных твитов в 2,5 раза меньше, чем отрицательных. Положительные твиты классифицируются хуже (возможно,опять же, из-за ассиметрии классов, на что указывает низкая полнота), поэтому F1 для них ниже.\n",
        "Продолжение для телекомов смотрите в следующем Jupyter-ноутбуке"
      ],
      "metadata": {
        "id": "z-t3fXdGA-Mz"
      }
    }
  ]
}