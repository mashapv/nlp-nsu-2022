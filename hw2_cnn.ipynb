{
  "cells": [
    {
      "cell_type": "markdown",
      "metadata": {
        "id": "65M2rYp5E_CD"
      },
      "source": [
        "Загрузка модели FastText от DeepPavlov"
      ]
    },
    {
      "cell_type": "code",
      "execution_count": null,
      "metadata": {
        "colab": {
          "base_uri": "https://localhost:8080/"
        },
        "id": "hhJ8yAqeDgYX",
        "outputId": "84f9bca2-177d-4281-f5a3-79624911fc00"
      },
      "outputs": [
        {
          "output_type": "stream",
          "name": "stdout",
          "text": [
            "--2022-12-23 09:49:26--  http://files.deeppavlov.ai/embeddings/ft_native_300_ru_twitter_nltk_word_tokenize.bin\n",
            "Resolving files.deeppavlov.ai (files.deeppavlov.ai)... 178.63.27.41\n",
            "Connecting to files.deeppavlov.ai (files.deeppavlov.ai)|178.63.27.41|:80... connected.\n",
            "HTTP request sent, awaiting response... 301 Moved Permanently\n",
            "Location: https://files.deeppavlov.ai/embeddings/ft_native_300_ru_twitter_nltk_word_tokenize.bin [following]\n",
            "--2022-12-23 09:49:26--  https://files.deeppavlov.ai/embeddings/ft_native_300_ru_twitter_nltk_word_tokenize.bin\n",
            "Connecting to files.deeppavlov.ai (files.deeppavlov.ai)|178.63.27.41|:443... connected.\n",
            "HTTP request sent, awaiting response... 416 Requested Range Not Satisfiable\n",
            "\n",
            "    The file is already fully retrieved; nothing to do.\n",
            "\n"
          ]
        }
      ],
      "source": [
        "!wget -P /root/input/ -c \"http://files.deeppavlov.ai/embeddings/ft_native_300_ru_twitter_nltk_word_tokenize.bin\""
      ]
    },
    {
      "cell_type": "code",
      "execution_count": null,
      "metadata": {
        "id": "6EuZrXoZD9BB"
      },
      "outputs": [],
      "source": [
        "from gensim.models.fasttext import FastText"
      ]
    },
    {
      "cell_type": "code",
      "execution_count": null,
      "metadata": {
        "id": "kviLxhBUE47x"
      },
      "outputs": [],
      "source": [
        "fasttext = FastText()\n",
        "fasttext.file_name='/root/input/ft_native_300_ru_twitter_nltk_word_tokenize.bin'\n",
        "fasttext.load_binary_data()"
      ]
    },
    {
      "cell_type": "markdown",
      "metadata": {
        "id": "Vw5NDNomFGGi"
      },
      "source": [
        "Загрузка и предобработка обучающих данных"
      ]
    },
    {
      "cell_type": "code",
      "execution_count": null,
      "metadata": {
        "id": "BAZzI6Y9FJAH"
      },
      "outputs": [],
      "source": [
        "from lxml import etree\n",
        "import csv\n",
        "import numpy as np\n",
        "from typing import List, Tuple"
      ]
    },
    {
      "cell_type": "code",
      "execution_count": null,
      "metadata": {
        "colab": {
          "base_uri": "https://localhost:8080/"
        },
        "id": "nV_uhGboFLGw",
        "outputId": "69e72bd2-6a81-417e-dd21-57b978800665"
      },
      "outputs": [
        {
          "output_type": "stream",
          "name": "stderr",
          "text": [
            "[nltk_data] Downloading package punkt to /root/nltk_data...\n",
            "[nltk_data]   Package punkt is already up-to-date!\n"
          ]
        }
      ],
      "source": [
        "import nltk\n",
        "nltk.download('punkt')\n",
        "from nltk import word_tokenize"
      ]
    },
    {
      "cell_type": "code",
      "execution_count": null,
      "metadata": {
        "id": "HHPB72emFMvg"
      },
      "outputs": [],
      "source": [
        "def load_sentirueval_2016(file_name: str) -> Tuple[List[str], List[str]]:\n",
        "    texts = []\n",
        "    labels = []\n",
        "    with open(file_name, mode='rb') as fp:\n",
        "        xml_data = fp.read()\n",
        "    root = etree.fromstring(xml_data)\n",
        "    for database in root.getchildren():\n",
        "        if database.tag == 'database':\n",
        "            for table in database.getchildren():\n",
        "                if table.tag != 'table':\n",
        "                    continue\n",
        "                new_text = None\n",
        "                new_label = None\n",
        "                for column in table.getchildren():\n",
        "                    if column.get('name') == 'text':\n",
        "                        new_text = str(column.text).strip()\n",
        "                        if new_label is not None:\n",
        "                            break\n",
        "                    elif column.get('name') not in {'id', 'twitid', 'date'}:\n",
        "                        if new_label is None:\n",
        "                            label_candidate = str(column.text).strip()\n",
        "                            if label_candidate in {'0', '1', '-1'}:\n",
        "                                new_label = 'negative' if label_candidate == '-1' else \\\n",
        "                                    ('positive' if label_candidate == '1' else 'neutral')\n",
        "                                if new_text is not None:\n",
        "                                    break\n",
        "                if (new_text is None) or (new_label is None):\n",
        "                    raise ValueError('File `{0}` contains some error!'.format(file_name))\n",
        "                texts.append(new_text)\n",
        "                labels.append(new_label)\n",
        "            break\n",
        "    return texts, labels"
      ]
    },
    {
      "cell_type": "code",
      "execution_count": null,
      "metadata": {
        "id": "b-msaGG5FQpz"
      },
      "outputs": [],
      "source": [
        "texts,labels=load_sentirueval_2016('bank_train_2016.xml')"
      ]
    },
    {
      "cell_type": "code",
      "execution_count": null,
      "metadata": {
        "id": "RjSVmH0QFaCu"
      },
      "outputs": [],
      "source": [
        "label_to_num={'negative':0,'neutral':1,'positive':2}"
      ]
    },
    {
      "cell_type": "code",
      "execution_count": null,
      "metadata": {
        "id": "lF3yjNNWFauc"
      },
      "outputs": [],
      "source": [
        "num_labels=[label_to_num[label] for label in labels]"
      ]
    },
    {
      "cell_type": "code",
      "execution_count": null,
      "metadata": {
        "id": "dKnyYTjBFc0n"
      },
      "outputs": [],
      "source": [
        "from sklearn.model_selection import train_test_split\n",
        "import random\n",
        "RANDOM_SEED = 42\n",
        "random.seed(RANDOM_SEED)"
      ]
    },
    {
      "cell_type": "code",
      "execution_count": null,
      "metadata": {
        "id": "L_GcEac3Fe-A"
      },
      "outputs": [],
      "source": [
        "train_texts, val_texts, train_labels, val_labels = train_test_split(texts, num_labels, test_size=0.1, random_state=RANDOM_SEED)"
      ]
    },
    {
      "cell_type": "code",
      "execution_count": null,
      "metadata": {
        "id": "VOVHW-McFnB4"
      },
      "outputs": [],
      "source": [
        "vocab=[]\n",
        "for text in texts:\n",
        "  tokenized_text=word_tokenize(text)\n",
        "  for word in tokenized_text:\n",
        "    if word not in vocab:\n",
        "      vocab.append(word)"
      ]
    },
    {
      "cell_type": "code",
      "execution_count": null,
      "metadata": {
        "colab": {
          "base_uri": "https://localhost:8080/"
        },
        "id": "uzhmpz9GFrgj",
        "outputId": "02a7fa6b-fd94-400b-c486-8fde73360741"
      },
      "outputs": [
        {
          "output_type": "stream",
          "name": "stderr",
          "text": [
            "<ipython-input-13-7649737db746>:3: DeprecationWarning: Call to deprecated `__getitem__` (Method will be removed in 4.0.0, use self.wv.__getitem__() instead).\n",
            "  embedding_matrix[i,0:100]=fasttext[word]\n"
          ]
        }
      ],
      "source": [
        "embedding_matrix=np.zeros((len(vocab)+1, 100))\n",
        "for i,word in enumerate(vocab):\n",
        "  embedding_matrix[i,0:100]=fasttext[word]"
      ]
    },
    {
      "cell_type": "code",
      "execution_count": null,
      "metadata": {
        "id": "aeDzG6YhFtqe"
      },
      "outputs": [],
      "source": [
        "max_length=max([len(word_tokenize(text)) for text in texts])"
      ]
    },
    {
      "cell_type": "code",
      "execution_count": null,
      "metadata": {
        "id": "Wvkw21yUFujj"
      },
      "outputs": [],
      "source": [
        "from keras_preprocessing.sequence import pad_sequences\n",
        "from keras.preprocessing.text import Tokenizer\n",
        "tokenizer=Tokenizer()\n",
        "tokenizer.fit_on_texts(texts)"
      ]
    },
    {
      "cell_type": "code",
      "execution_count": null,
      "metadata": {
        "id": "9edy9orOFxga"
      },
      "outputs": [],
      "source": [
        "encoded_docs_train = tokenizer.texts_to_sequences(train_texts)\n",
        "X_train = pad_sequences(encoded_docs_train, maxlen=max_length, padding='post')\n",
        "y_train=np.asarray(train_labels)"
      ]
    },
    {
      "cell_type": "code",
      "execution_count": null,
      "metadata": {
        "id": "wQrMwrZxF1cm"
      },
      "outputs": [],
      "source": [
        "encoded_docs_val = tokenizer.texts_to_sequences(val_texts)\n",
        "X_val = pad_sequences(encoded_docs_val, maxlen=max_length, padding='post')\n",
        "y_val=np.asarray(val_labels)"
      ]
    },
    {
      "cell_type": "code",
      "execution_count": null,
      "metadata": {
        "colab": {
          "base_uri": "https://localhost:8080/"
        },
        "id": "rBCLtI4LF3Km",
        "outputId": "c80ef415-03ca-4fd0-8bf0-69cb8706081a"
      },
      "outputs": [
        {
          "output_type": "execute_result",
          "data": {
            "text/plain": [
              "((8452, 46), (8452,))"
            ]
          },
          "metadata": {},
          "execution_count": 18
        }
      ],
      "source": [
        "X_train.shape,y_train.shape"
      ]
    },
    {
      "cell_type": "code",
      "execution_count": null,
      "metadata": {
        "colab": {
          "base_uri": "https://localhost:8080/"
        },
        "id": "-yz1VfxKF4-F",
        "outputId": "e68cfc6d-28a6-47cc-bd40-0987f3a2f1c2"
      },
      "outputs": [
        {
          "output_type": "execute_result",
          "data": {
            "text/plain": [
              "((940, 46), (940,))"
            ]
          },
          "metadata": {},
          "execution_count": 19
        }
      ],
      "source": [
        "X_val.shape,y_val.shape"
      ]
    },
    {
      "cell_type": "code",
      "execution_count": null,
      "metadata": {
        "colab": {
          "base_uri": "https://localhost:8080/"
        },
        "id": "QHcFsX4BF7nt",
        "outputId": "7a69e256-4f79-4c84-963e-c149a74959ca"
      },
      "outputs": [
        {
          "output_type": "execute_result",
          "data": {
            "text/plain": [
              "(1547, 6272, 633, 8452)"
            ]
          },
          "metadata": {},
          "execution_count": 20
        }
      ],
      "source": [
        "train_labels.count(0),train_labels.count(1), train_labels.count(2), len(y_train)"
      ]
    },
    {
      "cell_type": "code",
      "execution_count": null,
      "metadata": {
        "colab": {
          "base_uri": "https://localhost:8080/"
        },
        "id": "HsxwtgDJF_Cd",
        "outputId": "e9f6e162-35d6-4d5c-c67c-2f360aaae1af"
      },
      "outputs": [
        {
          "output_type": "execute_result",
          "data": {
            "text/plain": [
              "array([[    7,    12,   147, ...,     0,     0,     0],\n",
              "       [  436,     5,   230, ...,     0,     0,     0],\n",
              "       [ 3112,   237,    38, ...,     0,     0,     0],\n",
              "       ...,\n",
              "       [ 4605,     4,     5, ...,     0,     0,     0],\n",
              "       [  123,     5,     9, ...,     0,     0,     0],\n",
              "       [16340,    40,  1109, ...,     0,     0,     0]], dtype=int32)"
            ]
          },
          "metadata": {},
          "execution_count": 21
        }
      ],
      "source": [
        "X_train"
      ]
    },
    {
      "cell_type": "code",
      "execution_count": null,
      "metadata": {
        "colab": {
          "base_uri": "https://localhost:8080/"
        },
        "id": "mKwoY9hiF_l1",
        "outputId": "82cb866a-f600-45f8-8026-bf606f134416"
      },
      "outputs": [
        {
          "output_type": "execute_result",
          "data": {
            "text/plain": [
              "array([[  139,    17,  5343, ...,     0,     0,     0],\n",
              "       [  123,   205,   388, ...,     0,     0,     0],\n",
              "       [ 2160,  3701,    90, ...,     0,     0,     0],\n",
              "       ...,\n",
              "       [   28,    52,    21, ...,     0,     0,     0],\n",
              "       [    8,    15,     6, ...,     0,     0,     0],\n",
              "       [15011,    92,   251, ...,     0,     0,     0]], dtype=int32)"
            ]
          },
          "metadata": {},
          "execution_count": 22
        }
      ],
      "source": [
        "X_val"
      ]
    },
    {
      "cell_type": "markdown",
      "metadata": {
        "id": "Pf2WNeeBGB9x"
      },
      "source": [
        "Создание и обучение нейросети"
      ]
    },
    {
      "cell_type": "code",
      "execution_count": null,
      "metadata": {
        "id": "bAOKT6uYIJXZ"
      },
      "outputs": [],
      "source": [
        "import tensorflow as tf\n",
        "tf.random.set_seed(42)"
      ]
    },
    {
      "cell_type": "code",
      "execution_count": null,
      "metadata": {
        "id": "pGuWkRtPIOJc"
      },
      "outputs": [],
      "source": [
        "from tensorflow.keras.layers import Flatten, Conv1D, MaxPooling1D, SpatialDropout1D,Dense,Dropout,Embedding\n",
        "from tensorflow.keras.losses import SparseCategoricalCrossentropy\n",
        "from keras.models import Sequential\n",
        "from keras.initializers import he_uniform, glorot_uniform\n",
        "from keras.callbacks import EarlyStopping\n",
        "from tensorflow.keras.optimizers import Adam\n",
        "from tensorflow.keras.optimizers.schedules import ExponentialDecay"
      ]
    },
    {
      "cell_type": "code",
      "execution_count": null,
      "metadata": {
        "id": "tYZ_pP8FIQ5O"
      },
      "outputs": [],
      "source": [
        "lr_schedule = ExponentialDecay(\n",
        "    initial_learning_rate=2e-3,\n",
        "    decay_steps=2 * len(X_train),\n",
        "    decay_rate=0.9\n",
        ")"
      ]
    },
    {
      "cell_type": "code",
      "execution_count": null,
      "metadata": {
        "colab": {
          "base_uri": "https://localhost:8080/"
        },
        "id": "zMQl9afzIT9b",
        "outputId": "de28ef61-8157-4650-9d4c-6dd8edef2e5b"
      },
      "outputs": [
        {
          "output_type": "stream",
          "name": "stdout",
          "text": [
            "Model: \"sequential\"\n",
            "_________________________________________________________________\n",
            " Layer (type)                Output Shape              Param #   \n",
            "=================================================================\n",
            " embedding (Embedding)       (None, 46, 100)           2165600   \n",
            "                                                                 \n",
            " Conv_Block1_Layer1 (Conv1D)  (None, 45, 64)           12864     \n",
            "                                                                 \n",
            " Conv_Block1_Layer2 (Conv1D)  (None, 44, 64)           8256      \n",
            "                                                                 \n",
            " MaxPool1 (MaxPooling1D)     (None, 22, 64)            0         \n",
            "                                                                 \n",
            " SpatialDropout1 (SpatialDro  (None, 22, 64)           0         \n",
            " pout1D)                                                         \n",
            "                                                                 \n",
            " Conv_Block2_Layer1 (Conv1D)  (None, 20, 64)           12352     \n",
            "                                                                 \n",
            " Conv_Block2_Layer2 (Conv1D)  (None, 18, 64)           12352     \n",
            "                                                                 \n",
            " MaxPool2 (MaxPooling1D)     (None, 9, 64)             0         \n",
            "                                                                 \n",
            " SpatialDropout2 (SpatialDro  (None, 9, 64)            0         \n",
            " pout1D)                                                         \n",
            "                                                                 \n",
            " flatten (Flatten)           (None, 576)               0         \n",
            "                                                                 \n",
            " HiddenLayer (Dense)         (None, 512)               295424    \n",
            "                                                                 \n",
            " DropoutAfterHidden (Dropout  (None, 512)              0         \n",
            " )                                                               \n",
            "                                                                 \n",
            " OutputLayer (Dense)         (None, 3)                 1539      \n",
            "                                                                 \n",
            "=================================================================\n",
            "Total params: 2,508,387\n",
            "Trainable params: 342,787\n",
            "Non-trainable params: 2,165,600\n",
            "_________________________________________________________________\n"
          ]
        }
      ],
      "source": [
        "cnn = Sequential()\n",
        "cnn.add(Embedding(len(vocab)+1, 100,weights=[embedding_matrix], input_length=max_length, trainable=False))\n",
        "cnn.add(Conv1D(64, 2, padding='valid', activation='relu',\n",
        "               kernel_initializer=he_uniform(seed=RANDOM_SEED), name='Conv_Block1_Layer1'))\n",
        "cnn.add(Conv1D(64, 2, activation='relu', kernel_initializer=he_uniform(seed=RANDOM_SEED),\n",
        "               name='Conv_Block1_Layer2'))\n",
        "cnn.add(MaxPooling1D(pool_size=2, name='MaxPool1'))\n",
        "cnn.add(SpatialDropout1D(rate=0.15, name='SpatialDropout1', seed=RANDOM_SEED))\n",
        "\n",
        "cnn.add(Conv1D(64, 3, padding='valid', activation='relu', kernel_initializer=he_uniform(seed=RANDOM_SEED),name='Conv_Block2_Layer1'))\n",
        "cnn.add(Conv1D(64, 3, activation='relu', kernel_initializer=he_uniform(seed=RANDOM_SEED),name='Conv_Block2_Layer2'))\n",
        "cnn.add(MaxPooling1D(pool_size=2, name='MaxPool2'))\n",
        "cnn.add(SpatialDropout1D(rate=0.15, name='SpatialDropout2', seed=RANDOM_SEED))\n",
        "\n",
        "cnn.add(Flatten())\n",
        "cnn.add(Dense(512, activation='relu', kernel_initializer=he_uniform(seed=RANDOM_SEED), name='HiddenLayer'))\n",
        "cnn.add(Dropout(rate=0.5, seed=RANDOM_SEED, name='DropoutAfterHidden'))\n",
        "cnn.add(Dense(3, activation='softmax', kernel_initializer=glorot_uniform(seed=RANDOM_SEED), name='OutputLayer'))\n",
        "cnn.compile(loss='sparse_categorical_crossentropy', optimizer='adam', metrics=['sparse_categorical_accuracy'])\n",
        "cnn.summary()"
      ]
    },
    {
      "cell_type": "code",
      "execution_count": null,
      "metadata": {
        "colab": {
          "base_uri": "https://localhost:8080/"
        },
        "id": "-bCLLD63IYr5",
        "outputId": "d341cfa6-25e9-445e-d008-480b003774b2"
      },
      "outputs": [
        {
          "output_type": "stream",
          "name": "stdout",
          "text": [
            "Epoch 1/100\n",
            "67/67 [==============================] - 9s 107ms/step - loss: 0.6737 - sparse_categorical_accuracy: 0.7473 - val_loss: 0.5264 - val_sparse_categorical_accuracy: 0.7957\n",
            "Epoch 2/100\n",
            "67/67 [==============================] - 5s 71ms/step - loss: 0.5220 - sparse_categorical_accuracy: 0.7916 - val_loss: 0.4647 - val_sparse_categorical_accuracy: 0.8053\n",
            "Epoch 3/100\n",
            "67/67 [==============================] - 4s 53ms/step - loss: 0.4853 - sparse_categorical_accuracy: 0.8076 - val_loss: 0.4389 - val_sparse_categorical_accuracy: 0.8160\n",
            "Epoch 4/100\n",
            "67/67 [==============================] - 4s 58ms/step - loss: 0.4463 - sparse_categorical_accuracy: 0.8231 - val_loss: 0.4401 - val_sparse_categorical_accuracy: 0.8160\n",
            "Epoch 5/100\n",
            "67/67 [==============================] - 4s 58ms/step - loss: 0.4259 - sparse_categorical_accuracy: 0.8309 - val_loss: 0.4171 - val_sparse_categorical_accuracy: 0.8340\n",
            "Epoch 6/100\n",
            "67/67 [==============================] - 4s 55ms/step - loss: 0.3943 - sparse_categorical_accuracy: 0.8405 - val_loss: 0.4088 - val_sparse_categorical_accuracy: 0.8372\n",
            "Epoch 7/100\n",
            "67/67 [==============================] - 4s 58ms/step - loss: 0.3736 - sparse_categorical_accuracy: 0.8493 - val_loss: 0.4067 - val_sparse_categorical_accuracy: 0.8457\n",
            "Epoch 8/100\n",
            "67/67 [==============================] - 4s 55ms/step - loss: 0.3513 - sparse_categorical_accuracy: 0.8622 - val_loss: 0.4040 - val_sparse_categorical_accuracy: 0.8330\n",
            "Epoch 9/100\n",
            "67/67 [==============================] - 4s 58ms/step - loss: 0.3308 - sparse_categorical_accuracy: 0.8717 - val_loss: 0.4006 - val_sparse_categorical_accuracy: 0.8426\n",
            "Epoch 10/100\n",
            "67/67 [==============================] - 4s 57ms/step - loss: 0.3005 - sparse_categorical_accuracy: 0.8841 - val_loss: 0.5550 - val_sparse_categorical_accuracy: 0.7872\n",
            "Epoch 11/100\n",
            "67/67 [==============================] - 4s 55ms/step - loss: 0.3115 - sparse_categorical_accuracy: 0.8811 - val_loss: 0.4322 - val_sparse_categorical_accuracy: 0.8277\n",
            "Epoch 12/100\n",
            "67/67 [==============================] - 4s 54ms/step - loss: 0.2631 - sparse_categorical_accuracy: 0.8987 - val_loss: 0.4317 - val_sparse_categorical_accuracy: 0.8457\n",
            "Epoch 13/100\n",
            "67/67 [==============================] - 4s 53ms/step - loss: 0.2558 - sparse_categorical_accuracy: 0.9013 - val_loss: 0.4504 - val_sparse_categorical_accuracy: 0.8234\n",
            "Epoch 14/100\n",
            "66/67 [============================>.] - ETA: 0s - loss: 0.2276 - sparse_categorical_accuracy: 0.9147Restoring model weights from the end of the best epoch: 9.\n",
            "67/67 [==============================] - 4s 55ms/step - loss: 0.2276 - sparse_categorical_accuracy: 0.9146 - val_loss: 0.4394 - val_sparse_categorical_accuracy: 0.8351\n",
            "Epoch 14: early stopping\n"
          ]
        },
        {
          "output_type": "execute_result",
          "data": {
            "text/plain": [
              "<keras.callbacks.History at 0x7f30b03cdca0>"
            ]
          },
          "metadata": {},
          "execution_count": 27
        }
      ],
      "source": [
        "BATCH_SIZE=128\n",
        "cnn.fit(\n",
        "    X_train, y_train,\n",
        "    batch_size=BATCH_SIZE,\n",
        "    validation_data=(X_val, y_val),\n",
        "    shuffle=True, epochs=100,\n",
        "    callbacks=[\n",
        "        EarlyStopping(\n",
        "            monitor='val_loss', patience=5, restore_best_weights=True, verbose=1\n",
        "        )\n",
        "    ],\n",
        "    verbose=1)"
      ]
    },
    {
      "cell_type": "markdown",
      "metadata": {
        "id": "V7Cq2nt6IyjW"
      },
      "source": [
        "Оценка качества классификации"
      ]
    },
    {
      "cell_type": "code",
      "execution_count": null,
      "metadata": {
        "id": "9svehMIrI1kG"
      },
      "outputs": [],
      "source": [
        "test_texts,test_labels=load_sentirueval_2016('banks_test_etalon.xml')"
      ]
    },
    {
      "cell_type": "code",
      "execution_count": null,
      "metadata": {
        "id": "_IWLXnEBI7t-"
      },
      "outputs": [],
      "source": [
        "test_num_labels=[label_to_num[label] for label in test_labels]"
      ]
    },
    {
      "cell_type": "code",
      "execution_count": null,
      "metadata": {
        "id": "fzHaYQ98JE-V"
      },
      "outputs": [],
      "source": [
        "encoded_docs_test = tokenizer.texts_to_sequences(test_texts)\n",
        "X_test = pad_sequences(encoded_docs_test, maxlen=max_length, padding='post')\n",
        "y_test=np.asarray(test_num_labels)"
      ]
    },
    {
      "cell_type": "code",
      "execution_count": null,
      "metadata": {
        "colab": {
          "base_uri": "https://localhost:8080/"
        },
        "id": "2ZaSjZM6JGFZ",
        "outputId": "7c5d8912-6403-402a-d155-2c2915a903b0"
      },
      "outputs": [
        {
          "output_type": "execute_result",
          "data": {
            "text/plain": [
              "array([[ 64,   4,  25, ...,   0,   0,   0],\n",
              "       [ 11,   2,   1, ...,   0,   0,   0],\n",
              "       [ 64,   4,  25, ...,   0,   0,   0],\n",
              "       ...,\n",
              "       [  8,   7,  12, ...,   0,   0,   0],\n",
              "       [ 60,  57, 173, ...,   0,   0,   0],\n",
              "       [ 60,  57,  89, ...,   0,   0,   0]], dtype=int32)"
            ]
          },
          "metadata": {},
          "execution_count": 31
        }
      ],
      "source": [
        "X_test"
      ]
    },
    {
      "cell_type": "code",
      "execution_count": null,
      "metadata": {
        "colab": {
          "base_uri": "https://localhost:8080/"
        },
        "id": "SZ9UsTGEJKKj",
        "outputId": "27b21c19-506d-4258-d727-bf2150a4a176"
      },
      "outputs": [
        {
          "output_type": "stream",
          "name": "stdout",
          "text": [
            "26/26 [==============================] - 1s 16ms/step\n"
          ]
        }
      ],
      "source": [
        "y_pred = np.argmax(cnn.predict(X_test, batch_size=128), axis=1)"
      ]
    },
    {
      "cell_type": "code",
      "execution_count": null,
      "metadata": {
        "id": "pO6Glz_KJRIH"
      },
      "outputs": [],
      "source": [
        "from sklearn.metrics import classification_report"
      ]
    },
    {
      "cell_type": "code",
      "execution_count": null,
      "metadata": {
        "colab": {
          "base_uri": "https://localhost:8080/"
        },
        "id": "EbXI9LX3JUn2",
        "outputId": "d315b7a4-6815-44f7-cfec-aace2aea2bba"
      },
      "outputs": [
        {
          "output_type": "stream",
          "name": "stdout",
          "text": [
            "              precision    recall  f1-score   support\n",
            "\n",
            "    negative     0.4674    0.4954    0.4810       767\n",
            "     neutral     0.7505    0.8333    0.7898      2238\n",
            "    positive     0.1333    0.0065    0.0124       308\n",
            "\n",
            "    accuracy                         0.6782      3313\n",
            "   macro avg     0.4504    0.4451    0.4277      3313\n",
            "weighted avg     0.6276    0.6782    0.6460      3313\n",
            "\n"
          ]
        }
      ],
      "source": [
        "print(classification_report(y_test, y_pred, target_names=label_to_num.keys(), digits=4))"
      ]
    },
    {
      "cell_type": "code",
      "execution_count": null,
      "metadata": {
        "id": "3Ymg1WtsJZsg"
      },
      "outputs": [],
      "source": [
        "from sklearn.metrics import f1_score"
      ]
    },
    {
      "cell_type": "code",
      "execution_count": null,
      "metadata": {
        "colab": {
          "base_uri": "https://localhost:8080/"
        },
        "id": "IBuEf-IyJdIW",
        "outputId": "06f67388-4d02-442d-bc42-e8c7c5476f9d"
      },
      "outputs": [
        {
          "output_type": "execute_result",
          "data": {
            "text/plain": [
              "(0.24669827957832033, 0.4014713610089332)"
            ]
          },
          "metadata": {},
          "execution_count": 36
        }
      ],
      "source": [
        "macro=f1_score(test_num_labels,y_pred,average='macro',labels=[0,2])\n",
        "micro=f1_score(test_num_labels,y_pred,average='micro',labels=[0,2])\n",
        "macro,micro"
      ]
    },
    {
      "cell_type": "markdown",
      "metadata": {
        "id": "Bs2zww2XFiyw"
      },
      "source": [
        "#Аугментация"
      ]
    },
    {
      "cell_type": "code",
      "execution_count": null,
      "metadata": {
        "colab": {
          "base_uri": "https://localhost:8080/"
        },
        "id": "e4IKZDYJFkDC",
        "outputId": "b2a91f27-0952-42b5-8070-f5e8361fbff6"
      },
      "outputs": [
        {
          "output_type": "stream",
          "name": "stdout",
          "text": [
            "Looking in indexes: https://pypi.org/simple, https://us-python.pkg.dev/colab-wheels/public/simple/\n",
            "Requirement already satisfied: textattack in /usr/local/lib/python3.8/dist-packages (0.3.8)\n",
            "Requirement already satisfied: num2words in /usr/local/lib/python3.8/dist-packages (from textattack) (0.5.12)\n",
            "Requirement already satisfied: jieba in /usr/local/lib/python3.8/dist-packages (from textattack) (0.42.1)\n",
            "Requirement already satisfied: tqdm in /usr/local/lib/python3.8/dist-packages (from textattack) (4.64.1)\n",
            "Requirement already satisfied: language-tool-python in /usr/local/lib/python3.8/dist-packages (from textattack) (2.7.1)\n",
            "Requirement already satisfied: terminaltables in /usr/local/lib/python3.8/dist-packages (from textattack) (3.1.10)\n",
            "Requirement already satisfied: pandas>=1.0.1 in /usr/local/lib/python3.8/dist-packages (from textattack) (1.3.5)\n",
            "Requirement already satisfied: click<8.1.0 in /usr/local/lib/python3.8/dist-packages (from textattack) (7.1.2)\n",
            "Requirement already satisfied: bert-score>=0.3.5 in /usr/local/lib/python3.8/dist-packages (from textattack) (0.3.12)\n",
            "Requirement already satisfied: editdistance in /usr/local/lib/python3.8/dist-packages (from textattack) (0.5.3)\n",
            "Requirement already satisfied: PySocks!=1.5.7,>=1.5.6 in /usr/local/lib/python3.8/dist-packages (from textattack) (1.7.1)\n",
            "Requirement already satisfied: lru-dict in /usr/local/lib/python3.8/dist-packages (from textattack) (1.1.8)\n",
            "Requirement already satisfied: torch!=1.8,>=1.7.0 in /usr/local/lib/python3.8/dist-packages (from textattack) (1.13.0+cu116)\n",
            "Requirement already satisfied: numpy>=1.21.0 in /usr/local/lib/python3.8/dist-packages (from textattack) (1.21.6)\n",
            "Requirement already satisfied: pinyin==0.4.0 in /usr/local/lib/python3.8/dist-packages (from textattack) (0.4.0)\n",
            "Requirement already satisfied: nltk in /usr/local/lib/python3.8/dist-packages (from textattack) (3.7)\n",
            "Requirement already satisfied: flair in /usr/local/lib/python3.8/dist-packages (from textattack) (0.11.3)\n",
            "Requirement already satisfied: OpenHowNet in /usr/local/lib/python3.8/dist-packages (from textattack) (2.0)\n",
            "Requirement already satisfied: datasets==2.4.0 in /usr/local/lib/python3.8/dist-packages (from textattack) (2.4.0)\n",
            "Requirement already satisfied: transformers>=4.21.0 in /usr/local/lib/python3.8/dist-packages (from textattack) (4.25.1)\n",
            "Requirement already satisfied: lemminflect in /usr/local/lib/python3.8/dist-packages (from textattack) (0.2.3)\n",
            "Requirement already satisfied: pycld2 in /usr/local/lib/python3.8/dist-packages (from textattack) (0.41)\n",
            "Requirement already satisfied: filelock in /usr/local/lib/python3.8/dist-packages (from textattack) (3.8.2)\n",
            "Requirement already satisfied: scipy>=1.4.1 in /usr/local/lib/python3.8/dist-packages (from textattack) (1.7.3)\n",
            "Requirement already satisfied: more-itertools in /usr/local/lib/python3.8/dist-packages (from textattack) (9.0.0)\n",
            "Requirement already satisfied: word2number in /usr/local/lib/python3.8/dist-packages (from textattack) (1.1)\n",
            "Requirement already satisfied: fsspec[http]>=2021.11.1 in /usr/local/lib/python3.8/dist-packages (from datasets==2.4.0->textattack) (2022.11.0)\n",
            "Requirement already satisfied: packaging in /usr/local/lib/python3.8/dist-packages (from datasets==2.4.0->textattack) (21.3)\n",
            "Requirement already satisfied: huggingface-hub<1.0.0,>=0.1.0 in /usr/local/lib/python3.8/dist-packages (from datasets==2.4.0->textattack) (0.11.1)\n",
            "Requirement already satisfied: xxhash in /usr/local/lib/python3.8/dist-packages (from datasets==2.4.0->textattack) (3.1.0)\n",
            "Requirement already satisfied: responses<0.19 in /usr/local/lib/python3.8/dist-packages (from datasets==2.4.0->textattack) (0.18.0)\n",
            "Requirement already satisfied: dill<0.3.6 in /usr/local/lib/python3.8/dist-packages (from datasets==2.4.0->textattack) (0.3.5.1)\n",
            "Requirement already satisfied: pyarrow>=6.0.0 in /usr/local/lib/python3.8/dist-packages (from datasets==2.4.0->textattack) (9.0.0)\n",
            "Requirement already satisfied: multiprocess in /usr/local/lib/python3.8/dist-packages (from datasets==2.4.0->textattack) (0.70.13)\n",
            "Requirement already satisfied: aiohttp in /usr/local/lib/python3.8/dist-packages (from datasets==2.4.0->textattack) (3.8.3)\n",
            "Requirement already satisfied: requests>=2.19.0 in /usr/local/lib/python3.8/dist-packages (from datasets==2.4.0->textattack) (2.28.1)\n",
            "Requirement already satisfied: matplotlib in /usr/local/lib/python3.8/dist-packages (from bert-score>=0.3.5->textattack) (3.2.2)\n",
            "Requirement already satisfied: async-timeout<5.0,>=4.0.0a3 in /usr/local/lib/python3.8/dist-packages (from aiohttp->datasets==2.4.0->textattack) (4.0.2)\n",
            "Requirement already satisfied: aiosignal>=1.1.2 in /usr/local/lib/python3.8/dist-packages (from aiohttp->datasets==2.4.0->textattack) (1.3.1)\n",
            "Requirement already satisfied: multidict<7.0,>=4.5 in /usr/local/lib/python3.8/dist-packages (from aiohttp->datasets==2.4.0->textattack) (6.0.3)\n",
            "Requirement already satisfied: yarl<2.0,>=1.0 in /usr/local/lib/python3.8/dist-packages (from aiohttp->datasets==2.4.0->textattack) (1.8.2)\n",
            "Requirement already satisfied: attrs>=17.3.0 in /usr/local/lib/python3.8/dist-packages (from aiohttp->datasets==2.4.0->textattack) (22.1.0)\n",
            "Requirement already satisfied: frozenlist>=1.1.1 in /usr/local/lib/python3.8/dist-packages (from aiohttp->datasets==2.4.0->textattack) (1.3.3)\n",
            "Requirement already satisfied: charset-normalizer<3.0,>=2.0 in /usr/local/lib/python3.8/dist-packages (from aiohttp->datasets==2.4.0->textattack) (2.1.1)\n",
            "Requirement already satisfied: typing-extensions>=3.7.4.3 in /usr/local/lib/python3.8/dist-packages (from huggingface-hub<1.0.0,>=0.1.0->datasets==2.4.0->textattack) (4.4.0)\n",
            "Requirement already satisfied: pyyaml>=5.1 in /usr/local/lib/python3.8/dist-packages (from huggingface-hub<1.0.0,>=0.1.0->datasets==2.4.0->textattack) (6.0)\n",
            "Requirement already satisfied: pyparsing!=3.0.5,>=2.0.2 in /usr/local/lib/python3.8/dist-packages (from packaging->datasets==2.4.0->textattack) (3.0.9)\n",
            "Requirement already satisfied: pytz>=2017.3 in /usr/local/lib/python3.8/dist-packages (from pandas>=1.0.1->textattack) (2022.6)\n",
            "Requirement already satisfied: python-dateutil>=2.7.3 in /usr/local/lib/python3.8/dist-packages (from pandas>=1.0.1->textattack) (2.8.2)\n",
            "Requirement already satisfied: six>=1.5 in /usr/local/lib/python3.8/dist-packages (from python-dateutil>=2.7.3->pandas>=1.0.1->textattack) (1.15.0)\n",
            "Requirement already satisfied: idna<4,>=2.5 in /usr/local/lib/python3.8/dist-packages (from requests>=2.19.0->datasets==2.4.0->textattack) (2.10)\n",
            "Requirement already satisfied: urllib3<1.27,>=1.21.1 in /usr/local/lib/python3.8/dist-packages (from requests>=2.19.0->datasets==2.4.0->textattack) (1.25.11)\n",
            "Requirement already satisfied: certifi>=2017.4.17 in /usr/local/lib/python3.8/dist-packages (from requests>=2.19.0->datasets==2.4.0->textattack) (2022.12.7)\n",
            "Requirement already satisfied: tokenizers!=0.11.3,<0.14,>=0.11.1 in /usr/local/lib/python3.8/dist-packages (from transformers>=4.21.0->textattack) (0.13.2)\n",
            "Requirement already satisfied: regex!=2019.12.17 in /usr/local/lib/python3.8/dist-packages (from transformers>=4.21.0->textattack) (2022.6.2)\n",
            "Requirement already satisfied: bpemb>=0.3.2 in /usr/local/lib/python3.8/dist-packages (from flair->textattack) (0.3.4)\n",
            "Requirement already satisfied: segtok>=1.5.7 in /usr/local/lib/python3.8/dist-packages (from flair->textattack) (1.5.11)\n",
            "Requirement already satisfied: langdetect in /usr/local/lib/python3.8/dist-packages (from flair->textattack) (1.0.9)\n",
            "Requirement already satisfied: scikit-learn>=0.21.3 in /usr/local/lib/python3.8/dist-packages (from flair->textattack) (1.0.2)\n",
            "Requirement already satisfied: deprecated>=1.2.4 in /usr/local/lib/python3.8/dist-packages (from flair->textattack) (1.2.13)\n",
            "Requirement already satisfied: gdown==4.4.0 in /usr/local/lib/python3.8/dist-packages (from flair->textattack) (4.4.0)\n",
            "Requirement already satisfied: pptree in /usr/local/lib/python3.8/dist-packages (from flair->textattack) (3.1)\n",
            "Requirement already satisfied: hyperopt>=0.2.7 in /usr/local/lib/python3.8/dist-packages (from flair->textattack) (0.2.7)\n",
            "Requirement already satisfied: conllu>=4.0 in /usr/local/lib/python3.8/dist-packages (from flair->textattack) (4.5.2)\n",
            "Requirement already satisfied: tabulate in /usr/local/lib/python3.8/dist-packages (from flair->textattack) (0.8.10)\n",
            "Requirement already satisfied: sentencepiece==0.1.95 in /usr/local/lib/python3.8/dist-packages (from flair->textattack) (0.1.95)\n",
            "Requirement already satisfied: ftfy in /usr/local/lib/python3.8/dist-packages (from flair->textattack) (6.1.1)\n",
            "Requirement already satisfied: sqlitedict>=1.6.0 in /usr/local/lib/python3.8/dist-packages (from flair->textattack) (2.1.0)\n",
            "Requirement already satisfied: gensim>=3.4.0 in /usr/local/lib/python3.8/dist-packages (from flair->textattack) (3.6.0)\n",
            "Requirement already satisfied: konoha<5.0.0,>=4.0.0 in /usr/local/lib/python3.8/dist-packages (from flair->textattack) (4.6.5)\n",
            "Requirement already satisfied: wikipedia-api in /usr/local/lib/python3.8/dist-packages (from flair->textattack) (0.5.8)\n",
            "Requirement already satisfied: lxml in /usr/local/lib/python3.8/dist-packages (from flair->textattack) (4.9.2)\n",
            "Requirement already satisfied: janome in /usr/local/lib/python3.8/dist-packages (from flair->textattack) (0.4.2)\n",
            "Requirement already satisfied: mpld3==0.3 in /usr/local/lib/python3.8/dist-packages (from flair->textattack) (0.3)\n",
            "Requirement already satisfied: beautifulsoup4 in /usr/local/lib/python3.8/dist-packages (from gdown==4.4.0->flair->textattack) (4.6.3)\n",
            "Requirement already satisfied: wrapt<2,>=1.10 in /usr/local/lib/python3.8/dist-packages (from deprecated>=1.2.4->flair->textattack) (1.14.1)\n",
            "Requirement already satisfied: smart-open>=1.2.1 in /usr/local/lib/python3.8/dist-packages (from gensim>=3.4.0->flair->textattack) (6.3.0)\n",
            "Requirement already satisfied: networkx>=2.2 in /usr/local/lib/python3.8/dist-packages (from hyperopt>=0.2.7->flair->textattack) (2.8.8)\n",
            "Requirement already satisfied: cloudpickle in /usr/local/lib/python3.8/dist-packages (from hyperopt>=0.2.7->flair->textattack) (1.5.0)\n",
            "Requirement already satisfied: future in /usr/local/lib/python3.8/dist-packages (from hyperopt>=0.2.7->flair->textattack) (0.16.0)\n",
            "Requirement already satisfied: py4j in /usr/local/lib/python3.8/dist-packages (from hyperopt>=0.2.7->flair->textattack) (0.10.9.7)\n",
            "Collecting importlib-metadata<4.0.0,>=3.7.0\n",
            "  Using cached importlib_metadata-3.10.1-py3-none-any.whl (14 kB)\n",
            "Requirement already satisfied: overrides<4.0.0,>=3.0.0 in /usr/local/lib/python3.8/dist-packages (from konoha<5.0.0,>=4.0.0->flair->textattack) (3.1.0)\n",
            "Requirement already satisfied: zipp>=0.5 in /usr/local/lib/python3.8/dist-packages (from importlib-metadata<4.0.0,>=3.7.0->konoha<5.0.0,>=4.0.0->flair->textattack) (3.11.0)\n",
            "Requirement already satisfied: cycler>=0.10 in /usr/local/lib/python3.8/dist-packages (from matplotlib->bert-score>=0.3.5->textattack) (0.11.0)\n",
            "Requirement already satisfied: kiwisolver>=1.0.1 in /usr/local/lib/python3.8/dist-packages (from matplotlib->bert-score>=0.3.5->textattack) (1.4.4)\n",
            "Requirement already satisfied: threadpoolctl>=2.0.0 in /usr/local/lib/python3.8/dist-packages (from scikit-learn>=0.21.3->flair->textattack) (3.1.0)\n",
            "Requirement already satisfied: joblib>=0.11 in /usr/local/lib/python3.8/dist-packages (from scikit-learn>=0.21.3->flair->textattack) (1.2.0)\n",
            "Requirement already satisfied: wcwidth>=0.2.5 in /usr/local/lib/python3.8/dist-packages (from ftfy->flair->textattack) (0.2.5)\n",
            "Requirement already satisfied: docopt>=0.6.2 in /usr/local/lib/python3.8/dist-packages (from num2words->textattack) (0.6.2)\n",
            "Requirement already satisfied: anytree in /usr/local/lib/python3.8/dist-packages (from OpenHowNet->textattack) (2.8.0)\n",
            "Requirement already satisfied: setuptools in /usr/local/lib/python3.8/dist-packages (from OpenHowNet->textattack) (57.4.0)\n",
            "Installing collected packages: importlib-metadata\n",
            "  Attempting uninstall: importlib-metadata\n",
            "    Found existing installation: importlib-metadata 5.2.0\n",
            "    Uninstalling importlib-metadata-5.2.0:\n",
            "      Successfully uninstalled importlib-metadata-5.2.0\n",
            "\u001b[31mERROR: pip's dependency resolver does not currently take into account all the packages that are installed. This behaviour is the source of the following dependency conflicts.\n",
            "markdown 3.4.1 requires importlib-metadata>=4.4; python_version < \"3.10\", but you have importlib-metadata 3.10.1 which is incompatible.\n",
            "gym 0.25.2 requires importlib-metadata>=4.8.0; python_version < \"3.10\", but you have importlib-metadata 3.10.1 which is incompatible.\u001b[0m\n",
            "Successfully installed importlib-metadata-3.10.1\n"
          ]
        }
      ],
      "source": [
        "pip install textattack"
      ]
    },
    {
      "cell_type": "code",
      "execution_count": null,
      "metadata": {
        "colab": {
          "base_uri": "https://localhost:8080/"
        },
        "id": "1nqOYr2CFtWV",
        "outputId": "250f0942-d68c-42f2-9626-13e45d260201"
      },
      "outputs": [
        {
          "output_type": "stream",
          "name": "stdout",
          "text": [
            "Looking in indexes: https://pypi.org/simple, https://us-python.pkg.dev/colab-wheels/public/simple/\n",
            "Requirement already satisfied: tensorflow_text in /usr/local/lib/python3.8/dist-packages (2.11.0)\n",
            "Requirement already satisfied: tensorflow<2.12,>=2.11.0 in /usr/local/lib/python3.8/dist-packages (from tensorflow_text) (2.11.0)\n",
            "Requirement already satisfied: tensorflow-hub>=0.8.0 in /usr/local/lib/python3.8/dist-packages (from tensorflow_text) (0.12.0)\n",
            "Requirement already satisfied: grpcio<2.0,>=1.24.3 in /usr/local/lib/python3.8/dist-packages (from tensorflow<2.12,>=2.11.0->tensorflow_text) (1.51.1)\n",
            "Requirement already satisfied: tensorboard<2.12,>=2.11 in /usr/local/lib/python3.8/dist-packages (from tensorflow<2.12,>=2.11.0->tensorflow_text) (2.11.0)\n",
            "Requirement already satisfied: packaging in /usr/local/lib/python3.8/dist-packages (from tensorflow<2.12,>=2.11.0->tensorflow_text) (21.3)\n",
            "Requirement already satisfied: typing-extensions>=3.6.6 in /usr/local/lib/python3.8/dist-packages (from tensorflow<2.12,>=2.11.0->tensorflow_text) (4.4.0)\n",
            "Requirement already satisfied: six>=1.12.0 in /usr/local/lib/python3.8/dist-packages (from tensorflow<2.12,>=2.11.0->tensorflow_text) (1.15.0)\n",
            "Requirement already satisfied: google-pasta>=0.1.1 in /usr/local/lib/python3.8/dist-packages (from tensorflow<2.12,>=2.11.0->tensorflow_text) (0.2.0)\n",
            "Requirement already satisfied: tensorflow-io-gcs-filesystem>=0.23.1 in /usr/local/lib/python3.8/dist-packages (from tensorflow<2.12,>=2.11.0->tensorflow_text) (0.28.0)\n",
            "Requirement already satisfied: opt-einsum>=2.3.2 in /usr/local/lib/python3.8/dist-packages (from tensorflow<2.12,>=2.11.0->tensorflow_text) (3.3.0)\n",
            "Requirement already satisfied: wrapt>=1.11.0 in /usr/local/lib/python3.8/dist-packages (from tensorflow<2.12,>=2.11.0->tensorflow_text) (1.14.1)\n",
            "Requirement already satisfied: tensorflow-estimator<2.12,>=2.11.0 in /usr/local/lib/python3.8/dist-packages (from tensorflow<2.12,>=2.11.0->tensorflow_text) (2.11.0)\n",
            "Requirement already satisfied: termcolor>=1.1.0 in /usr/local/lib/python3.8/dist-packages (from tensorflow<2.12,>=2.11.0->tensorflow_text) (2.1.1)\n",
            "Requirement already satisfied: protobuf<3.20,>=3.9.2 in /usr/local/lib/python3.8/dist-packages (from tensorflow<2.12,>=2.11.0->tensorflow_text) (3.19.6)\n",
            "Requirement already satisfied: flatbuffers>=2.0 in /usr/local/lib/python3.8/dist-packages (from tensorflow<2.12,>=2.11.0->tensorflow_text) (22.12.6)\n",
            "Requirement already satisfied: absl-py>=1.0.0 in /usr/local/lib/python3.8/dist-packages (from tensorflow<2.12,>=2.11.0->tensorflow_text) (1.3.0)\n",
            "Requirement already satisfied: libclang>=13.0.0 in /usr/local/lib/python3.8/dist-packages (from tensorflow<2.12,>=2.11.0->tensorflow_text) (14.0.6)\n",
            "Requirement already satisfied: numpy>=1.20 in /usr/local/lib/python3.8/dist-packages (from tensorflow<2.12,>=2.11.0->tensorflow_text) (1.21.6)\n",
            "Requirement already satisfied: keras<2.12,>=2.11.0 in /usr/local/lib/python3.8/dist-packages (from tensorflow<2.12,>=2.11.0->tensorflow_text) (2.11.0)\n",
            "Requirement already satisfied: astunparse>=1.6.0 in /usr/local/lib/python3.8/dist-packages (from tensorflow<2.12,>=2.11.0->tensorflow_text) (1.6.3)\n",
            "Requirement already satisfied: setuptools in /usr/local/lib/python3.8/dist-packages (from tensorflow<2.12,>=2.11.0->tensorflow_text) (57.4.0)\n",
            "Requirement already satisfied: h5py>=2.9.0 in /usr/local/lib/python3.8/dist-packages (from tensorflow<2.12,>=2.11.0->tensorflow_text) (3.1.0)\n",
            "Requirement already satisfied: gast<=0.4.0,>=0.2.1 in /usr/local/lib/python3.8/dist-packages (from tensorflow<2.12,>=2.11.0->tensorflow_text) (0.4.0)\n",
            "Requirement already satisfied: wheel<1.0,>=0.23.0 in /usr/local/lib/python3.8/dist-packages (from astunparse>=1.6.0->tensorflow<2.12,>=2.11.0->tensorflow_text) (0.38.4)\n",
            "Requirement already satisfied: markdown>=2.6.8 in /usr/local/lib/python3.8/dist-packages (from tensorboard<2.12,>=2.11->tensorflow<2.12,>=2.11.0->tensorflow_text) (3.4.1)\n",
            "Requirement already satisfied: requests<3,>=2.21.0 in /usr/local/lib/python3.8/dist-packages (from tensorboard<2.12,>=2.11->tensorflow<2.12,>=2.11.0->tensorflow_text) (2.28.1)\n",
            "Requirement already satisfied: werkzeug>=1.0.1 in /usr/local/lib/python3.8/dist-packages (from tensorboard<2.12,>=2.11->tensorflow<2.12,>=2.11.0->tensorflow_text) (1.0.1)\n",
            "Requirement already satisfied: tensorboard-data-server<0.7.0,>=0.6.0 in /usr/local/lib/python3.8/dist-packages (from tensorboard<2.12,>=2.11->tensorflow<2.12,>=2.11.0->tensorflow_text) (0.6.1)\n",
            "Requirement already satisfied: google-auth-oauthlib<0.5,>=0.4.1 in /usr/local/lib/python3.8/dist-packages (from tensorboard<2.12,>=2.11->tensorflow<2.12,>=2.11.0->tensorflow_text) (0.4.6)\n",
            "Requirement already satisfied: google-auth<3,>=1.6.3 in /usr/local/lib/python3.8/dist-packages (from tensorboard<2.12,>=2.11->tensorflow<2.12,>=2.11.0->tensorflow_text) (2.15.0)\n",
            "Requirement already satisfied: tensorboard-plugin-wit>=1.6.0 in /usr/local/lib/python3.8/dist-packages (from tensorboard<2.12,>=2.11->tensorflow<2.12,>=2.11.0->tensorflow_text) (1.8.1)\n",
            "Requirement already satisfied: cachetools<6.0,>=2.0.0 in /usr/local/lib/python3.8/dist-packages (from google-auth<3,>=1.6.3->tensorboard<2.12,>=2.11->tensorflow<2.12,>=2.11.0->tensorflow_text) (5.2.0)\n",
            "Requirement already satisfied: pyasn1-modules>=0.2.1 in /usr/local/lib/python3.8/dist-packages (from google-auth<3,>=1.6.3->tensorboard<2.12,>=2.11->tensorflow<2.12,>=2.11.0->tensorflow_text) (0.2.8)\n",
            "Requirement already satisfied: rsa<5,>=3.1.4 in /usr/local/lib/python3.8/dist-packages (from google-auth<3,>=1.6.3->tensorboard<2.12,>=2.11->tensorflow<2.12,>=2.11.0->tensorflow_text) (4.9)\n",
            "Requirement already satisfied: requests-oauthlib>=0.7.0 in /usr/local/lib/python3.8/dist-packages (from google-auth-oauthlib<0.5,>=0.4.1->tensorboard<2.12,>=2.11->tensorflow<2.12,>=2.11.0->tensorflow_text) (1.3.1)\n",
            "Collecting importlib-metadata>=4.4\n",
            "  Using cached importlib_metadata-5.2.0-py3-none-any.whl (21 kB)\n",
            "Requirement already satisfied: zipp>=0.5 in /usr/local/lib/python3.8/dist-packages (from importlib-metadata>=4.4->markdown>=2.6.8->tensorboard<2.12,>=2.11->tensorflow<2.12,>=2.11.0->tensorflow_text) (3.11.0)\n",
            "Requirement already satisfied: pyasn1<0.5.0,>=0.4.6 in /usr/local/lib/python3.8/dist-packages (from pyasn1-modules>=0.2.1->google-auth<3,>=1.6.3->tensorboard<2.12,>=2.11->tensorflow<2.12,>=2.11.0->tensorflow_text) (0.4.8)\n",
            "Requirement already satisfied: urllib3<1.27,>=1.21.1 in /usr/local/lib/python3.8/dist-packages (from requests<3,>=2.21.0->tensorboard<2.12,>=2.11->tensorflow<2.12,>=2.11.0->tensorflow_text) (1.25.11)\n",
            "Requirement already satisfied: idna<4,>=2.5 in /usr/local/lib/python3.8/dist-packages (from requests<3,>=2.21.0->tensorboard<2.12,>=2.11->tensorflow<2.12,>=2.11.0->tensorflow_text) (2.10)\n",
            "Requirement already satisfied: certifi>=2017.4.17 in /usr/local/lib/python3.8/dist-packages (from requests<3,>=2.21.0->tensorboard<2.12,>=2.11->tensorflow<2.12,>=2.11.0->tensorflow_text) (2022.12.7)\n",
            "Requirement already satisfied: charset-normalizer<3,>=2 in /usr/local/lib/python3.8/dist-packages (from requests<3,>=2.21.0->tensorboard<2.12,>=2.11->tensorflow<2.12,>=2.11.0->tensorflow_text) (2.1.1)\n",
            "Requirement already satisfied: oauthlib>=3.0.0 in /usr/local/lib/python3.8/dist-packages (from requests-oauthlib>=0.7.0->google-auth-oauthlib<0.5,>=0.4.1->tensorboard<2.12,>=2.11->tensorflow<2.12,>=2.11.0->tensorflow_text) (3.2.2)\n",
            "Requirement already satisfied: pyparsing!=3.0.5,>=2.0.2 in /usr/local/lib/python3.8/dist-packages (from packaging->tensorflow<2.12,>=2.11.0->tensorflow_text) (3.0.9)\n",
            "Installing collected packages: importlib-metadata\n",
            "  Attempting uninstall: importlib-metadata\n",
            "    Found existing installation: importlib-metadata 3.10.1\n",
            "    Uninstalling importlib-metadata-3.10.1:\n",
            "      Successfully uninstalled importlib-metadata-3.10.1\n",
            "\u001b[31mERROR: pip's dependency resolver does not currently take into account all the packages that are installed. This behaviour is the source of the following dependency conflicts.\n",
            "konoha 4.6.5 requires importlib-metadata<4.0.0,>=3.7.0, but you have importlib-metadata 5.2.0 which is incompatible.\u001b[0m\n",
            "Successfully installed importlib-metadata-5.2.0\n"
          ]
        }
      ],
      "source": [
        "pip install tensorflow_text"
      ]
    },
    {
      "cell_type": "code",
      "execution_count": null,
      "metadata": {
        "colab": {
          "base_uri": "https://localhost:8080/"
        },
        "id": "duDf7bvNGGmL",
        "outputId": "778b6aab-b45c-446f-da17-b3ef70b23004"
      },
      "outputs": [
        {
          "output_type": "stream",
          "name": "stderr",
          "text": [
            "/usr/local/lib/python3.8/dist-packages/torch/cuda/__init__.py:497: UserWarning: Can't initialize NVML\n",
            "  warnings.warn(\"Can't initialize NVML\")\n"
          ]
        }
      ],
      "source": [
        "from textattack.transformations import WordSwapRandomCharacterDeletion\n",
        "from textattack.transformations import WordSwapQWERTY\n",
        "from textattack.transformations import CompositeTransformation\n",
        "\n",
        "\n",
        "from textattack.constraints.pre_transformation import RepeatModification\n",
        "from textattack.constraints.pre_transformation import StopwordModification\n",
        "\n",
        "from textattack.augmentation import Augmenter"
      ]
    },
    {
      "cell_type": "markdown",
      "metadata": {
        "id": "bqQenEslGdro"
      },
      "source": [
        "Класс WordSwapQWERTY от textAttack не поддерживает кириллицу, поэтому я попыталась вручную решить эту проблему, изменив свойства keyboard_adjacency"
      ]
    },
    {
      "cell_type": "code",
      "execution_count": null,
      "metadata": {
        "id": "EUjd2m_aGqvn"
      },
      "outputs": [],
      "source": [
        "class RusWordSwapQWERTY(WordSwapQWERTY):\n",
        "  def __init__(\n",
        "        self, random_one=True, skip_first_char=False, skip_last_char=False, **kwargs\n",
        "    ):\n",
        "        super().__init__(**kwargs)\n",
        "        self.random_one = random_one\n",
        "        self.skip_first_char = skip_first_char\n",
        "        self.skip_last_char = skip_last_char\n",
        "\n",
        "        self._keyboard_adjacency = {\n",
        "            \"ё\":[\"е\"],\n",
        "            \"й\": [\"ц\",\"ф\",\"ё\"],\n",
        "            \"ц\": [\"й\", \"у\", \"ф\", \"ы\", \"в\"],\n",
        "            \"у\": [\"ц\", \"ы\", \"в\", \"а\", \"к\"],\n",
        "            \"к\": [\"у\", \"в\", \"а\", \"п\", \"е\"],\n",
        "            \"е\": [\"к\", \"а\", \"п\", \"р\", \"н\"],\n",
        "            \"н\": [\"е\", \"п\", \"р\", \"о\", \"г\"],\n",
        "            \"г\": [\"н\", \"р\", \"о\", \"л\", \"ш\"],\n",
        "            \"ш\": [\"г\", \"о\", \"л\", \"д\", \"щ\"],\n",
        "            \"щ\": [\"ш\", \"л\", \"д\", \"з\"],\n",
        "            \"з\": [\"щ\", \"д\",\"ж\",\"э\",\"х\"],\n",
        "            \"х\": [\"з\", \"ж\",\"э\",\"ъ\"],\n",
        "            \"ъ\": [\"х\", \"ж\",\"э\"],\n",
        "            \"ф\": [\"й\", \"ц\", \"ы\", \"я\", \"ч\"],\n",
        "            \"ы\": [\"й\", \"ц\", \"у\", \"а\", \"в\", \"я\", \"ч\"],\n",
        "            \"в\": [\"ц\", \"у\", \"к\", \"а\", \"с\", \"ч\", \"ы\"],\n",
        "            \"а\": [\"у\", \"к\", \"е\", \"п\", \"м\", \"с\", \"в\"],\n",
        "            \"п\": [\"к\", \"е\", \"н\", \"р\", \"и\", \"м\", \"в\"],\n",
        "            \"р\": [\"е\", \"н\", \"г\", \"п\", \"о\", \"и\", \"т\"],\n",
        "            \"о\": [\"н\", \"г\", \"ш\", \"л\", \"ь\", \"т\", \"р\"],\n",
        "            \"л\": [\"г\", \"ш\", \"щ\", \"д\", \"ь\", \"о\"],\n",
        "            \"д\": [\"ш\", \"щ\", \"з\", \"л\",\"ж\",\"ю\",\"б\"],\n",
        "            \"ж\": [\"д\", \"щ\", \"з\", \"х\",\"э\",\"ю\"],\n",
        "            \"э\": [\"ж\", \"з\", \"х\", \"ъ\",\"ю\"],\n",
        "            \"я\": [\"ф\", \"ы\", \"ч\"],\n",
        "            \"ч\": [\"ы\", \"в\", \"я\", \"с\"],\n",
        "            \"с\": [\"ч\", \"в\", \"а\", \"м\"],\n",
        "            \"м\": [\"с\", \"а\", \"п\", \"и\"],\n",
        "            \"и\": [\"м\", \"п\", \"р\", \"т\"],\n",
        "            \"т\": [\"и\", \"р\", \"о\", \"ь\"],\n",
        "            \"ь\": [\"т\", \"о\", \"л\",\"б\"],\n",
        "            \"б\": [\"ь\", \"л\", \"д\",\"ю\"],\n",
        "            \"ю\": [\"б\", \"д\", \"ж\"]\n",
        "        }\n",
        "  def _get_adjacent(self, s):\n",
        "        s_lower = s.lower()\n",
        "        if s_lower in self._keyboard_adjacency:\n",
        "            adjacent_keys = self._keyboard_adjacency[s_lower]\n",
        "            if s.isupper():\n",
        "                return [key.upper() for key in adjacent_keys]\n",
        "            else:\n",
        "                return adjacent_keys\n",
        "        else:\n",
        "            return []\n",
        "\n",
        "  def _get_replacement_words(self, word):\n",
        "        if len(word) <= 1:\n",
        "            return []\n",
        "\n",
        "        candidate_words = []\n",
        "\n",
        "        start_idx = 1 if self.skip_first_char else 0\n",
        "        end_idx = len(word) - (1 + self.skip_last_char)\n",
        "\n",
        "        if start_idx >= end_idx:\n",
        "            return []\n",
        "\n",
        "        if self.random_one:\n",
        "            i = random.randrange(start_idx, end_idx + 1)\n",
        "            candidate_word = (\n",
        "                word[:i] + random.choice(self._get_adjacent(word[i])) + word[i + 1 :]\n",
        "            )\n",
        "            candidate_words.append(candidate_word)\n",
        "        else:\n",
        "            for i in range(start_idx, end_idx + 1):\n",
        "                for swap_key in self._get_adjacent(word[i]):\n",
        "                    candidate_word = word[:i] + swap_key + word[i + 1 :]\n",
        "                    candidate_words.append(candidate_word)\n",
        "\n",
        "        return candidate_words"
      ]
    },
    {
      "cell_type": "code",
      "execution_count": null,
      "metadata": {
        "id": "a6R6ByqsG0OQ"
      },
      "outputs": [],
      "source": [
        "typo_transformation = CompositeTransformation([WordSwapRandomCharacterDeletion(),RusWordSwapQWERTY(random_one=False)])\n",
        "typo_constraints = [RepeatModification(),StopwordModification(language='russian')]\n",
        "typo_augmenter = Augmenter(transformation=typo_transformation, constraints=typo_constraints, pct_words_to_swap=0.5, transformations_per_example=5)"
      ]
    },
    {
      "cell_type": "code",
      "execution_count": null,
      "metadata": {
        "colab": {
          "base_uri": "https://localhost:8080/"
        },
        "id": "t53t0K4EG3df",
        "outputId": "f0dcd158-00dd-4b1f-e205-53f7430bb108"
      },
      "outputs": [
        {
          "output_type": "execute_result",
          "data": {
            "text/plain": [
              "['Мненик о креюитной карье чтб 24 http://t.co/SBJTcqjCg',\n",
              " 'Мненип о кредитньй канте ытб 2 http://t.co/SBJTcsqjCg',\n",
              " 'Мненип о кредптной катте стб 24 http://t.o/SBJTcsqjCg',\n",
              " 'Мненме о кредттной карта втб 24 http://t.o/SBJTcsqjC',\n",
              " 'Пнение о креюитной карте вьб 24 htp://t.co/SJTcsqjCg']"
            ]
          },
          "metadata": {},
          "execution_count": 42
        }
      ],
      "source": [
        "s = texts[1]\n",
        "typo_augmenter.augment(s)"
      ]
    },
    {
      "cell_type": "markdown",
      "metadata": {
        "id": "jRbcHxpr_AlR"
      },
      "source": [
        "Аугментация обучающей выборки опечатками "
      ]
    },
    {
      "cell_type": "code",
      "execution_count": null,
      "metadata": {
        "id": "T4vHel4mIqp0"
      },
      "outputs": [],
      "source": [
        "from tqdm.notebook import tqdm"
      ]
    },
    {
      "cell_type": "code",
      "execution_count": null,
      "metadata": {
        "colab": {
          "base_uri": "https://localhost:8080/",
          "height": 49,
          "referenced_widgets": [
            "8b92421694444360adbbb8399899c593",
            "9d55b74eba004299868b20fb2188e6eb",
            "a1ed3f63e5e14078b4361d548fb00c23",
            "af55678bb2bb45879b88d914d6f2e9a5",
            "7774de08ea9045cfa7bf57a11fde9917",
            "fe6ef2f358d24c61b3b8ac3d26fc4e77",
            "6fe124de16b04331866eeb327333dbf3",
            "4bd5f4cc88fb496cbfd4b5896019f101",
            "90e6bb7493534c72acd0642fd7deb380",
            "4a82563540404323a12b9a0597c88d90",
            "2b02191d384a4be9a7b3b73add0eb6e7"
          ]
        },
        "id": "cYb0l-fi_J4H",
        "outputId": "2692ed9d-cba0-48e4-cc2d-98ecd31cbfda"
      },
      "outputs": [
        {
          "output_type": "display_data",
          "data": {
            "text/plain": [
              "  0%|          | 0/8452 [00:00<?, ?it/s]"
            ],
            "application/vnd.jupyter.widget-view+json": {
              "version_major": 2,
              "version_minor": 0,
              "model_id": "8b92421694444360adbbb8399899c593"
            }
          },
          "metadata": {}
        }
      ],
      "source": [
        "texts_with_typos=[]\n",
        "labels_of_texts_with_typos=[]\n",
        "for indx,text in enumerate(tqdm(train_texts)):\n",
        "    texts_with_typos.extend(typo_augmenter.augment(text))\n",
        "    labels_of_texts_with_typos.extend([train_labels[indx]]*5)"
      ]
    },
    {
      "cell_type": "markdown",
      "metadata": {
        "id": "rwjptfeL_OdX"
      },
      "source": [
        "Запишем получившиеся тексты в csv-файл"
      ]
    },
    {
      "cell_type": "code",
      "execution_count": null,
      "metadata": {
        "id": "DKRJdsKn_P1s"
      },
      "outputs": [],
      "source": [
        "with open('texts_with_typos.csv', 'w', encoding='utf-8') as file:\n",
        "    writer = csv.DictWriter(file,fieldnames=['text','label'])\n",
        "    writer.writeheader()\n",
        "    for i,text in enumerate(texts):\n",
        "        writer.writerow({'text':text,'label':labels_of_texts_with_typos[i]})"
      ]
    },
    {
      "cell_type": "markdown",
      "metadata": {
        "id": "U4UG46VE_a_A"
      },
      "source": [
        "Считывание полученных при аугментации текстов из файла"
      ]
    },
    {
      "cell_type": "code",
      "execution_count": null,
      "metadata": {
        "id": "6Clgy2rW_bkB"
      },
      "outputs": [],
      "source": [
        "with open('texts_with_typos.csv', 'r', encoding='utf-8') as file:\n",
        "  texts_with_typos=[]\n",
        "  labels_of_texts_with_typos=[]\n",
        "  reader = csv.DictReader(file)\n",
        "  for row in reader:\n",
        "    if row!='':\n",
        "      texts_with_typos.append(row['text'])\n",
        "      labels_of_texts_with_typos.append(int(row['label']))"
      ]
    },
    {
      "cell_type": "code",
      "execution_count": null,
      "metadata": {
        "id": "Io68tsu5_d0Z",
        "colab": {
          "base_uri": "https://localhost:8080/"
        },
        "outputId": "30fa608c-2c4a-4bfd-8778-243700ee0c64"
      },
      "outputs": [
        {
          "output_type": "stream",
          "name": "stdout",
          "text": [
            "9392 9392\n"
          ]
        }
      ],
      "source": [
        "print(len(labels_of_texts_with_typos),len(texts_with_typos))"
      ]
    },
    {
      "cell_type": "code",
      "execution_count": null,
      "metadata": {
        "id": "YkwmImHh_fuG",
        "colab": {
          "base_uri": "https://localhost:8080/"
        },
        "outputId": "12ecfaea-b5c2-4492-b4e2-ce2b3c50cba7"
      },
      "outputs": [
        {
          "output_type": "stream",
          "name": "stdout",
          "text": [
            "8452 8452\n"
          ]
        }
      ],
      "source": [
        "print(len(train_texts),len(train_labels))"
      ]
    },
    {
      "cell_type": "code",
      "execution_count": null,
      "metadata": {
        "id": "mVm7m8r-_hvG"
      },
      "outputs": [],
      "source": [
        "pos_texts_with_typos=[]\n",
        "pos_labels_of_texts_with_typos=[]\n",
        "for text_idx,text in enumerate(texts_with_typos):\n",
        "  if labels_of_texts_with_typos[text_idx]==2:\n",
        "    pos_texts_with_typos.append(text)\n",
        "    pos_labels_of_texts_with_typos.append(labels_of_texts_with_typos[text_idx])"
      ]
    },
    {
      "cell_type": "code",
      "execution_count": null,
      "metadata": {
        "id": "IFp8NMFN_j8o"
      },
      "outputs": [],
      "source": [
        "neg_texts_with_typos=[]\n",
        "neg_labels_of_texts_with_typos=[]\n",
        "for text_idx,text in enumerate(texts_with_typos):\n",
        "  if labels_of_texts_with_typos[text_idx]==0:\n",
        "    neg_texts_with_typos.append(text)\n",
        "    neg_labels_of_texts_with_typos.append(labels_of_texts_with_typos[text_idx])"
      ]
    },
    {
      "cell_type": "code",
      "execution_count": null,
      "metadata": {
        "id": "1j1TNkXu_m4z"
      },
      "outputs": [],
      "source": [
        "pos_neg_texts_with_typos=[]\n",
        "pos_neg_labels_of_texts_with_typos=[]\n",
        "for text_idx,text in enumerate(texts_with_typos):\n",
        "  if labels_of_texts_with_typos[text_idx]!=1:\n",
        "    pos_neg_texts_with_typos.append(text)\n",
        "    pos_neg_labels_of_texts_with_typos.append(labels_of_texts_with_typos[text_idx])"
      ]
    },
    {
      "cell_type": "markdown",
      "metadata": {
        "id": "nmesNXePARh5"
      },
      "source": [
        "#Аугментация с помощью BERT"
      ]
    },
    {
      "cell_type": "code",
      "execution_count": null,
      "metadata": {
        "id": "vbUryw8AAT4t"
      },
      "outputs": [],
      "source": [
        "from textattack.transformations.word_swaps.word_swap_masked_lm import WordSwapMaskedLM"
      ]
    },
    {
      "cell_type": "code",
      "execution_count": null,
      "metadata": {
        "id": "Btzf0QPjAWeR",
        "colab": {
          "base_uri": "https://localhost:8080/",
          "height": 249,
          "referenced_widgets": [
            "d73d10195887439299e479c818838f99",
            "6bab19019e3645b9a170244c3fdfa059",
            "f6c5f8a795c54f899d7d5a173f9520be",
            "895fbdb6142a40059b91be4d31bf24b6",
            "dae86cfdbcfd420499d648a22f1bde34",
            "303074824c954ad3ab6570badb422de3",
            "bc6329eb5f5e4ef6af05ee01749194ad",
            "dbb93d204ce44c28873eed47a5166fd3",
            "a7eaf1e5f577436d9ef57618bbc7ff15",
            "1a9527e05d574972a24bf0031be4aca6",
            "0e96451baed247de84e8ba6a826181d5",
            "8a2d2b9fc18a43ceb9c9f7a27d455cb1",
            "fed39491c8924fd59764cf68139814f9",
            "9d311c07d0db4de89febf37eb3817ed0",
            "a578642bcfea4fd0ae7c420f3af12aca",
            "eb82194402b84557935d2100ad8443c9",
            "ee4c3ef50a1d4bcb8cedcc09655b20cf",
            "e6cec5cbe472486d9e1d3cb98c058953",
            "b2fd00cacf294b2883a049e610358a91",
            "9fca0688448c453caa20236d1397faaa",
            "de1671b1c98f480fa5ab40cf2dab5a9e",
            "57530f7615034c9783d2090a850ca13b",
            "fcbe8ac579f74ad9bb7a48e24e5b7c23",
            "725343e659864304b0be296a140e9461",
            "756d1783548048e39302f2fc876df027",
            "aa49ebb38f7948c9856b0cf921bf8865",
            "498c5f48b79045178530b28dc656584e",
            "6190efaac99e44efa30c754869f33e16",
            "19144fbc0f814a59a9a66617eaaee00e",
            "9e6f5c4a0dfd4e3c9bf6273563db51ad",
            "c7d1a28b1206486fbe2609fffdb7e50b",
            "eb2ee460d5be49fabd64d467fa2f991a",
            "19176d1f02f541b48f269ce1648ab3fb",
            "9ddd588abc244720ac833783e969e8c4",
            "a2d0d924cea843af88d8c6d24b6efb36",
            "5eae8e1f922d4231b0e51d63d82e1ec9",
            "5b23f5171e1b4064b3fe25677de23671",
            "fcec1446f15b40f580c7b2c2841456b0",
            "5e219a3686044a7184f1ef0cc4f71688",
            "651e54e6913943f0a5bf56c00fde8b55",
            "c283a1c47b0c423db76dc957b4f96597",
            "908d2d2f7eb242faaff60e4407cbf2af",
            "ccf4eeb1abe149a8b4446c5ac29ec3d9",
            "f2a795c0b24449e7b10c3c5e84469b5d",
            "cd40fc42c4ff4a9595f66ceb632041e7",
            "d3c85992dcd34c79a49ad4601fbb4e17",
            "81f810d5e55544a4a294aec0bdbf2dd5",
            "ca0ff463934d4c68a3a802d5711c71c7",
            "c78e2cf1996243f8b14cc44ee7b39a55",
            "cd65e71f97e24684acb87eafc1d9b18e",
            "ded1fdad2af94adbaad6e10efe744a8f",
            "105d7c6953f442f48001cbb20affe25e",
            "111c80596e8b43dc9f5b0590bb27b58b",
            "7bc9556f1a184d32a2c9b2c85f33d328",
            "ce94a0e6596b451c999a1c529d771c56"
          ]
        },
        "outputId": "99fb9b56-55e6-46f3-f0d6-71ab7a8da743"
      },
      "outputs": [
        {
          "output_type": "display_data",
          "data": {
            "text/plain": [
              "Downloading:   0%|          | 0.00/642 [00:00<?, ?B/s]"
            ],
            "application/vnd.jupyter.widget-view+json": {
              "version_major": 2,
              "version_minor": 0,
              "model_id": "d73d10195887439299e479c818838f99"
            }
          },
          "metadata": {}
        },
        {
          "output_type": "display_data",
          "data": {
            "text/plain": [
              "Downloading:   0%|          | 0.00/714M [00:00<?, ?B/s]"
            ],
            "application/vnd.jupyter.widget-view+json": {
              "version_major": 2,
              "version_minor": 0,
              "model_id": "8a2d2b9fc18a43ceb9c9f7a27d455cb1"
            }
          },
          "metadata": {}
        },
        {
          "output_type": "stream",
          "name": "stderr",
          "text": [
            "Some weights of the model checkpoint at DeepPavlov/rubert-base-cased were not used when initializing BertForMaskedLM: ['cls.seq_relationship.weight', 'cls.seq_relationship.bias']\n",
            "- This IS expected if you are initializing BertForMaskedLM from the checkpoint of a model trained on another task or with another architecture (e.g. initializing a BertForSequenceClassification model from a BertForPreTraining model).\n",
            "- This IS NOT expected if you are initializing BertForMaskedLM from the checkpoint of a model that you expect to be exactly identical (initializing a BertForSequenceClassification model from a BertForSequenceClassification model).\n"
          ]
        },
        {
          "output_type": "display_data",
          "data": {
            "text/plain": [
              "Downloading:   0%|          | 0.00/24.0 [00:00<?, ?B/s]"
            ],
            "application/vnd.jupyter.widget-view+json": {
              "version_major": 2,
              "version_minor": 0,
              "model_id": "fcbe8ac579f74ad9bb7a48e24e5b7c23"
            }
          },
          "metadata": {}
        },
        {
          "output_type": "display_data",
          "data": {
            "text/plain": [
              "Downloading:   0%|          | 0.00/1.65M [00:00<?, ?B/s]"
            ],
            "application/vnd.jupyter.widget-view+json": {
              "version_major": 2,
              "version_minor": 0,
              "model_id": "9ddd588abc244720ac833783e969e8c4"
            }
          },
          "metadata": {}
        },
        {
          "output_type": "display_data",
          "data": {
            "text/plain": [
              "Downloading:   0%|          | 0.00/112 [00:00<?, ?B/s]"
            ],
            "application/vnd.jupyter.widget-view+json": {
              "version_major": 2,
              "version_minor": 0,
              "model_id": "cd40fc42c4ff4a9595f66ceb632041e7"
            }
          },
          "metadata": {}
        }
      ],
      "source": [
        "bert_transformation = WordSwapMaskedLM(masked_language_model='DeepPavlov/rubert-base-cased')\n",
        "bert_augmenter = Augmenter(transformation=bert_transformation, pct_words_to_swap=0.8)"
      ]
    },
    {
      "cell_type": "code",
      "execution_count": null,
      "metadata": {
        "id": "JjonWKGkAaVY"
      },
      "outputs": [],
      "source": [
        "from time import time"
      ]
    },
    {
      "cell_type": "code",
      "execution_count": null,
      "metadata": {
        "id": "_vQKWjhDAcib",
        "colab": {
          "base_uri": "https://localhost:8080/"
        },
        "outputId": "7c5d03b0-a263-4d85-e23a-93756a499f34"
      },
      "outputs": [
        {
          "output_type": "stream",
          "name": "stdout",
          "text": [
            "['USD 24 проценты по кредитам [[UNK]]://time.com/b']\n"
          ]
        }
      ],
      "source": [
        "before=time()\n",
        "print(bert_augmenter.augment(train_texts[0]))\n",
        "time_passed=time()-before"
      ]
    },
    {
      "cell_type": "code",
      "execution_count": null,
      "metadata": {
        "id": "L07OKHyBAc_Z",
        "colab": {
          "base_uri": "https://localhost:8080/"
        },
        "outputId": "adf78805-c2bc-4b35-9944-13ec39e8905e"
      },
      "outputs": [
        {
          "output_type": "execute_result",
          "data": {
            "text/plain": [
              "3.5640888094902037"
            ]
          },
          "metadata": {},
          "execution_count": 56
        }
      ],
      "source": [
        "time_passed/60"
      ]
    },
    {
      "cell_type": "code",
      "execution_count": null,
      "metadata": {
        "id": "tDLX3ZmHAfN_",
        "colab": {
          "base_uri": "https://localhost:8080/"
        },
        "outputId": "55ff89b0-0315-46b2-8936-69a9031ca0ef"
      },
      "outputs": [
        {
          "output_type": "execute_result",
          "data": {
            "text/plain": [
              "20.91922126236889"
            ]
          },
          "metadata": {},
          "execution_count": 57
        }
      ],
      "source": [
        "time_passed*len(train_texts)/(60*60*24)"
      ]
    },
    {
      "cell_type": "markdown",
      "metadata": {
        "id": "BSJgypXnAiyz"
      },
      "source": [
        "Чтобы увеличить количество обучающих текстов в два раза понадобится почти 21 день. Поэтому этот вариант не подходит"
      ]
    },
    {
      "cell_type": "code",
      "execution_count": null,
      "metadata": {
        "id": "YBQht7c7Alv0",
        "colab": {
          "base_uri": "https://localhost:8080/",
          "height": 281,
          "referenced_widgets": [
            "3b09035ecc1441dba1d4e56856c5264c",
            "0ebda20549454b14a55cadfa656881d7",
            "d29d4f58a9c44908ae9da5ed90d7e26c",
            "91c01d14b0bd4734ad8f14cd16154ada",
            "244da8a2dbdf4e49bd8d409825a78d7c",
            "a962d7459e4d42a2b30791c637de1564",
            "600bdc0603ff4e019f192d9a4cbb2837",
            "fb8d6ec05bf04895a7d33cefffc89e0a",
            "e670ae40b56f4e97b7fe05c224e47c49",
            "3baaf86400644a10a6e8b3c1e1cc3a10",
            "d393845d3f4b4c27aedf389447bda675",
            "9a3fdd893a5d4399ba8ef9d8da9f138c",
            "3767150c28224ce9b7db9a91ea449dea",
            "cf51df87d0cb4e8493e9635a947a41b0",
            "4c2d9718a71840e389bbbcbc56c9b9d9",
            "62b11a407ff2466e8e44bb7a0688c6ba",
            "b48aeca6da164cde9d4059c104742bcc",
            "e174a4c8491d46379407f8a7605e1760",
            "ff381da4fc794bf386a6933c797372ea",
            "0bec921d98ef418c9f041d82898b3346",
            "4b1b773dcd8f4313b6914506f7be68d0",
            "63e78e3972e74d0895f19add1a8542a1",
            "a4d34a3793bb4ab3b10283135000669c",
            "c2ba180903e244b1912af0a6acc1c436",
            "7cf13f01edbf413393555fae92bff40e",
            "2e53384997344a64b799a0875d35ef21",
            "10782f3a9c52404c86bfea66b451e290",
            "47d61b214de9442b955ca7e6009d7924",
            "1c717489845d416886210cfc608c3059",
            "b18798294f6b4aca8cc4d46e2b5ef3ab",
            "82729b5883034c1f92724a05fb60faac",
            "8f51e72099c3475bb53e3929b04d20d3",
            "9b25c0e853d84cf185fe7c72a3216782",
            "a6df25fd56bf4cc4962e32302f3bdb03",
            "f29bfeee0765407780333136a484265d",
            "9b5737e8b401497abb6e01ba1401c464",
            "da89c2e84a824905a5393c3086d6b277",
            "3cbb21fa3e3d49acbfb80f2ea9f73eb3",
            "580b5a9868294f7cacf4f9dc3e256729",
            "b83a29f83fe04d01a36750d0ef2c0e93",
            "8d0287569d0a46a4b28516da14e602fb",
            "8435db046ba8445a836877d07d65cdf3",
            "2b73a3b29b7544d6a1ee061d9a24eac8",
            "50e473c2d5124806a6a40a6f7162dbfc",
            "4f8cdda02690479a983655e4a231e6ae",
            "068de0636683486bab1a822d66d3af50",
            "1525362b8e104b5987ed9d320f87cdda",
            "b7a0ad48824642478da38aab8145e869",
            "92b355ba43ea4b01835814353d671132",
            "c045d36b8fa24f1e829280b5896b92b8",
            "4531e2465d0d444aabb9972c2ba1c687",
            "2cfc31217c9b4cf0ac89a4896d5af537",
            "b3d89a9cfcbd4cefa1e76181d34bc30d",
            "ad828fa4a97e495e830c120cb6c89c55",
            "1f49fa22379f49edb0bfb4491f7602b2",
            "865ab6fa165743b8b93412714bd001c2",
            "5f4f0a1c9fde4129a06c63cd69e1ec9e",
            "f75ab6e76b7944cdafc713cfd2fcff1d",
            "f65386026f1d45d2b8afa8023af00b40",
            "b50c13b118c846d8b932d8a990173ffd",
            "431b8a16e53c44b1b8cb20832651a5ba",
            "34ea31d212544d7c9fc320c646a192d0",
            "fd607a5d1fc74b45a66095c726a2bca2",
            "bdf4a09bd35741e09dd400928d7fe905",
            "538629a5843d4b81a36b200e60aa8ce6",
            "bfab281da60444be86ea1d0d2eb66ee6"
          ]
        },
        "outputId": "cfad6ec8-aa40-47b2-9148-c2f27f2c30ee"
      },
      "outputs": [
        {
          "output_type": "display_data",
          "data": {
            "text/plain": [
              "Downloading:   0%|          | 0.00/632 [00:00<?, ?B/s]"
            ],
            "application/vnd.jupyter.widget-view+json": {
              "version_major": 2,
              "version_minor": 0,
              "model_id": "3b09035ecc1441dba1d4e56856c5264c"
            }
          },
          "metadata": {}
        },
        {
          "output_type": "display_data",
          "data": {
            "text/plain": [
              "Downloading:   0%|          | 0.00/47.7M [00:00<?, ?B/s]"
            ],
            "application/vnd.jupyter.widget-view+json": {
              "version_major": 2,
              "version_minor": 0,
              "model_id": "9a3fdd893a5d4399ba8ef9d8da9f138c"
            }
          },
          "metadata": {}
        },
        {
          "output_type": "stream",
          "name": "stderr",
          "text": [
            "Some weights of the model checkpoint at cointegrated/rubert-tiny were not used when initializing BertForMaskedLM: ['cls.seq_relationship.weight', 'cls.seq_relationship.bias']\n",
            "- This IS expected if you are initializing BertForMaskedLM from the checkpoint of a model trained on another task or with another architecture (e.g. initializing a BertForSequenceClassification model from a BertForPreTraining model).\n",
            "- This IS NOT expected if you are initializing BertForMaskedLM from the checkpoint of a model that you expect to be exactly identical (initializing a BertForSequenceClassification model from a BertForSequenceClassification model).\n"
          ]
        },
        {
          "output_type": "display_data",
          "data": {
            "text/plain": [
              "Downloading:   0%|          | 0.00/341 [00:00<?, ?B/s]"
            ],
            "application/vnd.jupyter.widget-view+json": {
              "version_major": 2,
              "version_minor": 0,
              "model_id": "a4d34a3793bb4ab3b10283135000669c"
            }
          },
          "metadata": {}
        },
        {
          "output_type": "display_data",
          "data": {
            "text/plain": [
              "Downloading:   0%|          | 0.00/241k [00:00<?, ?B/s]"
            ],
            "application/vnd.jupyter.widget-view+json": {
              "version_major": 2,
              "version_minor": 0,
              "model_id": "a6df25fd56bf4cc4962e32302f3bdb03"
            }
          },
          "metadata": {}
        },
        {
          "output_type": "display_data",
          "data": {
            "text/plain": [
              "Downloading:   0%|          | 0.00/468k [00:00<?, ?B/s]"
            ],
            "application/vnd.jupyter.widget-view+json": {
              "version_major": 2,
              "version_minor": 0,
              "model_id": "4f8cdda02690479a983655e4a231e6ae"
            }
          },
          "metadata": {}
        },
        {
          "output_type": "display_data",
          "data": {
            "text/plain": [
              "Downloading:   0%|          | 0.00/112 [00:00<?, ?B/s]"
            ],
            "application/vnd.jupyter.widget-view+json": {
              "version_major": 2,
              "version_minor": 0,
              "model_id": "865ab6fa165743b8b93412714bd001c2"
            }
          },
          "metadata": {}
        }
      ],
      "source": [
        "bert_tiny_transformation = WordSwapMaskedLM(masked_language_model='cointegrated/rubert-tiny')\n",
        "bert_tiny_augmenter = Augmenter(transformation=bert_tiny_transformation, pct_words_to_swap=0.8)"
      ]
    },
    {
      "cell_type": "code",
      "execution_count": null,
      "metadata": {
        "id": "esXEX2QRApzm",
        "colab": {
          "base_uri": "https://localhost:8080/"
        },
        "outputId": "ce8aeb75-6cf2-4c40-bc06-53fa65167f26"
      },
      "outputs": [
        {
          "output_type": "stream",
          "name": "stdout",
          "text": [
            "['Новая машина в кредит С Россельхозбанком просто и удобно']\n"
          ]
        }
      ],
      "source": [
        "before=time()\n",
        "print(bert_tiny_augmenter.augment(text))\n",
        "time_passed=time()-before"
      ]
    },
    {
      "cell_type": "code",
      "execution_count": null,
      "metadata": {
        "id": "LOhfqBmUArjp",
        "colab": {
          "base_uri": "https://localhost:8080/"
        },
        "outputId": "e51b5cb6-fb25-4c47-d094-1553eacbfa46"
      },
      "outputs": [
        {
          "output_type": "execute_result",
          "data": {
            "text/plain": [
              "0.2744440667386408"
            ]
          },
          "metadata": {},
          "execution_count": 60
        }
      ],
      "source": [
        "time_passed*len(train_texts)/(60*60*24)"
      ]
    },
    {
      "cell_type": "markdown",
      "metadata": {
        "id": "sF3M7AiUA2_o"
      },
      "source": [
        "#Аугментация синонимами"
      ]
    },
    {
      "cell_type": "code",
      "execution_count": null,
      "metadata": {
        "id": "Dh3Q7Z0qA5W_",
        "colab": {
          "base_uri": "https://localhost:8080/"
        },
        "outputId": "b0996c7c-4a0f-4517-a7fb-e2a00d613a68"
      },
      "outputs": [
        {
          "output_type": "stream",
          "name": "stdout",
          "text": [
            "Looking in indexes: https://pypi.org/simple, https://us-python.pkg.dev/colab-wheels/public/simple/\n",
            "Collecting spacy_udpipe\n",
            "  Downloading spacy_udpipe-1.0.0-py3-none-any.whl (11 kB)\n",
            "Requirement already satisfied: spacy<4.0.0,>=3.0.0 in /usr/local/lib/python3.8/dist-packages (from spacy_udpipe) (3.4.4)\n",
            "Collecting ufal.udpipe>=1.2.0\n",
            "  Downloading ufal.udpipe-1.2.0.3.tar.gz (304 kB)\n",
            "\u001b[K     |████████████████████████████████| 304 kB 8.3 MB/s \n",
            "\u001b[?25hRequirement already satisfied: numpy>=1.15.0 in /usr/local/lib/python3.8/dist-packages (from spacy<4.0.0,>=3.0.0->spacy_udpipe) (1.21.6)\n",
            "Requirement already satisfied: packaging>=20.0 in /usr/local/lib/python3.8/dist-packages (from spacy<4.0.0,>=3.0.0->spacy_udpipe) (21.3)\n",
            "Requirement already satisfied: jinja2 in /usr/local/lib/python3.8/dist-packages (from spacy<4.0.0,>=3.0.0->spacy_udpipe) (2.11.3)\n",
            "Requirement already satisfied: langcodes<4.0.0,>=3.2.0 in /usr/local/lib/python3.8/dist-packages (from spacy<4.0.0,>=3.0.0->spacy_udpipe) (3.3.0)\n",
            "Requirement already satisfied: requests<3.0.0,>=2.13.0 in /usr/local/lib/python3.8/dist-packages (from spacy<4.0.0,>=3.0.0->spacy_udpipe) (2.28.1)\n",
            "Requirement already satisfied: wasabi<1.1.0,>=0.9.1 in /usr/local/lib/python3.8/dist-packages (from spacy<4.0.0,>=3.0.0->spacy_udpipe) (0.10.1)\n",
            "Requirement already satisfied: preshed<3.1.0,>=3.0.2 in /usr/local/lib/python3.8/dist-packages (from spacy<4.0.0,>=3.0.0->spacy_udpipe) (3.0.8)\n",
            "Requirement already satisfied: pydantic!=1.8,!=1.8.1,<1.11.0,>=1.7.4 in /usr/local/lib/python3.8/dist-packages (from spacy<4.0.0,>=3.0.0->spacy_udpipe) (1.10.2)\n",
            "Requirement already satisfied: spacy-loggers<2.0.0,>=1.0.0 in /usr/local/lib/python3.8/dist-packages (from spacy<4.0.0,>=3.0.0->spacy_udpipe) (1.0.4)\n",
            "Requirement already satisfied: spacy-legacy<3.1.0,>=3.0.10 in /usr/local/lib/python3.8/dist-packages (from spacy<4.0.0,>=3.0.0->spacy_udpipe) (3.0.10)\n",
            "Requirement already satisfied: pathy>=0.3.5 in /usr/local/lib/python3.8/dist-packages (from spacy<4.0.0,>=3.0.0->spacy_udpipe) (0.10.1)\n",
            "Requirement already satisfied: smart-open<7.0.0,>=5.2.1 in /usr/local/lib/python3.8/dist-packages (from spacy<4.0.0,>=3.0.0->spacy_udpipe) (6.3.0)\n",
            "Requirement already satisfied: tqdm<5.0.0,>=4.38.0 in /usr/local/lib/python3.8/dist-packages (from spacy<4.0.0,>=3.0.0->spacy_udpipe) (4.64.1)\n",
            "Requirement already satisfied: typer<0.8.0,>=0.3.0 in /usr/local/lib/python3.8/dist-packages (from spacy<4.0.0,>=3.0.0->spacy_udpipe) (0.7.0)\n",
            "Requirement already satisfied: setuptools in /usr/local/lib/python3.8/dist-packages (from spacy<4.0.0,>=3.0.0->spacy_udpipe) (57.4.0)\n",
            "Requirement already satisfied: murmurhash<1.1.0,>=0.28.0 in /usr/local/lib/python3.8/dist-packages (from spacy<4.0.0,>=3.0.0->spacy_udpipe) (1.0.9)\n",
            "Requirement already satisfied: cymem<2.1.0,>=2.0.2 in /usr/local/lib/python3.8/dist-packages (from spacy<4.0.0,>=3.0.0->spacy_udpipe) (2.0.7)\n",
            "Requirement already satisfied: thinc<8.2.0,>=8.1.0 in /usr/local/lib/python3.8/dist-packages (from spacy<4.0.0,>=3.0.0->spacy_udpipe) (8.1.5)\n",
            "Requirement already satisfied: srsly<3.0.0,>=2.4.3 in /usr/local/lib/python3.8/dist-packages (from spacy<4.0.0,>=3.0.0->spacy_udpipe) (2.4.5)\n",
            "Requirement already satisfied: catalogue<2.1.0,>=2.0.6 in /usr/local/lib/python3.8/dist-packages (from spacy<4.0.0,>=3.0.0->spacy_udpipe) (2.0.8)\n",
            "Requirement already satisfied: pyparsing!=3.0.5,>=2.0.2 in /usr/local/lib/python3.8/dist-packages (from packaging>=20.0->spacy<4.0.0,>=3.0.0->spacy_udpipe) (3.0.9)\n",
            "Requirement already satisfied: typing-extensions>=4.1.0 in /usr/local/lib/python3.8/dist-packages (from pydantic!=1.8,!=1.8.1,<1.11.0,>=1.7.4->spacy<4.0.0,>=3.0.0->spacy_udpipe) (4.4.0)\n",
            "Requirement already satisfied: certifi>=2017.4.17 in /usr/local/lib/python3.8/dist-packages (from requests<3.0.0,>=2.13.0->spacy<4.0.0,>=3.0.0->spacy_udpipe) (2022.12.7)\n",
            "Requirement already satisfied: idna<4,>=2.5 in /usr/local/lib/python3.8/dist-packages (from requests<3.0.0,>=2.13.0->spacy<4.0.0,>=3.0.0->spacy_udpipe) (2.10)\n",
            "Requirement already satisfied: urllib3<1.27,>=1.21.1 in /usr/local/lib/python3.8/dist-packages (from requests<3.0.0,>=2.13.0->spacy<4.0.0,>=3.0.0->spacy_udpipe) (1.25.11)\n",
            "Requirement already satisfied: charset-normalizer<3,>=2 in /usr/local/lib/python3.8/dist-packages (from requests<3.0.0,>=2.13.0->spacy<4.0.0,>=3.0.0->spacy_udpipe) (2.1.1)\n",
            "Requirement already satisfied: confection<1.0.0,>=0.0.1 in /usr/local/lib/python3.8/dist-packages (from thinc<8.2.0,>=8.1.0->spacy<4.0.0,>=3.0.0->spacy_udpipe) (0.0.3)\n",
            "Requirement already satisfied: blis<0.8.0,>=0.7.8 in /usr/local/lib/python3.8/dist-packages (from thinc<8.2.0,>=8.1.0->spacy<4.0.0,>=3.0.0->spacy_udpipe) (0.7.9)\n",
            "Requirement already satisfied: click<9.0.0,>=7.1.1 in /usr/local/lib/python3.8/dist-packages (from typer<0.8.0,>=0.3.0->spacy<4.0.0,>=3.0.0->spacy_udpipe) (7.1.2)\n",
            "Requirement already satisfied: MarkupSafe>=0.23 in /usr/local/lib/python3.8/dist-packages (from jinja2->spacy<4.0.0,>=3.0.0->spacy_udpipe) (2.0.1)\n",
            "Building wheels for collected packages: ufal.udpipe\n",
            "  Building wheel for ufal.udpipe (setup.py) ... \u001b[?25l\u001b[?25hdone\n",
            "  Created wheel for ufal.udpipe: filename=ufal.udpipe-1.2.0.3-cp38-cp38-linux_x86_64.whl size=5626932 sha256=899bb98377e3a32eccfa9202d6e879a2569eccb1e6fd8f617efe50018c8ffadf\n",
            "  Stored in directory: /root/.cache/pip/wheels/d4/c1/67/142cea91540458ab9edac9c280a19b549a03217d7b441d32a6\n",
            "Successfully built ufal.udpipe\n",
            "Installing collected packages: ufal.udpipe, spacy-udpipe\n",
            "Successfully installed spacy-udpipe-1.0.0 ufal.udpipe-1.2.0.3\n"
          ]
        }
      ],
      "source": [
        "pip install spacy_udpipe"
      ]
    },
    {
      "cell_type": "code",
      "execution_count": null,
      "metadata": {
        "id": "fBhb5-EdA7Gw",
        "colab": {
          "base_uri": "https://localhost:8080/"
        },
        "outputId": "64a04c72-d253-44b3-a4fd-49f429bc63c4"
      },
      "outputs": [
        {
          "output_type": "stream",
          "name": "stdout",
          "text": [
            "Downloaded pre-trained UDPipe model for 'ru' language\n"
          ]
        }
      ],
      "source": [
        "import spacy_udpipe\n",
        "\n",
        "spacy_udpipe.download(\"ru\") \n",
        "nlp = spacy_udpipe.load(\"ru\")"
      ]
    },
    {
      "cell_type": "code",
      "execution_count": null,
      "metadata": {
        "id": "sgJT4f43A98w",
        "colab": {
          "base_uri": "https://localhost:8080/"
        },
        "outputId": "3ef3f767-b1b3-4f48-d836-b785197ce74c"
      },
      "outputs": [
        {
          "output_type": "stream",
          "name": "stdout",
          "text": [
            "Looking in indexes: https://pypi.org/simple, https://us-python.pkg.dev/colab-wheels/public/simple/\n",
            "Collecting wiki_ru_wordnet\n",
            "  Downloading wiki_ru_wordnet-1.0.3.tar.gz (20.6 MB)\n",
            "\u001b[K     |████████████████████████████████| 20.6 MB 84.0 MB/s \n",
            "\u001b[?25hBuilding wheels for collected packages: wiki-ru-wordnet\n",
            "  Building wheel for wiki-ru-wordnet (setup.py) ... \u001b[?25l\u001b[?25hdone\n",
            "  Created wheel for wiki-ru-wordnet: filename=wiki_ru_wordnet-1.0.3-py3-none-any.whl size=20890442 sha256=7611bfe516d402fa2f3feef0623a1b63da7df0d6d08781f31a800eddbf79ae65\n",
            "  Stored in directory: /root/.cache/pip/wheels/ff/06/93/b557ecda09fe9445d2d0543ee265b74ffe36c4835ae4f2dc41\n",
            "Successfully built wiki-ru-wordnet\n",
            "Installing collected packages: wiki-ru-wordnet\n",
            "Successfully installed wiki-ru-wordnet-1.0.3\n"
          ]
        }
      ],
      "source": [
        "pip install wiki_ru_wordnet"
      ]
    },
    {
      "cell_type": "code",
      "execution_count": null,
      "metadata": {
        "id": "HsFzMYN8A_ip"
      },
      "outputs": [],
      "source": [
        "from wiki_ru_wordnet import WikiWordnet\n",
        "wikiwordnet = WikiWordnet()"
      ]
    },
    {
      "cell_type": "code",
      "execution_count": null,
      "metadata": {
        "id": "FNRHwL15BBP8",
        "colab": {
          "base_uri": "https://localhost:8080/"
        },
        "outputId": "eca5a0ac-53c7-4f21-a76c-7024fa33e23d"
      },
      "outputs": [
        {
          "output_type": "stream",
          "name": "stderr",
          "text": [
            "[nltk_data] Downloading package stopwords to /root/nltk_data...\n",
            "[nltk_data]   Package stopwords is already up-to-date!\n"
          ]
        }
      ],
      "source": [
        "from nltk.corpus import stopwords\n",
        "nltk.download('stopwords')\n",
        "rus_stopwords=stopwords.words('russian')"
      ]
    },
    {
      "cell_type": "code",
      "execution_count": null,
      "metadata": {
        "id": "zbx4ornKBEmw"
      },
      "outputs": [],
      "source": [
        "def augment_with_synonym(text,n:int)->List[str]:\n",
        "  doc=nlp(text.lower())\n",
        "  lemmatized_text=[token.lemma_ for token in doc]\n",
        "  changed_texts=[]\n",
        "  for i in range(n):\n",
        "    changed_text=[]\n",
        "    c=1\n",
        "    word_to_change=random.choice(lemmatized_text)\n",
        "    changed_word=word_to_change\n",
        "    while True:\n",
        "      if c>len(lemmatized_text):\n",
        "        break\n",
        "      elif word_to_change not in rus_stopwords:\n",
        "        synsets=wikiwordnet.get_synsets(word_to_change)\n",
        "        if synsets:\n",
        "         synset=random.choice(synsets)\n",
        "         words=synset.get_words()\n",
        "         new_word=random.choice(list(words))\n",
        "         if new_word.lemma()!=word_to_change:\n",
        "             changed_word=new_word.lemma()\n",
        "         break\n",
        "      word_to_change=random.choice(lemmatized_text)\n",
        "      changed_word=word_to_change\n",
        "      c+=1\n",
        "    for word in lemmatized_text:\n",
        "      if word == word_to_change:\n",
        "        changed_text.append(changed_word)\n",
        "      else:\n",
        "        changed_text.append(word)\n",
        "    if changed_text!=lemmatized_text:\n",
        "      changed_texts.append(' '.join(changed_text))\n",
        "  return set(changed_texts)"
      ]
    },
    {
      "cell_type": "code",
      "execution_count": null,
      "metadata": {
        "id": "QYs--vSLBJMO"
      },
      "outputs": [],
      "source": [
        "def augment_with_synonyms(text,n:int)->List[str]:\n",
        "  doc=nlp(text.lower())\n",
        "  lemmatized_text=[token.lemma_ for token in doc]\n",
        "  changed_texts=[]\n",
        "  for i in range(n):\n",
        "    changed_text=[]\n",
        "    for word in lemmatized_text:\n",
        "      if word not in rus_stopwords:\n",
        "        synsets = wikiwordnet.get_synsets(word)\n",
        "        if synsets:\n",
        "          synset=random.choice(synsets)\n",
        "          words=synset.get_words()\n",
        "          new_word=random.choice(list(words))\n",
        "          if new_word.lemma()!=word:\n",
        "            changed_text.append(new_word.lemma())\n",
        "        else:\n",
        "         changed_text.append(word)\n",
        "      else:\n",
        "        changed_text.append(word)\n",
        "    if changed_text!=lemmatized_text:\n",
        "      changed_texts.append(' '.join(changed_text))\n",
        "  return set(changed_texts)"
      ]
    },
    {
      "cell_type": "code",
      "execution_count": null,
      "metadata": {
        "id": "s05EfTsfBN1y",
        "colab": {
          "base_uri": "https://localhost:8080/",
          "height": 49,
          "referenced_widgets": [
            "7d191699e4ee4bdb915bc680f18b76d9",
            "d16d0ab29c424bcf9e150af60983b0f1",
            "25870c5de1254c96ba53a45effd924f7",
            "e00ba338a9f845f395ae04b070f6990a",
            "8c04977d1a0249aead8a14a1f67f97b7",
            "49d6850b06934b05aec886c6a8ce34cb",
            "fea9c0af58624f04bd51bb349236b25f",
            "b51f74965c7b4d94b7c2a3cf8de354d2",
            "c4095f12e9a147a09f17543ca4cc357d",
            "0e98195280144dcc955cdd0341940b60",
            "2a7097c177004924a17c718f0bc9cd00"
          ]
        },
        "outputId": "cfce43ed-cb42-4eee-d826-b8fd3d25f15f"
      },
      "outputs": [
        {
          "output_type": "display_data",
          "data": {
            "text/plain": [
              "  0%|          | 0/8452 [00:00<?, ?it/s]"
            ],
            "application/vnd.jupyter.widget-view+json": {
              "version_major": 2,
              "version_minor": 0,
              "model_id": "7d191699e4ee4bdb915bc680f18b76d9"
            }
          },
          "metadata": {}
        }
      ],
      "source": [
        "texts_with_synonyms=[]\n",
        "labels_of_texts_with_synonyms=[]\n",
        "for text_idx,text in enumerate(tqdm(train_texts)):\n",
        "  if train_labels[text_idx]==2:\n",
        "    augmented_texts=augment_with_synonyms(text,5)\n",
        "    texts_with_synonyms.extend(augmented_texts)\n",
        "    labels_of_texts_with_synonyms.extend([train_labels[text_idx]]*len(augmented_texts))"
      ]
    },
    {
      "cell_type": "code",
      "execution_count": null,
      "metadata": {
        "id": "HAhPi73xBTFe",
        "colab": {
          "base_uri": "https://localhost:8080/"
        },
        "outputId": "dc2201cc-654a-488e-81e2-ce124bc54c28"
      },
      "outputs": [
        {
          "output_type": "stream",
          "name": "stdout",
          "text": [
            "2035 2035\n"
          ]
        }
      ],
      "source": [
        "print(len(texts_with_synonyms),len(labels_of_texts_with_synonyms))"
      ]
    },
    {
      "cell_type": "code",
      "execution_count": null,
      "metadata": {
        "id": "f2tXF47hBUsn",
        "colab": {
          "base_uri": "https://localhost:8080/"
        },
        "outputId": "04298da3-2c7e-40a0-8da2-5ea05992e66a"
      },
      "outputs": [
        {
          "output_type": "execute_result",
          "data": {
            "text/plain": [
              "[': # news',\n",
              " ': недавний # news',\n",
              " ': бросить редакция # news',\n",
              " ': свежий # news',\n",
              " 'райффайзенбанк редакция r-mobile : в последний r-mobile исп . . . http://t.co/bqbxgjirt0',\n",
              " 'райффайзенбанк кинуть свежий передвижной использование r-mobile : в свежий r-mobile исп . . . http://t.co/bqbxgjirt0',\n",
              " 'райффайзенбанк свежий применение r-mobile : в r-mobile исп . . . http://t.co/bqbxgjirt0',\n",
              " 'райффайзенбанк кинуть редакция сотовый r-mobile : в использование r-mobile исп . . . http://t.co/bqbxgjirt0',\n",
              " 'райффайзенбанк использование r-mobile : в r-mobile исп . . . http://t.co/bqbxgjirt0',\n",
              " '1,5 потребительский в выдавать #r',\n",
              " '@alfa_bank синхронно ) пре . вот бы так в ажиотаж на братиславский',\n",
              " '@alfa_bank не уже ли единовременно ) пре . вот бы так в ажиотаж на братиславский',\n",
              " '@alfa_bank не уже ли неурезанный единовременно ) пре . вот бы так в ажиотаж на братиславский',\n",
              " '@alfa_bank ) пре фантастика . вот бы так в ажиотаж на братиславский',\n",
              " '@alfa_bank синхронно ) пре фантастика . вот бы так в фурор на братиславский',\n",
              " 'с 1 выдавать на в хорватия',\n",
              " 'с 1 выдавать на покупание в хорватия',\n",
              " 'с 1 выдавать на приобретение в хорватия',\n",
              " 'втб и сбербанок почти на 4 % на по msci финансы.рф http://t.co/93rwkfcep0 # # втб # #msci # #',\n",
              " 'втб и сбербанок почти на 4 % на сведение по msci финансы.рф http://t.co/93rwkfcep0 # # втб # #msci # #']"
            ]
          },
          "metadata": {},
          "execution_count": 70
        }
      ],
      "source": [
        "texts_with_synonyms[:20]"
      ]
    },
    {
      "cell_type": "markdown",
      "metadata": {
        "id": "qT8MlbEuBXzS"
      },
      "source": [
        "#Обучение модели и оценка качества"
      ]
    },
    {
      "cell_type": "code",
      "execution_count": null,
      "metadata": {
        "id": "r-uK98yaBZNP"
      },
      "outputs": [],
      "source": [
        "train_texts, val_texts, train_labels, val_labels = train_test_split(texts, num_labels, test_size=0.1, random_state=RANDOM_SEED)"
      ]
    },
    {
      "cell_type": "code",
      "execution_count": null,
      "metadata": {
        "id": "QoLKV6GNBcK2"
      },
      "outputs": [],
      "source": [
        "train_texts.extend(texts_with_synonyms)\n",
        "train_labels.extend(labels_of_texts_with_synonyms)"
      ]
    },
    {
      "cell_type": "code",
      "execution_count": null,
      "metadata": {
        "id": "2r66s-cFBeJn"
      },
      "outputs": [],
      "source": [
        "train_texts.extend(pos_neg_texts_with_typos)\n",
        "train_labels.extend(pos_neg_labels_of_texts_with_typos)"
      ]
    },
    {
      "cell_type": "code",
      "execution_count": null,
      "metadata": {
        "id": "NMTXu76RBfvh",
        "colab": {
          "base_uri": "https://localhost:8080/"
        },
        "outputId": "9e732fe6-87b4-4514-856c-beb577ccdf76"
      },
      "outputs": [
        {
          "output_type": "execute_result",
          "data": {
            "text/plain": [
              "(3117, 6272, 3378, 8452)"
            ]
          },
          "metadata": {},
          "execution_count": 74
        }
      ],
      "source": [
        "train_labels.count(0),train_labels.count(1), train_labels.count(2), len(y_train)"
      ]
    },
    {
      "cell_type": "code",
      "execution_count": null,
      "metadata": {
        "id": "tmPBhTGyBh7d"
      },
      "outputs": [],
      "source": [
        "encoded_docs_train = tokenizer.texts_to_sequences(train_texts)\n",
        "X_train = pad_sequences(encoded_docs_train, maxlen=max_length, padding='post')\n",
        "y_train=np.asarray(train_labels)"
      ]
    },
    {
      "cell_type": "code",
      "execution_count": null,
      "metadata": {
        "id": "FC6LCinoBj4U",
        "colab": {
          "base_uri": "https://localhost:8080/"
        },
        "outputId": "e9c2d046-2372-4fd4-d04c-26a4b700a7f8"
      },
      "outputs": [
        {
          "output_type": "stream",
          "name": "stdout",
          "text": [
            "Model: \"sequential_1\"\n",
            "_________________________________________________________________\n",
            " Layer (type)                Output Shape              Param #   \n",
            "=================================================================\n",
            " embedding_1 (Embedding)     (None, 46, 100)           2165600   \n",
            "                                                                 \n",
            " Conv_Block1_Layer1 (Conv1D)  (None, 44, 64)           19264     \n",
            "                                                                 \n",
            " Conv_Block1_Layer2 (Conv1D)  (None, 42, 64)           12352     \n",
            "                                                                 \n",
            " MaxPool1 (MaxPooling1D)     (None, 21, 64)            0         \n",
            "                                                                 \n",
            " SpatialDropout1 (SpatialDro  (None, 21, 64)           0         \n",
            " pout1D)                                                         \n",
            "                                                                 \n",
            " Conv_Block2_Layer1 (Conv1D)  (None, 18, 64)           16448     \n",
            "                                                                 \n",
            " Conv_Block2_Layer2 (Conv1D)  (None, 15, 64)           16448     \n",
            "                                                                 \n",
            " MaxPool2 (MaxPooling1D)     (None, 7, 64)             0         \n",
            "                                                                 \n",
            " SpatialDropout2 (SpatialDro  (None, 7, 64)            0         \n",
            " pout1D)                                                         \n",
            "                                                                 \n",
            " flatten_1 (Flatten)         (None, 448)               0         \n",
            "                                                                 \n",
            " HiddenLayer (Dense)         (None, 512)               229888    \n",
            "                                                                 \n",
            " DropoutAfterHidden (Dropout  (None, 512)              0         \n",
            " )                                                               \n",
            "                                                                 \n",
            " OutputLayer (Dense)         (None, 3)                 1539      \n",
            "                                                                 \n",
            "=================================================================\n",
            "Total params: 2,461,539\n",
            "Trainable params: 295,939\n",
            "Non-trainable params: 2,165,600\n",
            "_________________________________________________________________\n"
          ]
        }
      ],
      "source": [
        "cnn = Sequential()\n",
        "cnn.add(Embedding(len(vocab)+1, 100,weights=[embedding_matrix], input_length=max_length, trainable=False))\n",
        "cnn.add(Conv1D(64, 3, padding='valid', activation='relu',\n",
        "               kernel_initializer=he_uniform(seed=RANDOM_SEED), name='Conv_Block1_Layer1'))\n",
        "cnn.add(Conv1D(64, 3, activation='relu', kernel_initializer=he_uniform(seed=RANDOM_SEED),\n",
        "               name='Conv_Block1_Layer2'))\n",
        "cnn.add(MaxPooling1D(pool_size=2, name='MaxPool1'))\n",
        "cnn.add(SpatialDropout1D(rate=0.15, name='SpatialDropout1', seed=RANDOM_SEED))\n",
        "\n",
        "cnn.add(Conv1D(64, 4, padding='valid', activation='relu', kernel_initializer=he_uniform(seed=RANDOM_SEED),name='Conv_Block2_Layer1'))\n",
        "cnn.add(Conv1D(64, 4, activation='relu', kernel_initializer=he_uniform(seed=RANDOM_SEED),name='Conv_Block2_Layer2'))\n",
        "cnn.add(MaxPooling1D(pool_size=2, name='MaxPool2'))\n",
        "cnn.add(SpatialDropout1D(rate=0.15, name='SpatialDropout2', seed=RANDOM_SEED))\n",
        "\n",
        "cnn.add(Flatten())\n",
        "cnn.add(Dense(512, activation='relu', kernel_initializer=he_uniform(seed=RANDOM_SEED), name='HiddenLayer'))\n",
        "cnn.add(Dropout(rate=0.5, seed=RANDOM_SEED, name='DropoutAfterHidden'))\n",
        "cnn.add(Dense(3, activation='softmax', kernel_initializer=glorot_uniform(seed=RANDOM_SEED), name='OutputLayer'))\n",
        "cnn.compile(loss='sparse_categorical_crossentropy', optimizer='adam', metrics=['sparse_categorical_accuracy'])\n",
        "cnn.summary()"
      ]
    },
    {
      "cell_type": "code",
      "execution_count": null,
      "metadata": {
        "id": "g-yotnZyB0Qq",
        "colab": {
          "base_uri": "https://localhost:8080/"
        },
        "outputId": "ef240588-ecd9-4f5b-e53a-e222c83e94ba"
      },
      "outputs": [
        {
          "output_type": "stream",
          "name": "stdout",
          "text": [
            "Epoch 1/100\n",
            "100/100 [==============================] - 16s 122ms/step - loss: 0.9940 - sparse_categorical_accuracy: 0.5398 - val_loss: 0.6774 - val_sparse_categorical_accuracy: 0.7543\n",
            "Epoch 2/100\n",
            "100/100 [==============================] - 8s 75ms/step - loss: 0.8921 - sparse_categorical_accuracy: 0.6185 - val_loss: 0.6400 - val_sparse_categorical_accuracy: 0.7798\n",
            "Epoch 3/100\n",
            "100/100 [==============================] - 7s 66ms/step - loss: 0.8229 - sparse_categorical_accuracy: 0.6615 - val_loss: 0.6653 - val_sparse_categorical_accuracy: 0.7553\n",
            "Epoch 4/100\n",
            "100/100 [==============================] - 7s 66ms/step - loss: 0.7652 - sparse_categorical_accuracy: 0.6937 - val_loss: 0.6384 - val_sparse_categorical_accuracy: 0.7862\n",
            "Epoch 5/100\n",
            "100/100 [==============================] - 7s 73ms/step - loss: 0.7213 - sparse_categorical_accuracy: 0.7183 - val_loss: 0.6535 - val_sparse_categorical_accuracy: 0.7851\n",
            "Epoch 6/100\n",
            "100/100 [==============================] - 7s 74ms/step - loss: 0.6924 - sparse_categorical_accuracy: 0.7320 - val_loss: 0.6680 - val_sparse_categorical_accuracy: 0.7755\n",
            "Epoch 7/100\n",
            "100/100 [==============================] - 7s 74ms/step - loss: 0.6684 - sparse_categorical_accuracy: 0.7432 - val_loss: 0.5997 - val_sparse_categorical_accuracy: 0.8053\n",
            "Epoch 8/100\n",
            "100/100 [==============================] - 7s 70ms/step - loss: 0.6435 - sparse_categorical_accuracy: 0.7540 - val_loss: 0.6979 - val_sparse_categorical_accuracy: 0.7734\n",
            "Epoch 9/100\n",
            "100/100 [==============================] - 7s 68ms/step - loss: 0.6259 - sparse_categorical_accuracy: 0.7642 - val_loss: 0.5751 - val_sparse_categorical_accuracy: 0.8053\n",
            "Epoch 10/100\n",
            "100/100 [==============================] - 8s 80ms/step - loss: 0.6112 - sparse_categorical_accuracy: 0.7691 - val_loss: 0.6587 - val_sparse_categorical_accuracy: 0.7777\n",
            "Epoch 11/100\n",
            "100/100 [==============================] - 8s 83ms/step - loss: 0.5953 - sparse_categorical_accuracy: 0.7752 - val_loss: 0.6787 - val_sparse_categorical_accuracy: 0.7723\n",
            "Epoch 12/100\n",
            "100/100 [==============================] - 10s 96ms/step - loss: 0.5738 - sparse_categorical_accuracy: 0.7857 - val_loss: 0.6259 - val_sparse_categorical_accuracy: 0.7862\n",
            "Epoch 13/100\n",
            "100/100 [==============================] - 9s 95ms/step - loss: 0.5622 - sparse_categorical_accuracy: 0.7891 - val_loss: 0.5972 - val_sparse_categorical_accuracy: 0.7904\n",
            "Epoch 14/100\n",
            "100/100 [==============================] - ETA: 0s - loss: 0.5491 - sparse_categorical_accuracy: 0.7966Restoring model weights from the end of the best epoch: 9.\n",
            "100/100 [==============================] - 9s 87ms/step - loss: 0.5491 - sparse_categorical_accuracy: 0.7966 - val_loss: 0.7624 - val_sparse_categorical_accuracy: 0.7553\n",
            "Epoch 14: early stopping\n"
          ]
        },
        {
          "output_type": "execute_result",
          "data": {
            "text/plain": [
              "<keras.callbacks.History at 0x7f30ad8163a0>"
            ]
          },
          "metadata": {},
          "execution_count": 77
        }
      ],
      "source": [
        "BATCH_SIZE=128\n",
        "cnn.fit(X_train, y_train, batch_size=BATCH_SIZE, validation_data=(X_val, y_val), shuffle=True, epochs=100, callbacks=[EarlyStopping(monitor='val_loss', patience=5, restore_best_weights=True, verbose=1)], verbose=1)"
      ]
    },
    {
      "cell_type": "code",
      "execution_count": null,
      "metadata": {
        "id": "PLAczIPlB2Yv",
        "colab": {
          "base_uri": "https://localhost:8080/"
        },
        "outputId": "d3e3066e-d2fa-483e-8894-4c2046399795"
      },
      "outputs": [
        {
          "output_type": "stream",
          "name": "stdout",
          "text": [
            "26/26 [==============================] - 1s 16ms/step\n"
          ]
        }
      ],
      "source": [
        "y_pred = np.argmax(cnn.predict(X_test, batch_size=128), axis=-1)"
      ]
    },
    {
      "cell_type": "markdown",
      "metadata": {
        "id": "zPJTcNQAB8kS"
      },
      "source": [
        "Результат аугментации положительных текстов синонимами (с увеличением в 5 раз), при которой в тексте по возможности заменяется каждое слово (а не только одно) и аугментацией положительных и отрицательных текстов опечатками. Это лучший результат, которого удалось достичь."
      ]
    },
    {
      "cell_type": "code",
      "execution_count": null,
      "metadata": {
        "id": "TCJ9wP63B9A0",
        "colab": {
          "base_uri": "https://localhost:8080/"
        },
        "outputId": "a23e5815-1972-4dbb-d412-d7d016735a35"
      },
      "outputs": [
        {
          "output_type": "stream",
          "name": "stdout",
          "text": [
            "              precision    recall  f1-score   support\n",
            "\n",
            "    negative     0.3163    0.3559    0.3350       767\n",
            "     neutral     0.6965    0.5590    0.6202      2238\n",
            "    positive     0.1269    0.2695    0.1726       308\n",
            "\n",
            "    accuracy                         0.4851      3313\n",
            "   macro avg     0.3799    0.3948    0.3759      3313\n",
            "weighted avg     0.5556    0.4851    0.5126      3313\n",
            "\n"
          ]
        }
      ],
      "source": [
        "print(classification_report(y_test, y_pred, target_names=label_to_num.keys(), digits=4))"
      ]
    },
    {
      "cell_type": "markdown",
      "metadata": {
        "id": "GKlkGCPhCAmM"
      },
      "source": [
        "Качество распознавания нейтральных текстов заменто упало, поэтому общие метрики стали ниже, чем для исходных данных, но положительные и в меньшей степени отрицательные твиты стали классифицироваться чуть лучше."
      ]
    },
    {
      "cell_type": "code",
      "execution_count": null,
      "metadata": {
        "id": "a-oJ8dcICBHn",
        "colab": {
          "base_uri": "https://localhost:8080/"
        },
        "outputId": "71bfb2da-f3c5-4499-f719-0ba2a3dadd8e"
      },
      "outputs": [
        {
          "output_type": "execute_result",
          "data": {
            "text/plain": [
              "(0.2537632488552734, 0.27469135802469136)"
            ]
          },
          "metadata": {},
          "execution_count": 80
        }
      ],
      "source": [
        "macro=f1_score(test_num_labels,y_pred,average='macro',labels=[0,2])\n",
        "micro=f1_score(test_num_labels,y_pred,average='micro',labels=[0,2])\n",
        "macro,micro"
      ]
    }
  ],
  "metadata": {
    "colab": {
      "provenance": []
    },
    "kernelspec": {
      "display_name": "Python 3",
      "name": "python3"
    },
    "language_info": {
      "name": "python"
    },
    "widgets": {
      "application/vnd.jupyter.widget-state+json": {
        "8b92421694444360adbbb8399899c593": {
          "model_module": "@jupyter-widgets/controls",
          "model_name": "HBoxModel",
          "model_module_version": "1.5.0",
          "state": {
            "_dom_classes": [],
            "_model_module": "@jupyter-widgets/controls",
            "_model_module_version": "1.5.0",
            "_model_name": "HBoxModel",
            "_view_count": null,
            "_view_module": "@jupyter-widgets/controls",
            "_view_module_version": "1.5.0",
            "_view_name": "HBoxView",
            "box_style": "",
            "children": [
              "IPY_MODEL_9d55b74eba004299868b20fb2188e6eb",
              "IPY_MODEL_a1ed3f63e5e14078b4361d548fb00c23",
              "IPY_MODEL_af55678bb2bb45879b88d914d6f2e9a5"
            ],
            "layout": "IPY_MODEL_7774de08ea9045cfa7bf57a11fde9917"
          }
        },
        "9d55b74eba004299868b20fb2188e6eb": {
          "model_module": "@jupyter-widgets/controls",
          "model_name": "HTMLModel",
          "model_module_version": "1.5.0",
          "state": {
            "_dom_classes": [],
            "_model_module": "@jupyter-widgets/controls",
            "_model_module_version": "1.5.0",
            "_model_name": "HTMLModel",
            "_view_count": null,
            "_view_module": "@jupyter-widgets/controls",
            "_view_module_version": "1.5.0",
            "_view_name": "HTMLView",
            "description": "",
            "description_tooltip": null,
            "layout": "IPY_MODEL_fe6ef2f358d24c61b3b8ac3d26fc4e77",
            "placeholder": "​",
            "style": "IPY_MODEL_6fe124de16b04331866eeb327333dbf3",
            "value": "100%"
          }
        },
        "a1ed3f63e5e14078b4361d548fb00c23": {
          "model_module": "@jupyter-widgets/controls",
          "model_name": "FloatProgressModel",
          "model_module_version": "1.5.0",
          "state": {
            "_dom_classes": [],
            "_model_module": "@jupyter-widgets/controls",
            "_model_module_version": "1.5.0",
            "_model_name": "FloatProgressModel",
            "_view_count": null,
            "_view_module": "@jupyter-widgets/controls",
            "_view_module_version": "1.5.0",
            "_view_name": "ProgressView",
            "bar_style": "success",
            "description": "",
            "description_tooltip": null,
            "layout": "IPY_MODEL_4bd5f4cc88fb496cbfd4b5896019f101",
            "max": 8452,
            "min": 0,
            "orientation": "horizontal",
            "style": "IPY_MODEL_90e6bb7493534c72acd0642fd7deb380",
            "value": 8452
          }
        },
        "af55678bb2bb45879b88d914d6f2e9a5": {
          "model_module": "@jupyter-widgets/controls",
          "model_name": "HTMLModel",
          "model_module_version": "1.5.0",
          "state": {
            "_dom_classes": [],
            "_model_module": "@jupyter-widgets/controls",
            "_model_module_version": "1.5.0",
            "_model_name": "HTMLModel",
            "_view_count": null,
            "_view_module": "@jupyter-widgets/controls",
            "_view_module_version": "1.5.0",
            "_view_name": "HTMLView",
            "description": "",
            "description_tooltip": null,
            "layout": "IPY_MODEL_4a82563540404323a12b9a0597c88d90",
            "placeholder": "​",
            "style": "IPY_MODEL_2b02191d384a4be9a7b3b73add0eb6e7",
            "value": " 8452/8452 [2:20:02&lt;00:00,  1.12it/s]"
          }
        },
        "7774de08ea9045cfa7bf57a11fde9917": {
          "model_module": "@jupyter-widgets/base",
          "model_name": "LayoutModel",
          "model_module_version": "1.2.0",
          "state": {
            "_model_module": "@jupyter-widgets/base",
            "_model_module_version": "1.2.0",
            "_model_name": "LayoutModel",
            "_view_count": null,
            "_view_module": "@jupyter-widgets/base",
            "_view_module_version": "1.2.0",
            "_view_name": "LayoutView",
            "align_content": null,
            "align_items": null,
            "align_self": null,
            "border": null,
            "bottom": null,
            "display": null,
            "flex": null,
            "flex_flow": null,
            "grid_area": null,
            "grid_auto_columns": null,
            "grid_auto_flow": null,
            "grid_auto_rows": null,
            "grid_column": null,
            "grid_gap": null,
            "grid_row": null,
            "grid_template_areas": null,
            "grid_template_columns": null,
            "grid_template_rows": null,
            "height": null,
            "justify_content": null,
            "justify_items": null,
            "left": null,
            "margin": null,
            "max_height": null,
            "max_width": null,
            "min_height": null,
            "min_width": null,
            "object_fit": null,
            "object_position": null,
            "order": null,
            "overflow": null,
            "overflow_x": null,
            "overflow_y": null,
            "padding": null,
            "right": null,
            "top": null,
            "visibility": null,
            "width": null
          }
        },
        "fe6ef2f358d24c61b3b8ac3d26fc4e77": {
          "model_module": "@jupyter-widgets/base",
          "model_name": "LayoutModel",
          "model_module_version": "1.2.0",
          "state": {
            "_model_module": "@jupyter-widgets/base",
            "_model_module_version": "1.2.0",
            "_model_name": "LayoutModel",
            "_view_count": null,
            "_view_module": "@jupyter-widgets/base",
            "_view_module_version": "1.2.0",
            "_view_name": "LayoutView",
            "align_content": null,
            "align_items": null,
            "align_self": null,
            "border": null,
            "bottom": null,
            "display": null,
            "flex": null,
            "flex_flow": null,
            "grid_area": null,
            "grid_auto_columns": null,
            "grid_auto_flow": null,
            "grid_auto_rows": null,
            "grid_column": null,
            "grid_gap": null,
            "grid_row": null,
            "grid_template_areas": null,
            "grid_template_columns": null,
            "grid_template_rows": null,
            "height": null,
            "justify_content": null,
            "justify_items": null,
            "left": null,
            "margin": null,
            "max_height": null,
            "max_width": null,
            "min_height": null,
            "min_width": null,
            "object_fit": null,
            "object_position": null,
            "order": null,
            "overflow": null,
            "overflow_x": null,
            "overflow_y": null,
            "padding": null,
            "right": null,
            "top": null,
            "visibility": null,
            "width": null
          }
        },
        "6fe124de16b04331866eeb327333dbf3": {
          "model_module": "@jupyter-widgets/controls",
          "model_name": "DescriptionStyleModel",
          "model_module_version": "1.5.0",
          "state": {
            "_model_module": "@jupyter-widgets/controls",
            "_model_module_version": "1.5.0",
            "_model_name": "DescriptionStyleModel",
            "_view_count": null,
            "_view_module": "@jupyter-widgets/base",
            "_view_module_version": "1.2.0",
            "_view_name": "StyleView",
            "description_width": ""
          }
        },
        "4bd5f4cc88fb496cbfd4b5896019f101": {
          "model_module": "@jupyter-widgets/base",
          "model_name": "LayoutModel",
          "model_module_version": "1.2.0",
          "state": {
            "_model_module": "@jupyter-widgets/base",
            "_model_module_version": "1.2.0",
            "_model_name": "LayoutModel",
            "_view_count": null,
            "_view_module": "@jupyter-widgets/base",
            "_view_module_version": "1.2.0",
            "_view_name": "LayoutView",
            "align_content": null,
            "align_items": null,
            "align_self": null,
            "border": null,
            "bottom": null,
            "display": null,
            "flex": null,
            "flex_flow": null,
            "grid_area": null,
            "grid_auto_columns": null,
            "grid_auto_flow": null,
            "grid_auto_rows": null,
            "grid_column": null,
            "grid_gap": null,
            "grid_row": null,
            "grid_template_areas": null,
            "grid_template_columns": null,
            "grid_template_rows": null,
            "height": null,
            "justify_content": null,
            "justify_items": null,
            "left": null,
            "margin": null,
            "max_height": null,
            "max_width": null,
            "min_height": null,
            "min_width": null,
            "object_fit": null,
            "object_position": null,
            "order": null,
            "overflow": null,
            "overflow_x": null,
            "overflow_y": null,
            "padding": null,
            "right": null,
            "top": null,
            "visibility": null,
            "width": null
          }
        },
        "90e6bb7493534c72acd0642fd7deb380": {
          "model_module": "@jupyter-widgets/controls",
          "model_name": "ProgressStyleModel",
          "model_module_version": "1.5.0",
          "state": {
            "_model_module": "@jupyter-widgets/controls",
            "_model_module_version": "1.5.0",
            "_model_name": "ProgressStyleModel",
            "_view_count": null,
            "_view_module": "@jupyter-widgets/base",
            "_view_module_version": "1.2.0",
            "_view_name": "StyleView",
            "bar_color": null,
            "description_width": ""
          }
        },
        "4a82563540404323a12b9a0597c88d90": {
          "model_module": "@jupyter-widgets/base",
          "model_name": "LayoutModel",
          "model_module_version": "1.2.0",
          "state": {
            "_model_module": "@jupyter-widgets/base",
            "_model_module_version": "1.2.0",
            "_model_name": "LayoutModel",
            "_view_count": null,
            "_view_module": "@jupyter-widgets/base",
            "_view_module_version": "1.2.0",
            "_view_name": "LayoutView",
            "align_content": null,
            "align_items": null,
            "align_self": null,
            "border": null,
            "bottom": null,
            "display": null,
            "flex": null,
            "flex_flow": null,
            "grid_area": null,
            "grid_auto_columns": null,
            "grid_auto_flow": null,
            "grid_auto_rows": null,
            "grid_column": null,
            "grid_gap": null,
            "grid_row": null,
            "grid_template_areas": null,
            "grid_template_columns": null,
            "grid_template_rows": null,
            "height": null,
            "justify_content": null,
            "justify_items": null,
            "left": null,
            "margin": null,
            "max_height": null,
            "max_width": null,
            "min_height": null,
            "min_width": null,
            "object_fit": null,
            "object_position": null,
            "order": null,
            "overflow": null,
            "overflow_x": null,
            "overflow_y": null,
            "padding": null,
            "right": null,
            "top": null,
            "visibility": null,
            "width": null
          }
        },
        "2b02191d384a4be9a7b3b73add0eb6e7": {
          "model_module": "@jupyter-widgets/controls",
          "model_name": "DescriptionStyleModel",
          "model_module_version": "1.5.0",
          "state": {
            "_model_module": "@jupyter-widgets/controls",
            "_model_module_version": "1.5.0",
            "_model_name": "DescriptionStyleModel",
            "_view_count": null,
            "_view_module": "@jupyter-widgets/base",
            "_view_module_version": "1.2.0",
            "_view_name": "StyleView",
            "description_width": ""
          }
        },
        "d73d10195887439299e479c818838f99": {
          "model_module": "@jupyter-widgets/controls",
          "model_name": "HBoxModel",
          "model_module_version": "1.5.0",
          "state": {
            "_dom_classes": [],
            "_model_module": "@jupyter-widgets/controls",
            "_model_module_version": "1.5.0",
            "_model_name": "HBoxModel",
            "_view_count": null,
            "_view_module": "@jupyter-widgets/controls",
            "_view_module_version": "1.5.0",
            "_view_name": "HBoxView",
            "box_style": "",
            "children": [
              "IPY_MODEL_6bab19019e3645b9a170244c3fdfa059",
              "IPY_MODEL_f6c5f8a795c54f899d7d5a173f9520be",
              "IPY_MODEL_895fbdb6142a40059b91be4d31bf24b6"
            ],
            "layout": "IPY_MODEL_dae86cfdbcfd420499d648a22f1bde34"
          }
        },
        "6bab19019e3645b9a170244c3fdfa059": {
          "model_module": "@jupyter-widgets/controls",
          "model_name": "HTMLModel",
          "model_module_version": "1.5.0",
          "state": {
            "_dom_classes": [],
            "_model_module": "@jupyter-widgets/controls",
            "_model_module_version": "1.5.0",
            "_model_name": "HTMLModel",
            "_view_count": null,
            "_view_module": "@jupyter-widgets/controls",
            "_view_module_version": "1.5.0",
            "_view_name": "HTMLView",
            "description": "",
            "description_tooltip": null,
            "layout": "IPY_MODEL_303074824c954ad3ab6570badb422de3",
            "placeholder": "​",
            "style": "IPY_MODEL_bc6329eb5f5e4ef6af05ee01749194ad",
            "value": "Downloading: 100%"
          }
        },
        "f6c5f8a795c54f899d7d5a173f9520be": {
          "model_module": "@jupyter-widgets/controls",
          "model_name": "FloatProgressModel",
          "model_module_version": "1.5.0",
          "state": {
            "_dom_classes": [],
            "_model_module": "@jupyter-widgets/controls",
            "_model_module_version": "1.5.0",
            "_model_name": "FloatProgressModel",
            "_view_count": null,
            "_view_module": "@jupyter-widgets/controls",
            "_view_module_version": "1.5.0",
            "_view_name": "ProgressView",
            "bar_style": "success",
            "description": "",
            "description_tooltip": null,
            "layout": "IPY_MODEL_dbb93d204ce44c28873eed47a5166fd3",
            "max": 642,
            "min": 0,
            "orientation": "horizontal",
            "style": "IPY_MODEL_a7eaf1e5f577436d9ef57618bbc7ff15",
            "value": 642
          }
        },
        "895fbdb6142a40059b91be4d31bf24b6": {
          "model_module": "@jupyter-widgets/controls",
          "model_name": "HTMLModel",
          "model_module_version": "1.5.0",
          "state": {
            "_dom_classes": [],
            "_model_module": "@jupyter-widgets/controls",
            "_model_module_version": "1.5.0",
            "_model_name": "HTMLModel",
            "_view_count": null,
            "_view_module": "@jupyter-widgets/controls",
            "_view_module_version": "1.5.0",
            "_view_name": "HTMLView",
            "description": "",
            "description_tooltip": null,
            "layout": "IPY_MODEL_1a9527e05d574972a24bf0031be4aca6",
            "placeholder": "​",
            "style": "IPY_MODEL_0e96451baed247de84e8ba6a826181d5",
            "value": " 642/642 [00:00&lt;00:00, 22.1kB/s]"
          }
        },
        "dae86cfdbcfd420499d648a22f1bde34": {
          "model_module": "@jupyter-widgets/base",
          "model_name": "LayoutModel",
          "model_module_version": "1.2.0",
          "state": {
            "_model_module": "@jupyter-widgets/base",
            "_model_module_version": "1.2.0",
            "_model_name": "LayoutModel",
            "_view_count": null,
            "_view_module": "@jupyter-widgets/base",
            "_view_module_version": "1.2.0",
            "_view_name": "LayoutView",
            "align_content": null,
            "align_items": null,
            "align_self": null,
            "border": null,
            "bottom": null,
            "display": null,
            "flex": null,
            "flex_flow": null,
            "grid_area": null,
            "grid_auto_columns": null,
            "grid_auto_flow": null,
            "grid_auto_rows": null,
            "grid_column": null,
            "grid_gap": null,
            "grid_row": null,
            "grid_template_areas": null,
            "grid_template_columns": null,
            "grid_template_rows": null,
            "height": null,
            "justify_content": null,
            "justify_items": null,
            "left": null,
            "margin": null,
            "max_height": null,
            "max_width": null,
            "min_height": null,
            "min_width": null,
            "object_fit": null,
            "object_position": null,
            "order": null,
            "overflow": null,
            "overflow_x": null,
            "overflow_y": null,
            "padding": null,
            "right": null,
            "top": null,
            "visibility": null,
            "width": null
          }
        },
        "303074824c954ad3ab6570badb422de3": {
          "model_module": "@jupyter-widgets/base",
          "model_name": "LayoutModel",
          "model_module_version": "1.2.0",
          "state": {
            "_model_module": "@jupyter-widgets/base",
            "_model_module_version": "1.2.0",
            "_model_name": "LayoutModel",
            "_view_count": null,
            "_view_module": "@jupyter-widgets/base",
            "_view_module_version": "1.2.0",
            "_view_name": "LayoutView",
            "align_content": null,
            "align_items": null,
            "align_self": null,
            "border": null,
            "bottom": null,
            "display": null,
            "flex": null,
            "flex_flow": null,
            "grid_area": null,
            "grid_auto_columns": null,
            "grid_auto_flow": null,
            "grid_auto_rows": null,
            "grid_column": null,
            "grid_gap": null,
            "grid_row": null,
            "grid_template_areas": null,
            "grid_template_columns": null,
            "grid_template_rows": null,
            "height": null,
            "justify_content": null,
            "justify_items": null,
            "left": null,
            "margin": null,
            "max_height": null,
            "max_width": null,
            "min_height": null,
            "min_width": null,
            "object_fit": null,
            "object_position": null,
            "order": null,
            "overflow": null,
            "overflow_x": null,
            "overflow_y": null,
            "padding": null,
            "right": null,
            "top": null,
            "visibility": null,
            "width": null
          }
        },
        "bc6329eb5f5e4ef6af05ee01749194ad": {
          "model_module": "@jupyter-widgets/controls",
          "model_name": "DescriptionStyleModel",
          "model_module_version": "1.5.0",
          "state": {
            "_model_module": "@jupyter-widgets/controls",
            "_model_module_version": "1.5.0",
            "_model_name": "DescriptionStyleModel",
            "_view_count": null,
            "_view_module": "@jupyter-widgets/base",
            "_view_module_version": "1.2.0",
            "_view_name": "StyleView",
            "description_width": ""
          }
        },
        "dbb93d204ce44c28873eed47a5166fd3": {
          "model_module": "@jupyter-widgets/base",
          "model_name": "LayoutModel",
          "model_module_version": "1.2.0",
          "state": {
            "_model_module": "@jupyter-widgets/base",
            "_model_module_version": "1.2.0",
            "_model_name": "LayoutModel",
            "_view_count": null,
            "_view_module": "@jupyter-widgets/base",
            "_view_module_version": "1.2.0",
            "_view_name": "LayoutView",
            "align_content": null,
            "align_items": null,
            "align_self": null,
            "border": null,
            "bottom": null,
            "display": null,
            "flex": null,
            "flex_flow": null,
            "grid_area": null,
            "grid_auto_columns": null,
            "grid_auto_flow": null,
            "grid_auto_rows": null,
            "grid_column": null,
            "grid_gap": null,
            "grid_row": null,
            "grid_template_areas": null,
            "grid_template_columns": null,
            "grid_template_rows": null,
            "height": null,
            "justify_content": null,
            "justify_items": null,
            "left": null,
            "margin": null,
            "max_height": null,
            "max_width": null,
            "min_height": null,
            "min_width": null,
            "object_fit": null,
            "object_position": null,
            "order": null,
            "overflow": null,
            "overflow_x": null,
            "overflow_y": null,
            "padding": null,
            "right": null,
            "top": null,
            "visibility": null,
            "width": null
          }
        },
        "a7eaf1e5f577436d9ef57618bbc7ff15": {
          "model_module": "@jupyter-widgets/controls",
          "model_name": "ProgressStyleModel",
          "model_module_version": "1.5.0",
          "state": {
            "_model_module": "@jupyter-widgets/controls",
            "_model_module_version": "1.5.0",
            "_model_name": "ProgressStyleModel",
            "_view_count": null,
            "_view_module": "@jupyter-widgets/base",
            "_view_module_version": "1.2.0",
            "_view_name": "StyleView",
            "bar_color": null,
            "description_width": ""
          }
        },
        "1a9527e05d574972a24bf0031be4aca6": {
          "model_module": "@jupyter-widgets/base",
          "model_name": "LayoutModel",
          "model_module_version": "1.2.0",
          "state": {
            "_model_module": "@jupyter-widgets/base",
            "_model_module_version": "1.2.0",
            "_model_name": "LayoutModel",
            "_view_count": null,
            "_view_module": "@jupyter-widgets/base",
            "_view_module_version": "1.2.0",
            "_view_name": "LayoutView",
            "align_content": null,
            "align_items": null,
            "align_self": null,
            "border": null,
            "bottom": null,
            "display": null,
            "flex": null,
            "flex_flow": null,
            "grid_area": null,
            "grid_auto_columns": null,
            "grid_auto_flow": null,
            "grid_auto_rows": null,
            "grid_column": null,
            "grid_gap": null,
            "grid_row": null,
            "grid_template_areas": null,
            "grid_template_columns": null,
            "grid_template_rows": null,
            "height": null,
            "justify_content": null,
            "justify_items": null,
            "left": null,
            "margin": null,
            "max_height": null,
            "max_width": null,
            "min_height": null,
            "min_width": null,
            "object_fit": null,
            "object_position": null,
            "order": null,
            "overflow": null,
            "overflow_x": null,
            "overflow_y": null,
            "padding": null,
            "right": null,
            "top": null,
            "visibility": null,
            "width": null
          }
        },
        "0e96451baed247de84e8ba6a826181d5": {
          "model_module": "@jupyter-widgets/controls",
          "model_name": "DescriptionStyleModel",
          "model_module_version": "1.5.0",
          "state": {
            "_model_module": "@jupyter-widgets/controls",
            "_model_module_version": "1.5.0",
            "_model_name": "DescriptionStyleModel",
            "_view_count": null,
            "_view_module": "@jupyter-widgets/base",
            "_view_module_version": "1.2.0",
            "_view_name": "StyleView",
            "description_width": ""
          }
        },
        "8a2d2b9fc18a43ceb9c9f7a27d455cb1": {
          "model_module": "@jupyter-widgets/controls",
          "model_name": "HBoxModel",
          "model_module_version": "1.5.0",
          "state": {
            "_dom_classes": [],
            "_model_module": "@jupyter-widgets/controls",
            "_model_module_version": "1.5.0",
            "_model_name": "HBoxModel",
            "_view_count": null,
            "_view_module": "@jupyter-widgets/controls",
            "_view_module_version": "1.5.0",
            "_view_name": "HBoxView",
            "box_style": "",
            "children": [
              "IPY_MODEL_fed39491c8924fd59764cf68139814f9",
              "IPY_MODEL_9d311c07d0db4de89febf37eb3817ed0",
              "IPY_MODEL_a578642bcfea4fd0ae7c420f3af12aca"
            ],
            "layout": "IPY_MODEL_eb82194402b84557935d2100ad8443c9"
          }
        },
        "fed39491c8924fd59764cf68139814f9": {
          "model_module": "@jupyter-widgets/controls",
          "model_name": "HTMLModel",
          "model_module_version": "1.5.0",
          "state": {
            "_dom_classes": [],
            "_model_module": "@jupyter-widgets/controls",
            "_model_module_version": "1.5.0",
            "_model_name": "HTMLModel",
            "_view_count": null,
            "_view_module": "@jupyter-widgets/controls",
            "_view_module_version": "1.5.0",
            "_view_name": "HTMLView",
            "description": "",
            "description_tooltip": null,
            "layout": "IPY_MODEL_ee4c3ef50a1d4bcb8cedcc09655b20cf",
            "placeholder": "​",
            "style": "IPY_MODEL_e6cec5cbe472486d9e1d3cb98c058953",
            "value": "Downloading: 100%"
          }
        },
        "9d311c07d0db4de89febf37eb3817ed0": {
          "model_module": "@jupyter-widgets/controls",
          "model_name": "FloatProgressModel",
          "model_module_version": "1.5.0",
          "state": {
            "_dom_classes": [],
            "_model_module": "@jupyter-widgets/controls",
            "_model_module_version": "1.5.0",
            "_model_name": "FloatProgressModel",
            "_view_count": null,
            "_view_module": "@jupyter-widgets/controls",
            "_view_module_version": "1.5.0",
            "_view_name": "ProgressView",
            "bar_style": "success",
            "description": "",
            "description_tooltip": null,
            "layout": "IPY_MODEL_b2fd00cacf294b2883a049e610358a91",
            "max": 714355318,
            "min": 0,
            "orientation": "horizontal",
            "style": "IPY_MODEL_9fca0688448c453caa20236d1397faaa",
            "value": 714355318
          }
        },
        "a578642bcfea4fd0ae7c420f3af12aca": {
          "model_module": "@jupyter-widgets/controls",
          "model_name": "HTMLModel",
          "model_module_version": "1.5.0",
          "state": {
            "_dom_classes": [],
            "_model_module": "@jupyter-widgets/controls",
            "_model_module_version": "1.5.0",
            "_model_name": "HTMLModel",
            "_view_count": null,
            "_view_module": "@jupyter-widgets/controls",
            "_view_module_version": "1.5.0",
            "_view_name": "HTMLView",
            "description": "",
            "description_tooltip": null,
            "layout": "IPY_MODEL_de1671b1c98f480fa5ab40cf2dab5a9e",
            "placeholder": "​",
            "style": "IPY_MODEL_57530f7615034c9783d2090a850ca13b",
            "value": " 714M/714M [00:18&lt;00:00, 48.1MB/s]"
          }
        },
        "eb82194402b84557935d2100ad8443c9": {
          "model_module": "@jupyter-widgets/base",
          "model_name": "LayoutModel",
          "model_module_version": "1.2.0",
          "state": {
            "_model_module": "@jupyter-widgets/base",
            "_model_module_version": "1.2.0",
            "_model_name": "LayoutModel",
            "_view_count": null,
            "_view_module": "@jupyter-widgets/base",
            "_view_module_version": "1.2.0",
            "_view_name": "LayoutView",
            "align_content": null,
            "align_items": null,
            "align_self": null,
            "border": null,
            "bottom": null,
            "display": null,
            "flex": null,
            "flex_flow": null,
            "grid_area": null,
            "grid_auto_columns": null,
            "grid_auto_flow": null,
            "grid_auto_rows": null,
            "grid_column": null,
            "grid_gap": null,
            "grid_row": null,
            "grid_template_areas": null,
            "grid_template_columns": null,
            "grid_template_rows": null,
            "height": null,
            "justify_content": null,
            "justify_items": null,
            "left": null,
            "margin": null,
            "max_height": null,
            "max_width": null,
            "min_height": null,
            "min_width": null,
            "object_fit": null,
            "object_position": null,
            "order": null,
            "overflow": null,
            "overflow_x": null,
            "overflow_y": null,
            "padding": null,
            "right": null,
            "top": null,
            "visibility": null,
            "width": null
          }
        },
        "ee4c3ef50a1d4bcb8cedcc09655b20cf": {
          "model_module": "@jupyter-widgets/base",
          "model_name": "LayoutModel",
          "model_module_version": "1.2.0",
          "state": {
            "_model_module": "@jupyter-widgets/base",
            "_model_module_version": "1.2.0",
            "_model_name": "LayoutModel",
            "_view_count": null,
            "_view_module": "@jupyter-widgets/base",
            "_view_module_version": "1.2.0",
            "_view_name": "LayoutView",
            "align_content": null,
            "align_items": null,
            "align_self": null,
            "border": null,
            "bottom": null,
            "display": null,
            "flex": null,
            "flex_flow": null,
            "grid_area": null,
            "grid_auto_columns": null,
            "grid_auto_flow": null,
            "grid_auto_rows": null,
            "grid_column": null,
            "grid_gap": null,
            "grid_row": null,
            "grid_template_areas": null,
            "grid_template_columns": null,
            "grid_template_rows": null,
            "height": null,
            "justify_content": null,
            "justify_items": null,
            "left": null,
            "margin": null,
            "max_height": null,
            "max_width": null,
            "min_height": null,
            "min_width": null,
            "object_fit": null,
            "object_position": null,
            "order": null,
            "overflow": null,
            "overflow_x": null,
            "overflow_y": null,
            "padding": null,
            "right": null,
            "top": null,
            "visibility": null,
            "width": null
          }
        },
        "e6cec5cbe472486d9e1d3cb98c058953": {
          "model_module": "@jupyter-widgets/controls",
          "model_name": "DescriptionStyleModel",
          "model_module_version": "1.5.0",
          "state": {
            "_model_module": "@jupyter-widgets/controls",
            "_model_module_version": "1.5.0",
            "_model_name": "DescriptionStyleModel",
            "_view_count": null,
            "_view_module": "@jupyter-widgets/base",
            "_view_module_version": "1.2.0",
            "_view_name": "StyleView",
            "description_width": ""
          }
        },
        "b2fd00cacf294b2883a049e610358a91": {
          "model_module": "@jupyter-widgets/base",
          "model_name": "LayoutModel",
          "model_module_version": "1.2.0",
          "state": {
            "_model_module": "@jupyter-widgets/base",
            "_model_module_version": "1.2.0",
            "_model_name": "LayoutModel",
            "_view_count": null,
            "_view_module": "@jupyter-widgets/base",
            "_view_module_version": "1.2.0",
            "_view_name": "LayoutView",
            "align_content": null,
            "align_items": null,
            "align_self": null,
            "border": null,
            "bottom": null,
            "display": null,
            "flex": null,
            "flex_flow": null,
            "grid_area": null,
            "grid_auto_columns": null,
            "grid_auto_flow": null,
            "grid_auto_rows": null,
            "grid_column": null,
            "grid_gap": null,
            "grid_row": null,
            "grid_template_areas": null,
            "grid_template_columns": null,
            "grid_template_rows": null,
            "height": null,
            "justify_content": null,
            "justify_items": null,
            "left": null,
            "margin": null,
            "max_height": null,
            "max_width": null,
            "min_height": null,
            "min_width": null,
            "object_fit": null,
            "object_position": null,
            "order": null,
            "overflow": null,
            "overflow_x": null,
            "overflow_y": null,
            "padding": null,
            "right": null,
            "top": null,
            "visibility": null,
            "width": null
          }
        },
        "9fca0688448c453caa20236d1397faaa": {
          "model_module": "@jupyter-widgets/controls",
          "model_name": "ProgressStyleModel",
          "model_module_version": "1.5.0",
          "state": {
            "_model_module": "@jupyter-widgets/controls",
            "_model_module_version": "1.5.0",
            "_model_name": "ProgressStyleModel",
            "_view_count": null,
            "_view_module": "@jupyter-widgets/base",
            "_view_module_version": "1.2.0",
            "_view_name": "StyleView",
            "bar_color": null,
            "description_width": ""
          }
        },
        "de1671b1c98f480fa5ab40cf2dab5a9e": {
          "model_module": "@jupyter-widgets/base",
          "model_name": "LayoutModel",
          "model_module_version": "1.2.0",
          "state": {
            "_model_module": "@jupyter-widgets/base",
            "_model_module_version": "1.2.0",
            "_model_name": "LayoutModel",
            "_view_count": null,
            "_view_module": "@jupyter-widgets/base",
            "_view_module_version": "1.2.0",
            "_view_name": "LayoutView",
            "align_content": null,
            "align_items": null,
            "align_self": null,
            "border": null,
            "bottom": null,
            "display": null,
            "flex": null,
            "flex_flow": null,
            "grid_area": null,
            "grid_auto_columns": null,
            "grid_auto_flow": null,
            "grid_auto_rows": null,
            "grid_column": null,
            "grid_gap": null,
            "grid_row": null,
            "grid_template_areas": null,
            "grid_template_columns": null,
            "grid_template_rows": null,
            "height": null,
            "justify_content": null,
            "justify_items": null,
            "left": null,
            "margin": null,
            "max_height": null,
            "max_width": null,
            "min_height": null,
            "min_width": null,
            "object_fit": null,
            "object_position": null,
            "order": null,
            "overflow": null,
            "overflow_x": null,
            "overflow_y": null,
            "padding": null,
            "right": null,
            "top": null,
            "visibility": null,
            "width": null
          }
        },
        "57530f7615034c9783d2090a850ca13b": {
          "model_module": "@jupyter-widgets/controls",
          "model_name": "DescriptionStyleModel",
          "model_module_version": "1.5.0",
          "state": {
            "_model_module": "@jupyter-widgets/controls",
            "_model_module_version": "1.5.0",
            "_model_name": "DescriptionStyleModel",
            "_view_count": null,
            "_view_module": "@jupyter-widgets/base",
            "_view_module_version": "1.2.0",
            "_view_name": "StyleView",
            "description_width": ""
          }
        },
        "fcbe8ac579f74ad9bb7a48e24e5b7c23": {
          "model_module": "@jupyter-widgets/controls",
          "model_name": "HBoxModel",
          "model_module_version": "1.5.0",
          "state": {
            "_dom_classes": [],
            "_model_module": "@jupyter-widgets/controls",
            "_model_module_version": "1.5.0",
            "_model_name": "HBoxModel",
            "_view_count": null,
            "_view_module": "@jupyter-widgets/controls",
            "_view_module_version": "1.5.0",
            "_view_name": "HBoxView",
            "box_style": "",
            "children": [
              "IPY_MODEL_725343e659864304b0be296a140e9461",
              "IPY_MODEL_756d1783548048e39302f2fc876df027",
              "IPY_MODEL_aa49ebb38f7948c9856b0cf921bf8865"
            ],
            "layout": "IPY_MODEL_498c5f48b79045178530b28dc656584e"
          }
        },
        "725343e659864304b0be296a140e9461": {
          "model_module": "@jupyter-widgets/controls",
          "model_name": "HTMLModel",
          "model_module_version": "1.5.0",
          "state": {
            "_dom_classes": [],
            "_model_module": "@jupyter-widgets/controls",
            "_model_module_version": "1.5.0",
            "_model_name": "HTMLModel",
            "_view_count": null,
            "_view_module": "@jupyter-widgets/controls",
            "_view_module_version": "1.5.0",
            "_view_name": "HTMLView",
            "description": "",
            "description_tooltip": null,
            "layout": "IPY_MODEL_6190efaac99e44efa30c754869f33e16",
            "placeholder": "​",
            "style": "IPY_MODEL_19144fbc0f814a59a9a66617eaaee00e",
            "value": "Downloading: 100%"
          }
        },
        "756d1783548048e39302f2fc876df027": {
          "model_module": "@jupyter-widgets/controls",
          "model_name": "FloatProgressModel",
          "model_module_version": "1.5.0",
          "state": {
            "_dom_classes": [],
            "_model_module": "@jupyter-widgets/controls",
            "_model_module_version": "1.5.0",
            "_model_name": "FloatProgressModel",
            "_view_count": null,
            "_view_module": "@jupyter-widgets/controls",
            "_view_module_version": "1.5.0",
            "_view_name": "ProgressView",
            "bar_style": "success",
            "description": "",
            "description_tooltip": null,
            "layout": "IPY_MODEL_9e6f5c4a0dfd4e3c9bf6273563db51ad",
            "max": 24,
            "min": 0,
            "orientation": "horizontal",
            "style": "IPY_MODEL_c7d1a28b1206486fbe2609fffdb7e50b",
            "value": 24
          }
        },
        "aa49ebb38f7948c9856b0cf921bf8865": {
          "model_module": "@jupyter-widgets/controls",
          "model_name": "HTMLModel",
          "model_module_version": "1.5.0",
          "state": {
            "_dom_classes": [],
            "_model_module": "@jupyter-widgets/controls",
            "_model_module_version": "1.5.0",
            "_model_name": "HTMLModel",
            "_view_count": null,
            "_view_module": "@jupyter-widgets/controls",
            "_view_module_version": "1.5.0",
            "_view_name": "HTMLView",
            "description": "",
            "description_tooltip": null,
            "layout": "IPY_MODEL_eb2ee460d5be49fabd64d467fa2f991a",
            "placeholder": "​",
            "style": "IPY_MODEL_19176d1f02f541b48f269ce1648ab3fb",
            "value": " 24.0/24.0 [00:00&lt;00:00, 1.05kB/s]"
          }
        },
        "498c5f48b79045178530b28dc656584e": {
          "model_module": "@jupyter-widgets/base",
          "model_name": "LayoutModel",
          "model_module_version": "1.2.0",
          "state": {
            "_model_module": "@jupyter-widgets/base",
            "_model_module_version": "1.2.0",
            "_model_name": "LayoutModel",
            "_view_count": null,
            "_view_module": "@jupyter-widgets/base",
            "_view_module_version": "1.2.0",
            "_view_name": "LayoutView",
            "align_content": null,
            "align_items": null,
            "align_self": null,
            "border": null,
            "bottom": null,
            "display": null,
            "flex": null,
            "flex_flow": null,
            "grid_area": null,
            "grid_auto_columns": null,
            "grid_auto_flow": null,
            "grid_auto_rows": null,
            "grid_column": null,
            "grid_gap": null,
            "grid_row": null,
            "grid_template_areas": null,
            "grid_template_columns": null,
            "grid_template_rows": null,
            "height": null,
            "justify_content": null,
            "justify_items": null,
            "left": null,
            "margin": null,
            "max_height": null,
            "max_width": null,
            "min_height": null,
            "min_width": null,
            "object_fit": null,
            "object_position": null,
            "order": null,
            "overflow": null,
            "overflow_x": null,
            "overflow_y": null,
            "padding": null,
            "right": null,
            "top": null,
            "visibility": null,
            "width": null
          }
        },
        "6190efaac99e44efa30c754869f33e16": {
          "model_module": "@jupyter-widgets/base",
          "model_name": "LayoutModel",
          "model_module_version": "1.2.0",
          "state": {
            "_model_module": "@jupyter-widgets/base",
            "_model_module_version": "1.2.0",
            "_model_name": "LayoutModel",
            "_view_count": null,
            "_view_module": "@jupyter-widgets/base",
            "_view_module_version": "1.2.0",
            "_view_name": "LayoutView",
            "align_content": null,
            "align_items": null,
            "align_self": null,
            "border": null,
            "bottom": null,
            "display": null,
            "flex": null,
            "flex_flow": null,
            "grid_area": null,
            "grid_auto_columns": null,
            "grid_auto_flow": null,
            "grid_auto_rows": null,
            "grid_column": null,
            "grid_gap": null,
            "grid_row": null,
            "grid_template_areas": null,
            "grid_template_columns": null,
            "grid_template_rows": null,
            "height": null,
            "justify_content": null,
            "justify_items": null,
            "left": null,
            "margin": null,
            "max_height": null,
            "max_width": null,
            "min_height": null,
            "min_width": null,
            "object_fit": null,
            "object_position": null,
            "order": null,
            "overflow": null,
            "overflow_x": null,
            "overflow_y": null,
            "padding": null,
            "right": null,
            "top": null,
            "visibility": null,
            "width": null
          }
        },
        "19144fbc0f814a59a9a66617eaaee00e": {
          "model_module": "@jupyter-widgets/controls",
          "model_name": "DescriptionStyleModel",
          "model_module_version": "1.5.0",
          "state": {
            "_model_module": "@jupyter-widgets/controls",
            "_model_module_version": "1.5.0",
            "_model_name": "DescriptionStyleModel",
            "_view_count": null,
            "_view_module": "@jupyter-widgets/base",
            "_view_module_version": "1.2.0",
            "_view_name": "StyleView",
            "description_width": ""
          }
        },
        "9e6f5c4a0dfd4e3c9bf6273563db51ad": {
          "model_module": "@jupyter-widgets/base",
          "model_name": "LayoutModel",
          "model_module_version": "1.2.0",
          "state": {
            "_model_module": "@jupyter-widgets/base",
            "_model_module_version": "1.2.0",
            "_model_name": "LayoutModel",
            "_view_count": null,
            "_view_module": "@jupyter-widgets/base",
            "_view_module_version": "1.2.0",
            "_view_name": "LayoutView",
            "align_content": null,
            "align_items": null,
            "align_self": null,
            "border": null,
            "bottom": null,
            "display": null,
            "flex": null,
            "flex_flow": null,
            "grid_area": null,
            "grid_auto_columns": null,
            "grid_auto_flow": null,
            "grid_auto_rows": null,
            "grid_column": null,
            "grid_gap": null,
            "grid_row": null,
            "grid_template_areas": null,
            "grid_template_columns": null,
            "grid_template_rows": null,
            "height": null,
            "justify_content": null,
            "justify_items": null,
            "left": null,
            "margin": null,
            "max_height": null,
            "max_width": null,
            "min_height": null,
            "min_width": null,
            "object_fit": null,
            "object_position": null,
            "order": null,
            "overflow": null,
            "overflow_x": null,
            "overflow_y": null,
            "padding": null,
            "right": null,
            "top": null,
            "visibility": null,
            "width": null
          }
        },
        "c7d1a28b1206486fbe2609fffdb7e50b": {
          "model_module": "@jupyter-widgets/controls",
          "model_name": "ProgressStyleModel",
          "model_module_version": "1.5.0",
          "state": {
            "_model_module": "@jupyter-widgets/controls",
            "_model_module_version": "1.5.0",
            "_model_name": "ProgressStyleModel",
            "_view_count": null,
            "_view_module": "@jupyter-widgets/base",
            "_view_module_version": "1.2.0",
            "_view_name": "StyleView",
            "bar_color": null,
            "description_width": ""
          }
        },
        "eb2ee460d5be49fabd64d467fa2f991a": {
          "model_module": "@jupyter-widgets/base",
          "model_name": "LayoutModel",
          "model_module_version": "1.2.0",
          "state": {
            "_model_module": "@jupyter-widgets/base",
            "_model_module_version": "1.2.0",
            "_model_name": "LayoutModel",
            "_view_count": null,
            "_view_module": "@jupyter-widgets/base",
            "_view_module_version": "1.2.0",
            "_view_name": "LayoutView",
            "align_content": null,
            "align_items": null,
            "align_self": null,
            "border": null,
            "bottom": null,
            "display": null,
            "flex": null,
            "flex_flow": null,
            "grid_area": null,
            "grid_auto_columns": null,
            "grid_auto_flow": null,
            "grid_auto_rows": null,
            "grid_column": null,
            "grid_gap": null,
            "grid_row": null,
            "grid_template_areas": null,
            "grid_template_columns": null,
            "grid_template_rows": null,
            "height": null,
            "justify_content": null,
            "justify_items": null,
            "left": null,
            "margin": null,
            "max_height": null,
            "max_width": null,
            "min_height": null,
            "min_width": null,
            "object_fit": null,
            "object_position": null,
            "order": null,
            "overflow": null,
            "overflow_x": null,
            "overflow_y": null,
            "padding": null,
            "right": null,
            "top": null,
            "visibility": null,
            "width": null
          }
        },
        "19176d1f02f541b48f269ce1648ab3fb": {
          "model_module": "@jupyter-widgets/controls",
          "model_name": "DescriptionStyleModel",
          "model_module_version": "1.5.0",
          "state": {
            "_model_module": "@jupyter-widgets/controls",
            "_model_module_version": "1.5.0",
            "_model_name": "DescriptionStyleModel",
            "_view_count": null,
            "_view_module": "@jupyter-widgets/base",
            "_view_module_version": "1.2.0",
            "_view_name": "StyleView",
            "description_width": ""
          }
        },
        "9ddd588abc244720ac833783e969e8c4": {
          "model_module": "@jupyter-widgets/controls",
          "model_name": "HBoxModel",
          "model_module_version": "1.5.0",
          "state": {
            "_dom_classes": [],
            "_model_module": "@jupyter-widgets/controls",
            "_model_module_version": "1.5.0",
            "_model_name": "HBoxModel",
            "_view_count": null,
            "_view_module": "@jupyter-widgets/controls",
            "_view_module_version": "1.5.0",
            "_view_name": "HBoxView",
            "box_style": "",
            "children": [
              "IPY_MODEL_a2d0d924cea843af88d8c6d24b6efb36",
              "IPY_MODEL_5eae8e1f922d4231b0e51d63d82e1ec9",
              "IPY_MODEL_5b23f5171e1b4064b3fe25677de23671"
            ],
            "layout": "IPY_MODEL_fcec1446f15b40f580c7b2c2841456b0"
          }
        },
        "a2d0d924cea843af88d8c6d24b6efb36": {
          "model_module": "@jupyter-widgets/controls",
          "model_name": "HTMLModel",
          "model_module_version": "1.5.0",
          "state": {
            "_dom_classes": [],
            "_model_module": "@jupyter-widgets/controls",
            "_model_module_version": "1.5.0",
            "_model_name": "HTMLModel",
            "_view_count": null,
            "_view_module": "@jupyter-widgets/controls",
            "_view_module_version": "1.5.0",
            "_view_name": "HTMLView",
            "description": "",
            "description_tooltip": null,
            "layout": "IPY_MODEL_5e219a3686044a7184f1ef0cc4f71688",
            "placeholder": "​",
            "style": "IPY_MODEL_651e54e6913943f0a5bf56c00fde8b55",
            "value": "Downloading: 100%"
          }
        },
        "5eae8e1f922d4231b0e51d63d82e1ec9": {
          "model_module": "@jupyter-widgets/controls",
          "model_name": "FloatProgressModel",
          "model_module_version": "1.5.0",
          "state": {
            "_dom_classes": [],
            "_model_module": "@jupyter-widgets/controls",
            "_model_module_version": "1.5.0",
            "_model_name": "FloatProgressModel",
            "_view_count": null,
            "_view_module": "@jupyter-widgets/controls",
            "_view_module_version": "1.5.0",
            "_view_name": "ProgressView",
            "bar_style": "success",
            "description": "",
            "description_tooltip": null,
            "layout": "IPY_MODEL_c283a1c47b0c423db76dc957b4f96597",
            "max": 1649718,
            "min": 0,
            "orientation": "horizontal",
            "style": "IPY_MODEL_908d2d2f7eb242faaff60e4407cbf2af",
            "value": 1649718
          }
        },
        "5b23f5171e1b4064b3fe25677de23671": {
          "model_module": "@jupyter-widgets/controls",
          "model_name": "HTMLModel",
          "model_module_version": "1.5.0",
          "state": {
            "_dom_classes": [],
            "_model_module": "@jupyter-widgets/controls",
            "_model_module_version": "1.5.0",
            "_model_name": "HTMLModel",
            "_view_count": null,
            "_view_module": "@jupyter-widgets/controls",
            "_view_module_version": "1.5.0",
            "_view_name": "HTMLView",
            "description": "",
            "description_tooltip": null,
            "layout": "IPY_MODEL_ccf4eeb1abe149a8b4446c5ac29ec3d9",
            "placeholder": "​",
            "style": "IPY_MODEL_f2a795c0b24449e7b10c3c5e84469b5d",
            "value": " 1.65M/1.65M [00:00&lt;00:00, 3.73MB/s]"
          }
        },
        "fcec1446f15b40f580c7b2c2841456b0": {
          "model_module": "@jupyter-widgets/base",
          "model_name": "LayoutModel",
          "model_module_version": "1.2.0",
          "state": {
            "_model_module": "@jupyter-widgets/base",
            "_model_module_version": "1.2.0",
            "_model_name": "LayoutModel",
            "_view_count": null,
            "_view_module": "@jupyter-widgets/base",
            "_view_module_version": "1.2.0",
            "_view_name": "LayoutView",
            "align_content": null,
            "align_items": null,
            "align_self": null,
            "border": null,
            "bottom": null,
            "display": null,
            "flex": null,
            "flex_flow": null,
            "grid_area": null,
            "grid_auto_columns": null,
            "grid_auto_flow": null,
            "grid_auto_rows": null,
            "grid_column": null,
            "grid_gap": null,
            "grid_row": null,
            "grid_template_areas": null,
            "grid_template_columns": null,
            "grid_template_rows": null,
            "height": null,
            "justify_content": null,
            "justify_items": null,
            "left": null,
            "margin": null,
            "max_height": null,
            "max_width": null,
            "min_height": null,
            "min_width": null,
            "object_fit": null,
            "object_position": null,
            "order": null,
            "overflow": null,
            "overflow_x": null,
            "overflow_y": null,
            "padding": null,
            "right": null,
            "top": null,
            "visibility": null,
            "width": null
          }
        },
        "5e219a3686044a7184f1ef0cc4f71688": {
          "model_module": "@jupyter-widgets/base",
          "model_name": "LayoutModel",
          "model_module_version": "1.2.0",
          "state": {
            "_model_module": "@jupyter-widgets/base",
            "_model_module_version": "1.2.0",
            "_model_name": "LayoutModel",
            "_view_count": null,
            "_view_module": "@jupyter-widgets/base",
            "_view_module_version": "1.2.0",
            "_view_name": "LayoutView",
            "align_content": null,
            "align_items": null,
            "align_self": null,
            "border": null,
            "bottom": null,
            "display": null,
            "flex": null,
            "flex_flow": null,
            "grid_area": null,
            "grid_auto_columns": null,
            "grid_auto_flow": null,
            "grid_auto_rows": null,
            "grid_column": null,
            "grid_gap": null,
            "grid_row": null,
            "grid_template_areas": null,
            "grid_template_columns": null,
            "grid_template_rows": null,
            "height": null,
            "justify_content": null,
            "justify_items": null,
            "left": null,
            "margin": null,
            "max_height": null,
            "max_width": null,
            "min_height": null,
            "min_width": null,
            "object_fit": null,
            "object_position": null,
            "order": null,
            "overflow": null,
            "overflow_x": null,
            "overflow_y": null,
            "padding": null,
            "right": null,
            "top": null,
            "visibility": null,
            "width": null
          }
        },
        "651e54e6913943f0a5bf56c00fde8b55": {
          "model_module": "@jupyter-widgets/controls",
          "model_name": "DescriptionStyleModel",
          "model_module_version": "1.5.0",
          "state": {
            "_model_module": "@jupyter-widgets/controls",
            "_model_module_version": "1.5.0",
            "_model_name": "DescriptionStyleModel",
            "_view_count": null,
            "_view_module": "@jupyter-widgets/base",
            "_view_module_version": "1.2.0",
            "_view_name": "StyleView",
            "description_width": ""
          }
        },
        "c283a1c47b0c423db76dc957b4f96597": {
          "model_module": "@jupyter-widgets/base",
          "model_name": "LayoutModel",
          "model_module_version": "1.2.0",
          "state": {
            "_model_module": "@jupyter-widgets/base",
            "_model_module_version": "1.2.0",
            "_model_name": "LayoutModel",
            "_view_count": null,
            "_view_module": "@jupyter-widgets/base",
            "_view_module_version": "1.2.0",
            "_view_name": "LayoutView",
            "align_content": null,
            "align_items": null,
            "align_self": null,
            "border": null,
            "bottom": null,
            "display": null,
            "flex": null,
            "flex_flow": null,
            "grid_area": null,
            "grid_auto_columns": null,
            "grid_auto_flow": null,
            "grid_auto_rows": null,
            "grid_column": null,
            "grid_gap": null,
            "grid_row": null,
            "grid_template_areas": null,
            "grid_template_columns": null,
            "grid_template_rows": null,
            "height": null,
            "justify_content": null,
            "justify_items": null,
            "left": null,
            "margin": null,
            "max_height": null,
            "max_width": null,
            "min_height": null,
            "min_width": null,
            "object_fit": null,
            "object_position": null,
            "order": null,
            "overflow": null,
            "overflow_x": null,
            "overflow_y": null,
            "padding": null,
            "right": null,
            "top": null,
            "visibility": null,
            "width": null
          }
        },
        "908d2d2f7eb242faaff60e4407cbf2af": {
          "model_module": "@jupyter-widgets/controls",
          "model_name": "ProgressStyleModel",
          "model_module_version": "1.5.0",
          "state": {
            "_model_module": "@jupyter-widgets/controls",
            "_model_module_version": "1.5.0",
            "_model_name": "ProgressStyleModel",
            "_view_count": null,
            "_view_module": "@jupyter-widgets/base",
            "_view_module_version": "1.2.0",
            "_view_name": "StyleView",
            "bar_color": null,
            "description_width": ""
          }
        },
        "ccf4eeb1abe149a8b4446c5ac29ec3d9": {
          "model_module": "@jupyter-widgets/base",
          "model_name": "LayoutModel",
          "model_module_version": "1.2.0",
          "state": {
            "_model_module": "@jupyter-widgets/base",
            "_model_module_version": "1.2.0",
            "_model_name": "LayoutModel",
            "_view_count": null,
            "_view_module": "@jupyter-widgets/base",
            "_view_module_version": "1.2.0",
            "_view_name": "LayoutView",
            "align_content": null,
            "align_items": null,
            "align_self": null,
            "border": null,
            "bottom": null,
            "display": null,
            "flex": null,
            "flex_flow": null,
            "grid_area": null,
            "grid_auto_columns": null,
            "grid_auto_flow": null,
            "grid_auto_rows": null,
            "grid_column": null,
            "grid_gap": null,
            "grid_row": null,
            "grid_template_areas": null,
            "grid_template_columns": null,
            "grid_template_rows": null,
            "height": null,
            "justify_content": null,
            "justify_items": null,
            "left": null,
            "margin": null,
            "max_height": null,
            "max_width": null,
            "min_height": null,
            "min_width": null,
            "object_fit": null,
            "object_position": null,
            "order": null,
            "overflow": null,
            "overflow_x": null,
            "overflow_y": null,
            "padding": null,
            "right": null,
            "top": null,
            "visibility": null,
            "width": null
          }
        },
        "f2a795c0b24449e7b10c3c5e84469b5d": {
          "model_module": "@jupyter-widgets/controls",
          "model_name": "DescriptionStyleModel",
          "model_module_version": "1.5.0",
          "state": {
            "_model_module": "@jupyter-widgets/controls",
            "_model_module_version": "1.5.0",
            "_model_name": "DescriptionStyleModel",
            "_view_count": null,
            "_view_module": "@jupyter-widgets/base",
            "_view_module_version": "1.2.0",
            "_view_name": "StyleView",
            "description_width": ""
          }
        },
        "cd40fc42c4ff4a9595f66ceb632041e7": {
          "model_module": "@jupyter-widgets/controls",
          "model_name": "HBoxModel",
          "model_module_version": "1.5.0",
          "state": {
            "_dom_classes": [],
            "_model_module": "@jupyter-widgets/controls",
            "_model_module_version": "1.5.0",
            "_model_name": "HBoxModel",
            "_view_count": null,
            "_view_module": "@jupyter-widgets/controls",
            "_view_module_version": "1.5.0",
            "_view_name": "HBoxView",
            "box_style": "",
            "children": [
              "IPY_MODEL_d3c85992dcd34c79a49ad4601fbb4e17",
              "IPY_MODEL_81f810d5e55544a4a294aec0bdbf2dd5",
              "IPY_MODEL_ca0ff463934d4c68a3a802d5711c71c7"
            ],
            "layout": "IPY_MODEL_c78e2cf1996243f8b14cc44ee7b39a55"
          }
        },
        "d3c85992dcd34c79a49ad4601fbb4e17": {
          "model_module": "@jupyter-widgets/controls",
          "model_name": "HTMLModel",
          "model_module_version": "1.5.0",
          "state": {
            "_dom_classes": [],
            "_model_module": "@jupyter-widgets/controls",
            "_model_module_version": "1.5.0",
            "_model_name": "HTMLModel",
            "_view_count": null,
            "_view_module": "@jupyter-widgets/controls",
            "_view_module_version": "1.5.0",
            "_view_name": "HTMLView",
            "description": "",
            "description_tooltip": null,
            "layout": "IPY_MODEL_cd65e71f97e24684acb87eafc1d9b18e",
            "placeholder": "​",
            "style": "IPY_MODEL_ded1fdad2af94adbaad6e10efe744a8f",
            "value": "Downloading: 100%"
          }
        },
        "81f810d5e55544a4a294aec0bdbf2dd5": {
          "model_module": "@jupyter-widgets/controls",
          "model_name": "FloatProgressModel",
          "model_module_version": "1.5.0",
          "state": {
            "_dom_classes": [],
            "_model_module": "@jupyter-widgets/controls",
            "_model_module_version": "1.5.0",
            "_model_name": "FloatProgressModel",
            "_view_count": null,
            "_view_module": "@jupyter-widgets/controls",
            "_view_module_version": "1.5.0",
            "_view_name": "ProgressView",
            "bar_style": "success",
            "description": "",
            "description_tooltip": null,
            "layout": "IPY_MODEL_105d7c6953f442f48001cbb20affe25e",
            "max": 112,
            "min": 0,
            "orientation": "horizontal",
            "style": "IPY_MODEL_111c80596e8b43dc9f5b0590bb27b58b",
            "value": 112
          }
        },
        "ca0ff463934d4c68a3a802d5711c71c7": {
          "model_module": "@jupyter-widgets/controls",
          "model_name": "HTMLModel",
          "model_module_version": "1.5.0",
          "state": {
            "_dom_classes": [],
            "_model_module": "@jupyter-widgets/controls",
            "_model_module_version": "1.5.0",
            "_model_name": "HTMLModel",
            "_view_count": null,
            "_view_module": "@jupyter-widgets/controls",
            "_view_module_version": "1.5.0",
            "_view_name": "HTMLView",
            "description": "",
            "description_tooltip": null,
            "layout": "IPY_MODEL_7bc9556f1a184d32a2c9b2c85f33d328",
            "placeholder": "​",
            "style": "IPY_MODEL_ce94a0e6596b451c999a1c529d771c56",
            "value": " 112/112 [00:00&lt;00:00, 4.88kB/s]"
          }
        },
        "c78e2cf1996243f8b14cc44ee7b39a55": {
          "model_module": "@jupyter-widgets/base",
          "model_name": "LayoutModel",
          "model_module_version": "1.2.0",
          "state": {
            "_model_module": "@jupyter-widgets/base",
            "_model_module_version": "1.2.0",
            "_model_name": "LayoutModel",
            "_view_count": null,
            "_view_module": "@jupyter-widgets/base",
            "_view_module_version": "1.2.0",
            "_view_name": "LayoutView",
            "align_content": null,
            "align_items": null,
            "align_self": null,
            "border": null,
            "bottom": null,
            "display": null,
            "flex": null,
            "flex_flow": null,
            "grid_area": null,
            "grid_auto_columns": null,
            "grid_auto_flow": null,
            "grid_auto_rows": null,
            "grid_column": null,
            "grid_gap": null,
            "grid_row": null,
            "grid_template_areas": null,
            "grid_template_columns": null,
            "grid_template_rows": null,
            "height": null,
            "justify_content": null,
            "justify_items": null,
            "left": null,
            "margin": null,
            "max_height": null,
            "max_width": null,
            "min_height": null,
            "min_width": null,
            "object_fit": null,
            "object_position": null,
            "order": null,
            "overflow": null,
            "overflow_x": null,
            "overflow_y": null,
            "padding": null,
            "right": null,
            "top": null,
            "visibility": null,
            "width": null
          }
        },
        "cd65e71f97e24684acb87eafc1d9b18e": {
          "model_module": "@jupyter-widgets/base",
          "model_name": "LayoutModel",
          "model_module_version": "1.2.0",
          "state": {
            "_model_module": "@jupyter-widgets/base",
            "_model_module_version": "1.2.0",
            "_model_name": "LayoutModel",
            "_view_count": null,
            "_view_module": "@jupyter-widgets/base",
            "_view_module_version": "1.2.0",
            "_view_name": "LayoutView",
            "align_content": null,
            "align_items": null,
            "align_self": null,
            "border": null,
            "bottom": null,
            "display": null,
            "flex": null,
            "flex_flow": null,
            "grid_area": null,
            "grid_auto_columns": null,
            "grid_auto_flow": null,
            "grid_auto_rows": null,
            "grid_column": null,
            "grid_gap": null,
            "grid_row": null,
            "grid_template_areas": null,
            "grid_template_columns": null,
            "grid_template_rows": null,
            "height": null,
            "justify_content": null,
            "justify_items": null,
            "left": null,
            "margin": null,
            "max_height": null,
            "max_width": null,
            "min_height": null,
            "min_width": null,
            "object_fit": null,
            "object_position": null,
            "order": null,
            "overflow": null,
            "overflow_x": null,
            "overflow_y": null,
            "padding": null,
            "right": null,
            "top": null,
            "visibility": null,
            "width": null
          }
        },
        "ded1fdad2af94adbaad6e10efe744a8f": {
          "model_module": "@jupyter-widgets/controls",
          "model_name": "DescriptionStyleModel",
          "model_module_version": "1.5.0",
          "state": {
            "_model_module": "@jupyter-widgets/controls",
            "_model_module_version": "1.5.0",
            "_model_name": "DescriptionStyleModel",
            "_view_count": null,
            "_view_module": "@jupyter-widgets/base",
            "_view_module_version": "1.2.0",
            "_view_name": "StyleView",
            "description_width": ""
          }
        },
        "105d7c6953f442f48001cbb20affe25e": {
          "model_module": "@jupyter-widgets/base",
          "model_name": "LayoutModel",
          "model_module_version": "1.2.0",
          "state": {
            "_model_module": "@jupyter-widgets/base",
            "_model_module_version": "1.2.0",
            "_model_name": "LayoutModel",
            "_view_count": null,
            "_view_module": "@jupyter-widgets/base",
            "_view_module_version": "1.2.0",
            "_view_name": "LayoutView",
            "align_content": null,
            "align_items": null,
            "align_self": null,
            "border": null,
            "bottom": null,
            "display": null,
            "flex": null,
            "flex_flow": null,
            "grid_area": null,
            "grid_auto_columns": null,
            "grid_auto_flow": null,
            "grid_auto_rows": null,
            "grid_column": null,
            "grid_gap": null,
            "grid_row": null,
            "grid_template_areas": null,
            "grid_template_columns": null,
            "grid_template_rows": null,
            "height": null,
            "justify_content": null,
            "justify_items": null,
            "left": null,
            "margin": null,
            "max_height": null,
            "max_width": null,
            "min_height": null,
            "min_width": null,
            "object_fit": null,
            "object_position": null,
            "order": null,
            "overflow": null,
            "overflow_x": null,
            "overflow_y": null,
            "padding": null,
            "right": null,
            "top": null,
            "visibility": null,
            "width": null
          }
        },
        "111c80596e8b43dc9f5b0590bb27b58b": {
          "model_module": "@jupyter-widgets/controls",
          "model_name": "ProgressStyleModel",
          "model_module_version": "1.5.0",
          "state": {
            "_model_module": "@jupyter-widgets/controls",
            "_model_module_version": "1.5.0",
            "_model_name": "ProgressStyleModel",
            "_view_count": null,
            "_view_module": "@jupyter-widgets/base",
            "_view_module_version": "1.2.0",
            "_view_name": "StyleView",
            "bar_color": null,
            "description_width": ""
          }
        },
        "7bc9556f1a184d32a2c9b2c85f33d328": {
          "model_module": "@jupyter-widgets/base",
          "model_name": "LayoutModel",
          "model_module_version": "1.2.0",
          "state": {
            "_model_module": "@jupyter-widgets/base",
            "_model_module_version": "1.2.0",
            "_model_name": "LayoutModel",
            "_view_count": null,
            "_view_module": "@jupyter-widgets/base",
            "_view_module_version": "1.2.0",
            "_view_name": "LayoutView",
            "align_content": null,
            "align_items": null,
            "align_self": null,
            "border": null,
            "bottom": null,
            "display": null,
            "flex": null,
            "flex_flow": null,
            "grid_area": null,
            "grid_auto_columns": null,
            "grid_auto_flow": null,
            "grid_auto_rows": null,
            "grid_column": null,
            "grid_gap": null,
            "grid_row": null,
            "grid_template_areas": null,
            "grid_template_columns": null,
            "grid_template_rows": null,
            "height": null,
            "justify_content": null,
            "justify_items": null,
            "left": null,
            "margin": null,
            "max_height": null,
            "max_width": null,
            "min_height": null,
            "min_width": null,
            "object_fit": null,
            "object_position": null,
            "order": null,
            "overflow": null,
            "overflow_x": null,
            "overflow_y": null,
            "padding": null,
            "right": null,
            "top": null,
            "visibility": null,
            "width": null
          }
        },
        "ce94a0e6596b451c999a1c529d771c56": {
          "model_module": "@jupyter-widgets/controls",
          "model_name": "DescriptionStyleModel",
          "model_module_version": "1.5.0",
          "state": {
            "_model_module": "@jupyter-widgets/controls",
            "_model_module_version": "1.5.0",
            "_model_name": "DescriptionStyleModel",
            "_view_count": null,
            "_view_module": "@jupyter-widgets/base",
            "_view_module_version": "1.2.0",
            "_view_name": "StyleView",
            "description_width": ""
          }
        },
        "3b09035ecc1441dba1d4e56856c5264c": {
          "model_module": "@jupyter-widgets/controls",
          "model_name": "HBoxModel",
          "model_module_version": "1.5.0",
          "state": {
            "_dom_classes": [],
            "_model_module": "@jupyter-widgets/controls",
            "_model_module_version": "1.5.0",
            "_model_name": "HBoxModel",
            "_view_count": null,
            "_view_module": "@jupyter-widgets/controls",
            "_view_module_version": "1.5.0",
            "_view_name": "HBoxView",
            "box_style": "",
            "children": [
              "IPY_MODEL_0ebda20549454b14a55cadfa656881d7",
              "IPY_MODEL_d29d4f58a9c44908ae9da5ed90d7e26c",
              "IPY_MODEL_91c01d14b0bd4734ad8f14cd16154ada"
            ],
            "layout": "IPY_MODEL_244da8a2dbdf4e49bd8d409825a78d7c"
          }
        },
        "0ebda20549454b14a55cadfa656881d7": {
          "model_module": "@jupyter-widgets/controls",
          "model_name": "HTMLModel",
          "model_module_version": "1.5.0",
          "state": {
            "_dom_classes": [],
            "_model_module": "@jupyter-widgets/controls",
            "_model_module_version": "1.5.0",
            "_model_name": "HTMLModel",
            "_view_count": null,
            "_view_module": "@jupyter-widgets/controls",
            "_view_module_version": "1.5.0",
            "_view_name": "HTMLView",
            "description": "",
            "description_tooltip": null,
            "layout": "IPY_MODEL_a962d7459e4d42a2b30791c637de1564",
            "placeholder": "​",
            "style": "IPY_MODEL_600bdc0603ff4e019f192d9a4cbb2837",
            "value": "Downloading: 100%"
          }
        },
        "d29d4f58a9c44908ae9da5ed90d7e26c": {
          "model_module": "@jupyter-widgets/controls",
          "model_name": "FloatProgressModel",
          "model_module_version": "1.5.0",
          "state": {
            "_dom_classes": [],
            "_model_module": "@jupyter-widgets/controls",
            "_model_module_version": "1.5.0",
            "_model_name": "FloatProgressModel",
            "_view_count": null,
            "_view_module": "@jupyter-widgets/controls",
            "_view_module_version": "1.5.0",
            "_view_name": "ProgressView",
            "bar_style": "success",
            "description": "",
            "description_tooltip": null,
            "layout": "IPY_MODEL_fb8d6ec05bf04895a7d33cefffc89e0a",
            "max": 632,
            "min": 0,
            "orientation": "horizontal",
            "style": "IPY_MODEL_e670ae40b56f4e97b7fe05c224e47c49",
            "value": 632
          }
        },
        "91c01d14b0bd4734ad8f14cd16154ada": {
          "model_module": "@jupyter-widgets/controls",
          "model_name": "HTMLModel",
          "model_module_version": "1.5.0",
          "state": {
            "_dom_classes": [],
            "_model_module": "@jupyter-widgets/controls",
            "_model_module_version": "1.5.0",
            "_model_name": "HTMLModel",
            "_view_count": null,
            "_view_module": "@jupyter-widgets/controls",
            "_view_module_version": "1.5.0",
            "_view_name": "HTMLView",
            "description": "",
            "description_tooltip": null,
            "layout": "IPY_MODEL_3baaf86400644a10a6e8b3c1e1cc3a10",
            "placeholder": "​",
            "style": "IPY_MODEL_d393845d3f4b4c27aedf389447bda675",
            "value": " 632/632 [00:00&lt;00:00, 11.8kB/s]"
          }
        },
        "244da8a2dbdf4e49bd8d409825a78d7c": {
          "model_module": "@jupyter-widgets/base",
          "model_name": "LayoutModel",
          "model_module_version": "1.2.0",
          "state": {
            "_model_module": "@jupyter-widgets/base",
            "_model_module_version": "1.2.0",
            "_model_name": "LayoutModel",
            "_view_count": null,
            "_view_module": "@jupyter-widgets/base",
            "_view_module_version": "1.2.0",
            "_view_name": "LayoutView",
            "align_content": null,
            "align_items": null,
            "align_self": null,
            "border": null,
            "bottom": null,
            "display": null,
            "flex": null,
            "flex_flow": null,
            "grid_area": null,
            "grid_auto_columns": null,
            "grid_auto_flow": null,
            "grid_auto_rows": null,
            "grid_column": null,
            "grid_gap": null,
            "grid_row": null,
            "grid_template_areas": null,
            "grid_template_columns": null,
            "grid_template_rows": null,
            "height": null,
            "justify_content": null,
            "justify_items": null,
            "left": null,
            "margin": null,
            "max_height": null,
            "max_width": null,
            "min_height": null,
            "min_width": null,
            "object_fit": null,
            "object_position": null,
            "order": null,
            "overflow": null,
            "overflow_x": null,
            "overflow_y": null,
            "padding": null,
            "right": null,
            "top": null,
            "visibility": null,
            "width": null
          }
        },
        "a962d7459e4d42a2b30791c637de1564": {
          "model_module": "@jupyter-widgets/base",
          "model_name": "LayoutModel",
          "model_module_version": "1.2.0",
          "state": {
            "_model_module": "@jupyter-widgets/base",
            "_model_module_version": "1.2.0",
            "_model_name": "LayoutModel",
            "_view_count": null,
            "_view_module": "@jupyter-widgets/base",
            "_view_module_version": "1.2.0",
            "_view_name": "LayoutView",
            "align_content": null,
            "align_items": null,
            "align_self": null,
            "border": null,
            "bottom": null,
            "display": null,
            "flex": null,
            "flex_flow": null,
            "grid_area": null,
            "grid_auto_columns": null,
            "grid_auto_flow": null,
            "grid_auto_rows": null,
            "grid_column": null,
            "grid_gap": null,
            "grid_row": null,
            "grid_template_areas": null,
            "grid_template_columns": null,
            "grid_template_rows": null,
            "height": null,
            "justify_content": null,
            "justify_items": null,
            "left": null,
            "margin": null,
            "max_height": null,
            "max_width": null,
            "min_height": null,
            "min_width": null,
            "object_fit": null,
            "object_position": null,
            "order": null,
            "overflow": null,
            "overflow_x": null,
            "overflow_y": null,
            "padding": null,
            "right": null,
            "top": null,
            "visibility": null,
            "width": null
          }
        },
        "600bdc0603ff4e019f192d9a4cbb2837": {
          "model_module": "@jupyter-widgets/controls",
          "model_name": "DescriptionStyleModel",
          "model_module_version": "1.5.0",
          "state": {
            "_model_module": "@jupyter-widgets/controls",
            "_model_module_version": "1.5.0",
            "_model_name": "DescriptionStyleModel",
            "_view_count": null,
            "_view_module": "@jupyter-widgets/base",
            "_view_module_version": "1.2.0",
            "_view_name": "StyleView",
            "description_width": ""
          }
        },
        "fb8d6ec05bf04895a7d33cefffc89e0a": {
          "model_module": "@jupyter-widgets/base",
          "model_name": "LayoutModel",
          "model_module_version": "1.2.0",
          "state": {
            "_model_module": "@jupyter-widgets/base",
            "_model_module_version": "1.2.0",
            "_model_name": "LayoutModel",
            "_view_count": null,
            "_view_module": "@jupyter-widgets/base",
            "_view_module_version": "1.2.0",
            "_view_name": "LayoutView",
            "align_content": null,
            "align_items": null,
            "align_self": null,
            "border": null,
            "bottom": null,
            "display": null,
            "flex": null,
            "flex_flow": null,
            "grid_area": null,
            "grid_auto_columns": null,
            "grid_auto_flow": null,
            "grid_auto_rows": null,
            "grid_column": null,
            "grid_gap": null,
            "grid_row": null,
            "grid_template_areas": null,
            "grid_template_columns": null,
            "grid_template_rows": null,
            "height": null,
            "justify_content": null,
            "justify_items": null,
            "left": null,
            "margin": null,
            "max_height": null,
            "max_width": null,
            "min_height": null,
            "min_width": null,
            "object_fit": null,
            "object_position": null,
            "order": null,
            "overflow": null,
            "overflow_x": null,
            "overflow_y": null,
            "padding": null,
            "right": null,
            "top": null,
            "visibility": null,
            "width": null
          }
        },
        "e670ae40b56f4e97b7fe05c224e47c49": {
          "model_module": "@jupyter-widgets/controls",
          "model_name": "ProgressStyleModel",
          "model_module_version": "1.5.0",
          "state": {
            "_model_module": "@jupyter-widgets/controls",
            "_model_module_version": "1.5.0",
            "_model_name": "ProgressStyleModel",
            "_view_count": null,
            "_view_module": "@jupyter-widgets/base",
            "_view_module_version": "1.2.0",
            "_view_name": "StyleView",
            "bar_color": null,
            "description_width": ""
          }
        },
        "3baaf86400644a10a6e8b3c1e1cc3a10": {
          "model_module": "@jupyter-widgets/base",
          "model_name": "LayoutModel",
          "model_module_version": "1.2.0",
          "state": {
            "_model_module": "@jupyter-widgets/base",
            "_model_module_version": "1.2.0",
            "_model_name": "LayoutModel",
            "_view_count": null,
            "_view_module": "@jupyter-widgets/base",
            "_view_module_version": "1.2.0",
            "_view_name": "LayoutView",
            "align_content": null,
            "align_items": null,
            "align_self": null,
            "border": null,
            "bottom": null,
            "display": null,
            "flex": null,
            "flex_flow": null,
            "grid_area": null,
            "grid_auto_columns": null,
            "grid_auto_flow": null,
            "grid_auto_rows": null,
            "grid_column": null,
            "grid_gap": null,
            "grid_row": null,
            "grid_template_areas": null,
            "grid_template_columns": null,
            "grid_template_rows": null,
            "height": null,
            "justify_content": null,
            "justify_items": null,
            "left": null,
            "margin": null,
            "max_height": null,
            "max_width": null,
            "min_height": null,
            "min_width": null,
            "object_fit": null,
            "object_position": null,
            "order": null,
            "overflow": null,
            "overflow_x": null,
            "overflow_y": null,
            "padding": null,
            "right": null,
            "top": null,
            "visibility": null,
            "width": null
          }
        },
        "d393845d3f4b4c27aedf389447bda675": {
          "model_module": "@jupyter-widgets/controls",
          "model_name": "DescriptionStyleModel",
          "model_module_version": "1.5.0",
          "state": {
            "_model_module": "@jupyter-widgets/controls",
            "_model_module_version": "1.5.0",
            "_model_name": "DescriptionStyleModel",
            "_view_count": null,
            "_view_module": "@jupyter-widgets/base",
            "_view_module_version": "1.2.0",
            "_view_name": "StyleView",
            "description_width": ""
          }
        },
        "9a3fdd893a5d4399ba8ef9d8da9f138c": {
          "model_module": "@jupyter-widgets/controls",
          "model_name": "HBoxModel",
          "model_module_version": "1.5.0",
          "state": {
            "_dom_classes": [],
            "_model_module": "@jupyter-widgets/controls",
            "_model_module_version": "1.5.0",
            "_model_name": "HBoxModel",
            "_view_count": null,
            "_view_module": "@jupyter-widgets/controls",
            "_view_module_version": "1.5.0",
            "_view_name": "HBoxView",
            "box_style": "",
            "children": [
              "IPY_MODEL_3767150c28224ce9b7db9a91ea449dea",
              "IPY_MODEL_cf51df87d0cb4e8493e9635a947a41b0",
              "IPY_MODEL_4c2d9718a71840e389bbbcbc56c9b9d9"
            ],
            "layout": "IPY_MODEL_62b11a407ff2466e8e44bb7a0688c6ba"
          }
        },
        "3767150c28224ce9b7db9a91ea449dea": {
          "model_module": "@jupyter-widgets/controls",
          "model_name": "HTMLModel",
          "model_module_version": "1.5.0",
          "state": {
            "_dom_classes": [],
            "_model_module": "@jupyter-widgets/controls",
            "_model_module_version": "1.5.0",
            "_model_name": "HTMLModel",
            "_view_count": null,
            "_view_module": "@jupyter-widgets/controls",
            "_view_module_version": "1.5.0",
            "_view_name": "HTMLView",
            "description": "",
            "description_tooltip": null,
            "layout": "IPY_MODEL_b48aeca6da164cde9d4059c104742bcc",
            "placeholder": "​",
            "style": "IPY_MODEL_e174a4c8491d46379407f8a7605e1760",
            "value": "Downloading: 100%"
          }
        },
        "cf51df87d0cb4e8493e9635a947a41b0": {
          "model_module": "@jupyter-widgets/controls",
          "model_name": "FloatProgressModel",
          "model_module_version": "1.5.0",
          "state": {
            "_dom_classes": [],
            "_model_module": "@jupyter-widgets/controls",
            "_model_module_version": "1.5.0",
            "_model_name": "FloatProgressModel",
            "_view_count": null,
            "_view_module": "@jupyter-widgets/controls",
            "_view_module_version": "1.5.0",
            "_view_name": "ProgressView",
            "bar_style": "success",
            "description": "",
            "description_tooltip": null,
            "layout": "IPY_MODEL_ff381da4fc794bf386a6933c797372ea",
            "max": 47679974,
            "min": 0,
            "orientation": "horizontal",
            "style": "IPY_MODEL_0bec921d98ef418c9f041d82898b3346",
            "value": 47679974
          }
        },
        "4c2d9718a71840e389bbbcbc56c9b9d9": {
          "model_module": "@jupyter-widgets/controls",
          "model_name": "HTMLModel",
          "model_module_version": "1.5.0",
          "state": {
            "_dom_classes": [],
            "_model_module": "@jupyter-widgets/controls",
            "_model_module_version": "1.5.0",
            "_model_name": "HTMLModel",
            "_view_count": null,
            "_view_module": "@jupyter-widgets/controls",
            "_view_module_version": "1.5.0",
            "_view_name": "HTMLView",
            "description": "",
            "description_tooltip": null,
            "layout": "IPY_MODEL_4b1b773dcd8f4313b6914506f7be68d0",
            "placeholder": "​",
            "style": "IPY_MODEL_63e78e3972e74d0895f19add1a8542a1",
            "value": " 47.7M/47.7M [00:01&lt;00:00, 30.9MB/s]"
          }
        },
        "62b11a407ff2466e8e44bb7a0688c6ba": {
          "model_module": "@jupyter-widgets/base",
          "model_name": "LayoutModel",
          "model_module_version": "1.2.0",
          "state": {
            "_model_module": "@jupyter-widgets/base",
            "_model_module_version": "1.2.0",
            "_model_name": "LayoutModel",
            "_view_count": null,
            "_view_module": "@jupyter-widgets/base",
            "_view_module_version": "1.2.0",
            "_view_name": "LayoutView",
            "align_content": null,
            "align_items": null,
            "align_self": null,
            "border": null,
            "bottom": null,
            "display": null,
            "flex": null,
            "flex_flow": null,
            "grid_area": null,
            "grid_auto_columns": null,
            "grid_auto_flow": null,
            "grid_auto_rows": null,
            "grid_column": null,
            "grid_gap": null,
            "grid_row": null,
            "grid_template_areas": null,
            "grid_template_columns": null,
            "grid_template_rows": null,
            "height": null,
            "justify_content": null,
            "justify_items": null,
            "left": null,
            "margin": null,
            "max_height": null,
            "max_width": null,
            "min_height": null,
            "min_width": null,
            "object_fit": null,
            "object_position": null,
            "order": null,
            "overflow": null,
            "overflow_x": null,
            "overflow_y": null,
            "padding": null,
            "right": null,
            "top": null,
            "visibility": null,
            "width": null
          }
        },
        "b48aeca6da164cde9d4059c104742bcc": {
          "model_module": "@jupyter-widgets/base",
          "model_name": "LayoutModel",
          "model_module_version": "1.2.0",
          "state": {
            "_model_module": "@jupyter-widgets/base",
            "_model_module_version": "1.2.0",
            "_model_name": "LayoutModel",
            "_view_count": null,
            "_view_module": "@jupyter-widgets/base",
            "_view_module_version": "1.2.0",
            "_view_name": "LayoutView",
            "align_content": null,
            "align_items": null,
            "align_self": null,
            "border": null,
            "bottom": null,
            "display": null,
            "flex": null,
            "flex_flow": null,
            "grid_area": null,
            "grid_auto_columns": null,
            "grid_auto_flow": null,
            "grid_auto_rows": null,
            "grid_column": null,
            "grid_gap": null,
            "grid_row": null,
            "grid_template_areas": null,
            "grid_template_columns": null,
            "grid_template_rows": null,
            "height": null,
            "justify_content": null,
            "justify_items": null,
            "left": null,
            "margin": null,
            "max_height": null,
            "max_width": null,
            "min_height": null,
            "min_width": null,
            "object_fit": null,
            "object_position": null,
            "order": null,
            "overflow": null,
            "overflow_x": null,
            "overflow_y": null,
            "padding": null,
            "right": null,
            "top": null,
            "visibility": null,
            "width": null
          }
        },
        "e174a4c8491d46379407f8a7605e1760": {
          "model_module": "@jupyter-widgets/controls",
          "model_name": "DescriptionStyleModel",
          "model_module_version": "1.5.0",
          "state": {
            "_model_module": "@jupyter-widgets/controls",
            "_model_module_version": "1.5.0",
            "_model_name": "DescriptionStyleModel",
            "_view_count": null,
            "_view_module": "@jupyter-widgets/base",
            "_view_module_version": "1.2.0",
            "_view_name": "StyleView",
            "description_width": ""
          }
        },
        "ff381da4fc794bf386a6933c797372ea": {
          "model_module": "@jupyter-widgets/base",
          "model_name": "LayoutModel",
          "model_module_version": "1.2.0",
          "state": {
            "_model_module": "@jupyter-widgets/base",
            "_model_module_version": "1.2.0",
            "_model_name": "LayoutModel",
            "_view_count": null,
            "_view_module": "@jupyter-widgets/base",
            "_view_module_version": "1.2.0",
            "_view_name": "LayoutView",
            "align_content": null,
            "align_items": null,
            "align_self": null,
            "border": null,
            "bottom": null,
            "display": null,
            "flex": null,
            "flex_flow": null,
            "grid_area": null,
            "grid_auto_columns": null,
            "grid_auto_flow": null,
            "grid_auto_rows": null,
            "grid_column": null,
            "grid_gap": null,
            "grid_row": null,
            "grid_template_areas": null,
            "grid_template_columns": null,
            "grid_template_rows": null,
            "height": null,
            "justify_content": null,
            "justify_items": null,
            "left": null,
            "margin": null,
            "max_height": null,
            "max_width": null,
            "min_height": null,
            "min_width": null,
            "object_fit": null,
            "object_position": null,
            "order": null,
            "overflow": null,
            "overflow_x": null,
            "overflow_y": null,
            "padding": null,
            "right": null,
            "top": null,
            "visibility": null,
            "width": null
          }
        },
        "0bec921d98ef418c9f041d82898b3346": {
          "model_module": "@jupyter-widgets/controls",
          "model_name": "ProgressStyleModel",
          "model_module_version": "1.5.0",
          "state": {
            "_model_module": "@jupyter-widgets/controls",
            "_model_module_version": "1.5.0",
            "_model_name": "ProgressStyleModel",
            "_view_count": null,
            "_view_module": "@jupyter-widgets/base",
            "_view_module_version": "1.2.0",
            "_view_name": "StyleView",
            "bar_color": null,
            "description_width": ""
          }
        },
        "4b1b773dcd8f4313b6914506f7be68d0": {
          "model_module": "@jupyter-widgets/base",
          "model_name": "LayoutModel",
          "model_module_version": "1.2.0",
          "state": {
            "_model_module": "@jupyter-widgets/base",
            "_model_module_version": "1.2.0",
            "_model_name": "LayoutModel",
            "_view_count": null,
            "_view_module": "@jupyter-widgets/base",
            "_view_module_version": "1.2.0",
            "_view_name": "LayoutView",
            "align_content": null,
            "align_items": null,
            "align_self": null,
            "border": null,
            "bottom": null,
            "display": null,
            "flex": null,
            "flex_flow": null,
            "grid_area": null,
            "grid_auto_columns": null,
            "grid_auto_flow": null,
            "grid_auto_rows": null,
            "grid_column": null,
            "grid_gap": null,
            "grid_row": null,
            "grid_template_areas": null,
            "grid_template_columns": null,
            "grid_template_rows": null,
            "height": null,
            "justify_content": null,
            "justify_items": null,
            "left": null,
            "margin": null,
            "max_height": null,
            "max_width": null,
            "min_height": null,
            "min_width": null,
            "object_fit": null,
            "object_position": null,
            "order": null,
            "overflow": null,
            "overflow_x": null,
            "overflow_y": null,
            "padding": null,
            "right": null,
            "top": null,
            "visibility": null,
            "width": null
          }
        },
        "63e78e3972e74d0895f19add1a8542a1": {
          "model_module": "@jupyter-widgets/controls",
          "model_name": "DescriptionStyleModel",
          "model_module_version": "1.5.0",
          "state": {
            "_model_module": "@jupyter-widgets/controls",
            "_model_module_version": "1.5.0",
            "_model_name": "DescriptionStyleModel",
            "_view_count": null,
            "_view_module": "@jupyter-widgets/base",
            "_view_module_version": "1.2.0",
            "_view_name": "StyleView",
            "description_width": ""
          }
        },
        "a4d34a3793bb4ab3b10283135000669c": {
          "model_module": "@jupyter-widgets/controls",
          "model_name": "HBoxModel",
          "model_module_version": "1.5.0",
          "state": {
            "_dom_classes": [],
            "_model_module": "@jupyter-widgets/controls",
            "_model_module_version": "1.5.0",
            "_model_name": "HBoxModel",
            "_view_count": null,
            "_view_module": "@jupyter-widgets/controls",
            "_view_module_version": "1.5.0",
            "_view_name": "HBoxView",
            "box_style": "",
            "children": [
              "IPY_MODEL_c2ba180903e244b1912af0a6acc1c436",
              "IPY_MODEL_7cf13f01edbf413393555fae92bff40e",
              "IPY_MODEL_2e53384997344a64b799a0875d35ef21"
            ],
            "layout": "IPY_MODEL_10782f3a9c52404c86bfea66b451e290"
          }
        },
        "c2ba180903e244b1912af0a6acc1c436": {
          "model_module": "@jupyter-widgets/controls",
          "model_name": "HTMLModel",
          "model_module_version": "1.5.0",
          "state": {
            "_dom_classes": [],
            "_model_module": "@jupyter-widgets/controls",
            "_model_module_version": "1.5.0",
            "_model_name": "HTMLModel",
            "_view_count": null,
            "_view_module": "@jupyter-widgets/controls",
            "_view_module_version": "1.5.0",
            "_view_name": "HTMLView",
            "description": "",
            "description_tooltip": null,
            "layout": "IPY_MODEL_47d61b214de9442b955ca7e6009d7924",
            "placeholder": "​",
            "style": "IPY_MODEL_1c717489845d416886210cfc608c3059",
            "value": "Downloading: 100%"
          }
        },
        "7cf13f01edbf413393555fae92bff40e": {
          "model_module": "@jupyter-widgets/controls",
          "model_name": "FloatProgressModel",
          "model_module_version": "1.5.0",
          "state": {
            "_dom_classes": [],
            "_model_module": "@jupyter-widgets/controls",
            "_model_module_version": "1.5.0",
            "_model_name": "FloatProgressModel",
            "_view_count": null,
            "_view_module": "@jupyter-widgets/controls",
            "_view_module_version": "1.5.0",
            "_view_name": "ProgressView",
            "bar_style": "success",
            "description": "",
            "description_tooltip": null,
            "layout": "IPY_MODEL_b18798294f6b4aca8cc4d46e2b5ef3ab",
            "max": 341,
            "min": 0,
            "orientation": "horizontal",
            "style": "IPY_MODEL_82729b5883034c1f92724a05fb60faac",
            "value": 341
          }
        },
        "2e53384997344a64b799a0875d35ef21": {
          "model_module": "@jupyter-widgets/controls",
          "model_name": "HTMLModel",
          "model_module_version": "1.5.0",
          "state": {
            "_dom_classes": [],
            "_model_module": "@jupyter-widgets/controls",
            "_model_module_version": "1.5.0",
            "_model_name": "HTMLModel",
            "_view_count": null,
            "_view_module": "@jupyter-widgets/controls",
            "_view_module_version": "1.5.0",
            "_view_name": "HTMLView",
            "description": "",
            "description_tooltip": null,
            "layout": "IPY_MODEL_8f51e72099c3475bb53e3929b04d20d3",
            "placeholder": "​",
            "style": "IPY_MODEL_9b25c0e853d84cf185fe7c72a3216782",
            "value": " 341/341 [00:00&lt;00:00, 8.44kB/s]"
          }
        },
        "10782f3a9c52404c86bfea66b451e290": {
          "model_module": "@jupyter-widgets/base",
          "model_name": "LayoutModel",
          "model_module_version": "1.2.0",
          "state": {
            "_model_module": "@jupyter-widgets/base",
            "_model_module_version": "1.2.0",
            "_model_name": "LayoutModel",
            "_view_count": null,
            "_view_module": "@jupyter-widgets/base",
            "_view_module_version": "1.2.0",
            "_view_name": "LayoutView",
            "align_content": null,
            "align_items": null,
            "align_self": null,
            "border": null,
            "bottom": null,
            "display": null,
            "flex": null,
            "flex_flow": null,
            "grid_area": null,
            "grid_auto_columns": null,
            "grid_auto_flow": null,
            "grid_auto_rows": null,
            "grid_column": null,
            "grid_gap": null,
            "grid_row": null,
            "grid_template_areas": null,
            "grid_template_columns": null,
            "grid_template_rows": null,
            "height": null,
            "justify_content": null,
            "justify_items": null,
            "left": null,
            "margin": null,
            "max_height": null,
            "max_width": null,
            "min_height": null,
            "min_width": null,
            "object_fit": null,
            "object_position": null,
            "order": null,
            "overflow": null,
            "overflow_x": null,
            "overflow_y": null,
            "padding": null,
            "right": null,
            "top": null,
            "visibility": null,
            "width": null
          }
        },
        "47d61b214de9442b955ca7e6009d7924": {
          "model_module": "@jupyter-widgets/base",
          "model_name": "LayoutModel",
          "model_module_version": "1.2.0",
          "state": {
            "_model_module": "@jupyter-widgets/base",
            "_model_module_version": "1.2.0",
            "_model_name": "LayoutModel",
            "_view_count": null,
            "_view_module": "@jupyter-widgets/base",
            "_view_module_version": "1.2.0",
            "_view_name": "LayoutView",
            "align_content": null,
            "align_items": null,
            "align_self": null,
            "border": null,
            "bottom": null,
            "display": null,
            "flex": null,
            "flex_flow": null,
            "grid_area": null,
            "grid_auto_columns": null,
            "grid_auto_flow": null,
            "grid_auto_rows": null,
            "grid_column": null,
            "grid_gap": null,
            "grid_row": null,
            "grid_template_areas": null,
            "grid_template_columns": null,
            "grid_template_rows": null,
            "height": null,
            "justify_content": null,
            "justify_items": null,
            "left": null,
            "margin": null,
            "max_height": null,
            "max_width": null,
            "min_height": null,
            "min_width": null,
            "object_fit": null,
            "object_position": null,
            "order": null,
            "overflow": null,
            "overflow_x": null,
            "overflow_y": null,
            "padding": null,
            "right": null,
            "top": null,
            "visibility": null,
            "width": null
          }
        },
        "1c717489845d416886210cfc608c3059": {
          "model_module": "@jupyter-widgets/controls",
          "model_name": "DescriptionStyleModel",
          "model_module_version": "1.5.0",
          "state": {
            "_model_module": "@jupyter-widgets/controls",
            "_model_module_version": "1.5.0",
            "_model_name": "DescriptionStyleModel",
            "_view_count": null,
            "_view_module": "@jupyter-widgets/base",
            "_view_module_version": "1.2.0",
            "_view_name": "StyleView",
            "description_width": ""
          }
        },
        "b18798294f6b4aca8cc4d46e2b5ef3ab": {
          "model_module": "@jupyter-widgets/base",
          "model_name": "LayoutModel",
          "model_module_version": "1.2.0",
          "state": {
            "_model_module": "@jupyter-widgets/base",
            "_model_module_version": "1.2.0",
            "_model_name": "LayoutModel",
            "_view_count": null,
            "_view_module": "@jupyter-widgets/base",
            "_view_module_version": "1.2.0",
            "_view_name": "LayoutView",
            "align_content": null,
            "align_items": null,
            "align_self": null,
            "border": null,
            "bottom": null,
            "display": null,
            "flex": null,
            "flex_flow": null,
            "grid_area": null,
            "grid_auto_columns": null,
            "grid_auto_flow": null,
            "grid_auto_rows": null,
            "grid_column": null,
            "grid_gap": null,
            "grid_row": null,
            "grid_template_areas": null,
            "grid_template_columns": null,
            "grid_template_rows": null,
            "height": null,
            "justify_content": null,
            "justify_items": null,
            "left": null,
            "margin": null,
            "max_height": null,
            "max_width": null,
            "min_height": null,
            "min_width": null,
            "object_fit": null,
            "object_position": null,
            "order": null,
            "overflow": null,
            "overflow_x": null,
            "overflow_y": null,
            "padding": null,
            "right": null,
            "top": null,
            "visibility": null,
            "width": null
          }
        },
        "82729b5883034c1f92724a05fb60faac": {
          "model_module": "@jupyter-widgets/controls",
          "model_name": "ProgressStyleModel",
          "model_module_version": "1.5.0",
          "state": {
            "_model_module": "@jupyter-widgets/controls",
            "_model_module_version": "1.5.0",
            "_model_name": "ProgressStyleModel",
            "_view_count": null,
            "_view_module": "@jupyter-widgets/base",
            "_view_module_version": "1.2.0",
            "_view_name": "StyleView",
            "bar_color": null,
            "description_width": ""
          }
        },
        "8f51e72099c3475bb53e3929b04d20d3": {
          "model_module": "@jupyter-widgets/base",
          "model_name": "LayoutModel",
          "model_module_version": "1.2.0",
          "state": {
            "_model_module": "@jupyter-widgets/base",
            "_model_module_version": "1.2.0",
            "_model_name": "LayoutModel",
            "_view_count": null,
            "_view_module": "@jupyter-widgets/base",
            "_view_module_version": "1.2.0",
            "_view_name": "LayoutView",
            "align_content": null,
            "align_items": null,
            "align_self": null,
            "border": null,
            "bottom": null,
            "display": null,
            "flex": null,
            "flex_flow": null,
            "grid_area": null,
            "grid_auto_columns": null,
            "grid_auto_flow": null,
            "grid_auto_rows": null,
            "grid_column": null,
            "grid_gap": null,
            "grid_row": null,
            "grid_template_areas": null,
            "grid_template_columns": null,
            "grid_template_rows": null,
            "height": null,
            "justify_content": null,
            "justify_items": null,
            "left": null,
            "margin": null,
            "max_height": null,
            "max_width": null,
            "min_height": null,
            "min_width": null,
            "object_fit": null,
            "object_position": null,
            "order": null,
            "overflow": null,
            "overflow_x": null,
            "overflow_y": null,
            "padding": null,
            "right": null,
            "top": null,
            "visibility": null,
            "width": null
          }
        },
        "9b25c0e853d84cf185fe7c72a3216782": {
          "model_module": "@jupyter-widgets/controls",
          "model_name": "DescriptionStyleModel",
          "model_module_version": "1.5.0",
          "state": {
            "_model_module": "@jupyter-widgets/controls",
            "_model_module_version": "1.5.0",
            "_model_name": "DescriptionStyleModel",
            "_view_count": null,
            "_view_module": "@jupyter-widgets/base",
            "_view_module_version": "1.2.0",
            "_view_name": "StyleView",
            "description_width": ""
          }
        },
        "a6df25fd56bf4cc4962e32302f3bdb03": {
          "model_module": "@jupyter-widgets/controls",
          "model_name": "HBoxModel",
          "model_module_version": "1.5.0",
          "state": {
            "_dom_classes": [],
            "_model_module": "@jupyter-widgets/controls",
            "_model_module_version": "1.5.0",
            "_model_name": "HBoxModel",
            "_view_count": null,
            "_view_module": "@jupyter-widgets/controls",
            "_view_module_version": "1.5.0",
            "_view_name": "HBoxView",
            "box_style": "",
            "children": [
              "IPY_MODEL_f29bfeee0765407780333136a484265d",
              "IPY_MODEL_9b5737e8b401497abb6e01ba1401c464",
              "IPY_MODEL_da89c2e84a824905a5393c3086d6b277"
            ],
            "layout": "IPY_MODEL_3cbb21fa3e3d49acbfb80f2ea9f73eb3"
          }
        },
        "f29bfeee0765407780333136a484265d": {
          "model_module": "@jupyter-widgets/controls",
          "model_name": "HTMLModel",
          "model_module_version": "1.5.0",
          "state": {
            "_dom_classes": [],
            "_model_module": "@jupyter-widgets/controls",
            "_model_module_version": "1.5.0",
            "_model_name": "HTMLModel",
            "_view_count": null,
            "_view_module": "@jupyter-widgets/controls",
            "_view_module_version": "1.5.0",
            "_view_name": "HTMLView",
            "description": "",
            "description_tooltip": null,
            "layout": "IPY_MODEL_580b5a9868294f7cacf4f9dc3e256729",
            "placeholder": "​",
            "style": "IPY_MODEL_b83a29f83fe04d01a36750d0ef2c0e93",
            "value": "Downloading: 100%"
          }
        },
        "9b5737e8b401497abb6e01ba1401c464": {
          "model_module": "@jupyter-widgets/controls",
          "model_name": "FloatProgressModel",
          "model_module_version": "1.5.0",
          "state": {
            "_dom_classes": [],
            "_model_module": "@jupyter-widgets/controls",
            "_model_module_version": "1.5.0",
            "_model_name": "FloatProgressModel",
            "_view_count": null,
            "_view_module": "@jupyter-widgets/controls",
            "_view_module_version": "1.5.0",
            "_view_name": "ProgressView",
            "bar_style": "success",
            "description": "",
            "description_tooltip": null,
            "layout": "IPY_MODEL_8d0287569d0a46a4b28516da14e602fb",
            "max": 241082,
            "min": 0,
            "orientation": "horizontal",
            "style": "IPY_MODEL_8435db046ba8445a836877d07d65cdf3",
            "value": 241082
          }
        },
        "da89c2e84a824905a5393c3086d6b277": {
          "model_module": "@jupyter-widgets/controls",
          "model_name": "HTMLModel",
          "model_module_version": "1.5.0",
          "state": {
            "_dom_classes": [],
            "_model_module": "@jupyter-widgets/controls",
            "_model_module_version": "1.5.0",
            "_model_name": "HTMLModel",
            "_view_count": null,
            "_view_module": "@jupyter-widgets/controls",
            "_view_module_version": "1.5.0",
            "_view_name": "HTMLView",
            "description": "",
            "description_tooltip": null,
            "layout": "IPY_MODEL_2b73a3b29b7544d6a1ee061d9a24eac8",
            "placeholder": "​",
            "style": "IPY_MODEL_50e473c2d5124806a6a40a6f7162dbfc",
            "value": " 241k/241k [00:00&lt;00:00, 746kB/s]"
          }
        },
        "3cbb21fa3e3d49acbfb80f2ea9f73eb3": {
          "model_module": "@jupyter-widgets/base",
          "model_name": "LayoutModel",
          "model_module_version": "1.2.0",
          "state": {
            "_model_module": "@jupyter-widgets/base",
            "_model_module_version": "1.2.0",
            "_model_name": "LayoutModel",
            "_view_count": null,
            "_view_module": "@jupyter-widgets/base",
            "_view_module_version": "1.2.0",
            "_view_name": "LayoutView",
            "align_content": null,
            "align_items": null,
            "align_self": null,
            "border": null,
            "bottom": null,
            "display": null,
            "flex": null,
            "flex_flow": null,
            "grid_area": null,
            "grid_auto_columns": null,
            "grid_auto_flow": null,
            "grid_auto_rows": null,
            "grid_column": null,
            "grid_gap": null,
            "grid_row": null,
            "grid_template_areas": null,
            "grid_template_columns": null,
            "grid_template_rows": null,
            "height": null,
            "justify_content": null,
            "justify_items": null,
            "left": null,
            "margin": null,
            "max_height": null,
            "max_width": null,
            "min_height": null,
            "min_width": null,
            "object_fit": null,
            "object_position": null,
            "order": null,
            "overflow": null,
            "overflow_x": null,
            "overflow_y": null,
            "padding": null,
            "right": null,
            "top": null,
            "visibility": null,
            "width": null
          }
        },
        "580b5a9868294f7cacf4f9dc3e256729": {
          "model_module": "@jupyter-widgets/base",
          "model_name": "LayoutModel",
          "model_module_version": "1.2.0",
          "state": {
            "_model_module": "@jupyter-widgets/base",
            "_model_module_version": "1.2.0",
            "_model_name": "LayoutModel",
            "_view_count": null,
            "_view_module": "@jupyter-widgets/base",
            "_view_module_version": "1.2.0",
            "_view_name": "LayoutView",
            "align_content": null,
            "align_items": null,
            "align_self": null,
            "border": null,
            "bottom": null,
            "display": null,
            "flex": null,
            "flex_flow": null,
            "grid_area": null,
            "grid_auto_columns": null,
            "grid_auto_flow": null,
            "grid_auto_rows": null,
            "grid_column": null,
            "grid_gap": null,
            "grid_row": null,
            "grid_template_areas": null,
            "grid_template_columns": null,
            "grid_template_rows": null,
            "height": null,
            "justify_content": null,
            "justify_items": null,
            "left": null,
            "margin": null,
            "max_height": null,
            "max_width": null,
            "min_height": null,
            "min_width": null,
            "object_fit": null,
            "object_position": null,
            "order": null,
            "overflow": null,
            "overflow_x": null,
            "overflow_y": null,
            "padding": null,
            "right": null,
            "top": null,
            "visibility": null,
            "width": null
          }
        },
        "b83a29f83fe04d01a36750d0ef2c0e93": {
          "model_module": "@jupyter-widgets/controls",
          "model_name": "DescriptionStyleModel",
          "model_module_version": "1.5.0",
          "state": {
            "_model_module": "@jupyter-widgets/controls",
            "_model_module_version": "1.5.0",
            "_model_name": "DescriptionStyleModel",
            "_view_count": null,
            "_view_module": "@jupyter-widgets/base",
            "_view_module_version": "1.2.0",
            "_view_name": "StyleView",
            "description_width": ""
          }
        },
        "8d0287569d0a46a4b28516da14e602fb": {
          "model_module": "@jupyter-widgets/base",
          "model_name": "LayoutModel",
          "model_module_version": "1.2.0",
          "state": {
            "_model_module": "@jupyter-widgets/base",
            "_model_module_version": "1.2.0",
            "_model_name": "LayoutModel",
            "_view_count": null,
            "_view_module": "@jupyter-widgets/base",
            "_view_module_version": "1.2.0",
            "_view_name": "LayoutView",
            "align_content": null,
            "align_items": null,
            "align_self": null,
            "border": null,
            "bottom": null,
            "display": null,
            "flex": null,
            "flex_flow": null,
            "grid_area": null,
            "grid_auto_columns": null,
            "grid_auto_flow": null,
            "grid_auto_rows": null,
            "grid_column": null,
            "grid_gap": null,
            "grid_row": null,
            "grid_template_areas": null,
            "grid_template_columns": null,
            "grid_template_rows": null,
            "height": null,
            "justify_content": null,
            "justify_items": null,
            "left": null,
            "margin": null,
            "max_height": null,
            "max_width": null,
            "min_height": null,
            "min_width": null,
            "object_fit": null,
            "object_position": null,
            "order": null,
            "overflow": null,
            "overflow_x": null,
            "overflow_y": null,
            "padding": null,
            "right": null,
            "top": null,
            "visibility": null,
            "width": null
          }
        },
        "8435db046ba8445a836877d07d65cdf3": {
          "model_module": "@jupyter-widgets/controls",
          "model_name": "ProgressStyleModel",
          "model_module_version": "1.5.0",
          "state": {
            "_model_module": "@jupyter-widgets/controls",
            "_model_module_version": "1.5.0",
            "_model_name": "ProgressStyleModel",
            "_view_count": null,
            "_view_module": "@jupyter-widgets/base",
            "_view_module_version": "1.2.0",
            "_view_name": "StyleView",
            "bar_color": null,
            "description_width": ""
          }
        },
        "2b73a3b29b7544d6a1ee061d9a24eac8": {
          "model_module": "@jupyter-widgets/base",
          "model_name": "LayoutModel",
          "model_module_version": "1.2.0",
          "state": {
            "_model_module": "@jupyter-widgets/base",
            "_model_module_version": "1.2.0",
            "_model_name": "LayoutModel",
            "_view_count": null,
            "_view_module": "@jupyter-widgets/base",
            "_view_module_version": "1.2.0",
            "_view_name": "LayoutView",
            "align_content": null,
            "align_items": null,
            "align_self": null,
            "border": null,
            "bottom": null,
            "display": null,
            "flex": null,
            "flex_flow": null,
            "grid_area": null,
            "grid_auto_columns": null,
            "grid_auto_flow": null,
            "grid_auto_rows": null,
            "grid_column": null,
            "grid_gap": null,
            "grid_row": null,
            "grid_template_areas": null,
            "grid_template_columns": null,
            "grid_template_rows": null,
            "height": null,
            "justify_content": null,
            "justify_items": null,
            "left": null,
            "margin": null,
            "max_height": null,
            "max_width": null,
            "min_height": null,
            "min_width": null,
            "object_fit": null,
            "object_position": null,
            "order": null,
            "overflow": null,
            "overflow_x": null,
            "overflow_y": null,
            "padding": null,
            "right": null,
            "top": null,
            "visibility": null,
            "width": null
          }
        },
        "50e473c2d5124806a6a40a6f7162dbfc": {
          "model_module": "@jupyter-widgets/controls",
          "model_name": "DescriptionStyleModel",
          "model_module_version": "1.5.0",
          "state": {
            "_model_module": "@jupyter-widgets/controls",
            "_model_module_version": "1.5.0",
            "_model_name": "DescriptionStyleModel",
            "_view_count": null,
            "_view_module": "@jupyter-widgets/base",
            "_view_module_version": "1.2.0",
            "_view_name": "StyleView",
            "description_width": ""
          }
        },
        "4f8cdda02690479a983655e4a231e6ae": {
          "model_module": "@jupyter-widgets/controls",
          "model_name": "HBoxModel",
          "model_module_version": "1.5.0",
          "state": {
            "_dom_classes": [],
            "_model_module": "@jupyter-widgets/controls",
            "_model_module_version": "1.5.0",
            "_model_name": "HBoxModel",
            "_view_count": null,
            "_view_module": "@jupyter-widgets/controls",
            "_view_module_version": "1.5.0",
            "_view_name": "HBoxView",
            "box_style": "",
            "children": [
              "IPY_MODEL_068de0636683486bab1a822d66d3af50",
              "IPY_MODEL_1525362b8e104b5987ed9d320f87cdda",
              "IPY_MODEL_b7a0ad48824642478da38aab8145e869"
            ],
            "layout": "IPY_MODEL_92b355ba43ea4b01835814353d671132"
          }
        },
        "068de0636683486bab1a822d66d3af50": {
          "model_module": "@jupyter-widgets/controls",
          "model_name": "HTMLModel",
          "model_module_version": "1.5.0",
          "state": {
            "_dom_classes": [],
            "_model_module": "@jupyter-widgets/controls",
            "_model_module_version": "1.5.0",
            "_model_name": "HTMLModel",
            "_view_count": null,
            "_view_module": "@jupyter-widgets/controls",
            "_view_module_version": "1.5.0",
            "_view_name": "HTMLView",
            "description": "",
            "description_tooltip": null,
            "layout": "IPY_MODEL_c045d36b8fa24f1e829280b5896b92b8",
            "placeholder": "​",
            "style": "IPY_MODEL_4531e2465d0d444aabb9972c2ba1c687",
            "value": "Downloading: 100%"
          }
        },
        "1525362b8e104b5987ed9d320f87cdda": {
          "model_module": "@jupyter-widgets/controls",
          "model_name": "FloatProgressModel",
          "model_module_version": "1.5.0",
          "state": {
            "_dom_classes": [],
            "_model_module": "@jupyter-widgets/controls",
            "_model_module_version": "1.5.0",
            "_model_name": "FloatProgressModel",
            "_view_count": null,
            "_view_module": "@jupyter-widgets/controls",
            "_view_module_version": "1.5.0",
            "_view_name": "ProgressView",
            "bar_style": "success",
            "description": "",
            "description_tooltip": null,
            "layout": "IPY_MODEL_2cfc31217c9b4cf0ac89a4896d5af537",
            "max": 468145,
            "min": 0,
            "orientation": "horizontal",
            "style": "IPY_MODEL_b3d89a9cfcbd4cefa1e76181d34bc30d",
            "value": 468145
          }
        },
        "b7a0ad48824642478da38aab8145e869": {
          "model_module": "@jupyter-widgets/controls",
          "model_name": "HTMLModel",
          "model_module_version": "1.5.0",
          "state": {
            "_dom_classes": [],
            "_model_module": "@jupyter-widgets/controls",
            "_model_module_version": "1.5.0",
            "_model_name": "HTMLModel",
            "_view_count": null,
            "_view_module": "@jupyter-widgets/controls",
            "_view_module_version": "1.5.0",
            "_view_name": "HTMLView",
            "description": "",
            "description_tooltip": null,
            "layout": "IPY_MODEL_ad828fa4a97e495e830c120cb6c89c55",
            "placeholder": "​",
            "style": "IPY_MODEL_1f49fa22379f49edb0bfb4491f7602b2",
            "value": " 468k/468k [00:00&lt;00:00, 925kB/s]"
          }
        },
        "92b355ba43ea4b01835814353d671132": {
          "model_module": "@jupyter-widgets/base",
          "model_name": "LayoutModel",
          "model_module_version": "1.2.0",
          "state": {
            "_model_module": "@jupyter-widgets/base",
            "_model_module_version": "1.2.0",
            "_model_name": "LayoutModel",
            "_view_count": null,
            "_view_module": "@jupyter-widgets/base",
            "_view_module_version": "1.2.0",
            "_view_name": "LayoutView",
            "align_content": null,
            "align_items": null,
            "align_self": null,
            "border": null,
            "bottom": null,
            "display": null,
            "flex": null,
            "flex_flow": null,
            "grid_area": null,
            "grid_auto_columns": null,
            "grid_auto_flow": null,
            "grid_auto_rows": null,
            "grid_column": null,
            "grid_gap": null,
            "grid_row": null,
            "grid_template_areas": null,
            "grid_template_columns": null,
            "grid_template_rows": null,
            "height": null,
            "justify_content": null,
            "justify_items": null,
            "left": null,
            "margin": null,
            "max_height": null,
            "max_width": null,
            "min_height": null,
            "min_width": null,
            "object_fit": null,
            "object_position": null,
            "order": null,
            "overflow": null,
            "overflow_x": null,
            "overflow_y": null,
            "padding": null,
            "right": null,
            "top": null,
            "visibility": null,
            "width": null
          }
        },
        "c045d36b8fa24f1e829280b5896b92b8": {
          "model_module": "@jupyter-widgets/base",
          "model_name": "LayoutModel",
          "model_module_version": "1.2.0",
          "state": {
            "_model_module": "@jupyter-widgets/base",
            "_model_module_version": "1.2.0",
            "_model_name": "LayoutModel",
            "_view_count": null,
            "_view_module": "@jupyter-widgets/base",
            "_view_module_version": "1.2.0",
            "_view_name": "LayoutView",
            "align_content": null,
            "align_items": null,
            "align_self": null,
            "border": null,
            "bottom": null,
            "display": null,
            "flex": null,
            "flex_flow": null,
            "grid_area": null,
            "grid_auto_columns": null,
            "grid_auto_flow": null,
            "grid_auto_rows": null,
            "grid_column": null,
            "grid_gap": null,
            "grid_row": null,
            "grid_template_areas": null,
            "grid_template_columns": null,
            "grid_template_rows": null,
            "height": null,
            "justify_content": null,
            "justify_items": null,
            "left": null,
            "margin": null,
            "max_height": null,
            "max_width": null,
            "min_height": null,
            "min_width": null,
            "object_fit": null,
            "object_position": null,
            "order": null,
            "overflow": null,
            "overflow_x": null,
            "overflow_y": null,
            "padding": null,
            "right": null,
            "top": null,
            "visibility": null,
            "width": null
          }
        },
        "4531e2465d0d444aabb9972c2ba1c687": {
          "model_module": "@jupyter-widgets/controls",
          "model_name": "DescriptionStyleModel",
          "model_module_version": "1.5.0",
          "state": {
            "_model_module": "@jupyter-widgets/controls",
            "_model_module_version": "1.5.0",
            "_model_name": "DescriptionStyleModel",
            "_view_count": null,
            "_view_module": "@jupyter-widgets/base",
            "_view_module_version": "1.2.0",
            "_view_name": "StyleView",
            "description_width": ""
          }
        },
        "2cfc31217c9b4cf0ac89a4896d5af537": {
          "model_module": "@jupyter-widgets/base",
          "model_name": "LayoutModel",
          "model_module_version": "1.2.0",
          "state": {
            "_model_module": "@jupyter-widgets/base",
            "_model_module_version": "1.2.0",
            "_model_name": "LayoutModel",
            "_view_count": null,
            "_view_module": "@jupyter-widgets/base",
            "_view_module_version": "1.2.0",
            "_view_name": "LayoutView",
            "align_content": null,
            "align_items": null,
            "align_self": null,
            "border": null,
            "bottom": null,
            "display": null,
            "flex": null,
            "flex_flow": null,
            "grid_area": null,
            "grid_auto_columns": null,
            "grid_auto_flow": null,
            "grid_auto_rows": null,
            "grid_column": null,
            "grid_gap": null,
            "grid_row": null,
            "grid_template_areas": null,
            "grid_template_columns": null,
            "grid_template_rows": null,
            "height": null,
            "justify_content": null,
            "justify_items": null,
            "left": null,
            "margin": null,
            "max_height": null,
            "max_width": null,
            "min_height": null,
            "min_width": null,
            "object_fit": null,
            "object_position": null,
            "order": null,
            "overflow": null,
            "overflow_x": null,
            "overflow_y": null,
            "padding": null,
            "right": null,
            "top": null,
            "visibility": null,
            "width": null
          }
        },
        "b3d89a9cfcbd4cefa1e76181d34bc30d": {
          "model_module": "@jupyter-widgets/controls",
          "model_name": "ProgressStyleModel",
          "model_module_version": "1.5.0",
          "state": {
            "_model_module": "@jupyter-widgets/controls",
            "_model_module_version": "1.5.0",
            "_model_name": "ProgressStyleModel",
            "_view_count": null,
            "_view_module": "@jupyter-widgets/base",
            "_view_module_version": "1.2.0",
            "_view_name": "StyleView",
            "bar_color": null,
            "description_width": ""
          }
        },
        "ad828fa4a97e495e830c120cb6c89c55": {
          "model_module": "@jupyter-widgets/base",
          "model_name": "LayoutModel",
          "model_module_version": "1.2.0",
          "state": {
            "_model_module": "@jupyter-widgets/base",
            "_model_module_version": "1.2.0",
            "_model_name": "LayoutModel",
            "_view_count": null,
            "_view_module": "@jupyter-widgets/base",
            "_view_module_version": "1.2.0",
            "_view_name": "LayoutView",
            "align_content": null,
            "align_items": null,
            "align_self": null,
            "border": null,
            "bottom": null,
            "display": null,
            "flex": null,
            "flex_flow": null,
            "grid_area": null,
            "grid_auto_columns": null,
            "grid_auto_flow": null,
            "grid_auto_rows": null,
            "grid_column": null,
            "grid_gap": null,
            "grid_row": null,
            "grid_template_areas": null,
            "grid_template_columns": null,
            "grid_template_rows": null,
            "height": null,
            "justify_content": null,
            "justify_items": null,
            "left": null,
            "margin": null,
            "max_height": null,
            "max_width": null,
            "min_height": null,
            "min_width": null,
            "object_fit": null,
            "object_position": null,
            "order": null,
            "overflow": null,
            "overflow_x": null,
            "overflow_y": null,
            "padding": null,
            "right": null,
            "top": null,
            "visibility": null,
            "width": null
          }
        },
        "1f49fa22379f49edb0bfb4491f7602b2": {
          "model_module": "@jupyter-widgets/controls",
          "model_name": "DescriptionStyleModel",
          "model_module_version": "1.5.0",
          "state": {
            "_model_module": "@jupyter-widgets/controls",
            "_model_module_version": "1.5.0",
            "_model_name": "DescriptionStyleModel",
            "_view_count": null,
            "_view_module": "@jupyter-widgets/base",
            "_view_module_version": "1.2.0",
            "_view_name": "StyleView",
            "description_width": ""
          }
        },
        "865ab6fa165743b8b93412714bd001c2": {
          "model_module": "@jupyter-widgets/controls",
          "model_name": "HBoxModel",
          "model_module_version": "1.5.0",
          "state": {
            "_dom_classes": [],
            "_model_module": "@jupyter-widgets/controls",
            "_model_module_version": "1.5.0",
            "_model_name": "HBoxModel",
            "_view_count": null,
            "_view_module": "@jupyter-widgets/controls",
            "_view_module_version": "1.5.0",
            "_view_name": "HBoxView",
            "box_style": "",
            "children": [
              "IPY_MODEL_5f4f0a1c9fde4129a06c63cd69e1ec9e",
              "IPY_MODEL_f75ab6e76b7944cdafc713cfd2fcff1d",
              "IPY_MODEL_f65386026f1d45d2b8afa8023af00b40"
            ],
            "layout": "IPY_MODEL_b50c13b118c846d8b932d8a990173ffd"
          }
        },
        "5f4f0a1c9fde4129a06c63cd69e1ec9e": {
          "model_module": "@jupyter-widgets/controls",
          "model_name": "HTMLModel",
          "model_module_version": "1.5.0",
          "state": {
            "_dom_classes": [],
            "_model_module": "@jupyter-widgets/controls",
            "_model_module_version": "1.5.0",
            "_model_name": "HTMLModel",
            "_view_count": null,
            "_view_module": "@jupyter-widgets/controls",
            "_view_module_version": "1.5.0",
            "_view_name": "HTMLView",
            "description": "",
            "description_tooltip": null,
            "layout": "IPY_MODEL_431b8a16e53c44b1b8cb20832651a5ba",
            "placeholder": "​",
            "style": "IPY_MODEL_34ea31d212544d7c9fc320c646a192d0",
            "value": "Downloading: 100%"
          }
        },
        "f75ab6e76b7944cdafc713cfd2fcff1d": {
          "model_module": "@jupyter-widgets/controls",
          "model_name": "FloatProgressModel",
          "model_module_version": "1.5.0",
          "state": {
            "_dom_classes": [],
            "_model_module": "@jupyter-widgets/controls",
            "_model_module_version": "1.5.0",
            "_model_name": "FloatProgressModel",
            "_view_count": null,
            "_view_module": "@jupyter-widgets/controls",
            "_view_module_version": "1.5.0",
            "_view_name": "ProgressView",
            "bar_style": "success",
            "description": "",
            "description_tooltip": null,
            "layout": "IPY_MODEL_fd607a5d1fc74b45a66095c726a2bca2",
            "max": 112,
            "min": 0,
            "orientation": "horizontal",
            "style": "IPY_MODEL_bdf4a09bd35741e09dd400928d7fe905",
            "value": 112
          }
        },
        "f65386026f1d45d2b8afa8023af00b40": {
          "model_module": "@jupyter-widgets/controls",
          "model_name": "HTMLModel",
          "model_module_version": "1.5.0",
          "state": {
            "_dom_classes": [],
            "_model_module": "@jupyter-widgets/controls",
            "_model_module_version": "1.5.0",
            "_model_name": "HTMLModel",
            "_view_count": null,
            "_view_module": "@jupyter-widgets/controls",
            "_view_module_version": "1.5.0",
            "_view_name": "HTMLView",
            "description": "",
            "description_tooltip": null,
            "layout": "IPY_MODEL_538629a5843d4b81a36b200e60aa8ce6",
            "placeholder": "​",
            "style": "IPY_MODEL_bfab281da60444be86ea1d0d2eb66ee6",
            "value": " 112/112 [00:00&lt;00:00, 5.42kB/s]"
          }
        },
        "b50c13b118c846d8b932d8a990173ffd": {
          "model_module": "@jupyter-widgets/base",
          "model_name": "LayoutModel",
          "model_module_version": "1.2.0",
          "state": {
            "_model_module": "@jupyter-widgets/base",
            "_model_module_version": "1.2.0",
            "_model_name": "LayoutModel",
            "_view_count": null,
            "_view_module": "@jupyter-widgets/base",
            "_view_module_version": "1.2.0",
            "_view_name": "LayoutView",
            "align_content": null,
            "align_items": null,
            "align_self": null,
            "border": null,
            "bottom": null,
            "display": null,
            "flex": null,
            "flex_flow": null,
            "grid_area": null,
            "grid_auto_columns": null,
            "grid_auto_flow": null,
            "grid_auto_rows": null,
            "grid_column": null,
            "grid_gap": null,
            "grid_row": null,
            "grid_template_areas": null,
            "grid_template_columns": null,
            "grid_template_rows": null,
            "height": null,
            "justify_content": null,
            "justify_items": null,
            "left": null,
            "margin": null,
            "max_height": null,
            "max_width": null,
            "min_height": null,
            "min_width": null,
            "object_fit": null,
            "object_position": null,
            "order": null,
            "overflow": null,
            "overflow_x": null,
            "overflow_y": null,
            "padding": null,
            "right": null,
            "top": null,
            "visibility": null,
            "width": null
          }
        },
        "431b8a16e53c44b1b8cb20832651a5ba": {
          "model_module": "@jupyter-widgets/base",
          "model_name": "LayoutModel",
          "model_module_version": "1.2.0",
          "state": {
            "_model_module": "@jupyter-widgets/base",
            "_model_module_version": "1.2.0",
            "_model_name": "LayoutModel",
            "_view_count": null,
            "_view_module": "@jupyter-widgets/base",
            "_view_module_version": "1.2.0",
            "_view_name": "LayoutView",
            "align_content": null,
            "align_items": null,
            "align_self": null,
            "border": null,
            "bottom": null,
            "display": null,
            "flex": null,
            "flex_flow": null,
            "grid_area": null,
            "grid_auto_columns": null,
            "grid_auto_flow": null,
            "grid_auto_rows": null,
            "grid_column": null,
            "grid_gap": null,
            "grid_row": null,
            "grid_template_areas": null,
            "grid_template_columns": null,
            "grid_template_rows": null,
            "height": null,
            "justify_content": null,
            "justify_items": null,
            "left": null,
            "margin": null,
            "max_height": null,
            "max_width": null,
            "min_height": null,
            "min_width": null,
            "object_fit": null,
            "object_position": null,
            "order": null,
            "overflow": null,
            "overflow_x": null,
            "overflow_y": null,
            "padding": null,
            "right": null,
            "top": null,
            "visibility": null,
            "width": null
          }
        },
        "34ea31d212544d7c9fc320c646a192d0": {
          "model_module": "@jupyter-widgets/controls",
          "model_name": "DescriptionStyleModel",
          "model_module_version": "1.5.0",
          "state": {
            "_model_module": "@jupyter-widgets/controls",
            "_model_module_version": "1.5.0",
            "_model_name": "DescriptionStyleModel",
            "_view_count": null,
            "_view_module": "@jupyter-widgets/base",
            "_view_module_version": "1.2.0",
            "_view_name": "StyleView",
            "description_width": ""
          }
        },
        "fd607a5d1fc74b45a66095c726a2bca2": {
          "model_module": "@jupyter-widgets/base",
          "model_name": "LayoutModel",
          "model_module_version": "1.2.0",
          "state": {
            "_model_module": "@jupyter-widgets/base",
            "_model_module_version": "1.2.0",
            "_model_name": "LayoutModel",
            "_view_count": null,
            "_view_module": "@jupyter-widgets/base",
            "_view_module_version": "1.2.0",
            "_view_name": "LayoutView",
            "align_content": null,
            "align_items": null,
            "align_self": null,
            "border": null,
            "bottom": null,
            "display": null,
            "flex": null,
            "flex_flow": null,
            "grid_area": null,
            "grid_auto_columns": null,
            "grid_auto_flow": null,
            "grid_auto_rows": null,
            "grid_column": null,
            "grid_gap": null,
            "grid_row": null,
            "grid_template_areas": null,
            "grid_template_columns": null,
            "grid_template_rows": null,
            "height": null,
            "justify_content": null,
            "justify_items": null,
            "left": null,
            "margin": null,
            "max_height": null,
            "max_width": null,
            "min_height": null,
            "min_width": null,
            "object_fit": null,
            "object_position": null,
            "order": null,
            "overflow": null,
            "overflow_x": null,
            "overflow_y": null,
            "padding": null,
            "right": null,
            "top": null,
            "visibility": null,
            "width": null
          }
        },
        "bdf4a09bd35741e09dd400928d7fe905": {
          "model_module": "@jupyter-widgets/controls",
          "model_name": "ProgressStyleModel",
          "model_module_version": "1.5.0",
          "state": {
            "_model_module": "@jupyter-widgets/controls",
            "_model_module_version": "1.5.0",
            "_model_name": "ProgressStyleModel",
            "_view_count": null,
            "_view_module": "@jupyter-widgets/base",
            "_view_module_version": "1.2.0",
            "_view_name": "StyleView",
            "bar_color": null,
            "description_width": ""
          }
        },
        "538629a5843d4b81a36b200e60aa8ce6": {
          "model_module": "@jupyter-widgets/base",
          "model_name": "LayoutModel",
          "model_module_version": "1.2.0",
          "state": {
            "_model_module": "@jupyter-widgets/base",
            "_model_module_version": "1.2.0",
            "_model_name": "LayoutModel",
            "_view_count": null,
            "_view_module": "@jupyter-widgets/base",
            "_view_module_version": "1.2.0",
            "_view_name": "LayoutView",
            "align_content": null,
            "align_items": null,
            "align_self": null,
            "border": null,
            "bottom": null,
            "display": null,
            "flex": null,
            "flex_flow": null,
            "grid_area": null,
            "grid_auto_columns": null,
            "grid_auto_flow": null,
            "grid_auto_rows": null,
            "grid_column": null,
            "grid_gap": null,
            "grid_row": null,
            "grid_template_areas": null,
            "grid_template_columns": null,
            "grid_template_rows": null,
            "height": null,
            "justify_content": null,
            "justify_items": null,
            "left": null,
            "margin": null,
            "max_height": null,
            "max_width": null,
            "min_height": null,
            "min_width": null,
            "object_fit": null,
            "object_position": null,
            "order": null,
            "overflow": null,
            "overflow_x": null,
            "overflow_y": null,
            "padding": null,
            "right": null,
            "top": null,
            "visibility": null,
            "width": null
          }
        },
        "bfab281da60444be86ea1d0d2eb66ee6": {
          "model_module": "@jupyter-widgets/controls",
          "model_name": "DescriptionStyleModel",
          "model_module_version": "1.5.0",
          "state": {
            "_model_module": "@jupyter-widgets/controls",
            "_model_module_version": "1.5.0",
            "_model_name": "DescriptionStyleModel",
            "_view_count": null,
            "_view_module": "@jupyter-widgets/base",
            "_view_module_version": "1.2.0",
            "_view_name": "StyleView",
            "description_width": ""
          }
        },
        "7d191699e4ee4bdb915bc680f18b76d9": {
          "model_module": "@jupyter-widgets/controls",
          "model_name": "HBoxModel",
          "model_module_version": "1.5.0",
          "state": {
            "_dom_classes": [],
            "_model_module": "@jupyter-widgets/controls",
            "_model_module_version": "1.5.0",
            "_model_name": "HBoxModel",
            "_view_count": null,
            "_view_module": "@jupyter-widgets/controls",
            "_view_module_version": "1.5.0",
            "_view_name": "HBoxView",
            "box_style": "",
            "children": [
              "IPY_MODEL_d16d0ab29c424bcf9e150af60983b0f1",
              "IPY_MODEL_25870c5de1254c96ba53a45effd924f7",
              "IPY_MODEL_e00ba338a9f845f395ae04b070f6990a"
            ],
            "layout": "IPY_MODEL_8c04977d1a0249aead8a14a1f67f97b7"
          }
        },
        "d16d0ab29c424bcf9e150af60983b0f1": {
          "model_module": "@jupyter-widgets/controls",
          "model_name": "HTMLModel",
          "model_module_version": "1.5.0",
          "state": {
            "_dom_classes": [],
            "_model_module": "@jupyter-widgets/controls",
            "_model_module_version": "1.5.0",
            "_model_name": "HTMLModel",
            "_view_count": null,
            "_view_module": "@jupyter-widgets/controls",
            "_view_module_version": "1.5.0",
            "_view_name": "HTMLView",
            "description": "",
            "description_tooltip": null,
            "layout": "IPY_MODEL_49d6850b06934b05aec886c6a8ce34cb",
            "placeholder": "​",
            "style": "IPY_MODEL_fea9c0af58624f04bd51bb349236b25f",
            "value": "100%"
          }
        },
        "25870c5de1254c96ba53a45effd924f7": {
          "model_module": "@jupyter-widgets/controls",
          "model_name": "FloatProgressModel",
          "model_module_version": "1.5.0",
          "state": {
            "_dom_classes": [],
            "_model_module": "@jupyter-widgets/controls",
            "_model_module_version": "1.5.0",
            "_model_name": "FloatProgressModel",
            "_view_count": null,
            "_view_module": "@jupyter-widgets/controls",
            "_view_module_version": "1.5.0",
            "_view_name": "ProgressView",
            "bar_style": "success",
            "description": "",
            "description_tooltip": null,
            "layout": "IPY_MODEL_b51f74965c7b4d94b7c2a3cf8de354d2",
            "max": 8452,
            "min": 0,
            "orientation": "horizontal",
            "style": "IPY_MODEL_c4095f12e9a147a09f17543ca4cc357d",
            "value": 8452
          }
        },
        "e00ba338a9f845f395ae04b070f6990a": {
          "model_module": "@jupyter-widgets/controls",
          "model_name": "HTMLModel",
          "model_module_version": "1.5.0",
          "state": {
            "_dom_classes": [],
            "_model_module": "@jupyter-widgets/controls",
            "_model_module_version": "1.5.0",
            "_model_name": "HTMLModel",
            "_view_count": null,
            "_view_module": "@jupyter-widgets/controls",
            "_view_module_version": "1.5.0",
            "_view_name": "HTMLView",
            "description": "",
            "description_tooltip": null,
            "layout": "IPY_MODEL_0e98195280144dcc955cdd0341940b60",
            "placeholder": "​",
            "style": "IPY_MODEL_2a7097c177004924a17c718f0bc9cd00",
            "value": " 8452/8452 [00:25&lt;00:00, 219.32it/s]"
          }
        },
        "8c04977d1a0249aead8a14a1f67f97b7": {
          "model_module": "@jupyter-widgets/base",
          "model_name": "LayoutModel",
          "model_module_version": "1.2.0",
          "state": {
            "_model_module": "@jupyter-widgets/base",
            "_model_module_version": "1.2.0",
            "_model_name": "LayoutModel",
            "_view_count": null,
            "_view_module": "@jupyter-widgets/base",
            "_view_module_version": "1.2.0",
            "_view_name": "LayoutView",
            "align_content": null,
            "align_items": null,
            "align_self": null,
            "border": null,
            "bottom": null,
            "display": null,
            "flex": null,
            "flex_flow": null,
            "grid_area": null,
            "grid_auto_columns": null,
            "grid_auto_flow": null,
            "grid_auto_rows": null,
            "grid_column": null,
            "grid_gap": null,
            "grid_row": null,
            "grid_template_areas": null,
            "grid_template_columns": null,
            "grid_template_rows": null,
            "height": null,
            "justify_content": null,
            "justify_items": null,
            "left": null,
            "margin": null,
            "max_height": null,
            "max_width": null,
            "min_height": null,
            "min_width": null,
            "object_fit": null,
            "object_position": null,
            "order": null,
            "overflow": null,
            "overflow_x": null,
            "overflow_y": null,
            "padding": null,
            "right": null,
            "top": null,
            "visibility": null,
            "width": null
          }
        },
        "49d6850b06934b05aec886c6a8ce34cb": {
          "model_module": "@jupyter-widgets/base",
          "model_name": "LayoutModel",
          "model_module_version": "1.2.0",
          "state": {
            "_model_module": "@jupyter-widgets/base",
            "_model_module_version": "1.2.0",
            "_model_name": "LayoutModel",
            "_view_count": null,
            "_view_module": "@jupyter-widgets/base",
            "_view_module_version": "1.2.0",
            "_view_name": "LayoutView",
            "align_content": null,
            "align_items": null,
            "align_self": null,
            "border": null,
            "bottom": null,
            "display": null,
            "flex": null,
            "flex_flow": null,
            "grid_area": null,
            "grid_auto_columns": null,
            "grid_auto_flow": null,
            "grid_auto_rows": null,
            "grid_column": null,
            "grid_gap": null,
            "grid_row": null,
            "grid_template_areas": null,
            "grid_template_columns": null,
            "grid_template_rows": null,
            "height": null,
            "justify_content": null,
            "justify_items": null,
            "left": null,
            "margin": null,
            "max_height": null,
            "max_width": null,
            "min_height": null,
            "min_width": null,
            "object_fit": null,
            "object_position": null,
            "order": null,
            "overflow": null,
            "overflow_x": null,
            "overflow_y": null,
            "padding": null,
            "right": null,
            "top": null,
            "visibility": null,
            "width": null
          }
        },
        "fea9c0af58624f04bd51bb349236b25f": {
          "model_module": "@jupyter-widgets/controls",
          "model_name": "DescriptionStyleModel",
          "model_module_version": "1.5.0",
          "state": {
            "_model_module": "@jupyter-widgets/controls",
            "_model_module_version": "1.5.0",
            "_model_name": "DescriptionStyleModel",
            "_view_count": null,
            "_view_module": "@jupyter-widgets/base",
            "_view_module_version": "1.2.0",
            "_view_name": "StyleView",
            "description_width": ""
          }
        },
        "b51f74965c7b4d94b7c2a3cf8de354d2": {
          "model_module": "@jupyter-widgets/base",
          "model_name": "LayoutModel",
          "model_module_version": "1.2.0",
          "state": {
            "_model_module": "@jupyter-widgets/base",
            "_model_module_version": "1.2.0",
            "_model_name": "LayoutModel",
            "_view_count": null,
            "_view_module": "@jupyter-widgets/base",
            "_view_module_version": "1.2.0",
            "_view_name": "LayoutView",
            "align_content": null,
            "align_items": null,
            "align_self": null,
            "border": null,
            "bottom": null,
            "display": null,
            "flex": null,
            "flex_flow": null,
            "grid_area": null,
            "grid_auto_columns": null,
            "grid_auto_flow": null,
            "grid_auto_rows": null,
            "grid_column": null,
            "grid_gap": null,
            "grid_row": null,
            "grid_template_areas": null,
            "grid_template_columns": null,
            "grid_template_rows": null,
            "height": null,
            "justify_content": null,
            "justify_items": null,
            "left": null,
            "margin": null,
            "max_height": null,
            "max_width": null,
            "min_height": null,
            "min_width": null,
            "object_fit": null,
            "object_position": null,
            "order": null,
            "overflow": null,
            "overflow_x": null,
            "overflow_y": null,
            "padding": null,
            "right": null,
            "top": null,
            "visibility": null,
            "width": null
          }
        },
        "c4095f12e9a147a09f17543ca4cc357d": {
          "model_module": "@jupyter-widgets/controls",
          "model_name": "ProgressStyleModel",
          "model_module_version": "1.5.0",
          "state": {
            "_model_module": "@jupyter-widgets/controls",
            "_model_module_version": "1.5.0",
            "_model_name": "ProgressStyleModel",
            "_view_count": null,
            "_view_module": "@jupyter-widgets/base",
            "_view_module_version": "1.2.0",
            "_view_name": "StyleView",
            "bar_color": null,
            "description_width": ""
          }
        },
        "0e98195280144dcc955cdd0341940b60": {
          "model_module": "@jupyter-widgets/base",
          "model_name": "LayoutModel",
          "model_module_version": "1.2.0",
          "state": {
            "_model_module": "@jupyter-widgets/base",
            "_model_module_version": "1.2.0",
            "_model_name": "LayoutModel",
            "_view_count": null,
            "_view_module": "@jupyter-widgets/base",
            "_view_module_version": "1.2.0",
            "_view_name": "LayoutView",
            "align_content": null,
            "align_items": null,
            "align_self": null,
            "border": null,
            "bottom": null,
            "display": null,
            "flex": null,
            "flex_flow": null,
            "grid_area": null,
            "grid_auto_columns": null,
            "grid_auto_flow": null,
            "grid_auto_rows": null,
            "grid_column": null,
            "grid_gap": null,
            "grid_row": null,
            "grid_template_areas": null,
            "grid_template_columns": null,
            "grid_template_rows": null,
            "height": null,
            "justify_content": null,
            "justify_items": null,
            "left": null,
            "margin": null,
            "max_height": null,
            "max_width": null,
            "min_height": null,
            "min_width": null,
            "object_fit": null,
            "object_position": null,
            "order": null,
            "overflow": null,
            "overflow_x": null,
            "overflow_y": null,
            "padding": null,
            "right": null,
            "top": null,
            "visibility": null,
            "width": null
          }
        },
        "2a7097c177004924a17c718f0bc9cd00": {
          "model_module": "@jupyter-widgets/controls",
          "model_name": "DescriptionStyleModel",
          "model_module_version": "1.5.0",
          "state": {
            "_model_module": "@jupyter-widgets/controls",
            "_model_module_version": "1.5.0",
            "_model_name": "DescriptionStyleModel",
            "_view_count": null,
            "_view_module": "@jupyter-widgets/base",
            "_view_module_version": "1.2.0",
            "_view_name": "StyleView",
            "description_width": ""
          }
        }
      }
    }
  },
  "nbformat": 4,
  "nbformat_minor": 0
}